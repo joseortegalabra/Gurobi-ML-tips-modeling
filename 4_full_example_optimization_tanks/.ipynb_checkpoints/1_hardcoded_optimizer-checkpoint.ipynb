{
 "cells": [
  {
   "cell_type": "markdown",
   "id": "92347a6c-5266-4995-ae64-7ab94a368734",
   "metadata": {},
   "source": [
    "# Full example - hardcoded optimizer\n",
    "- Hardcoded optimizer creating each variable manually\n",
    "- Hardcoded optimizer creating each constraints manually\n",
    "- There are created configuration tables in excel tables that the optimizer read"
   ]
  },
  {
   "cell_type": "markdown",
   "id": "986f169c-cd8e-4707-b545-84226eedb449",
   "metadata": {},
   "source": [
    "## Root folder and read env variables"
   ]
  },
  {
   "cell_type": "code",
   "execution_count": 1,
   "id": "dcee657f-aada-49b8-b447-f41e067e4a18",
   "metadata": {
    "scrolled": true
   },
   "outputs": [
    {
     "name": "stdout",
     "output_type": "stream",
     "text": [
      "root path:  D:\\github-mi-repo\\Gurobi-ML-tips-modeling\n"
     ]
    }
   ],
   "source": [
    "import os\n",
    "# fix root path to save outputs\n",
    "actual_path = os.path.abspath(os.getcwd())\n",
    "list_root_path = actual_path.split('\\\\')[:-1]\n",
    "root_path = '\\\\'.join(list_root_path)\n",
    "os.chdir(root_path)\n",
    "print('root path: ', root_path)"
   ]
  },
  {
   "cell_type": "code",
   "execution_count": 2,
   "id": "a6640988-69c4-4dfd-b22f-aeeb11fa6e55",
   "metadata": {},
   "outputs": [],
   "source": [
    "import os\n",
    "from dotenv import load_dotenv, find_dotenv # package used in jupyter notebook to read the variables in file .env\n",
    "\n",
    "\"\"\" get env variable from .env \"\"\"\n",
    "load_dotenv(find_dotenv())\n",
    "\n",
    "\"\"\" Read env variables and save it as python variable \"\"\"\n",
    "PROJECT_GCP = os.environ.get(\"PROJECT_GCP\", \"\")"
   ]
  },
  {
   "cell_type": "code",
   "execution_count": null,
   "id": "115d254b-2433-4917-ba92-651a10705e06",
   "metadata": {},
   "outputs": [],
   "source": []
  },
  {
   "cell_type": "markdown",
   "id": "b6843afc-d41f-44ba-a1a9-469cc4f3a6a2",
   "metadata": {},
   "source": [
    "## RUN"
   ]
  },
  {
   "cell_type": "code",
   "execution_count": 3,
   "id": "365a0300-b10d-4106-af86-619457307401",
   "metadata": {},
   "outputs": [],
   "source": [
    "import pickle\n",
    "import pandas as pd\n",
    "import numpy as np\n",
    "\n",
    "#gurobi\n",
    "import gurobipy_pandas as gppd\n",
    "from gurobi_ml import add_predictor_constr\n",
    "import gurobipy as gp"
   ]
  },
  {
   "cell_type": "code",
   "execution_count": 4,
   "id": "f7b14e29-5164-4360-a160-42a1a64bee08",
   "metadata": {},
   "outputs": [],
   "source": [
    "import warnings\n",
    "warnings.filterwarnings('ignore')"
   ]
  },
  {
   "cell_type": "code",
   "execution_count": null,
   "id": "1e3078fc-ed85-4d94-bcf6-47ac2f7e24d1",
   "metadata": {},
   "outputs": [],
   "source": []
  },
  {
   "cell_type": "code",
   "execution_count": null,
   "id": "45687449-9d9d-44aa-82a7-ae70255ac000",
   "metadata": {},
   "outputs": [],
   "source": []
  },
  {
   "cell_type": "markdown",
   "id": "08f70863-7e71-4ed5-8d9a-f9193550b3e5",
   "metadata": {},
   "source": [
    "### 1. Load configuration file optimizer and configuration instance to solve\n",
    "The are principally two kind of files to config optimizer\n",
    "- **configuration file to create optimizer**: there a files used to create the optimization network such as, list of sets, list of variables, upper bound and lower bound, etc. Pricipally in this files should be parameters that doesn't change too much across the time. For example, the list of variable, is a parameter that if change, the structure of the network change and the machine learning models needs to change too\n",
    "\n",
    "- **configuration file with instance to solve**: there files that change its values every time that the optimizer solve the problem. It represents the files with the actual values of the features, and so, this values change every time that the optimizer is executed"
   ]
  },
  {
   "cell_type": "markdown",
   "id": "ed635269-06e2-4d29-93aa-33d7255a0bca",
   "metadata": {},
   "source": [
    "#### 1.1. IndexTime file"
   ]
  },
  {
   "cell_type": "code",
   "execution_count": 44,
   "id": "1666dafa-d7a9-4f09-b665-5b870753b4ae",
   "metadata": {},
   "outputs": [
    {
     "data": {
      "text/plain": [
       "Index(['t0', 't1', 't2', 't3', 't4', 't5', 't6'], dtype='object')"
      ]
     },
     "execution_count": 44,
     "metadata": {},
     "output_type": "execute_result"
    }
   ],
   "source": [
    "#################### define set ####################\n",
    "\n",
    "## paths and files names\n",
    "path_folder_config_optimization = f'config/optimization_engine/config_optimization/'\n",
    "file_indextime = 'IndexTime.xlsx'\n",
    "path_indextime = path_folder_config_optimization + file_indextime\n",
    "\n",
    "# read file\n",
    "indextime = pd.read_excel(path_indextime)\n",
    "\n",
    "# set index\n",
    "index_set_time = pd.Index(indextime['IndexTime'].values)\n",
    "index_set_time"
   ]
  },
  {
   "cell_type": "code",
   "execution_count": null,
   "id": "5e4eb132-7dc6-413c-9d54-10b09f7d9e12",
   "metadata": {},
   "outputs": [],
   "source": []
  },
  {
   "cell_type": "markdown",
   "id": "43641dc7-5b3e-4659-958b-4142bef567a7",
   "metadata": {},
   "source": [
    "### 1.2 Decision variables"
   ]
  },
  {
   "cell_type": "code",
   "execution_count": 54,
   "id": "79fc9b30-bbd3-4e04-9d63-3321c608a2ec",
   "metadata": {},
   "outputs": [
    {
     "data": {
      "text/html": [
       "<div>\n",
       "<style scoped>\n",
       "    .dataframe tbody tr th:only-of-type {\n",
       "        vertical-align: middle;\n",
       "    }\n",
       "\n",
       "    .dataframe tbody tr th {\n",
       "        vertical-align: top;\n",
       "    }\n",
       "\n",
       "    .dataframe thead th {\n",
       "        text-align: right;\n",
       "    }\n",
       "</style>\n",
       "<table border=\"1\" class=\"dataframe\">\n",
       "  <thead>\n",
       "    <tr style=\"text-align: right;\">\n",
       "      <th></th>\n",
       "      <th>id</th>\n",
       "      <th>tag</th>\n",
       "      <th>feature_name</th>\n",
       "      <th>description</th>\n",
       "      <th>clasification_name</th>\n",
       "      <th>clasification</th>\n",
       "      <th>lower</th>\n",
       "      <th>upper</th>\n",
       "      <th>rate_change</th>\n",
       "    </tr>\n",
       "  </thead>\n",
       "  <tbody>\n",
       "    <tr>\n",
       "      <th>0</th>\n",
       "      <td>1</td>\n",
       "      <td>X1</td>\n",
       "      <td>X1</td>\n",
       "      <td>Variable de entrada al proceso A. Variable Pri...</td>\n",
       "      <td>Primary</td>\n",
       "      <td>P</td>\n",
       "      <td>0.0</td>\n",
       "      <td>1000.0</td>\n",
       "      <td>100.0</td>\n",
       "    </tr>\n",
       "    <tr>\n",
       "      <th>1</th>\n",
       "      <td>2</td>\n",
       "      <td>O1</td>\n",
       "      <td>O1</td>\n",
       "      <td>Variable de entrada al proceso A. No es una va...</td>\n",
       "      <td>Observed</td>\n",
       "      <td>O</td>\n",
       "      <td>NaN</td>\n",
       "      <td>NaN</td>\n",
       "      <td>NaN</td>\n",
       "    </tr>\n",
       "    <tr>\n",
       "      <th>2</th>\n",
       "      <td>3</td>\n",
       "      <td>O2</td>\n",
       "      <td>O2</td>\n",
       "      <td>Variable de entrada al proceso A. No es una va...</td>\n",
       "      <td>Observed</td>\n",
       "      <td>O</td>\n",
       "      <td>NaN</td>\n",
       "      <td>NaN</td>\n",
       "      <td>NaN</td>\n",
       "    </tr>\n",
       "    <tr>\n",
       "      <th>3</th>\n",
       "      <td>4</td>\n",
       "      <td>O3</td>\n",
       "      <td>O3</td>\n",
       "      <td>Variable de entrada al proceso A. No es una va...</td>\n",
       "      <td>Observed</td>\n",
       "      <td>O</td>\n",
       "      <td>NaN</td>\n",
       "      <td>NaN</td>\n",
       "      <td>NaN</td>\n",
       "    </tr>\n",
       "    <tr>\n",
       "      <th>4</th>\n",
       "      <td>5</td>\n",
       "      <td>Y1</td>\n",
       "      <td>Y1</td>\n",
       "      <td>Variable target del proceso A y Variable de en...</td>\n",
       "      <td>Target</td>\n",
       "      <td>T</td>\n",
       "      <td>0.0</td>\n",
       "      <td>150.0</td>\n",
       "      <td>100.0</td>\n",
       "    </tr>\n",
       "    <tr>\n",
       "      <th>5</th>\n",
       "      <td>6</td>\n",
       "      <td>Z1</td>\n",
       "      <td>Z1</td>\n",
       "      <td>Variable de salida del tanque X y Variable de ...</td>\n",
       "      <td>Secundary</td>\n",
       "      <td>S</td>\n",
       "      <td>0.0</td>\n",
       "      <td>1000.0</td>\n",
       "      <td>100.0</td>\n",
       "    </tr>\n",
       "    <tr>\n",
       "      <th>6</th>\n",
       "      <td>7</td>\n",
       "      <td>X2</td>\n",
       "      <td>X2</td>\n",
       "      <td>Variable de entrada al proceso B. Aparece por ...</td>\n",
       "      <td>Primary</td>\n",
       "      <td>P</td>\n",
       "      <td>0.0</td>\n",
       "      <td>1000.0</td>\n",
       "      <td>100.0</td>\n",
       "    </tr>\n",
       "    <tr>\n",
       "      <th>7</th>\n",
       "      <td>8</td>\n",
       "      <td>O4</td>\n",
       "      <td>O4</td>\n",
       "      <td>Variable de entrada al proceso tanque TANK1. N...</td>\n",
       "      <td>Observed</td>\n",
       "      <td>O</td>\n",
       "      <td>NaN</td>\n",
       "      <td>NaN</td>\n",
       "      <td>NaN</td>\n",
       "    </tr>\n",
       "    <tr>\n",
       "      <th>8</th>\n",
       "      <td>9</td>\n",
       "      <td>O5</td>\n",
       "      <td>O5</td>\n",
       "      <td>Variable de entrada al proceso B. No es una va...</td>\n",
       "      <td>Observed</td>\n",
       "      <td>O</td>\n",
       "      <td>NaN</td>\n",
       "      <td>NaN</td>\n",
       "      <td>NaN</td>\n",
       "    </tr>\n",
       "    <tr>\n",
       "      <th>9</th>\n",
       "      <td>10</td>\n",
       "      <td>O6</td>\n",
       "      <td>O6</td>\n",
       "      <td>Variable de entrada al proceso B. No es una va...</td>\n",
       "      <td>Observed</td>\n",
       "      <td>O</td>\n",
       "      <td>NaN</td>\n",
       "      <td>NaN</td>\n",
       "      <td>NaN</td>\n",
       "    </tr>\n",
       "    <tr>\n",
       "      <th>10</th>\n",
       "      <td>11</td>\n",
       "      <td>Y2</td>\n",
       "      <td>Y2</td>\n",
       "      <td>Variable target del proceso B y proceso C (y v...</td>\n",
       "      <td>Target</td>\n",
       "      <td>T</td>\n",
       "      <td>0.0</td>\n",
       "      <td>100.0</td>\n",
       "      <td>100.0</td>\n",
       "    </tr>\n",
       "    <tr>\n",
       "      <th>11</th>\n",
       "      <td>12</td>\n",
       "      <td>Y3</td>\n",
       "      <td>Y3</td>\n",
       "      <td>Variable target del proceso B que finaliza el ...</td>\n",
       "      <td>Target</td>\n",
       "      <td>T</td>\n",
       "      <td>0.0</td>\n",
       "      <td>350.0</td>\n",
       "      <td>100.0</td>\n",
       "    </tr>\n",
       "    <tr>\n",
       "      <th>12</th>\n",
       "      <td>13</td>\n",
       "      <td>X3</td>\n",
       "      <td>X3</td>\n",
       "      <td>Variable de entrada al proceso C. Aparece por ...</td>\n",
       "      <td>Primary</td>\n",
       "      <td>P</td>\n",
       "      <td>0.0</td>\n",
       "      <td>1000.0</td>\n",
       "      <td>100.0</td>\n",
       "    </tr>\n",
       "    <tr>\n",
       "      <th>13</th>\n",
       "      <td>14</td>\n",
       "      <td>O7</td>\n",
       "      <td>O7</td>\n",
       "      <td>Variable de entrada al proceso C. No es una va...</td>\n",
       "      <td>Observed</td>\n",
       "      <td>O</td>\n",
       "      <td>NaN</td>\n",
       "      <td>NaN</td>\n",
       "      <td>NaN</td>\n",
       "    </tr>\n",
       "    <tr>\n",
       "      <th>14</th>\n",
       "      <td>15</td>\n",
       "      <td>TL1</td>\n",
       "      <td>TL1</td>\n",
       "      <td>Tank level - tank 1</td>\n",
       "      <td>Tank level</td>\n",
       "      <td>L</td>\n",
       "      <td>100.0</td>\n",
       "      <td>20000.0</td>\n",
       "      <td>NaN</td>\n",
       "    </tr>\n",
       "    <tr>\n",
       "      <th>15</th>\n",
       "      <td>16</td>\n",
       "      <td>TL2</td>\n",
       "      <td>TL2</td>\n",
       "      <td>Tank level - tank 2</td>\n",
       "      <td>Tank level</td>\n",
       "      <td>L</td>\n",
       "      <td>100.0</td>\n",
       "      <td>20000.0</td>\n",
       "      <td>NaN</td>\n",
       "    </tr>\n",
       "    <tr>\n",
       "      <th>16</th>\n",
       "      <td>17</td>\n",
       "      <td>TL3</td>\n",
       "      <td>TL3</td>\n",
       "      <td>Tank level - tank 3</td>\n",
       "      <td>Tank level</td>\n",
       "      <td>L</td>\n",
       "      <td>100.0</td>\n",
       "      <td>20000.0</td>\n",
       "      <td>NaN</td>\n",
       "    </tr>\n",
       "  </tbody>\n",
       "</table>\n",
       "</div>"
      ],
      "text/plain": [
       "    id  tag feature_name                                        description  \\\n",
       "0    1   X1           X1  Variable de entrada al proceso A. Variable Pri...   \n",
       "1    2   O1           O1  Variable de entrada al proceso A. No es una va...   \n",
       "2    3   O2           O2  Variable de entrada al proceso A. No es una va...   \n",
       "3    4   O3           O3  Variable de entrada al proceso A. No es una va...   \n",
       "4    5   Y1           Y1  Variable target del proceso A y Variable de en...   \n",
       "5    6   Z1           Z1  Variable de salida del tanque X y Variable de ...   \n",
       "6    7   X2           X2  Variable de entrada al proceso B. Aparece por ...   \n",
       "7    8   O4           O4  Variable de entrada al proceso tanque TANK1. N...   \n",
       "8    9   O5           O5  Variable de entrada al proceso B. No es una va...   \n",
       "9   10   O6           O6  Variable de entrada al proceso B. No es una va...   \n",
       "10  11   Y2           Y2  Variable target del proceso B y proceso C (y v...   \n",
       "11  12   Y3           Y3  Variable target del proceso B que finaliza el ...   \n",
       "12  13   X3           X3  Variable de entrada al proceso C. Aparece por ...   \n",
       "13  14   O7           O7  Variable de entrada al proceso C. No es una va...   \n",
       "14  15  TL1          TL1                                Tank level - tank 1   \n",
       "15  16  TL2          TL2                                Tank level - tank 2   \n",
       "16  17  TL3          TL3                                Tank level - tank 3   \n",
       "\n",
       "   clasification_name clasification  lower    upper  rate_change  \n",
       "0             Primary             P    0.0   1000.0        100.0  \n",
       "1            Observed             O    NaN      NaN          NaN  \n",
       "2            Observed             O    NaN      NaN          NaN  \n",
       "3            Observed             O    NaN      NaN          NaN  \n",
       "4              Target             T    0.0    150.0        100.0  \n",
       "5           Secundary             S    0.0   1000.0        100.0  \n",
       "6             Primary             P    0.0   1000.0        100.0  \n",
       "7            Observed             O    NaN      NaN          NaN  \n",
       "8            Observed             O    NaN      NaN          NaN  \n",
       "9            Observed             O    NaN      NaN          NaN  \n",
       "10             Target             T    0.0    100.0        100.0  \n",
       "11             Target             T    0.0    350.0        100.0  \n",
       "12            Primary             P    0.0   1000.0        100.0  \n",
       "13           Observed             O    NaN      NaN          NaN  \n",
       "14         Tank level             L  100.0  20000.0          NaN  \n",
       "15         Tank level             L  100.0  20000.0          NaN  \n",
       "16         Tank level             L  100.0  20000.0          NaN  "
      ]
     },
     "execution_count": 54,
     "metadata": {},
     "output_type": "execute_result"
    }
   ],
   "source": [
    "#################### define decision variables ####################\n",
    "\n",
    "# paths and file names\n",
    "path_folder_config_optimization = f'config/optimization_engine/config_optimization/'\n",
    "file_allfeatures = 'AllFeatures.xlsx'\n",
    "path_allfeatures = path_folder_config_optimization + file_allfeatures\n",
    "\n",
    "# read file\n",
    "allfeatures = pd.read_excel(path_allfeatures)\n",
    "\n",
    "# table\n",
    "allfeatures"
   ]
  },
  {
   "cell_type": "code",
   "execution_count": null,
   "id": "bac86237-da50-4a32-aabd-3f5ba6665169",
   "metadata": {},
   "outputs": [],
   "source": []
  },
  {
   "cell_type": "code",
   "execution_count": null,
   "id": "58e671cb-b738-4f45-bb76-ff3cce67592e",
   "metadata": {},
   "outputs": [],
   "source": []
  },
  {
   "cell_type": "code",
   "execution_count": null,
   "id": "2153fa7a-b536-400b-9844-a2271b20b399",
   "metadata": {},
   "outputs": [],
   "source": []
  },
  {
   "cell_type": "code",
   "execution_count": 46,
   "id": "d5d8f927-f2b9-485f-9f11-16e956bc6465",
   "metadata": {},
   "outputs": [
    {
     "data": {
      "text/html": [
       "<div>\n",
       "<style scoped>\n",
       "    .dataframe tbody tr th:only-of-type {\n",
       "        vertical-align: middle;\n",
       "    }\n",
       "\n",
       "    .dataframe tbody tr th {\n",
       "        vertical-align: top;\n",
       "    }\n",
       "\n",
       "    .dataframe thead th {\n",
       "        text-align: right;\n",
       "    }\n",
       "</style>\n",
       "<table border=\"1\" class=\"dataframe\">\n",
       "  <thead>\n",
       "    <tr style=\"text-align: right;\">\n",
       "      <th></th>\n",
       "      <th>names</th>\n",
       "      <th>description</th>\n",
       "      <th>lower</th>\n",
       "      <th>upper</th>\n",
       "      <th>rate_change</th>\n",
       "    </tr>\n",
       "  </thead>\n",
       "  <tbody>\n",
       "    <tr>\n",
       "      <th>0</th>\n",
       "      <td>X1</td>\n",
       "      <td>decision variable X1</td>\n",
       "      <td>0</td>\n",
       "      <td>1000</td>\n",
       "      <td>100.0</td>\n",
       "    </tr>\n",
       "    <tr>\n",
       "      <th>1</th>\n",
       "      <td>X2</td>\n",
       "      <td>decision variable X2</td>\n",
       "      <td>0</td>\n",
       "      <td>1000</td>\n",
       "      <td>NaN</td>\n",
       "    </tr>\n",
       "    <tr>\n",
       "      <th>2</th>\n",
       "      <td>Y1</td>\n",
       "      <td>decision variable Y1</td>\n",
       "      <td>0</td>\n",
       "      <td>1000</td>\n",
       "      <td>40.0</td>\n",
       "    </tr>\n",
       "    <tr>\n",
       "      <th>3</th>\n",
       "      <td>Z1</td>\n",
       "      <td>decision variable Y2</td>\n",
       "      <td>0</td>\n",
       "      <td>1000</td>\n",
       "      <td>40.0</td>\n",
       "    </tr>\n",
       "    <tr>\n",
       "      <th>4</th>\n",
       "      <td>tank_level</td>\n",
       "      <td>decision variable level tank</td>\n",
       "      <td>200</td>\n",
       "      <td>1000</td>\n",
       "      <td>NaN</td>\n",
       "    </tr>\n",
       "  </tbody>\n",
       "</table>\n",
       "</div>"
      ],
      "text/plain": [
       "        names                   description  lower  upper  rate_change\n",
       "0          X1          decision variable X1      0   1000        100.0\n",
       "1          X2          decision variable X2      0   1000          NaN\n",
       "2          Y1          decision variable Y1      0   1000         40.0\n",
       "3          Z1          decision variable Y2      0   1000         40.0\n",
       "4  tank_level  decision variable level tank    200   1000          NaN"
      ]
     },
     "execution_count": 46,
     "metadata": {},
     "output_type": "execute_result"
    }
   ],
   "source": [
    "##### define table to create decision vars\n",
    "list_decision_var_names = [\"X1\", \"X2\", \"Y1\", \"Z1\", \"tank_level\"]\n",
    "list_deceision_var_description = [\"decision variable X1\", \"decision variable X2\", \"decision variable Y1\", \"decision variable Y2\", \"decision variable level tank\"]\n",
    "list_lower_bound = [0, 0, 0, 0, 200]\n",
    "list_upper_bound = [1000, 1000, 1000, 1000, 1000]\n",
    "list_rate_change = [100, np.nan, 40, 40, np.nan]\n",
    "\n",
    "# dataframe\n",
    "config_decision_var = pd.DataFrame()\n",
    "config_decision_var['feature_name'] = list_decision_var_names\n",
    "config_decision_var['description'] = list_deceision_var_description\n",
    "config_decision_var['lower'] = list_lower_bound\n",
    "config_decision_var['upper'] = list_upper_bound\n",
    "config_decision_var['rate_change'] = list_rate_change\n",
    "\n",
    "config_decision_var"
   ]
  },
  {
   "cell_type": "code",
   "execution_count": null,
   "id": "31b6e593-7684-424a-9331-05b88cc874fa",
   "metadata": {},
   "outputs": [],
   "source": []
  },
  {
   "cell_type": "code",
   "execution_count": 47,
   "id": "5d12b464-500a-4d85-bb48-b333f4f2196b",
   "metadata": {},
   "outputs": [
    {
     "ename": "NameError",
     "evalue": "name 'stop' is not defined",
     "output_type": "error",
     "traceback": [
      "\u001b[1;31m---------------------------------------------------------------------------\u001b[0m",
      "\u001b[1;31mNameError\u001b[0m                                 Traceback (most recent call last)",
      "Cell \u001b[1;32mIn[47], line 1\u001b[0m\n\u001b[1;32m----> 1\u001b[0m \u001b[43mstop\u001b[49m\n",
      "\u001b[1;31mNameError\u001b[0m: name 'stop' is not defined"
     ]
    }
   ],
   "source": [
    "stop"
   ]
  },
  {
   "cell_type": "code",
   "execution_count": null,
   "id": "46677b41-5c2d-42a1-a139-66867a151d5f",
   "metadata": {},
   "outputs": [],
   "source": []
  },
  {
   "cell_type": "markdown",
   "id": "ff21e472-478b-4cbf-99c1-7c783ce5f303",
   "metadata": {},
   "source": [
    "#### 1.2. Configuration files instance to solve"
   ]
  },
  {
   "cell_type": "code",
   "execution_count": 48,
   "id": "644be1ca-b30b-439d-a76e-8325e52f1698",
   "metadata": {},
   "outputs": [
    {
     "data": {
      "text/html": [
       "<div>\n",
       "<style scoped>\n",
       "    .dataframe tbody tr th:only-of-type {\n",
       "        vertical-align: middle;\n",
       "    }\n",
       "\n",
       "    .dataframe tbody tr th {\n",
       "        vertical-align: top;\n",
       "    }\n",
       "\n",
       "    .dataframe thead th {\n",
       "        text-align: right;\n",
       "    }\n",
       "</style>\n",
       "<table border=\"1\" class=\"dataframe\">\n",
       "  <thead>\n",
       "    <tr style=\"text-align: right;\">\n",
       "      <th></th>\n",
       "      <th>names</th>\n",
       "      <th>values</th>\n",
       "    </tr>\n",
       "  </thead>\n",
       "  <tbody>\n",
       "    <tr>\n",
       "      <th>0</th>\n",
       "      <td>X1</td>\n",
       "      <td>10.0</td>\n",
       "    </tr>\n",
       "    <tr>\n",
       "      <th>1</th>\n",
       "      <td>X2</td>\n",
       "      <td>55.0</td>\n",
       "    </tr>\n",
       "    <tr>\n",
       "      <th>2</th>\n",
       "      <td>Y1</td>\n",
       "      <td>NaN</td>\n",
       "    </tr>\n",
       "    <tr>\n",
       "      <th>3</th>\n",
       "      <td>Z1</td>\n",
       "      <td>20.0</td>\n",
       "    </tr>\n",
       "    <tr>\n",
       "      <th>4</th>\n",
       "      <td>tank_level</td>\n",
       "      <td>500.0</td>\n",
       "    </tr>\n",
       "  </tbody>\n",
       "</table>\n",
       "</div>"
      ],
      "text/plain": [
       "        names  values\n",
       "0          X1    10.0\n",
       "1          X2    55.0\n",
       "2          Y1     NaN\n",
       "3          Z1    20.0\n",
       "4  tank_level   500.0"
      ]
     },
     "execution_count": 48,
     "metadata": {},
     "output_type": "execute_result"
    }
   ],
   "source": [
    "# define file with initial values\n",
    "list_decision_var_names = [\"X1\", \"X2\", \"Y1\", \"Z1\", \"tank_level\"]\n",
    "list_initial_values = [10, 55, np.NaN, 20, 500]\n",
    "\n",
    "# dataframe\n",
    "config_initial_values = pd.DataFrame()\n",
    "config_initial_values['feature_name'] = list_decision_var_names\n",
    "config_initial_values['values'] = list_initial_values\n",
    "\n",
    "config_initial_values"
   ]
  },
  {
   "cell_type": "code",
   "execution_count": null,
   "id": "16525b18-abc7-4506-85ea-1e8b2900d6bd",
   "metadata": {},
   "outputs": [],
   "source": []
  },
  {
   "cell_type": "code",
   "execution_count": null,
   "id": "148c5ac8-f0d8-4ddd-b52e-9db7c7aaa7f9",
   "metadata": {},
   "outputs": [],
   "source": []
  },
  {
   "cell_type": "markdown",
   "id": "61bbf9c2-fc6f-44cc-ac07-fd485651fca4",
   "metadata": {},
   "source": [
    "### 2. Create gurobi model"
   ]
  },
  {
   "cell_type": "code",
   "execution_count": null,
   "id": "9adcac1a-f1e5-48a8-838a-132f4fd0de81",
   "metadata": {},
   "outputs": [],
   "source": [
    "# create model\n",
    "model_opt = gp.Model('Example Optimization Model')"
   ]
  },
  {
   "cell_type": "code",
   "execution_count": null,
   "id": "cd4834c3-d4b9-4918-9499-00ed9d3b7dfe",
   "metadata": {},
   "outputs": [],
   "source": []
  },
  {
   "cell_type": "markdown",
   "id": "052c9a12-c3a9-456f-8c59-e2f78776984d",
   "metadata": {},
   "source": [
    "### 3. Create decision variables\n",
    "It is necesary to have:\n",
    "- list of elements of the sets of decision var\n",
    "- table with the list of decision variables to create with important considerations when the are created (for example, upper bound and lower bound)\n",
    "- **create the decision var and save it into a dictionary of decision var. Use the dictionary to call the decision var when they are used to create a constraints**"
   ]
  },
  {
   "cell_type": "markdown",
   "id": "26d058dc-ac4d-43a0-a85b-64d786eb4292",
   "metadata": {},
   "source": [
    "#### Aditional, when the decision var is created, set the initial value\n",
    "\n",
    "- Fix the values of period t=0 for each decision var.\n",
    "\n",
    "- t=0 represent the actual period or initial period and it in some problems and modelations is kwown\n",
    "\n",
    "- In addition in this notebook, the values in time t=0 are fixed for all decision variables, inclusive if the decision var have a constraint that define its values in time t = 0 (so, this kind of constraints needs to be defined since t = 1)"
   ]
  },
  {
   "cell_type": "code",
   "execution_count": null,
   "id": "477adb5f-a388-4ed1-b812-b16e571f3887",
   "metadata": {},
   "outputs": [],
   "source": [
    "##### define a for across the configuration table to create the decision vars and save it into a python dictionary\n",
    "\n",
    "decision_var = {}\n",
    "for index_var in range(len(config_decision_var)):\n",
    "\n",
    "    # get config values\n",
    "    config_names_decision_var = config_decision_var.loc[index_var, 'feature_name']\n",
    "    config_description_decision_var = config_decision_var.loc[index_var, 'description']\n",
    "    print('defining decision variables: ', config_names_decision_var)\n",
    "\n",
    "    # create decision var and save in the dictionary\n",
    "    decision_var[config_names_decision_var] = gppd.add_vars(model_opt, \n",
    "                                                            index_set_time, \n",
    "                                                            name = config_description_decision_var,\n",
    "                                                            #lb = -gp.GRB.INFINITY,\n",
    "                                                            ub = gp.GRB.INFINITY\n",
    "                                                           )"
   ]
  },
  {
   "cell_type": "code",
   "execution_count": null,
   "id": "e4a5c42c-7636-4d97-90fa-18a486c1f92b",
   "metadata": {},
   "outputs": [],
   "source": [
    "decision_var"
   ]
  },
  {
   "cell_type": "code",
   "execution_count": null,
   "id": "5cb93c37-4a14-4f16-a932-5f759017434b",
   "metadata": {},
   "outputs": [],
   "source": []
  },
  {
   "cell_type": "code",
   "execution_count": null,
   "id": "f2355bc7-955a-4464-923c-ea2cef8b372f",
   "metadata": {},
   "outputs": [],
   "source": []
  },
  {
   "cell_type": "code",
   "execution_count": null,
   "id": "05d97e9f-7b09-4858-bd63-9d898d4f9e70",
   "metadata": {},
   "outputs": [],
   "source": []
  },
  {
   "cell_type": "markdown",
   "id": "d06c2bbf-1f5e-4aaf-99f5-3e1fdbeca3f1",
   "metadata": {},
   "source": [
    "### 4. Set initial values decision variables\n",
    "Set the initial values t=0 for the decision variables that needs this initial values and save in t=0"
   ]
  },
  {
   "cell_type": "code",
   "execution_count": null,
   "id": "ed2f48a1-1039-4c65-8f18-0800b4df757a",
   "metadata": {},
   "outputs": [],
   "source": [
    "# initial values decision variables - filter configuration file with only the decision var that have defined its initial values\n",
    "config_initial_values_decision_var = config_initial_values[config_initial_values['values'].isnull() == False]\n",
    "config_initial_values_decision_var = config_initial_values_decision_var.reset_index().drop(columns = 'index')\n",
    "config_initial_values_decision_var"
   ]
  },
  {
   "cell_type": "code",
   "execution_count": null,
   "id": "5cdbcc44-cd0a-4d9a-b094-6380ca23afe8",
   "metadata": {},
   "outputs": [],
   "source": [
    "for index_var in range(len(config_initial_values_decision_var)):\n",
    "\n",
    "    # get config values\n",
    "    config_names_decision_var = config_initial_values_decision_var.loc[index_var, 'feature_name']\n",
    "    print('set initial values decision variables: ', config_names_decision_var)\n",
    "\n",
    "    # get initial value\n",
    "    initial_value_decision_var = config_initial_values_decision_var[config_initial_values_decision_var['feature_name'] == config_names_decision_var]['values'].values[0]\n",
    "    \n",
    "    # set initial value (diff t = 0 and t = -1) is set to cero because t = -1 is not defined\n",
    "    model_opt.addConstr(decision_var[config_names_decision_var]['t0'] == initial_value_decision_var,  \n",
    "                        name = f'Initial Value {config_names_decision_var}')"
   ]
  },
  {
   "cell_type": "code",
   "execution_count": null,
   "id": "ddc8343e-8d22-48c9-a5a1-c5d8b403a55e",
   "metadata": {},
   "outputs": [],
   "source": []
  },
  {
   "cell_type": "code",
   "execution_count": null,
   "id": "7453a981-ef9a-4763-8e50-a3f338a78f09",
   "metadata": {},
   "outputs": [],
   "source": []
  },
  {
   "cell_type": "code",
   "execution_count": null,
   "id": "216ff68d-ee77-488a-b8c4-bcc39469f4f8",
   "metadata": {},
   "outputs": [],
   "source": []
  },
  {
   "cell_type": "markdown",
   "id": "b9d7708c-7f10-45c9-b3ac-f41c81f20763",
   "metadata": {},
   "source": [
    "### 5. Lower bound and Upper bound decision variables\n",
    "For example, lower bound and upper bound of tank level\n",
    "\n",
    "---\n",
    "If one decision variables doesn't need a lower bound and upper bound parameter, its value in configuration file is saved as np.NaN\n",
    "\n",
    "Then filter the configuration table to have only the decision variables that have defined a rate_change\n",
    "\n",
    "define in differents files one for lower bounds and another for upper bounds"
   ]
  },
  {
   "cell_type": "markdown",
   "id": "82f4e62a-7ba1-4a67-becd-7f66a4428f5e",
   "metadata": {},
   "source": [
    "#### 5.1 Lower bound\n",
    "Since config decision var create a subtable with only the features that have defined its upper bound and then create the constraints"
   ]
  },
  {
   "cell_type": "code",
   "execution_count": null,
   "id": "270e54c6-bde4-4421-99ef-80fc8043ff0e",
   "metadata": {},
   "outputs": [],
   "source": [
    "# lower bounds parameters - filter configuration file with only the decision var that have defined its lower bounds\n",
    "config_decision_var_lower_bounds = config_decision_var[config_decision_var['lower'].isnull() == False]\n",
    "config_decision_var_lower_bounds = config_decision_var_lower_bounds.reset_index().drop(columns = 'index')\n",
    "config_decision_var_lower_bounds"
   ]
  },
  {
   "cell_type": "code",
   "execution_count": null,
   "id": "d9239a21-7bba-4a69-8609-6b55ec81fc60",
   "metadata": {},
   "outputs": [],
   "source": [
    "# generate constaint - lower bound\n",
    "\n",
    "for index_var in range(len(config_decision_var_lower_bounds)):\n",
    "\n",
    "    # get config values\n",
    "    config_names_decision_var = config_decision_var_lower_bounds.loc[index_var, 'feature_name']\n",
    "    print('lower bound decision_var: ', config_names_decision_var)\n",
    "    \n",
    "    gppd.add_constrs(model_opt, \n",
    "                     decision_var[config_names_decision_var],  # decision var\n",
    "                     gp.GRB.GREATER_EQUAL,\n",
    "                     config_decision_var_lower_bounds[config_decision_var_lower_bounds['feature_name'] == config_names_decision_var]['lower'].values[0],  # lower bound\n",
    "                     name = f'Lower bound {config_names_decision_var}')"
   ]
  },
  {
   "cell_type": "code",
   "execution_count": null,
   "id": "af46521d-d060-474f-a93d-1323258b524f",
   "metadata": {},
   "outputs": [],
   "source": []
  },
  {
   "cell_type": "code",
   "execution_count": null,
   "id": "9fb165d8-6db4-4127-a088-e798171fd13b",
   "metadata": {},
   "outputs": [],
   "source": []
  },
  {
   "cell_type": "markdown",
   "id": "7e7dbd14-8485-4a9f-a76c-7cbf650cd358",
   "metadata": {},
   "source": [
    "#### 5.2 upper bound\n",
    "Since config decision var create a subtable with only the features that have defined its upper bound and then create the constraints"
   ]
  },
  {
   "cell_type": "code",
   "execution_count": null,
   "id": "f468287e-e392-4134-a096-91b5ac457963",
   "metadata": {},
   "outputs": [],
   "source": [
    "# upper bounds parameters - filter configuration file with only the decision var that have defined its upper bounds\n",
    "config_decision_var_upper_bounds = config_decision_var[config_decision_var['upper'].isnull() == False]\n",
    "config_decision_var_upper_bounds = config_decision_var_upper_bounds.reset_index().drop(columns = 'index')\n",
    "config_decision_var_upper_bounds"
   ]
  },
  {
   "cell_type": "code",
   "execution_count": null,
   "id": "e8d3e40e-460a-45b8-97d8-923ecbd6d412",
   "metadata": {},
   "outputs": [],
   "source": [
    "# generate constaint - upper bound\n",
    "\n",
    "for index_var in range(len(config_decision_var_upper_bounds)):\n",
    "\n",
    "    # get config values\n",
    "    config_names_decision_var = config_decision_var_upper_bounds.loc[index_var, 'feature_name']\n",
    "    print('upper bound decision_var: ', config_names_decision_var)\n",
    "    \n",
    "    gppd.add_constrs(model_opt, \n",
    "                     decision_var[config_names_decision_var],  # decision var\n",
    "                     gp.GRB.LESS_EQUAL, \n",
    "                     config_decision_var_upper_bounds[config_decision_var_upper_bounds['feature_name'] == config_names_decision_var]['upper'].values[0],  # upper bound\n",
    "                     name = f'Upper bound {config_names_decision_var}')"
   ]
  },
  {
   "cell_type": "code",
   "execution_count": null,
   "id": "85d43894-5489-423a-af35-ce97f3042edb",
   "metadata": {},
   "outputs": [],
   "source": []
  },
  {
   "cell_type": "code",
   "execution_count": null,
   "id": "4771d395-1fc5-4892-a6d1-663506edd307",
   "metadata": {},
   "outputs": [],
   "source": []
  },
  {
   "cell_type": "code",
   "execution_count": null,
   "id": "4884f5f4-99b4-4bc9-8c8d-d857534f8bd9",
   "metadata": {},
   "outputs": [],
   "source": []
  },
  {
   "cell_type": "code",
   "execution_count": null,
   "id": "8a508b0c-5098-4efa-b0a7-d002ed98b2a7",
   "metadata": {},
   "outputs": [],
   "source": []
  },
  {
   "cell_type": "markdown",
   "id": "60ce8851-5341-4f0b-ba43-19bf29aea0df",
   "metadata": {},
   "source": [
    "### 6. Rate change of decision variables across the time\n",
    "\n",
    "If one decision variables doesn't need a rate change parameter, its value in configuration file is saved as np.NaN\n",
    "\n",
    "Then filter the configuration table to have only the decision variables that have defined a rate_change\n",
    "\n",
    "\\begin{align}\n",
    "&| ~ X^{t}_{i} - X^{t-1}_{i} ~ | ~ \\leq  ~ c_{i} &\\quad \\forall ~ i \\in I, t \\in T \\tag{6}\\\\\n",
    "\\end{align}"
   ]
  },
  {
   "cell_type": "markdown",
   "id": "7d3ef06a-c662-41b7-86d3-80ee67bb07bc",
   "metadata": {},
   "source": [
    "#### 6.1 define table with values of rate_change"
   ]
  },
  {
   "cell_type": "code",
   "execution_count": null,
   "id": "dee7dfc2-09c1-4ff1-b9b9-bc9a7053c7bc",
   "metadata": {},
   "outputs": [],
   "source": [
    "# rate change parameters - filter configuration file with only the decision var that have defined its rates changes\n",
    "config_decision_var_rate_change = config_decision_var[config_decision_var['rate_change'].isnull() == False]\n",
    "config_decision_var_rate_change = config_decision_var_rate_change.reset_index().drop(columns = 'index')\n",
    "config_decision_var_rate_change"
   ]
  },
  {
   "cell_type": "code",
   "execution_count": null,
   "id": "4a529580-c7ea-47da-b9f1-25c5ecc1b9e5",
   "metadata": {},
   "outputs": [],
   "source": []
  },
  {
   "cell_type": "code",
   "execution_count": null,
   "id": "9ab747ac-01ff-4b09-8c39-63002a018167",
   "metadata": {},
   "outputs": [],
   "source": []
  },
  {
   "cell_type": "markdown",
   "id": "dbd577b7-0031-4a92-8b57-0c8fde7d4415",
   "metadata": {},
   "source": [
    "#### 6.2 The rate change constraints is defined using absolute values. So it is necesary create an auxiliar decision variable\n"
   ]
  },
  {
   "cell_type": "markdown",
   "id": "c543a6f1-8d3d-4ab5-9955-e3283b9b08e1",
   "metadata": {},
   "source": [
    "This auxiliar decision var created represents the difference between the decisions vars. It is necesary create auxiliar variables and fixed it first value into zero (set initial value (diff t = 0 and t = -1) is set to cero because t = -1 is not defined)"
   ]
  },
  {
   "cell_type": "markdown",
   "id": "28fe704c-e981-49c4-bfcc-d2e669ce1980",
   "metadata": {},
   "source": [
    "In this example\n",
    "- diff_time_x >= (x(t-1) - x(t))\n",
    "\n",
    "- diff_time_x >= -(x(t-1) - x(t))\n",
    "\n",
    "- diff_time_x <= delta_x"
   ]
  },
  {
   "cell_type": "code",
   "execution_count": null,
   "id": "612f27c0-6de3-4d18-a1eb-d43276af78e6",
   "metadata": {},
   "outputs": [],
   "source": [
    "### create an auxiliar decion var \"diff\" for each decision var that has defined its rate change\n",
    "\n",
    "aux_decision_var = {}\n",
    "for index_var in range(len(config_decision_var_rate_change)):\n",
    "\n",
    "    # get config values\n",
    "    config_names_decision_var = config_decision_var_rate_change.loc[index_var, 'feature_name']\n",
    "    print('create auxiliar variable diff \"t\" - \"t-1\": ', config_names_decision_var)\n",
    "\n",
    "    # create decision var and save in the dictionary\n",
    "    aux_decision_var[config_names_decision_var] = gppd.add_vars(model_opt, \n",
    "                                                                index_set_time, \n",
    "                                                                name = f'diff \"t\" - \"t_1\" of decision var: {config_names_decision_var}',\n",
    "                                                                lb = -gp.GRB.INFINITY,\n",
    "                                                                ub = gp.GRB.INFINITY\n",
    "                                                               )\n",
    "\n",
    "    # set initial value (diff t = 0 and t = -1) is set to cero because t = -1 is not defined\n",
    "    model_opt.addConstr(aux_decision_var[config_names_decision_var]['t0'] == 0,  name = f'Initial Value diff {config_names_decision_var}')"
   ]
  },
  {
   "cell_type": "code",
   "execution_count": null,
   "id": "86812e5d-851d-4bc6-b116-bb259f0ad78e",
   "metadata": {},
   "outputs": [],
   "source": []
  },
  {
   "cell_type": "code",
   "execution_count": null,
   "id": "ba84d6cd-3eeb-4709-b97f-499c9f8fcbf3",
   "metadata": {},
   "outputs": [],
   "source": []
  },
  {
   "cell_type": "markdown",
   "id": "3d82f5b0-d870-4040-980e-f1f46be0a31e",
   "metadata": {},
   "source": [
    "#### 6.3 Define rate change variable constraint for each decision variable and for each time"
   ]
  },
  {
   "cell_type": "code",
   "execution_count": null,
   "id": "3e367e5e-a1ff-4ce8-9ff7-8be1e830dd69",
   "metadata": {},
   "outputs": [],
   "source": [
    "# for each variable\n",
    "for index_var in range(len(config_decision_var_rate_change)):\n",
    "\n",
    "    # get config values\n",
    "    config_names_decision_var = config_decision_var_rate_change.loc[index_var, 'feature_name']\n",
    "    print('rate change decision var: ', config_names_decision_var)\n",
    "\n",
    "    # get rate change for this decision var\n",
    "    rate_change_decision_var = config_decision_var_rate_change[config_decision_var_rate_change['feature_name'] == config_names_decision_var]['rate_change'].values[0]\n",
    "    \n",
    "    # for each time in this decision variable\n",
    "    for index_time in range(1, len(index_set_time)):\n",
    "        \n",
    "        ### define time t and t-1\n",
    "        time_t = index_set_time[index_time]\n",
    "        time_t_1 = index_set_time[index_time-1]\n",
    "    \n",
    "        ### define constraints\n",
    "        # positive segment\n",
    "        model_opt.addConstr(aux_decision_var[config_names_decision_var][time_t] >= (decision_var[config_names_decision_var][time_t] - decision_var[config_names_decision_var][time_t_1]), \n",
    "                            name = f'diff {config_names_decision_var} positive segment {time_t} - {time_t_1}')\n",
    "\n",
    "        # negative segment\n",
    "        model_opt.addConstr(aux_decision_var[config_names_decision_var][time_t] >= -(decision_var[config_names_decision_var][time_t] - decision_var[config_names_decision_var][time_t_1]), \n",
    "                            name = f'diff {config_names_decision_var} negative segment {time_t} - {time_t_1}')\n",
    "\n",
    "        # rate change\n",
    "        model_opt.addConstr(aux_decision_var[config_names_decision_var][time_t] <= rate_change_decision_var, \n",
    "                            name = f'diff_var_X1 delta {time_t} - {time_t_1}')"
   ]
  },
  {
   "cell_type": "code",
   "execution_count": null,
   "id": "9b65602d-2fec-41c8-9752-b87145d51307",
   "metadata": {},
   "outputs": [],
   "source": []
  },
  {
   "cell_type": "code",
   "execution_count": null,
   "id": "1ff77998-c2d2-4b58-974f-dbb120e58505",
   "metadata": {},
   "outputs": [],
   "source": []
  },
  {
   "cell_type": "code",
   "execution_count": null,
   "id": "51d06aaf-69bb-4aff-9912-7afb13a651b5",
   "metadata": {},
   "outputs": [],
   "source": []
  },
  {
   "cell_type": "markdown",
   "id": "71f4fdfa-8f1c-4bbc-ac00-90d5b16b20c6",
   "metadata": {},
   "source": [
    "### 7. Volumen change (Inventory change) - across time - relation between decision variables\n",
    "\n",
    "\\begin{align}\r\n",
    "&V^{t-1}_{j} ~ + \\sum_{i}  Y^{t}_{i,j} -  \\sum_{i}  Z^{t}_{i',j} ~ \\leq  ~ UB_{j} &\\quad \\forall ~ t \\in T, j \\in J \\tag{2}\\\\\r\n",
    "\\end{align}\r\n",
    "\r\n",
    "\\begin{align}\r\n",
    "&V^{t-1}_{j} ~ + \\sum_{i}  Y^{t}_{i,j} -  \\sum_{i}  Z^{t}_{i',j} ~ \\geq  ~ LB_{j} &\\quad \\forall ~ t \\in T, j \\in J \\tag{3}\\\\\r\n",
    "\\end{align}\r\n",
    "\r\n",
    "\\begin{align}\r\n",
    "&V^{t-1}_{j} ~ + \\sum_{i}  Y^{t}_{i,j} -  \\sum_{i}  Z^{t}_{i',j} ~ =  ~ V^{t}_{j} &\\quad \\forall ~ t \\in T, j \\in J \\tag{4}\\\\\r\n",
    "\\end{align}"
   ]
  },
  {
   "cell_type": "markdown",
   "id": "1bab8ee2-5eb0-4d43-928e-ce1490ee8848",
   "metadata": {},
   "source": [
    "## 7.0 IMPORTANT: The two first contraints can be replaced with the constraint that defined the lower and upper bound of the decision variables.\n",
    "So the only constraint that needs to be defined is:\n",
    "## THIS PART IS DIFFERENT AGAINS THE BASE CODES\n",
    "\n",
    "\\begin{align}\n",
    "&V^{t-1}_{j} ~ + \\sum_{i}  Y^{t}_{i,j} -  \\sum_{i}  Z^{t}_{i',j} ~ =  ~ V^{t}_{j} &\\quad \\forall ~ t \\in T, j \\in J \\tag{4}\\\\\n",
    "\\end{align}"
   ]
  },
  {
   "cell_type": "code",
   "execution_count": null,
   "id": "51b49760-329b-4e23-8238-73e02cfd61b4",
   "metadata": {},
   "outputs": [],
   "source": []
  },
  {
   "cell_type": "markdown",
   "id": "33054af1-2a5b-46fc-b15c-63130b6ffb9d",
   "metadata": {},
   "source": [
    "#### 7.1 Define full constraints - automatically all times\n",
    "- Automatization constraint. For across all the set time (t0, t1, t2, etc). But it is important to see that the first value of the decision variable (period t=0) is defined before, so the \"for cicle\" start from (t1, t2, etc)\n",
    "\n",
    "\n",
    "- **IMPORTANT**: This codes are defined for only this example when there are only one input and one output. In the future it needs to genelize to recibe multiple input and output values\n",
    "\n",
    "- **IMPORTANT 2**: There are only one tank in the example, so it is more easy to define the automatization\n",
    "\n",
    "- **IMPORTANT 3**: in this example the map of the input and output variables of the tank is HARCODED. In the full example it needs to be parametrize"
   ]
  },
  {
   "cell_type": "markdown",
   "id": "1e75361f-031b-4fa5-baae-631bb1a4c664",
   "metadata": {},
   "source": [
    "original codes\n",
    "    \n",
    "    model_opt.addConstr(var_tank_level[time_t_1] + var_Y1[time_t] - var_Z1[time_t] == var_tank_level[time_t], \n",
    "                name = f'new level of tank {time_t} - {time_t_1}')"
   ]
  },
  {
   "cell_type": "code",
   "execution_count": null,
   "id": "2c1a97d0-b03c-4adc-9e0a-5c6a8dd43809",
   "metadata": {},
   "outputs": [],
   "source": [
    "for index_time in range(1, len(index_set_time)):\n",
    "    \n",
    "    ### define time t and t-1\n",
    "    time_t = index_set_time[index_time]\n",
    "    time_t_1 = index_set_time[index_time-1]\n",
    "\n",
    "    ### define constraints\n",
    "    model_opt.addConstr(decision_var['tank_level'][time_t_1] + decision_var['Y1'][time_t] - decision_var['Z1'][time_t] == decision_var['tank_level'][time_t], \n",
    "                name = f'new level of tank {time_t} - {time_t_1}')"
   ]
  },
  {
   "cell_type": "code",
   "execution_count": null,
   "id": "cab678f8-d3a6-4afa-9e2e-8f6c1b3ecc77",
   "metadata": {},
   "outputs": [],
   "source": []
  },
  {
   "cell_type": "code",
   "execution_count": null,
   "id": "b7281e4c-a53c-41b7-b0c8-785cbf0ebe6b",
   "metadata": {},
   "outputs": [],
   "source": []
  },
  {
   "cell_type": "code",
   "execution_count": null,
   "id": "fa38f734-a08e-45f4-9980-c71d9b6ece02",
   "metadata": {},
   "outputs": [],
   "source": []
  },
  {
   "cell_type": "markdown",
   "id": "c428d04b-2f17-42f8-9a96-23897d6cc2d0",
   "metadata": {},
   "source": [
    "### 8. Load a Machine Learning Model as constraints that represent the relations in the process\n",
    "Add a constraint defined as a machine learning model that represent the relation between X1, X2 with the output of the process (Y1)"
   ]
  },
  {
   "cell_type": "markdown",
   "id": "8d9af93a-2e0c-402f-ba76-c08f811093b1",
   "metadata": {},
   "source": [
    "#### 8.1 Load machine learning model\n",
    "In this example doesn't exist a ML model. So a dummy model is created,.\n",
    "\n",
    "In this example, the model is trained with X1, X2, 01. Where X1, X2 are decision variables and O1 are observed variables"
   ]
  },
  {
   "cell_type": "code",
   "execution_count": null,
   "id": "a59076c0-d780-4e91-8601-98c59fa7f6d2",
   "metadata": {},
   "outputs": [],
   "source": [
    "# generate example data\n",
    "X_train = pd.DataFrame([\n",
    "    [100, 1, 2],\n",
    "    [50, 2, 30],\n",
    "    [80, 1, 25],\n",
    "    [70, 3, 23]\n",
    "], columns = ['decision variable X1', 'decision variable X2', 'O1'])\n",
    "\n",
    "y_train = pd.DataFrame([\n",
    "    [40],\n",
    "    [20],\n",
    "    [33],\n",
    "    [30]\n",
    "], columns = ['target'])\n",
    "\n",
    "# train lr model\n",
    "from sklearn.linear_model import LinearRegression\n",
    "lr = LinearRegression()\n",
    "lr.fit(X_train, y_train)\n",
    "r2 = lr.score(X_train, y_train)\n",
    "print('r2 score:', r2)\n",
    "\n",
    "# get model\n",
    "model_ml = lr"
   ]
  },
  {
   "cell_type": "code",
   "execution_count": null,
   "id": "be0cdba8-2cb3-4781-9359-d5b0297b46d7",
   "metadata": {},
   "outputs": [],
   "source": []
  },
  {
   "cell_type": "markdown",
   "id": "7db39818-d455-46e6-a4a1-6631c1cc7c45",
   "metadata": {},
   "source": [
    "#### 8.2 Generate instance of machine learning model"
   ]
  },
  {
   "cell_type": "code",
   "execution_count": null,
   "id": "500f27bb-653e-406d-a77e-afdf561c8600",
   "metadata": {},
   "outputs": [],
   "source": [
    "# generate instance observed variables - no decision variables of optimization\n",
    "instance_observed_value = 15\n",
    "instance_observed = pd.DataFrame(instance_observed_value, columns = ['O1'], index = index_set_time)\n",
    "\n",
    "# generate instance controlable variables - decision variables of optimization\n",
    "instance_controlables = pd.DataFrame([decision_var['X1'], decision_var['X2']]).T\n",
    "\n",
    "# append into one dataframe\n",
    "instance = pd.concat([instance_observed, instance_controlables], axis = 1)\n",
    "\n",
    "# define a list with the order\n",
    "list_order_features_ml_model = ['decision variable X1', 'decision variable X2', 'O1']\n",
    "\n",
    "# sort instance according order features\n",
    "instance = instance[list_order_features_ml_model]\n",
    "\n",
    "instance"
   ]
  },
  {
   "cell_type": "code",
   "execution_count": null,
   "id": "4bdfe53b-0d59-40c2-8113-ca74d48e2aff",
   "metadata": {},
   "outputs": [],
   "source": []
  },
  {
   "cell_type": "markdown",
   "id": "5743cdbb-042d-46cb-9e7a-986851a4d0e4",
   "metadata": {},
   "source": [
    "#### 8.3 Add machine learning model as constraint\n",
    "OBS 1. As you can see, this step is not parametrized neither automatized\n",
    "\n",
    "OBS 2. This is the unique constraint that save the constraint as a variable (python variable or python dictionary as the decision variables are saved)."
   ]
  },
  {
   "cell_type": "code",
   "execution_count": null,
   "id": "8cd5c275-3711-499e-9699-3e0e58c5eb07",
   "metadata": {},
   "outputs": [],
   "source": [
    "pred_constr = add_predictor_constr(gp_model = model_opt, \n",
    "                     predictor = model_ml, \n",
    "                     input_vars = instance, # instance pandas gurobi\n",
    "                     output_vars = decision_var['Y1'], # target\n",
    "                     name = f'model_predict Y1'\n",
    "                    )\n",
    "\n",
    "pred_constr.print_stats()"
   ]
  },
  {
   "cell_type": "code",
   "execution_count": null,
   "id": "abb4071d-e041-4555-bd45-ce5bfd8998d5",
   "metadata": {},
   "outputs": [],
   "source": []
  },
  {
   "cell_type": "code",
   "execution_count": null,
   "id": "788ca818-4a58-4596-8e0e-05e1fc0fbb59",
   "metadata": {},
   "outputs": [],
   "source": []
  },
  {
   "cell_type": "markdown",
   "id": "088e91a2-3c7d-4b16-a1f4-7992e1f5067d",
   "metadata": {},
   "source": [
    "### 8. Define a custom function as constraints that represent the relations in the process\n",
    "Add a constraint defined as a funtion that represent the relation between X1, X2 with the output of the process (Y1)\n",
    "\n",
    "**Important: this constraint and the objective functions are more hardoded that the rest of constraints**"
   ]
  },
  {
   "cell_type": "code",
   "execution_count": null,
   "id": "4e854f60-6b45-4d04-8a3a-90f922f987b3",
   "metadata": {},
   "outputs": [],
   "source": [
    "# define parameters of the constraint\n",
    "alpha_feature_x1 = 1/5\n",
    "alpha_feature_x2 = 15"
   ]
  },
  {
   "cell_type": "code",
   "execution_count": null,
   "id": "3df127c1-78eb-4db5-b36d-c2dc5729921a",
   "metadata": {},
   "outputs": [],
   "source": [
    "# define function as constraint\n",
    "gppd.add_constrs(model_opt, \n",
    "                 (alpha_feature_x1 * decision_var['X1'] + alpha_feature_x1 * decision_var['X1']), \n",
    "                 gp.GRB.EQUAL, \n",
    "                 decision_var['Y1'], \n",
    "                 name = 'function as constraint output process'\n",
    "                )"
   ]
  },
  {
   "cell_type": "code",
   "execution_count": null,
   "id": "04440ea9-0d0b-4245-afe3-906527170137",
   "metadata": {},
   "outputs": [],
   "source": [
    "model_opt"
   ]
  },
  {
   "cell_type": "code",
   "execution_count": null,
   "id": "813aecad-b149-4f6b-b1d8-3e28ba131018",
   "metadata": {},
   "outputs": [],
   "source": [
    "model_opt.update()"
   ]
  },
  {
   "cell_type": "code",
   "execution_count": null,
   "id": "cf3b5a0f-bc3f-437b-8ab1-43cca4699a6f",
   "metadata": {},
   "outputs": [],
   "source": [
    "model_opt"
   ]
  },
  {
   "cell_type": "code",
   "execution_count": null,
   "id": "32adcc75-178d-47b4-8bad-f8644239a24a",
   "metadata": {},
   "outputs": [],
   "source": []
  },
  {
   "cell_type": "code",
   "execution_count": null,
   "id": "f5c21bfb-1203-43c4-a351-2f6be6db81f5",
   "metadata": {},
   "outputs": [],
   "source": []
  },
  {
   "cell_type": "code",
   "execution_count": null,
   "id": "5b0ac647-fca1-4d8e-97e5-f90cea8149e2",
   "metadata": {},
   "outputs": [],
   "source": []
  },
  {
   "cell_type": "markdown",
   "id": "a6921d2e-48ac-4456-919b-7f5029321a52",
   "metadata": {},
   "source": [
    "### 9. Define objective optimization\n",
    "Objetive that no generate infeasibility"
   ]
  },
  {
   "cell_type": "code",
   "execution_count": null,
   "id": "a6142a3b-84d8-4ca1-b801-68573b17d98d",
   "metadata": {},
   "outputs": [],
   "source": [
    "# original\n",
    "# model_opt.setObjective(var_tank_level.sum(),\n",
    "#                        gp.GRB.MINIMIZE)\n",
    "\n",
    "model_opt.setObjective(decision_var['tank_level'].sum(),\n",
    "                       gp.GRB.MINIMIZE)"
   ]
  },
  {
   "cell_type": "code",
   "execution_count": null,
   "id": "f877b067-7b04-4436-bfb3-090e81f48973",
   "metadata": {},
   "outputs": [],
   "source": []
  },
  {
   "cell_type": "markdown",
   "id": "e0c037fe-dd9b-408b-b1ef-0e0ccc0a8711",
   "metadata": {},
   "source": [
    "## ----> return the mdoel_opt that has defined for this instance can get the solution <----"
   ]
  },
  {
   "cell_type": "code",
   "execution_count": null,
   "id": "117daef7-4e2e-4c5f-95d0-57b7db2580a7",
   "metadata": {},
   "outputs": [],
   "source": [
    "model_opt"
   ]
  },
  {
   "cell_type": "code",
   "execution_count": null,
   "id": "c8b34685-603a-4d3a-8a27-ea2785cde136",
   "metadata": {},
   "outputs": [],
   "source": []
  },
  {
   "cell_type": "code",
   "execution_count": null,
   "id": "e6146b06-b08b-4c7c-a1a9-89af9e4b0fa9",
   "metadata": {},
   "outputs": [],
   "source": []
  },
  {
   "cell_type": "markdown",
   "id": "239737ce-2c33-4aca-b28e-b2e4450ee0bd",
   "metadata": {},
   "source": [
    "### 10. Optimize and get optimal values"
   ]
  },
  {
   "cell_type": "code",
   "execution_count": null,
   "id": "688cdcf5-ea18-4716-a523-3ee16b90db48",
   "metadata": {},
   "outputs": [],
   "source": [
    "# solve\n",
    "model_opt.optimize()"
   ]
  },
  {
   "cell_type": "code",
   "execution_count": null,
   "id": "b835ae8d-ca47-478f-9a11-a21227949557",
   "metadata": {},
   "outputs": [],
   "source": [
    "#### know the status of the model - 2 a optimal solution was founded\n",
    "# docu: https://www.gurobi.com/documentation/current/refman/optimization_status_codes.html#sec:StatusCodes\n",
    "model_opt.Status"
   ]
  },
  {
   "cell_type": "code",
   "execution_count": null,
   "id": "241da7da-682e-4874-8251-c64700b06e16",
   "metadata": {},
   "outputs": [],
   "source": [
    "# get optimal values and save in a dataframe\n",
    "######## create a dataframe with set as index\n",
    "solution = pd.DataFrame(index = index_set_time)\n",
    "\n",
    "######################## save optimal values - features of models (only the features) ########################\n",
    "solution[\"var_X1\"] = decision_var['X1'].gppd.X\n",
    "solution[\"var_X2\"] = decision_var['X2'].gppd.X\n",
    "solution[\"var_Y1\"] = decision_var['Y1'].gppd.X\n",
    "solution[\"var_Z1\"] = decision_var['Z1'].gppd.X\n",
    "solution[\"var_tank_level\"] = decision_var['tank_level'].gppd.X\n",
    "\n",
    "\n",
    "######################## # get value objetive function ########################\n",
    "opt_objetive_function = model_opt.ObjVal"
   ]
  },
  {
   "cell_type": "code",
   "execution_count": null,
   "id": "a6af89e0-0dde-4edb-a6a3-438616df05f1",
   "metadata": {},
   "outputs": [],
   "source": [
    "# show value objetive function\n",
    "opt_objetive_function"
   ]
  },
  {
   "cell_type": "code",
   "execution_count": null,
   "id": "e55440c3-3f32-4219-ae03-968aa51780d1",
   "metadata": {},
   "outputs": [],
   "source": [
    "# show value decision variables\n",
    "solution"
   ]
  },
  {
   "cell_type": "code",
   "execution_count": null,
   "id": "e74ad2dc-fd9d-481d-81fe-b113820ebfd3",
   "metadata": {},
   "outputs": [],
   "source": []
  },
  {
   "cell_type": "code",
   "execution_count": null,
   "id": "a50e32cc-0860-4d29-a204-ce7a6a6d276a",
   "metadata": {},
   "outputs": [],
   "source": []
  },
  {
   "cell_type": "code",
   "execution_count": null,
   "id": "997212fc-e77f-4f88-9063-cee9924c5abe",
   "metadata": {},
   "outputs": [],
   "source": []
  }
 ],
 "metadata": {
  "kernelspec": {
   "display_name": "Python 3 (ipykernel)",
   "language": "python",
   "name": "python3"
  },
  "language_info": {
   "codemirror_mode": {
    "name": "ipython",
    "version": 3
   },
   "file_extension": ".py",
   "mimetype": "text/x-python",
   "name": "python",
   "nbconvert_exporter": "python",
   "pygments_lexer": "ipython3",
   "version": "3.10.12"
  }
 },
 "nbformat": 4,
 "nbformat_minor": 5
}
