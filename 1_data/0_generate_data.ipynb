{
 "cells": [
  {
   "cell_type": "markdown",
   "id": "c43faa4d-db0f-4cd3-a093-19438ecae397",
   "metadata": {},
   "source": [
    "# Generate data to ML models\n",
    "Generate the data to ML models. For this example only ficticious data are generated acording a certain formula (also ficticous that try to represent the problem of process that generate an output and this output pass across a tank and then go to another tank)"
   ]
  },
  {
   "cell_type": "markdown",
   "id": "b922bd84-6691-4e5a-92c9-dac5fd7dadbd",
   "metadata": {},
   "source": [
    "## Root folder and read env variables"
   ]
  },
  {
   "cell_type": "code",
   "execution_count": 1,
   "id": "b846b3c3-ef67-4a3c-8b9d-3b3796b61fb3",
   "metadata": {},
   "outputs": [
    {
     "name": "stdout",
     "output_type": "stream",
     "text": [
      "root path:  D:\\github-mi-repo\\Gurobi-ML-tips-modeling\n"
     ]
    }
   ],
   "source": [
    "import os\n",
    "# fix root path to save outputs\n",
    "actual_path = os.path.abspath(os.getcwd())\n",
    "list_root_path = actual_path.split('\\\\')[:-1]\n",
    "root_path = '\\\\'.join(list_root_path)\n",
    "os.chdir(root_path)\n",
    "print('root path: ', root_path)"
   ]
  },
  {
   "cell_type": "code",
   "execution_count": 2,
   "id": "cd3c0576-ebc2-4df8-9bea-50f29844198a",
   "metadata": {},
   "outputs": [],
   "source": [
    "import os\n",
    "from dotenv import load_dotenv, find_dotenv # package used in jupyter notebook to read the variables in file .env\n",
    "\n",
    "\"\"\" get env variable from .env \"\"\"\n",
    "load_dotenv(find_dotenv())\n",
    "\n",
    "\"\"\" Read env variables and save it as python variable \"\"\"\n",
    "PROJECT_GCP = os.environ.get(\"PROJECT_GCP\", \"\")"
   ]
  },
  {
   "cell_type": "code",
   "execution_count": null,
   "id": "e2bab0f8-b9f4-4887-bd70-1790163eab22",
   "metadata": {},
   "outputs": [],
   "source": []
  },
  {
   "cell_type": "markdown",
   "id": "ddd36dbb-2fb7-4476-96ef-b1ef520e3133",
   "metadata": {},
   "source": [
    "## RUN"
   ]
  },
  {
   "cell_type": "code",
   "execution_count": 3,
   "id": "c29ac8e0",
   "metadata": {},
   "outputs": [],
   "source": [
    "import pandas as pd\n",
    "import numpy as np\n",
    "from google.cloud import bigquery\n",
    "import gcsfs\n",
    "import pickle\n",
    "\n",
    "from sklearn.linear_model import LinearRegression\n",
    "from sklearn.model_selection import train_test_split"
   ]
  },
  {
   "cell_type": "code",
   "execution_count": 4,
   "id": "c30fb690",
   "metadata": {},
   "outputs": [],
   "source": [
    "# ### desarrollo\n",
    "\n",
    "# PROJECT_ID = PROJECT_GCP\n",
    "# ! gcloud config set project $PROJECT_ID"
   ]
  },
  {
   "cell_type": "markdown",
   "id": "debf68c0-9d2b-436b-ba99-5b0e1aa32e23",
   "metadata": {},
   "source": [
    "### 0. Paramaters"
   ]
  },
  {
   "cell_type": "code",
   "execution_count": 5,
   "id": "0a06630d-2469-4a7c-ba89-b1d57b8d720f",
   "metadata": {},
   "outputs": [],
   "source": [
    "len_data = 1000"
   ]
  },
  {
   "cell_type": "code",
   "execution_count": null,
   "id": "d2df6510-226d-49ad-abcd-e60751a23409",
   "metadata": {},
   "outputs": [],
   "source": []
  },
  {
   "cell_type": "code",
   "execution_count": null,
   "id": "338febfc-be79-4b37-a915-b7e87d0487ee",
   "metadata": {},
   "outputs": [],
   "source": []
  },
  {
   "cell_type": "markdown",
   "id": "627c8f8c-e8d5-4a00-b6b9-a60b3bb0daa7",
   "metadata": {},
   "source": [
    "### 1. Read Master Table"
   ]
  },
  {
   "cell_type": "code",
   "execution_count": 6,
   "id": "0d9660f6-fd6c-47a9-b5a9-105ec9302106",
   "metadata": {},
   "outputs": [
    {
     "data": {
      "text/html": [
       "<div>\n",
       "<style scoped>\n",
       "    .dataframe tbody tr th:only-of-type {\n",
       "        vertical-align: middle;\n",
       "    }\n",
       "\n",
       "    .dataframe tbody tr th {\n",
       "        vertical-align: top;\n",
       "    }\n",
       "\n",
       "    .dataframe thead th {\n",
       "        text-align: right;\n",
       "    }\n",
       "</style>\n",
       "<table border=\"1\" class=\"dataframe\">\n",
       "  <thead>\n",
       "    <tr style=\"text-align: right;\">\n",
       "      <th></th>\n",
       "      <th>TAG</th>\n",
       "      <th>FEATURES_NAMES</th>\n",
       "      <th>DESCRIPCION</th>\n",
       "      <th>CLASIFICACION_NAME</th>\n",
       "      <th>CLASIFICACION</th>\n",
       "      <th>USE_ACTUAL_MODEL</th>\n",
       "    </tr>\n",
       "  </thead>\n",
       "  <tbody>\n",
       "    <tr>\n",
       "      <th>0</th>\n",
       "      <td>X1</td>\n",
       "      <td>X1</td>\n",
       "      <td>Variable de entrada al proceso A. Variable Pri...</td>\n",
       "      <td>Primary</td>\n",
       "      <td>P</td>\n",
       "      <td>MLA</td>\n",
       "    </tr>\n",
       "    <tr>\n",
       "      <th>1</th>\n",
       "      <td>O1</td>\n",
       "      <td>O1</td>\n",
       "      <td>Variable de entrada al proceso A. No es una va...</td>\n",
       "      <td>Observed</td>\n",
       "      <td>O</td>\n",
       "      <td>MLA</td>\n",
       "    </tr>\n",
       "    <tr>\n",
       "      <th>2</th>\n",
       "      <td>O2</td>\n",
       "      <td>O2</td>\n",
       "      <td>Variable de entrada al proceso A. No es una va...</td>\n",
       "      <td>Observed</td>\n",
       "      <td>O</td>\n",
       "      <td>MLA</td>\n",
       "    </tr>\n",
       "    <tr>\n",
       "      <th>3</th>\n",
       "      <td>O3</td>\n",
       "      <td>O3</td>\n",
       "      <td>Variable de entrada al proceso A. No es una va...</td>\n",
       "      <td>Observed</td>\n",
       "      <td>O</td>\n",
       "      <td>MLA</td>\n",
       "    </tr>\n",
       "    <tr>\n",
       "      <th>4</th>\n",
       "      <td>Y1</td>\n",
       "      <td>Y1</td>\n",
       "      <td>Variable target del proceso A y Variable de en...</td>\n",
       "      <td>Target</td>\n",
       "      <td>T</td>\n",
       "      <td>MLA</td>\n",
       "    </tr>\n",
       "    <tr>\n",
       "      <th>5</th>\n",
       "      <td>Z1</td>\n",
       "      <td>Z1</td>\n",
       "      <td>Variable de salida del tanque X y Variable de ...</td>\n",
       "      <td>Secundary</td>\n",
       "      <td>S</td>\n",
       "      <td>MLB</td>\n",
       "    </tr>\n",
       "    <tr>\n",
       "      <th>6</th>\n",
       "      <td>X2</td>\n",
       "      <td>X2</td>\n",
       "      <td>Variable de entrada al proceso B. Aparece por ...</td>\n",
       "      <td>Primary</td>\n",
       "      <td>P</td>\n",
       "      <td>MLB</td>\n",
       "    </tr>\n",
       "    <tr>\n",
       "      <th>7</th>\n",
       "      <td>O4</td>\n",
       "      <td>O4</td>\n",
       "      <td>Variable de entrada al proceso B. No es una va...</td>\n",
       "      <td>Observed</td>\n",
       "      <td>O</td>\n",
       "      <td>MLB</td>\n",
       "    </tr>\n",
       "    <tr>\n",
       "      <th>8</th>\n",
       "      <td>O5</td>\n",
       "      <td>O5</td>\n",
       "      <td>Variable de entrada al proceso B. No es una va...</td>\n",
       "      <td>Observed</td>\n",
       "      <td>O</td>\n",
       "      <td>MLB</td>\n",
       "    </tr>\n",
       "    <tr>\n",
       "      <th>9</th>\n",
       "      <td>Y2</td>\n",
       "      <td>Y2</td>\n",
       "      <td>Variable target del proceso B y proceso C (y v...</td>\n",
       "      <td>Target</td>\n",
       "      <td>T</td>\n",
       "      <td>MLB/MLC</td>\n",
       "    </tr>\n",
       "    <tr>\n",
       "      <th>10</th>\n",
       "      <td>X3</td>\n",
       "      <td>X3</td>\n",
       "      <td>Variable de entrada al proceso C. Aparece por ...</td>\n",
       "      <td>Primary</td>\n",
       "      <td>P</td>\n",
       "      <td>MLC</td>\n",
       "    </tr>\n",
       "    <tr>\n",
       "      <th>11</th>\n",
       "      <td>O6</td>\n",
       "      <td>O6</td>\n",
       "      <td>Variable de entrada al proceso C. No es una va...</td>\n",
       "      <td>Observed</td>\n",
       "      <td>O</td>\n",
       "      <td>MLC</td>\n",
       "    </tr>\n",
       "  </tbody>\n",
       "</table>\n",
       "</div>"
      ],
      "text/plain": [
       "   TAG FEATURES_NAMES                                        DESCRIPCION  \\\n",
       "0   X1             X1  Variable de entrada al proceso A. Variable Pri...   \n",
       "1   O1             O1  Variable de entrada al proceso A. No es una va...   \n",
       "2   O2             O2  Variable de entrada al proceso A. No es una va...   \n",
       "3   O3             O3  Variable de entrada al proceso A. No es una va...   \n",
       "4   Y1             Y1  Variable target del proceso A y Variable de en...   \n",
       "5   Z1             Z1  Variable de salida del tanque X y Variable de ...   \n",
       "6   X2             X2  Variable de entrada al proceso B. Aparece por ...   \n",
       "7   O4             O4  Variable de entrada al proceso B. No es una va...   \n",
       "8   O5             O5  Variable de entrada al proceso B. No es una va...   \n",
       "9   Y2             Y2  Variable target del proceso B y proceso C (y v...   \n",
       "10  X3             X3  Variable de entrada al proceso C. Aparece por ...   \n",
       "11  O6             O6  Variable de entrada al proceso C. No es una va...   \n",
       "\n",
       "   CLASIFICACION_NAME CLASIFICACION USE_ACTUAL_MODEL  \n",
       "0             Primary             P              MLA  \n",
       "1            Observed             O              MLA  \n",
       "2            Observed             O              MLA  \n",
       "3            Observed             O              MLA  \n",
       "4              Target             T              MLA  \n",
       "5           Secundary             S              MLB  \n",
       "6             Primary             P              MLB  \n",
       "7            Observed             O              MLB  \n",
       "8            Observed             O              MLB  \n",
       "9              Target             T          MLB/MLC  \n",
       "10            Primary             P              MLC  \n",
       "11           Observed             O              MLC  "
      ]
     },
     "execution_count": 6,
     "metadata": {},
     "output_type": "execute_result"
    }
   ],
   "source": [
    "path_master_table = f'config/MasterTable.xlsx'\n",
    "master_table = pd.read_excel(path_master_table)\n",
    "master_table"
   ]
  },
  {
   "cell_type": "code",
   "execution_count": null,
   "id": "8dd0fc5a-967f-4de5-a0a8-4aecd5988c5f",
   "metadata": {},
   "outputs": [],
   "source": []
  },
  {
   "cell_type": "code",
   "execution_count": null,
   "id": "4e124655-671f-410f-8210-35de1e10c029",
   "metadata": {},
   "outputs": [],
   "source": []
  },
  {
   "cell_type": "code",
   "execution_count": null,
   "id": "3ccee55f",
   "metadata": {},
   "outputs": [],
   "source": []
  },
  {
   "cell_type": "markdown",
   "id": "5a352c92-7b8a-41ad-beb5-3f486e7f16d0",
   "metadata": {},
   "source": [
    "### 2. Define data random features and target\n",
    "Define data random and create a formula to map the features into a target and then generate random data to append to the target"
   ]
  },
  {
   "cell_type": "markdown",
   "id": "b16e6f77-8e8a-4467-9ed5-eb8bf37191a9",
   "metadata": {},
   "source": [
    "#### 2.1 Process A"
   ]
  },
  {
   "cell_type": "code",
   "execution_count": 7,
   "id": "fc5c2528-fe3e-4770-b202-bf81150d5f5e",
   "metadata": {},
   "outputs": [],
   "source": [
    "list_features_process_a = [\n",
    "    \"X1\",\n",
    "    \"O1\",\n",
    "    \"O2\",\n",
    "    \"03\"\n",
    "]\n",
    "\n",
    "list_target_process_a = [\"Y1\"]"
   ]
  },
  {
   "cell_type": "code",
   "execution_count": 8,
   "id": "3b6fe1fa-4957-4ea5-a6c2-e493a0bb1be6",
   "metadata": {},
   "outputs": [],
   "source": [
    "##### FEATURES\n",
    "\n",
    "# generate data features process_a\n",
    "np.random.seed(42)\n",
    "values_features_process_a = 10 * np.random.rand(len_data, len(list_features_process_a))"
   ]
  },
  {
   "cell_type": "code",
   "execution_count": 9,
   "id": "a4eec99b-695c-47d6-8101-58dca3761abe",
   "metadata": {},
   "outputs": [],
   "source": [
    "#### TARGET\n",
    "\n",
    "# define formula to map features into a target. np.exp(-1/data) + np.log(data)\n",
    "formula_target_process_a = (np.exp(-1/values_features_process_a) + np.log(values_features_process_a)).sum(axis = 1)\n",
    "\n",
    "# generate noise to add to the formula of the target generated\n",
    "np.random.seed(52)\n",
    "noise_target_process_a = 10 * np.random.rand(len_data, len(list_target_process_a))\n",
    "\n",
    "# generate data target process_a\n",
    "values_target_process_a  = formula_target_process_a.reshape(formula_target_process_a.shape[0], 1) + noise_target_process_a"
   ]
  },
  {
   "cell_type": "code",
   "execution_count": 10,
   "id": "eef19e1c-bb2f-4302-be6e-f00098c97cd1",
   "metadata": {},
   "outputs": [
    {
     "data": {
      "text/html": [
       "<div>\n",
       "<style scoped>\n",
       "    .dataframe tbody tr th:only-of-type {\n",
       "        vertical-align: middle;\n",
       "    }\n",
       "\n",
       "    .dataframe tbody tr th {\n",
       "        vertical-align: top;\n",
       "    }\n",
       "\n",
       "    .dataframe thead th {\n",
       "        text-align: right;\n",
       "    }\n",
       "</style>\n",
       "<table border=\"1\" class=\"dataframe\">\n",
       "  <thead>\n",
       "    <tr style=\"text-align: right;\">\n",
       "      <th></th>\n",
       "      <th>X1</th>\n",
       "      <th>O1</th>\n",
       "      <th>O2</th>\n",
       "      <th>03</th>\n",
       "      <th>Y1</th>\n",
       "    </tr>\n",
       "  </thead>\n",
       "  <tbody>\n",
       "    <tr>\n",
       "      <th>0</th>\n",
       "      <td>3.745401</td>\n",
       "      <td>9.507143</td>\n",
       "      <td>7.319939</td>\n",
       "      <td>5.986585</td>\n",
       "      <td>18.968108</td>\n",
       "    </tr>\n",
       "    <tr>\n",
       "      <th>1</th>\n",
       "      <td>1.560186</td>\n",
       "      <td>1.559945</td>\n",
       "      <td>0.580836</td>\n",
       "      <td>8.661761</td>\n",
       "      <td>4.889535</td>\n",
       "    </tr>\n",
       "    <tr>\n",
       "      <th>2</th>\n",
       "      <td>6.011150</td>\n",
       "      <td>7.080726</td>\n",
       "      <td>0.205845</td>\n",
       "      <td>9.699099</td>\n",
       "      <td>9.174935</td>\n",
       "    </tr>\n",
       "    <tr>\n",
       "      <th>3</th>\n",
       "      <td>8.324426</td>\n",
       "      <td>2.123391</td>\n",
       "      <td>1.818250</td>\n",
       "      <td>1.834045</td>\n",
       "      <td>12.928706</td>\n",
       "    </tr>\n",
       "    <tr>\n",
       "      <th>4</th>\n",
       "      <td>3.042422</td>\n",
       "      <td>5.247564</td>\n",
       "      <td>4.319450</td>\n",
       "      <td>2.912291</td>\n",
       "      <td>9.334401</td>\n",
       "    </tr>\n",
       "    <tr>\n",
       "      <th>...</th>\n",
       "      <td>...</td>\n",
       "      <td>...</td>\n",
       "      <td>...</td>\n",
       "      <td>...</td>\n",
       "      <td>...</td>\n",
       "    </tr>\n",
       "    <tr>\n",
       "      <th>995</th>\n",
       "      <td>8.323635</td>\n",
       "      <td>8.056488</td>\n",
       "      <td>2.243186</td>\n",
       "      <td>2.260791</td>\n",
       "      <td>10.888191</td>\n",
       "    </tr>\n",
       "    <tr>\n",
       "      <th>996</th>\n",
       "      <td>8.173053</td>\n",
       "      <td>9.303984</td>\n",
       "      <td>0.953609</td>\n",
       "      <td>4.500586</td>\n",
       "      <td>12.010378</td>\n",
       "    </tr>\n",
       "    <tr>\n",
       "      <th>997</th>\n",
       "      <td>3.374543</td>\n",
       "      <td>8.706885</td>\n",
       "      <td>0.835249</td>\n",
       "      <td>2.111259</td>\n",
       "      <td>11.360801</td>\n",
       "    </tr>\n",
       "    <tr>\n",
       "      <th>998</th>\n",
       "      <td>7.524683</td>\n",
       "      <td>0.512938</td>\n",
       "      <td>4.925354</td>\n",
       "      <td>4.421070</td>\n",
       "      <td>15.351852</td>\n",
       "    </tr>\n",
       "    <tr>\n",
       "      <th>999</th>\n",
       "      <td>3.344012</td>\n",
       "      <td>3.945723</td>\n",
       "      <td>5.299406</td>\n",
       "      <td>1.613674</td>\n",
       "      <td>11.878023</td>\n",
       "    </tr>\n",
       "  </tbody>\n",
       "</table>\n",
       "<p>1000 rows × 5 columns</p>\n",
       "</div>"
      ],
      "text/plain": [
       "           X1        O1        O2        03         Y1\n",
       "0    3.745401  9.507143  7.319939  5.986585  18.968108\n",
       "1    1.560186  1.559945  0.580836  8.661761   4.889535\n",
       "2    6.011150  7.080726  0.205845  9.699099   9.174935\n",
       "3    8.324426  2.123391  1.818250  1.834045  12.928706\n",
       "4    3.042422  5.247564  4.319450  2.912291   9.334401\n",
       "..        ...       ...       ...       ...        ...\n",
       "995  8.323635  8.056488  2.243186  2.260791  10.888191\n",
       "996  8.173053  9.303984  0.953609  4.500586  12.010378\n",
       "997  3.374543  8.706885  0.835249  2.111259  11.360801\n",
       "998  7.524683  0.512938  4.925354  4.421070  15.351852\n",
       "999  3.344012  3.945723  5.299406  1.613674  11.878023\n",
       "\n",
       "[1000 rows x 5 columns]"
      ]
     },
     "execution_count": 10,
     "metadata": {},
     "output_type": "execute_result"
    }
   ],
   "source": [
    "# generate dataframe process_a\n",
    "data_process_a = pd.DataFrame(values_features_process_a, columns = list_features_process_a)\n",
    "data_process_a[list_target_process_a] = values_target_process_a\n",
    "data_process_a"
   ]
  },
  {
   "cell_type": "code",
   "execution_count": null,
   "id": "3948a8c7-d74b-436b-a4e5-abaa706527b8",
   "metadata": {},
   "outputs": [],
   "source": []
  },
  {
   "cell_type": "code",
   "execution_count": null,
   "id": "a048e45b-bbc1-4904-b360-3264dc5beb85",
   "metadata": {},
   "outputs": [],
   "source": []
  },
  {
   "cell_type": "markdown",
   "id": "83dcb52f-9659-4e2b-b760-190024de5b05",
   "metadata": {},
   "source": [
    "#### 2.2 Process B"
   ]
  },
  {
   "cell_type": "code",
   "execution_count": 11,
   "id": "b1dfb444-ed71-45fe-ac4c-105d38d9b74d",
   "metadata": {},
   "outputs": [],
   "source": [
    "list_features_process_b = [\n",
    "    \"Z1\",\n",
    "    \"X2\",\n",
    "    \"O4\",\n",
    "    \"O5\"\n",
    "]\n",
    "\n",
    "list_target_process_b = [\"Y2\"]"
   ]
  },
  {
   "cell_type": "code",
   "execution_count": 12,
   "id": "c477569f-9e71-4d55-ae64-7b1788e19a65",
   "metadata": {},
   "outputs": [],
   "source": [
    "##### FEATURES\n",
    "\n",
    "# generate data features process_b\n",
    "np.random.seed(62)\n",
    "values_features_process_b = 10 * np.random.rand(len_data, len(list_features_process_b))"
   ]
  },
  {
   "cell_type": "code",
   "execution_count": 13,
   "id": "9491721f-17da-4977-881d-648ddd49fbcd",
   "metadata": {},
   "outputs": [],
   "source": [
    "#### TARGET\n",
    "\n",
    "# define formula to map features into a target. np.exp(-3/data) + np.log(data)\n",
    "formula_target_process_b = (np.exp(-3/values_features_process_b) + np.log(values_features_process_b)).sum(axis = 1)\n",
    "\n",
    "# generate noise to add to the formula of the target generated\n",
    "np.random.seed(12)\n",
    "#noise_target_process_b = 10 * np.random.rand(len_data, len(list_target_process_b))\n",
    "noise_target_process_b = 10\n",
    "\n",
    "# generate data target process_b\n",
    "values_target_process_b  = formula_target_process_b.reshape(formula_target_process_b.shape[0], 1) + noise_target_process_b"
   ]
  },
  {
   "cell_type": "code",
   "execution_count": 14,
   "id": "5eda79fd-a3b3-48c5-bb78-7fcb9b6964ee",
   "metadata": {},
   "outputs": [
    {
     "data": {
      "text/html": [
       "<div>\n",
       "<style scoped>\n",
       "    .dataframe tbody tr th:only-of-type {\n",
       "        vertical-align: middle;\n",
       "    }\n",
       "\n",
       "    .dataframe tbody tr th {\n",
       "        vertical-align: top;\n",
       "    }\n",
       "\n",
       "    .dataframe thead th {\n",
       "        text-align: right;\n",
       "    }\n",
       "</style>\n",
       "<table border=\"1\" class=\"dataframe\">\n",
       "  <thead>\n",
       "    <tr style=\"text-align: right;\">\n",
       "      <th></th>\n",
       "      <th>Z1</th>\n",
       "      <th>X2</th>\n",
       "      <th>O4</th>\n",
       "      <th>O5</th>\n",
       "      <th>Y2</th>\n",
       "    </tr>\n",
       "  </thead>\n",
       "  <tbody>\n",
       "    <tr>\n",
       "      <th>0</th>\n",
       "      <td>0.337547</td>\n",
       "      <td>4.891075</td>\n",
       "      <td>8.460851</td>\n",
       "      <td>4.114020</td>\n",
       "      <td>15.776638</td>\n",
       "    </tr>\n",
       "    <tr>\n",
       "      <th>1</th>\n",
       "      <td>6.314154</td>\n",
       "      <td>2.909432</td>\n",
       "      <td>5.428003</td>\n",
       "      <td>2.281814</td>\n",
       "      <td>17.249650</td>\n",
       "    </tr>\n",
       "    <tr>\n",
       "      <th>2</th>\n",
       "      <td>2.402763</td>\n",
       "      <td>9.534575</td>\n",
       "      <td>6.458104</td>\n",
       "      <td>0.178572</td>\n",
       "      <td>14.919508</td>\n",
       "    </tr>\n",
       "    <tr>\n",
       "      <th>3</th>\n",
       "      <td>9.961258</td>\n",
       "      <td>7.351945</td>\n",
       "      <td>7.219425</td>\n",
       "      <td>4.104965</td>\n",
       "      <td>20.229030</td>\n",
       "    </tr>\n",
       "    <tr>\n",
       "      <th>4</th>\n",
       "      <td>2.037802</td>\n",
       "      <td>9.621025</td>\n",
       "      <td>2.244710</td>\n",
       "      <td>0.477828</td>\n",
       "      <td>14.272082</td>\n",
       "    </tr>\n",
       "    <tr>\n",
       "      <th>...</th>\n",
       "      <td>...</td>\n",
       "      <td>...</td>\n",
       "      <td>...</td>\n",
       "      <td>...</td>\n",
       "      <td>...</td>\n",
       "    </tr>\n",
       "    <tr>\n",
       "      <th>995</th>\n",
       "      <td>2.658250</td>\n",
       "      <td>5.245613</td>\n",
       "      <td>9.591574</td>\n",
       "      <td>2.058272</td>\n",
       "      <td>17.469982</td>\n",
       "    </tr>\n",
       "    <tr>\n",
       "      <th>996</th>\n",
       "      <td>6.672634</td>\n",
       "      <td>8.605599</td>\n",
       "      <td>8.763929</td>\n",
       "      <td>6.766465</td>\n",
       "      <td>20.828604</td>\n",
       "    </tr>\n",
       "    <tr>\n",
       "      <th>997</th>\n",
       "      <td>3.847030</td>\n",
       "      <td>9.344537</td>\n",
       "      <td>0.500198</td>\n",
       "      <td>9.514672</td>\n",
       "      <td>17.058109</td>\n",
       "    </tr>\n",
       "    <tr>\n",
       "      <th>998</th>\n",
       "      <td>3.092017</td>\n",
       "      <td>9.321674</td>\n",
       "      <td>4.503694</td>\n",
       "      <td>0.325089</td>\n",
       "      <td>15.360015</td>\n",
       "    </tr>\n",
       "    <tr>\n",
       "      <th>999</th>\n",
       "      <td>4.309879</td>\n",
       "      <td>9.539917</td>\n",
       "      <td>9.423226</td>\n",
       "      <td>5.993247</td>\n",
       "      <td>20.312449</td>\n",
       "    </tr>\n",
       "  </tbody>\n",
       "</table>\n",
       "<p>1000 rows × 5 columns</p>\n",
       "</div>"
      ],
      "text/plain": [
       "           Z1        X2        O4        O5         Y2\n",
       "0    0.337547  4.891075  8.460851  4.114020  15.776638\n",
       "1    6.314154  2.909432  5.428003  2.281814  17.249650\n",
       "2    2.402763  9.534575  6.458104  0.178572  14.919508\n",
       "3    9.961258  7.351945  7.219425  4.104965  20.229030\n",
       "4    2.037802  9.621025  2.244710  0.477828  14.272082\n",
       "..        ...       ...       ...       ...        ...\n",
       "995  2.658250  5.245613  9.591574  2.058272  17.469982\n",
       "996  6.672634  8.605599  8.763929  6.766465  20.828604\n",
       "997  3.847030  9.344537  0.500198  9.514672  17.058109\n",
       "998  3.092017  9.321674  4.503694  0.325089  15.360015\n",
       "999  4.309879  9.539917  9.423226  5.993247  20.312449\n",
       "\n",
       "[1000 rows x 5 columns]"
      ]
     },
     "execution_count": 14,
     "metadata": {},
     "output_type": "execute_result"
    }
   ],
   "source": [
    "# generate dataframe process_b\n",
    "data_process_b = pd.DataFrame(values_features_process_b, columns = list_features_process_b)\n",
    "data_process_b[list_target_process_b] = values_target_process_b\n",
    "data_process_b"
   ]
  },
  {
   "cell_type": "code",
   "execution_count": null,
   "id": "a1aad01f-6f26-4776-971f-5f286e3a6e5a",
   "metadata": {},
   "outputs": [],
   "source": []
  },
  {
   "cell_type": "code",
   "execution_count": null,
   "id": "9426029a-e5c1-49c9-94a1-20dfd81e7cbd",
   "metadata": {},
   "outputs": [],
   "source": []
  },
  {
   "cell_type": "code",
   "execution_count": null,
   "id": "0f7ba1eb-9e8b-4118-8efb-e241ef08b3c5",
   "metadata": {},
   "outputs": [],
   "source": []
  },
  {
   "cell_type": "markdown",
   "id": "959a2f20-d644-4485-9f87-91a263e563a9",
   "metadata": {},
   "source": [
    "#### 2.3 Process C\n",
    "This process has its own formula as ml models. To use this formula in gurobi it is necesary define the formula directly as constraint. So, the formula used here is the original formula that will be used as \"model\""
   ]
  },
  {
   "cell_type": "code",
   "execution_count": 15,
   "id": "fda130bf-c5c3-4fee-8442-d709e0a53c6c",
   "metadata": {},
   "outputs": [],
   "source": [
    "list_features_process_c = [\n",
    "    \"X3\",\n",
    "    \"06\",\n",
    "]\n",
    "\n",
    "list_target_process_c = [\"Y2\"]"
   ]
  },
  {
   "cell_type": "code",
   "execution_count": 16,
   "id": "e4372ea9-cddd-4813-b45f-b3bbf99ab336",
   "metadata": {},
   "outputs": [],
   "source": [
    "##### FEATURES\n",
    "\n",
    "# generate data features process_c\n",
    "np.random.seed(62)\n",
    "values_features_process_c = 10 * np.random.rand(len_data, len(list_features_process_c))"
   ]
  },
  {
   "cell_type": "code",
   "execution_count": 17,
   "id": "6a17220c-94ba-4e54-98a8-eaf59aded7fe",
   "metadata": {},
   "outputs": [],
   "source": [
    "#### TARGET\n",
    "\n",
    "# define formula to map features into a target. np.exp(-1/data) + np.log(data)\n",
    "formula_target_process_c = 24*1.125*values_features_process_c[:, 0] + values_features_process_c[:, 1]\n",
    "\n",
    "# generate noise to add to the formula of the target generated\n",
    "np.random.seed(12)\n",
    "noise_target_process_c = 10 * np.random.rand(len_data, len(list_target_process_c))\n",
    "\n",
    "# generate data target process_c\n",
    "values_target_process_c  = formula_target_process_c.reshape(formula_target_process_c.shape[0], 1) + noise_target_process_c"
   ]
  },
  {
   "cell_type": "code",
   "execution_count": 18,
   "id": "3c30f7f9-a9f5-476c-ba59-e6e3d19fcfb2",
   "metadata": {},
   "outputs": [
    {
     "data": {
      "text/html": [
       "<div>\n",
       "<style scoped>\n",
       "    .dataframe tbody tr th:only-of-type {\n",
       "        vertical-align: middle;\n",
       "    }\n",
       "\n",
       "    .dataframe tbody tr th {\n",
       "        vertical-align: top;\n",
       "    }\n",
       "\n",
       "    .dataframe thead th {\n",
       "        text-align: right;\n",
       "    }\n",
       "</style>\n",
       "<table border=\"1\" class=\"dataframe\">\n",
       "  <thead>\n",
       "    <tr style=\"text-align: right;\">\n",
       "      <th></th>\n",
       "      <th>X3</th>\n",
       "      <th>06</th>\n",
       "      <th>Y2</th>\n",
       "    </tr>\n",
       "  </thead>\n",
       "  <tbody>\n",
       "    <tr>\n",
       "      <th>0</th>\n",
       "      <td>0.337547</td>\n",
       "      <td>4.891075</td>\n",
       "      <td>15.546475</td>\n",
       "    </tr>\n",
       "    <tr>\n",
       "      <th>1</th>\n",
       "      <td>8.460851</td>\n",
       "      <td>4.114020</td>\n",
       "      <td>239.957493</td>\n",
       "    </tr>\n",
       "    <tr>\n",
       "      <th>2</th>\n",
       "      <td>6.314154</td>\n",
       "      <td>2.909432</td>\n",
       "      <td>176.024733</td>\n",
       "    </tr>\n",
       "    <tr>\n",
       "      <th>3</th>\n",
       "      <td>5.428003</td>\n",
       "      <td>2.281814</td>\n",
       "      <td>154.175286</td>\n",
       "    </tr>\n",
       "    <tr>\n",
       "      <th>4</th>\n",
       "      <td>2.402763</td>\n",
       "      <td>9.534575</td>\n",
       "      <td>74.554934</td>\n",
       "    </tr>\n",
       "    <tr>\n",
       "      <th>...</th>\n",
       "      <td>...</td>\n",
       "      <td>...</td>\n",
       "      <td>...</td>\n",
       "    </tr>\n",
       "    <tr>\n",
       "      <th>995</th>\n",
       "      <td>7.257673</td>\n",
       "      <td>4.198883</td>\n",
       "      <td>206.805637</td>\n",
       "    </tr>\n",
       "    <tr>\n",
       "      <th>996</th>\n",
       "      <td>0.381145</td>\n",
       "      <td>2.181244</td>\n",
       "      <td>12.576272</td>\n",
       "    </tr>\n",
       "    <tr>\n",
       "      <th>997</th>\n",
       "      <td>4.243785</td>\n",
       "      <td>0.422370</td>\n",
       "      <td>123.687251</td>\n",
       "    </tr>\n",
       "    <tr>\n",
       "      <th>998</th>\n",
       "      <td>5.810263</td>\n",
       "      <td>1.745521</td>\n",
       "      <td>166.249236</td>\n",
       "    </tr>\n",
       "    <tr>\n",
       "      <th>999</th>\n",
       "      <td>1.093409</td>\n",
       "      <td>0.462313</td>\n",
       "      <td>32.124281</td>\n",
       "    </tr>\n",
       "  </tbody>\n",
       "</table>\n",
       "<p>1000 rows × 3 columns</p>\n",
       "</div>"
      ],
      "text/plain": [
       "           X3        06          Y2\n",
       "0    0.337547  4.891075   15.546475\n",
       "1    8.460851  4.114020  239.957493\n",
       "2    6.314154  2.909432  176.024733\n",
       "3    5.428003  2.281814  154.175286\n",
       "4    2.402763  9.534575   74.554934\n",
       "..        ...       ...         ...\n",
       "995  7.257673  4.198883  206.805637\n",
       "996  0.381145  2.181244   12.576272\n",
       "997  4.243785  0.422370  123.687251\n",
       "998  5.810263  1.745521  166.249236\n",
       "999  1.093409  0.462313   32.124281\n",
       "\n",
       "[1000 rows x 3 columns]"
      ]
     },
     "execution_count": 18,
     "metadata": {},
     "output_type": "execute_result"
    }
   ],
   "source": [
    "# generate dataframe process_c\n",
    "data_process_c = pd.DataFrame(values_features_process_c, columns = list_features_process_c)\n",
    "data_process_c[list_target_process_c] = values_target_process_c\n",
    "data_process_c"
   ]
  },
  {
   "cell_type": "code",
   "execution_count": null,
   "id": "50fe55bd-02e2-46fc-b8fd-fa6f553283a4",
   "metadata": {},
   "outputs": [],
   "source": []
  },
  {
   "cell_type": "markdown",
   "id": "62730764-8448-4aa6-8651-f1ed9ca1ccc0",
   "metadata": {},
   "source": [
    "### 3. Evaluate capacity of ml model (optional)\n",
    "Evaluate the capacity of a Machine Learning model to predict this data. For this example it will use only a simple linear regression"
   ]
  },
  {
   "cell_type": "markdown",
   "id": "66a45424-dafc-41c0-badd-e2b7851b31c4",
   "metadata": {},
   "source": [
    "#### 3.1 Process A"
   ]
  },
  {
   "cell_type": "code",
   "execution_count": 19,
   "id": "11a0d647-9bac-4b11-818b-c4e1c25b7191",
   "metadata": {},
   "outputs": [
    {
     "data": {
      "text/plain": [
       "0.3473543857086998"
      ]
     },
     "execution_count": 19,
     "metadata": {},
     "output_type": "execute_result"
    }
   ],
   "source": [
    "# list features-target\n",
    "features_train_process_a = data_process_a.columns.tolist()[0:-1]\n",
    "target_process_a = data_process_a.columns.tolist()[-1]\n",
    "\n",
    "# generate data\n",
    "X_process_a = data_process_a[features_train_process_a]\n",
    "y_process_a = data_process_a[target_process_a]\n",
    "\n",
    "# split train test\n",
    "X_train_process_a, X_test_process_a, y_train_process_a, y_test_process_a = train_test_split(X_process_a,\n",
    "                                                                                            y_process_a,\n",
    "                                                                                            test_size = 0.2,\n",
    "                                                                                            random_state = 42\n",
    "                                                                                           )\n",
    "\n",
    "# train model\n",
    "lr_process_a = LinearRegression()\n",
    "lr_process_a.fit(X_train_process_a, y_train_process_a)\n",
    "\n",
    "# evaluate\n",
    "lr_process_a.score(X_test_process_a, y_test_process_a)"
   ]
  },
  {
   "cell_type": "code",
   "execution_count": null,
   "id": "7c4744a1-596b-4c99-8f65-7c8ee86c8cd4",
   "metadata": {},
   "outputs": [],
   "source": []
  },
  {
   "cell_type": "markdown",
   "id": "abba9bac-365c-4b36-9525-74528bac56b8",
   "metadata": {},
   "source": [
    "#### 3.2 Process B"
   ]
  },
  {
   "cell_type": "code",
   "execution_count": 20,
   "id": "08315dab-d19d-4422-aaee-e3480350f871",
   "metadata": {},
   "outputs": [
    {
     "data": {
      "text/plain": [
       "0.7963128209137649"
      ]
     },
     "execution_count": 20,
     "metadata": {},
     "output_type": "execute_result"
    }
   ],
   "source": [
    "# list features-target\n",
    "features_train_process_b = data_process_b.columns.tolist()[0:-1]\n",
    "target_process_b = data_process_b.columns.tolist()[-1]\n",
    "\n",
    "# generate data\n",
    "X_process_b = data_process_b[features_train_process_b]\n",
    "y_process_b = data_process_b[target_process_b]\n",
    "\n",
    "# split train test\n",
    "X_train_process_b, X_test_process_b, y_train_process_b, y_test_process_b = train_test_split(X_process_b,\n",
    "                                                                                            y_process_b,\n",
    "                                                                                            test_size = 0.2,\n",
    "                                                                                            random_state = 42\n",
    "                                                                                           )\n",
    "\n",
    "# train model\n",
    "lr_process_b = LinearRegression()\n",
    "lr_process_b.fit(X_train_process_b, y_train_process_b)\n",
    "\n",
    "# evaluate\n",
    "lr_process_b.score(X_test_process_b, y_test_process_b)"
   ]
  },
  {
   "cell_type": "code",
   "execution_count": null,
   "id": "23008c4d-d799-4dfb-afda-fcd6b573654e",
   "metadata": {},
   "outputs": [],
   "source": []
  },
  {
   "cell_type": "markdown",
   "id": "7e0df9ce-7271-4124-a4bc-58b4c34b1ee0",
   "metadata": {},
   "source": [
    "#### 3.3 Process C"
   ]
  },
  {
   "cell_type": "code",
   "execution_count": 21,
   "id": "0185147a-0f42-4215-8183-5285e4847c82",
   "metadata": {},
   "outputs": [
    {
     "data": {
      "text/plain": [
       "0.9983920156337379"
      ]
     },
     "execution_count": 21,
     "metadata": {},
     "output_type": "execute_result"
    }
   ],
   "source": [
    "# list features-target\n",
    "features_train_process_c = data_process_c.columns.tolist()[0:-1]\n",
    "target_process_c = data_process_c.columns.tolist()[-1]\n",
    "\n",
    "# generate data\n",
    "X_process_c = data_process_c[features_train_process_c]\n",
    "y_process_c = data_process_c[target_process_c]\n",
    "\n",
    "# split train test\n",
    "X_train_process_c, X_test_process_c, y_train_process_c, y_test_process_c = train_test_split(X_process_c,\n",
    "                                                                                            y_process_c,\n",
    "                                                                                            test_size = 0.2,\n",
    "                                                                                            random_state = 42\n",
    "                                                                                           )\n",
    "\n",
    "# train model\n",
    "lr_process_c = LinearRegression()\n",
    "lr_process_c.fit(X_train_process_c, y_train_process_c)\n",
    "\n",
    "# evaluate\n",
    "lr_process_c.score(X_test_process_c, y_test_process_c)"
   ]
  },
  {
   "cell_type": "code",
   "execution_count": null,
   "id": "ee2165af-60a9-4f2e-8a00-32e2254dfe7d",
   "metadata": {},
   "outputs": [],
   "source": []
  },
  {
   "cell_type": "markdown",
   "id": "32dca340-1ecb-42aa-8be0-01e615b84af0",
   "metadata": {},
   "source": [
    "### 4. Save Data"
   ]
  },
  {
   "cell_type": "markdown",
   "id": "2937af7d-64cf-4278-8037-67e371497cd8",
   "metadata": {},
   "source": [
    "#### 4.1 Process A"
   ]
  },
  {
   "cell_type": "code",
   "execution_count": 22,
   "id": "e4bfa8ad-fee3-45b7-813e-75dd49c4c927",
   "metadata": {},
   "outputs": [],
   "source": [
    "### save data TRAIN - TEST\n",
    "name_model = 'process_a'\n",
    "\n",
    "\n",
    "# ---\n",
    "# save X_train\n",
    "path_X_train = f'artifacts/data_training/{name_model}/X_train.pkl'\n",
    "with open(path_X_train, \"wb\") as output:\n",
    "    pickle.dump(X_train_process_a, output)\n",
    "    output.close()\n",
    "\n",
    "# save y_train\n",
    "path_y_train = f'artifacts/data_training/{name_model}/y_train.pkl'\n",
    "with open(path_y_train, \"wb\") as output:\n",
    "    pickle.dump(y_train_process_a, output)\n",
    "    output.close()\n",
    "\n",
    "\n",
    "# ---\n",
    "# save X_test\n",
    "path_X_test = f'artifacts/data_training/{name_model}/X_test.pkl'\n",
    "with open(path_X_test, \"wb\") as output:\n",
    "    pickle.dump(X_test_process_a, output)\n",
    "    output.close()\n",
    "\n",
    "# save y_test\n",
    "path_y_test = f'artifacts/data_training/{name_model}/y_test.pkl'\n",
    "with open(path_y_test, \"wb\") as output:\n",
    "    pickle.dump(y_test_process_a, output)\n",
    "    output.close()"
   ]
  },
  {
   "cell_type": "code",
   "execution_count": null,
   "id": "830b4dd0-56cf-4618-bc62-b9d20fd83c0c",
   "metadata": {},
   "outputs": [],
   "source": []
  },
  {
   "cell_type": "markdown",
   "id": "f575aa1e-8547-47ad-9d6f-fb1cd9e02932",
   "metadata": {},
   "source": [
    "#### 4.2 Process B"
   ]
  },
  {
   "cell_type": "code",
   "execution_count": 23,
   "id": "d39a082b-4ea5-4a10-8578-fe786736e252",
   "metadata": {},
   "outputs": [],
   "source": [
    "### save data TRAIN - TEST\n",
    "name_model = 'process_b'\n",
    "\n",
    "\n",
    "# ---\n",
    "# save X_train\n",
    "path_X_train = f'artifacts/data_training/{name_model}/X_train.pkl'\n",
    "with open(path_X_train, \"wb\") as output:\n",
    "    pickle.dump(X_train_process_b, output)\n",
    "    output.close()\n",
    "\n",
    "# save y_train\n",
    "path_y_train = f'artifacts/data_training/{name_model}/y_train.pkl'\n",
    "with open(path_y_train, \"wb\") as output:\n",
    "    pickle.dump(y_train_process_b, output)\n",
    "    output.close()\n",
    "\n",
    "\n",
    "# ---\n",
    "# save X_test\n",
    "path_X_test = f'artifacts/data_training/{name_model}/X_test.pkl'\n",
    "with open(path_X_test, \"wb\") as output:\n",
    "    pickle.dump(X_test_process_b, output)\n",
    "    output.close()\n",
    "\n",
    "# save y_test\n",
    "path_y_test = f'artifacts/data_training/{name_model}/y_test.pkl'\n",
    "with open(path_y_test, \"wb\") as output:\n",
    "    pickle.dump(y_test_process_b, output)\n",
    "    output.close()"
   ]
  },
  {
   "cell_type": "code",
   "execution_count": null,
   "id": "2bc0c5ca-2ba1-4f2b-ad88-f5ff1af44e74",
   "metadata": {},
   "outputs": [],
   "source": []
  },
  {
   "cell_type": "code",
   "execution_count": null,
   "id": "9ff5ad9a-afa5-4068-a3e1-6771963e07c0",
   "metadata": {},
   "outputs": [],
   "source": []
  },
  {
   "cell_type": "code",
   "execution_count": null,
   "id": "bcea253d-cb93-4ba2-bc4e-bca417c5a060",
   "metadata": {},
   "outputs": [],
   "source": []
  },
  {
   "cell_type": "markdown",
   "id": "eaa330d2-bcea-4b5b-88f2-580566b5bed2",
   "metadata": {},
   "source": [
    "#### 4.3 Process C"
   ]
  },
  {
   "cell_type": "code",
   "execution_count": 24,
   "id": "ecae8742-5497-41f0-bdfa-c082fec07b65",
   "metadata": {},
   "outputs": [],
   "source": [
    "### save data TRAIN - TEST\n",
    "name_model = 'process_c'\n",
    "\n",
    "\n",
    "# ---\n",
    "# save X_train\n",
    "path_X_train = f'artifacts/data_training/{name_model}/X_train.pkl'\n",
    "with open(path_X_train, \"wb\") as output:\n",
    "    pickle.dump(X_train_process_c, output)\n",
    "    output.close()\n",
    "\n",
    "# save y_train\n",
    "path_y_train = f'artifacts/data_training/{name_model}/y_train.pkl'\n",
    "with open(path_y_train, \"wb\") as output:\n",
    "    pickle.dump(y_train_process_c, output)\n",
    "    output.close()\n",
    "\n",
    "\n",
    "# ---\n",
    "# save X_test\n",
    "path_X_test = f'artifacts/data_training/{name_model}/X_test.pkl'\n",
    "with open(path_X_test, \"wb\") as output:\n",
    "    pickle.dump(X_test_process_c, output)\n",
    "    output.close()\n",
    "\n",
    "# save y_test\n",
    "path_y_test = f'artifacts/data_training/{name_model}/y_test.pkl'\n",
    "with open(path_y_test, \"wb\") as output:\n",
    "    pickle.dump(y_test_process_c, output)\n",
    "    output.close()"
   ]
  },
  {
   "cell_type": "code",
   "execution_count": null,
   "id": "1ffcb9ce-5fa2-45de-9687-8335cba59b57",
   "metadata": {},
   "outputs": [],
   "source": []
  },
  {
   "cell_type": "code",
   "execution_count": null,
   "id": "fd8e2a61-8ada-426d-b7de-d8568eea41a9",
   "metadata": {},
   "outputs": [],
   "source": []
  },
  {
   "cell_type": "code",
   "execution_count": null,
   "id": "834ded26-5bb6-43a0-a12f-411a8420de65",
   "metadata": {},
   "outputs": [],
   "source": []
  }
 ],
 "metadata": {
  "kernelspec": {
   "display_name": "Python 3 (ipykernel)",
   "language": "python",
   "name": "python3"
  },
  "language_info": {
   "codemirror_mode": {
    "name": "ipython",
    "version": 3
   },
   "file_extension": ".py",
   "mimetype": "text/x-python",
   "name": "python",
   "nbconvert_exporter": "python",
   "pygments_lexer": "ipython3",
   "version": "3.10.12"
  }
 },
 "nbformat": 4,
 "nbformat_minor": 5
}
