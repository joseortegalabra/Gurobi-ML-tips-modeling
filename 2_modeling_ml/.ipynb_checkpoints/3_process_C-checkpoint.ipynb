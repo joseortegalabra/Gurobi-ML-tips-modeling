{
 "cells": [
  {
   "cell_type": "markdown",
   "id": "c43faa4d-db0f-4cd3-a093-19438ecae397",
   "metadata": {},
   "source": [
    "# Modeling process C - It is a custom model that need to be written in gurobi direcly - doesn't apply machine learning model"
   ]
  },
  {
   "cell_type": "markdown",
   "id": "b922bd84-6691-4e5a-92c9-dac5fd7dadbd",
   "metadata": {},
   "source": [
    "## Root folder and read env variables"
   ]
  },
  {
   "cell_type": "code",
   "execution_count": 1,
   "id": "b846b3c3-ef67-4a3c-8b9d-3b3796b61fb3",
   "metadata": {},
   "outputs": [
    {
     "name": "stdout",
     "output_type": "stream",
     "text": [
      "root path:  D:\\github-mi-repo\\Gurobi-ML-tips-modeling\n"
     ]
    }
   ],
   "source": [
    "import os\n",
    "# fix root path to save outputs\n",
    "actual_path = os.path.abspath(os.getcwd())\n",
    "list_root_path = actual_path.split('\\\\')[:-1]\n",
    "root_path = '\\\\'.join(list_root_path)\n",
    "os.chdir(root_path)\n",
    "print('root path: ', root_path)"
   ]
  },
  {
   "cell_type": "code",
   "execution_count": 2,
   "id": "cd3c0576-ebc2-4df8-9bea-50f29844198a",
   "metadata": {},
   "outputs": [],
   "source": [
    "import os\n",
    "from dotenv import load_dotenv, find_dotenv # package used in jupyter notebook to read the variables in file .env\n",
    "\n",
    "\"\"\" get env variable from .env \"\"\"\n",
    "load_dotenv(find_dotenv())\n",
    "\n",
    "\"\"\" Read env variables and save it as python variable \"\"\"\n",
    "PROJECT_GCP = os.environ.get(\"PROJECT_GCP\", \"\")"
   ]
  },
  {
   "cell_type": "code",
   "execution_count": null,
   "id": "e2bab0f8-b9f4-4887-bd70-1790163eab22",
   "metadata": {},
   "outputs": [],
   "source": []
  },
  {
   "cell_type": "markdown",
   "id": "ddd36dbb-2fb7-4476-96ef-b1ef520e3133",
   "metadata": {},
   "source": [
    "## RUN TRAINING"
   ]
  },
  {
   "cell_type": "code",
   "execution_count": 3,
   "id": "c29ac8e0",
   "metadata": {},
   "outputs": [],
   "source": [
    "import pandas as pd\n",
    "import numpy as np\n",
    "from google.cloud import bigquery\n",
    "import gcsfs\n",
    "import pickle\n",
    "\n",
    "from sklearn.model_selection import train_test_split\n",
    "\n",
    "from sklearn.pipeline import Pipeline\n",
    "\n",
    "# transform\n",
    "from sklearn.preprocessing import MinMaxScaler\n",
    "from sklearn.preprocessing import StandardScaler\n",
    "from sklearn.preprocessing import PolynomialFeatures\n",
    "from sklearn.preprocessing import FunctionTransformer\n",
    "from sklearn.compose import ColumnTransformer\n",
    "from sklearn.compose import make_column_transformer\n",
    "\n",
    "# models\n",
    "from sklearn.linear_model import LinearRegression # lr\n",
    "from sklearn.linear_model import Ridge # ridge\n",
    "from sklearn.linear_model import Lasso # lasso\n",
    "from sklearn.tree import DecisionTreeRegressor # tree\n",
    "from sklearn.ensemble import GradientBoostingRegressor #gb\n",
    "from sklearn.ensemble import RandomForestRegressor #rf\n",
    "#from xgboost import XGBRegressor # xgb\n",
    "from  sklearn.neural_network import MLPRegressor # mlp"
   ]
  },
  {
   "cell_type": "code",
   "execution_count": null,
   "id": "330fcbba-795b-4620-9721-aaa3162bd344",
   "metadata": {},
   "outputs": [],
   "source": []
  },
  {
   "cell_type": "markdown",
   "id": "c87c07f9-08ba-4ceb-8f37-3b06e7ab5d9a",
   "metadata": {},
   "source": [
    "### 0. Define name process"
   ]
  },
  {
   "cell_type": "code",
   "execution_count": 4,
   "id": "8eb284aa-6042-4fd6-b952-c537f5aa3de1",
   "metadata": {},
   "outputs": [],
   "source": [
    "name_process = 'process_c'"
   ]
  },
  {
   "cell_type": "code",
   "execution_count": null,
   "id": "2dbca3ea-374b-4595-b8af-1e07048b7ab6",
   "metadata": {},
   "outputs": [],
   "source": []
  },
  {
   "cell_type": "markdown",
   "id": "f42f283e-afc8-42bf-b79f-70dd9384f88a",
   "metadata": {},
   "source": [
    "### 1. Read data"
   ]
  },
  {
   "cell_type": "code",
   "execution_count": null,
   "id": "94f5ebfa-7a85-4137-8e4b-84a2c7a70b66",
   "metadata": {},
   "outputs": [],
   "source": []
  },
  {
   "cell_type": "code",
   "execution_count": 5,
   "id": "4202f9dc-353a-4f4d-9f99-a6119a6980df",
   "metadata": {},
   "outputs": [],
   "source": [
    "# load X_train\n",
    "path_X_train = f'artifacts/data_training/{name_process}/X_train.pkl'\n",
    "X_train = pd.read_pickle(path_X_train)\n",
    "\n",
    "# load y_train\n",
    "path_y_train = f'artifacts/data_training/{name_process}/y_train.pkl'\n",
    "y_train = pd.read_pickle(path_y_train)\n",
    "\n",
    "\n",
    "# ---\n",
    "# load X_test\n",
    "path_X_test = f'artifacts/data_training/{name_process}/X_test.pkl'\n",
    "X_test = pd.read_pickle(path_X_test)\n",
    "\n",
    "# load y_test\n",
    "path_y_test = f'artifacts/data_training/{name_process}/y_test.pkl'\n",
    "y_test = pd.read_pickle(path_y_test)"
   ]
  },
  {
   "cell_type": "code",
   "execution_count": 6,
   "id": "d504ba99-462f-4d19-91ba-eece7996161a",
   "metadata": {},
   "outputs": [
    {
     "name": "stdout",
     "output_type": "stream",
     "text": [
      "shape data\n",
      "\n",
      " --- TRAIN ---\n",
      "X_train:  (800, 2)\n",
      "y_train:  (800,)\n",
      "\n",
      " --- TEST ---\n",
      "X_test:  (200, 2)\n",
      "y_test:  (200,)\n"
     ]
    }
   ],
   "source": [
    "print('shape data')\n",
    "print('\\n --- TRAIN ---')\n",
    "print('X_train: ', X_train.shape)\n",
    "print('y_train: ', y_train.shape)\n",
    "\n",
    "print('\\n --- TEST ---')\n",
    "print('X_test: ', X_test.shape)\n",
    "print('y_test: ', y_test.shape)"
   ]
  },
  {
   "cell_type": "code",
   "execution_count": null,
   "id": "57f08036-8436-4de9-ab8e-3ac07b145c07",
   "metadata": {},
   "outputs": [],
   "source": []
  },
  {
   "cell_type": "markdown",
   "id": "e2a1f869-31b5-455e-81ed-7baf03979836",
   "metadata": {},
   "source": [
    "### 2. Read master tags data for this process. Sort features used to train according this order"
   ]
  },
  {
   "cell_type": "code",
   "execution_count": 7,
   "id": "18985c54-b5b1-4ea4-8499-69e0be720e49",
   "metadata": {},
   "outputs": [
    {
     "data": {
      "text/html": [
       "<div>\n",
       "<style scoped>\n",
       "    .dataframe tbody tr th:only-of-type {\n",
       "        vertical-align: middle;\n",
       "    }\n",
       "\n",
       "    .dataframe tbody tr th {\n",
       "        vertical-align: top;\n",
       "    }\n",
       "\n",
       "    .dataframe thead th {\n",
       "        text-align: right;\n",
       "    }\n",
       "</style>\n",
       "<table border=\"1\" class=\"dataframe\">\n",
       "  <thead>\n",
       "    <tr style=\"text-align: right;\">\n",
       "      <th></th>\n",
       "      <th>TAG</th>\n",
       "      <th>FEATURES_NAMES</th>\n",
       "      <th>DESCRIPCION</th>\n",
       "      <th>CLASIFICACION_NAME</th>\n",
       "      <th>CLASIFICACION</th>\n",
       "      <th>USE_ACTUAL_MODEL</th>\n",
       "    </tr>\n",
       "  </thead>\n",
       "  <tbody>\n",
       "    <tr>\n",
       "      <th>0</th>\n",
       "      <td>X3</td>\n",
       "      <td>X3</td>\n",
       "      <td>Variable de entrada al proceso C. Aparece por ...</td>\n",
       "      <td>Primary</td>\n",
       "      <td>P</td>\n",
       "      <td>MLC</td>\n",
       "    </tr>\n",
       "    <tr>\n",
       "      <th>1</th>\n",
       "      <td>O6</td>\n",
       "      <td>O6</td>\n",
       "      <td>Variable de entrada al proceso C. No es una va...</td>\n",
       "      <td>Observed</td>\n",
       "      <td>O</td>\n",
       "      <td>MLC</td>\n",
       "    </tr>\n",
       "    <tr>\n",
       "      <th>2</th>\n",
       "      <td>Y2</td>\n",
       "      <td>Y2</td>\n",
       "      <td>Variable target del proceso B y proceso C (y v...</td>\n",
       "      <td>Target</td>\n",
       "      <td>T</td>\n",
       "      <td>MLC</td>\n",
       "    </tr>\n",
       "  </tbody>\n",
       "</table>\n",
       "</div>"
      ],
      "text/plain": [
       "  TAG FEATURES_NAMES                                        DESCRIPCION  \\\n",
       "0  X3             X3  Variable de entrada al proceso C. Aparece por ...   \n",
       "1  O6             O6  Variable de entrada al proceso C. No es una va...   \n",
       "2  Y2             Y2  Variable target del proceso B y proceso C (y v...   \n",
       "\n",
       "  CLASIFICACION_NAME CLASIFICACION USE_ACTUAL_MODEL  \n",
       "0            Primary             P              MLC  \n",
       "1           Observed             O              MLC  \n",
       "2             Target             T              MLC  "
      ]
     },
     "execution_count": 7,
     "metadata": {},
     "output_type": "execute_result"
    }
   ],
   "source": [
    "### read master table - list tags\n",
    "path_maestro_tags_d0eop = f'config/config_ml_models_development/MasterTable_{name_process}.xlsx'\n",
    "maestro_tags = pd.read_excel(path_maestro_tags_d0eop)\n",
    "maestro_tags"
   ]
  },
  {
   "cell_type": "code",
   "execution_count": null,
   "id": "18e6df51-6b06-4795-bdd3-d0fc2d04fe8b",
   "metadata": {},
   "outputs": [],
   "source": []
  },
  {
   "cell_type": "markdown",
   "id": "40489074-f68d-4806-a477-f3374782e69c",
   "metadata": {},
   "source": [
    "### 2. Define target according master table\n",
    "In the master table with the list of features and target, it is possible that there are a lot of features and differents models with differents subsets of features could be trained. In the list defined bellow there are the features used in the trainning and there are the features that will be saved as output of training"
   ]
  },
  {
   "cell_type": "code",
   "execution_count": 8,
   "id": "4875dca9-bd46-49cc-a148-e18021ec0e68",
   "metadata": {},
   "outputs": [
    {
     "data": {
      "text/plain": [
       "['Y2']"
      ]
     },
     "execution_count": 8,
     "metadata": {},
     "output_type": "execute_result"
    }
   ],
   "source": [
    "list_target = ['Y2']\n",
    "list_target"
   ]
  },
  {
   "cell_type": "code",
   "execution_count": null,
   "id": "b1993dff-bfb9-4798-bb88-9faec6524479",
   "metadata": {},
   "outputs": [],
   "source": []
  },
  {
   "cell_type": "markdown",
   "id": "6c936d94-063c-48e3-a82a-15088a90dbe4",
   "metadata": {},
   "source": [
    "### 3. Define features and sort it acording master table\n",
    "In the master table with the list of features and target, it is possible that there are a lot of features and differents models with differents subsets of features could be trained. In the list defined bellow there are the features used in the trainning and there are the features that will be saved as output of training"
   ]
  },
  {
   "cell_type": "code",
   "execution_count": 9,
   "id": "9fab4a8f-13a9-4f36-aa7d-cebe63e8d66a",
   "metadata": {},
   "outputs": [],
   "source": [
    "# mnaully set list of features used in training\n",
    "list_features = ['X3', 'O6']"
   ]
  },
  {
   "cell_type": "code",
   "execution_count": 10,
   "id": "34554a77-fca0-454a-b4b5-8e270b1c3a7d",
   "metadata": {},
   "outputs": [
    {
     "data": {
      "text/plain": [
       "['X3', 'O6']"
      ]
     },
     "execution_count": 10,
     "metadata": {},
     "output_type": "execute_result"
    }
   ],
   "source": [
    "### sort list of features according the order in master table\n",
    "\n",
    "list_features = [tag for tag in maestro_tags['TAG'].tolist() if tag in list_features]\n",
    "list_features"
   ]
  },
  {
   "cell_type": "code",
   "execution_count": null,
   "id": "9db433ea-3217-4d5b-96cd-27b64a6c0747",
   "metadata": {},
   "outputs": [],
   "source": []
  },
  {
   "cell_type": "markdown",
   "id": "fb3ac8d5-8625-451f-9949-080d9c408017",
   "metadata": {},
   "source": [
    "# Modeling process C - It is a custom model that need to be written in gurobi direcly - doesn't apply machine learning model"
   ]
  },
  {
   "cell_type": "code",
   "execution_count": 11,
   "id": "08effd1c-5e33-4d62-88ae-14297560b0d5",
   "metadata": {},
   "outputs": [],
   "source": [
    "# parametes alpha\n",
    "alpha_feature_1 = 1/5\n",
    "alpha_feature_2 = 15"
   ]
  },
  {
   "cell_type": "code",
   "execution_count": 12,
   "id": "2b2d46d6-7b4e-4a33-973f-d187f53fc4c6",
   "metadata": {},
   "outputs": [
    {
     "data": {
      "text/plain": [
       "29     54.601936\n",
       "535    75.782243\n",
       "695    41.041401\n",
       "557    60.323291\n",
       "836    67.907037\n",
       "         ...    \n",
       "106    55.050860\n",
       "270    64.449265\n",
       "860    47.622495\n",
       "435    82.722632\n",
       "102    71.963638\n",
       "Length: 800, dtype: float64"
      ]
     },
     "execution_count": 12,
     "metadata": {},
     "output_type": "execute_result"
    }
   ],
   "source": [
    "target_predicted = alpha_feature_1 * X_train['X3'] + alpha_feature_2 * X_train['06']\n",
    "target_predicted"
   ]
  },
  {
   "cell_type": "code",
   "execution_count": 13,
   "id": "525216aa-25b3-4301-ae9e-7ae800483bc5",
   "metadata": {},
   "outputs": [
    {
     "data": {
      "text/plain": [
       "29     54.601936\n",
       "535    75.782243\n",
       "695    41.041401\n",
       "557    60.323291\n",
       "836    67.907037\n",
       "         ...    \n",
       "106    55.050860\n",
       "270    64.449265\n",
       "860    47.622495\n",
       "435    82.722632\n",
       "102    71.963638\n",
       "Name: Y2, Length: 800, dtype: float64"
      ]
     },
     "execution_count": 13,
     "metadata": {},
     "output_type": "execute_result"
    }
   ],
   "source": [
    "y_train"
   ]
  },
  {
   "cell_type": "code",
   "execution_count": 14,
   "id": "6c95a00d-9112-4626-a846-46b908b36f54",
   "metadata": {},
   "outputs": [
    {
     "data": {
      "text/plain": [
       "1.0"
      ]
     },
     "execution_count": 14,
     "metadata": {},
     "output_type": "execute_result"
    }
   ],
   "source": [
    "from sklearn.metrics import r2_score\n",
    "r2_score(target_predicted, y_train)"
   ]
  },
  {
   "cell_type": "code",
   "execution_count": null,
   "id": "4bc03c78-3234-4698-a415-a8ebd0850e4c",
   "metadata": {},
   "outputs": [],
   "source": []
  }
 ],
 "metadata": {
  "kernelspec": {
   "display_name": "Python 3 (ipykernel)",
   "language": "python",
   "name": "python3"
  },
  "language_info": {
   "codemirror_mode": {
    "name": "ipython",
    "version": 3
   },
   "file_extension": ".py",
   "mimetype": "text/x-python",
   "name": "python",
   "nbconvert_exporter": "python",
   "pygments_lexer": "ipython3",
   "version": "3.10.12"
  }
 },
 "nbformat": 4,
 "nbformat_minor": 5
}
