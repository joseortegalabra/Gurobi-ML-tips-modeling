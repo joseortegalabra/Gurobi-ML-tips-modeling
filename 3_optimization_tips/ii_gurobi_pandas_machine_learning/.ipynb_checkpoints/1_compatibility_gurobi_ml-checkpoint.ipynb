{
 "cells": [
  {
   "cell_type": "markdown",
   "id": "92347a6c-5266-4995-ae64-7ab94a368734",
   "metadata": {},
   "source": [
    "# Test compatibility gurobi\n",
    "The idea is test if the model development is compatible with gurobi constraints. Using the packaege gurobi machine learning.\n",
    "\n",
    "This code is hardcoded and connected with the model process b in this example"
   ]
  },
  {
   "cell_type": "markdown",
   "id": "986f169c-cd8e-4707-b545-84226eedb449",
   "metadata": {},
   "source": [
    "## Root folder and read env variables"
   ]
  },
  {
   "cell_type": "code",
   "execution_count": 1,
   "id": "dcee657f-aada-49b8-b447-f41e067e4a18",
   "metadata": {},
   "outputs": [
    {
     "name": "stdout",
     "output_type": "stream",
     "text": [
      "root path:  D:\\github-mi-repo\\Gurobi-ML-tips-modeling\\3_optimization_tips\n"
     ]
    }
   ],
   "source": [
    "import os\n",
    "# fix root path to save outputs\n",
    "actual_path = os.path.abspath(os.getcwd())\n",
    "list_root_path = actual_path.split('\\\\')[:-2]\n",
    "root_path = '\\\\'.join(list_root_path)\n",
    "os.chdir(root_path)\n",
    "print('root path: ', root_path)"
   ]
  },
  {
   "cell_type": "code",
   "execution_count": 2,
   "id": "a6640988-69c4-4dfd-b22f-aeeb11fa6e55",
   "metadata": {},
   "outputs": [],
   "source": [
    "import os\n",
    "from dotenv import load_dotenv, find_dotenv # package used in jupyter notebook to read the variables in file .env\n",
    "\n",
    "\"\"\" get env variable from .env \"\"\"\n",
    "load_dotenv(find_dotenv())\n",
    "\n",
    "\"\"\" Read env variables and save it as python variable \"\"\"\n",
    "PROJECT_GCP = os.environ.get(\"PROJECT_GCP\", \"\")"
   ]
  },
  {
   "cell_type": "code",
   "execution_count": null,
   "id": "115d254b-2433-4917-ba92-651a10705e06",
   "metadata": {},
   "outputs": [],
   "source": []
  },
  {
   "cell_type": "markdown",
   "id": "b6843afc-d41f-44ba-a1a9-469cc4f3a6a2",
   "metadata": {},
   "source": [
    "## RUN"
   ]
  },
  {
   "cell_type": "code",
   "execution_count": 3,
   "id": "365a0300-b10d-4106-af86-619457307401",
   "metadata": {},
   "outputs": [],
   "source": [
    "import pickle\n",
    "import pandas as pd\n",
    "import numpy as np\n",
    "\n",
    "#gurobi\n",
    "import gurobipy_pandas as gppd\n",
    "from gurobi_ml import add_predictor_constr\n",
    "import gurobipy as gp"
   ]
  },
  {
   "cell_type": "markdown",
   "id": "99763c69-717f-48d3-9875-c9435c00fcb8",
   "metadata": {},
   "source": [
    "### 0. Load data\n",
    "This data will be use to get values to generate a instance of the ml model"
   ]
  },
  {
   "cell_type": "code",
   "execution_count": 4,
   "id": "5ce4064a-405c-4cb1-b886-500687af49d4",
   "metadata": {},
   "outputs": [
    {
     "ename": "FileNotFoundError",
     "evalue": "[Errno 2] No such file or directory: 'artifacts/data_training/process_b/X_test.pkl'",
     "output_type": "error",
     "traceback": [
      "\u001b[1;31m---------------------------------------------------------------------------\u001b[0m",
      "\u001b[1;31mFileNotFoundError\u001b[0m                         Traceback (most recent call last)",
      "Cell \u001b[1;32mIn[4], line 4\u001b[0m\n\u001b[0;32m      2\u001b[0m \u001b[38;5;66;03m# load X_test\u001b[39;00m\n\u001b[0;32m      3\u001b[0m path_X_test \u001b[38;5;241m=\u001b[39m \u001b[38;5;124mf\u001b[39m\u001b[38;5;124m'\u001b[39m\u001b[38;5;124martifacts/data_training/\u001b[39m\u001b[38;5;132;01m{\u001b[39;00mname_process\u001b[38;5;132;01m}\u001b[39;00m\u001b[38;5;124m/X_test.pkl\u001b[39m\u001b[38;5;124m'\u001b[39m\n\u001b[1;32m----> 4\u001b[0m X_test \u001b[38;5;241m=\u001b[39m \u001b[43mpd\u001b[49m\u001b[38;5;241;43m.\u001b[39;49m\u001b[43mread_pickle\u001b[49m\u001b[43m(\u001b[49m\u001b[43mpath_X_test\u001b[49m\u001b[43m)\u001b[49m\n\u001b[0;32m      6\u001b[0m \u001b[38;5;66;03m# load y_test\u001b[39;00m\n\u001b[0;32m      7\u001b[0m path_y_test \u001b[38;5;241m=\u001b[39m \u001b[38;5;124mf\u001b[39m\u001b[38;5;124m'\u001b[39m\u001b[38;5;124martifacts/data_training/\u001b[39m\u001b[38;5;132;01m{\u001b[39;00mname_process\u001b[38;5;132;01m}\u001b[39;00m\u001b[38;5;124m/y_test.pkl\u001b[39m\u001b[38;5;124m'\u001b[39m\n",
      "File \u001b[1;32mD:\\Anaconda\\envs\\data-science-python-3-10-gurobi\\lib\\site-packages\\pandas\\io\\pickle.py:179\u001b[0m, in \u001b[0;36mread_pickle\u001b[1;34m(filepath_or_buffer, compression, storage_options)\u001b[0m\n\u001b[0;32m    115\u001b[0m \u001b[38;5;250m\u001b[39m\u001b[38;5;124;03m\"\"\"\u001b[39;00m\n\u001b[0;32m    116\u001b[0m \u001b[38;5;124;03mLoad pickled pandas object (or any object) from file.\u001b[39;00m\n\u001b[0;32m    117\u001b[0m \n\u001b[1;32m   (...)\u001b[0m\n\u001b[0;32m    176\u001b[0m \u001b[38;5;124;03m4    4    9\u001b[39;00m\n\u001b[0;32m    177\u001b[0m \u001b[38;5;124;03m\"\"\"\u001b[39;00m\n\u001b[0;32m    178\u001b[0m excs_to_catch \u001b[38;5;241m=\u001b[39m (\u001b[38;5;167;01mAttributeError\u001b[39;00m, \u001b[38;5;167;01mImportError\u001b[39;00m, \u001b[38;5;167;01mModuleNotFoundError\u001b[39;00m, \u001b[38;5;167;01mTypeError\u001b[39;00m)\n\u001b[1;32m--> 179\u001b[0m \u001b[38;5;28;01mwith\u001b[39;00m \u001b[43mget_handle\u001b[49m\u001b[43m(\u001b[49m\n\u001b[0;32m    180\u001b[0m \u001b[43m    \u001b[49m\u001b[43mfilepath_or_buffer\u001b[49m\u001b[43m,\u001b[49m\n\u001b[0;32m    181\u001b[0m \u001b[43m    \u001b[49m\u001b[38;5;124;43m\"\u001b[39;49m\u001b[38;5;124;43mrb\u001b[39;49m\u001b[38;5;124;43m\"\u001b[39;49m\u001b[43m,\u001b[49m\n\u001b[0;32m    182\u001b[0m \u001b[43m    \u001b[49m\u001b[43mcompression\u001b[49m\u001b[38;5;241;43m=\u001b[39;49m\u001b[43mcompression\u001b[49m\u001b[43m,\u001b[49m\n\u001b[0;32m    183\u001b[0m \u001b[43m    \u001b[49m\u001b[43mis_text\u001b[49m\u001b[38;5;241;43m=\u001b[39;49m\u001b[38;5;28;43;01mFalse\u001b[39;49;00m\u001b[43m,\u001b[49m\n\u001b[0;32m    184\u001b[0m \u001b[43m    \u001b[49m\u001b[43mstorage_options\u001b[49m\u001b[38;5;241;43m=\u001b[39;49m\u001b[43mstorage_options\u001b[49m\u001b[43m,\u001b[49m\n\u001b[0;32m    185\u001b[0m \u001b[43m\u001b[49m\u001b[43m)\u001b[49m \u001b[38;5;28;01mas\u001b[39;00m handles:\n\u001b[0;32m    186\u001b[0m     \u001b[38;5;66;03m# 1) try standard library Pickle\u001b[39;00m\n\u001b[0;32m    187\u001b[0m     \u001b[38;5;66;03m# 2) try pickle_compat (older pandas version) to handle subclass changes\u001b[39;00m\n\u001b[0;32m    188\u001b[0m     \u001b[38;5;66;03m# 3) try pickle_compat with latin-1 encoding upon a UnicodeDecodeError\u001b[39;00m\n\u001b[0;32m    190\u001b[0m     \u001b[38;5;28;01mtry\u001b[39;00m:\n\u001b[0;32m    191\u001b[0m         \u001b[38;5;66;03m# TypeError for Cython complaints about object.__new__ vs Tick.__new__\u001b[39;00m\n\u001b[0;32m    192\u001b[0m         \u001b[38;5;28;01mtry\u001b[39;00m:\n",
      "File \u001b[1;32mD:\\Anaconda\\envs\\data-science-python-3-10-gurobi\\lib\\site-packages\\pandas\\io\\common.py:868\u001b[0m, in \u001b[0;36mget_handle\u001b[1;34m(path_or_buf, mode, encoding, compression, memory_map, is_text, errors, storage_options)\u001b[0m\n\u001b[0;32m    859\u001b[0m         handle \u001b[38;5;241m=\u001b[39m \u001b[38;5;28mopen\u001b[39m(\n\u001b[0;32m    860\u001b[0m             handle,\n\u001b[0;32m    861\u001b[0m             ioargs\u001b[38;5;241m.\u001b[39mmode,\n\u001b[1;32m   (...)\u001b[0m\n\u001b[0;32m    864\u001b[0m             newline\u001b[38;5;241m=\u001b[39m\u001b[38;5;124m\"\u001b[39m\u001b[38;5;124m\"\u001b[39m,\n\u001b[0;32m    865\u001b[0m         )\n\u001b[0;32m    866\u001b[0m     \u001b[38;5;28;01melse\u001b[39;00m:\n\u001b[0;32m    867\u001b[0m         \u001b[38;5;66;03m# Binary mode\u001b[39;00m\n\u001b[1;32m--> 868\u001b[0m         handle \u001b[38;5;241m=\u001b[39m \u001b[38;5;28;43mopen\u001b[39;49m\u001b[43m(\u001b[49m\u001b[43mhandle\u001b[49m\u001b[43m,\u001b[49m\u001b[43m \u001b[49m\u001b[43mioargs\u001b[49m\u001b[38;5;241;43m.\u001b[39;49m\u001b[43mmode\u001b[49m\u001b[43m)\u001b[49m\n\u001b[0;32m    869\u001b[0m     handles\u001b[38;5;241m.\u001b[39mappend(handle)\n\u001b[0;32m    871\u001b[0m \u001b[38;5;66;03m# Convert BytesIO or file objects passed with an encoding\u001b[39;00m\n",
      "\u001b[1;31mFileNotFoundError\u001b[0m: [Errno 2] No such file or directory: 'artifacts/data_training/process_b/X_test.pkl'"
     ]
    }
   ],
   "source": [
    "name_process = 'process_b'\n",
    "# load X_test\n",
    "path_X_test = f'artifacts/data_training/{name_process}/X_test.pkl'\n",
    "X_test = pd.read_pickle(path_X_test)\n",
    "\n",
    "# load y_test\n",
    "path_y_test = f'artifacts/data_training/{name_process}/y_test.pkl'\n",
    "y_test = pd.read_pickle(path_y_test)"
   ]
  },
  {
   "cell_type": "code",
   "execution_count": null,
   "id": "f7b14e29-5164-4360-a160-42a1a64bee08",
   "metadata": {},
   "outputs": [],
   "source": []
  },
  {
   "cell_type": "markdown",
   "id": "d87ead74-f6b6-4a17-bfbc-9605be9d33d9",
   "metadata": {},
   "source": [
    "### 1. Load Artifacts to connect ML to gurobi"
   ]
  },
  {
   "cell_type": "markdown",
   "id": "abb8e34c-3455-4e4b-8a93-67d5fea7a7aa",
   "metadata": {},
   "source": [
    "#### 1.1 pkl model"
   ]
  },
  {
   "cell_type": "code",
   "execution_count": null,
   "id": "6c4387f7-3544-45ba-8b95-57af3f2d01b8",
   "metadata": {},
   "outputs": [],
   "source": [
    "path_model_to_test = f'artifacts/models/{name_process}/lr.pkl'\n",
    "model_ml_to_test = pd.read_pickle(path_model_to_test)\n",
    "model_ml_to_test"
   ]
  },
  {
   "cell_type": "markdown",
   "id": "49abfccd-803d-4530-84e0-4dd8d3902899",
   "metadata": {},
   "source": [
    "### 1.2 Define list of features and target for each model"
   ]
  },
  {
   "cell_type": "code",
   "execution_count": null,
   "id": "bbd13696-711b-4623-bc8b-bec4d0bac2f3",
   "metadata": {},
   "outputs": [],
   "source": [
    "X_test"
   ]
  },
  {
   "cell_type": "code",
   "execution_count": null,
   "id": "9b192baa-ad8f-46a3-ad92-829dbc834d86",
   "metadata": {},
   "outputs": [],
   "source": [
    "######################## model  ########################\n",
    "\n",
    "list_features = ['Z1', 'X2', 'O4', 'O5']\n",
    "\n",
    "list_features_controlables = ['Z1', 'X2']\n",
    "\n",
    "list_target = ['Y2']"
   ]
  },
  {
   "cell_type": "markdown",
   "id": "e22683ab-b05e-4ee7-bf67-1fad5bb00428",
   "metadata": {},
   "source": [
    "### 1.3 Read master tag and sort features according its order"
   ]
  },
  {
   "cell_type": "code",
   "execution_count": null,
   "id": "2678cd7c-a467-4b6c-acac-f6e044e29f08",
   "metadata": {},
   "outputs": [],
   "source": [
    "# read table master tag\n",
    "path_list_features_target_to_optimization = f'config/config_ml_models_development/MasterTable_{name_process}.xlsx'\n",
    "maestro_tags = pd.read_excel(path_list_features_target_to_optimization)\n",
    "\n",
    "### sort list of features according the order in master table\n",
    "list_features = [tag for tag in maestro_tags['TAG'].tolist() if tag in list_features]\n",
    "list_features_controlables = [tag for tag in maestro_tags['TAG'].tolist() if tag in list_features_controlables]"
   ]
  },
  {
   "cell_type": "code",
   "execution_count": null,
   "id": "1e3078fc-ed85-4d94-bcf6-47ac2f7e24d1",
   "metadata": {},
   "outputs": [],
   "source": []
  },
  {
   "cell_type": "markdown",
   "id": "61bbf9c2-fc6f-44cc-ac07-fd485651fca4",
   "metadata": {},
   "source": [
    "## 2. Create gurobi model"
   ]
  },
  {
   "cell_type": "code",
   "execution_count": null,
   "id": "9adcac1a-f1e5-48a8-838a-132f4fd0de81",
   "metadata": {},
   "outputs": [],
   "source": [
    "# create model\n",
    "m = gp.Model('modelo')"
   ]
  },
  {
   "cell_type": "code",
   "execution_count": null,
   "id": "cd4834c3-d4b9-4918-9499-00ed9d3b7dfe",
   "metadata": {},
   "outputs": [],
   "source": []
  },
  {
   "cell_type": "markdown",
   "id": "052c9a12-c3a9-456f-8c59-e2f78776984d",
   "metadata": {},
   "source": [
    "### 3. Create decision variables\n",
    "- Decision variables that are features in ml models\n",
    "- Decicion variable that is the output in ml models"
   ]
  },
  {
   "cell_type": "code",
   "execution_count": null,
   "id": "4b528702-a27d-4bb2-8a67-f384123f7468",
   "metadata": {},
   "outputs": [],
   "source": [
    "# define set\n",
    "list_set_elements_index = ['set_test']\n",
    "index_set = pd.Index(list_set_elements_index)\n",
    "index_set"
   ]
  },
  {
   "cell_type": "code",
   "execution_count": null,
   "id": "d72c7990-3551-4a58-9b4f-ba418fd4ef60",
   "metadata": {},
   "outputs": [],
   "source": [
    "list_target"
   ]
  },
  {
   "cell_type": "code",
   "execution_count": null,
   "id": "fa72387d-019d-415b-a0de-3d88d08ff4cf",
   "metadata": {},
   "outputs": [],
   "source": [
    "# create decision variables - features ml model\n",
    "var_Z1 = gppd.add_vars(m, index_set, name = \"decision variable Z1\"\n",
    "                                     )\n",
    "\n",
    "var_X2 = gppd.add_vars(m, index_set, name = \"decision variable X2\"\n",
    "                                     )"
   ]
  },
  {
   "cell_type": "code",
   "execution_count": null,
   "id": "dd2d5921-1117-4657-9e50-4768fc123fa6",
   "metadata": {},
   "outputs": [],
   "source": [
    "# crete decision variables - output ml model\n",
    "var_Y2 = gppd.add_vars(m, index_set, name = \"decision variable Y2\"\n",
    "                                     )"
   ]
  },
  {
   "cell_type": "code",
   "execution_count": null,
   "id": "c6cdf440-8f8c-47ab-b020-fe1ad2acd306",
   "metadata": {},
   "outputs": [],
   "source": [
    "# \"compile\"\n",
    "m.update()"
   ]
  },
  {
   "cell_type": "code",
   "execution_count": null,
   "id": "a028cec2-0f07-4743-8115-01a54801af2e",
   "metadata": {},
   "outputs": [],
   "source": [
    "# see decision var created\n",
    "var_Y2"
   ]
  },
  {
   "cell_type": "code",
   "execution_count": null,
   "id": "99f6bf39-eb22-450f-ae77-db601e860e3a",
   "metadata": {},
   "outputs": [],
   "source": []
  },
  {
   "cell_type": "markdown",
   "id": "93f125e2-da48-4bd2-9109-a44ab658f8da",
   "metadata": {},
   "source": [
    "### 4. Create instance of Machine learning model using decision var of gurobi (decision var in optimization)"
   ]
  },
  {
   "cell_type": "code",
   "execution_count": null,
   "id": "1300e282-9f69-47e3-8260-6787a430efe3",
   "metadata": {},
   "outputs": [],
   "source": [
    "######################## generate instance NO controlables features for model ########################\n",
    "\n",
    "# list feature NC\n",
    "list_features_no_vc = list(set(list_features) - set(list_features_controlables))\n",
    "\n",
    "# generate dataframe with the mean\n",
    "instance_no_controlables = X_test[list_features_no_vc].mean().to_frame().T\n",
    "instance_no_controlables"
   ]
  },
  {
   "cell_type": "code",
   "execution_count": null,
   "id": "75dd5abc-09b4-4ccc-ba4c-3dead6906f0f",
   "metadata": {},
   "outputs": [],
   "source": [
    "######################## genrate instance - features no controlables + decision vars ########################\n",
    "\n",
    "# create instance with controlables variables. sorted according the list of features. ES MUY IMPORTANTE QUE ESTÉ ORDENADO LAS VARIABLES DE DECUISIÓN DE ACUERDO A LA LISTA DE FEATURES\n",
    "instance_controlables = pd.DataFrame([var_Z1, var_X2]).T # ADD DECISION VARIABLES\n",
    "instance_controlables.columns = list_features_controlables # rename columns\n",
    "instance_controlables.reset_index(inplace = True)\n",
    "instance_controlables.drop(columns = 'index', inplace = True)\n",
    "\n",
    "# append features controlables with no controlables\n",
    "instance = pd.concat([instance_no_controlables, instance_controlables], axis = 1)\n",
    "instance = instance[list_features] # sort features\n",
    "\n",
    "# set index - optimization set\n",
    "instance.index = index_set"
   ]
  },
  {
   "cell_type": "code",
   "execution_count": null,
   "id": "99d50799-a4e0-4e1f-a80b-3fd3932b9e1a",
   "metadata": {},
   "outputs": [],
   "source": [
    "instance"
   ]
  },
  {
   "cell_type": "code",
   "execution_count": null,
   "id": "93a6da9b-35e0-4cda-97d2-730b89c6657a",
   "metadata": {},
   "outputs": [],
   "source": [
    "###### load ml constraint ######\n",
    "pred_constr = add_predictor_constr(gp_model = m, \n",
    "                                                    predictor = model_ml_to_test, \n",
    "                                                    input_vars = instance, # instance pandas gurobi\n",
    "                                                    output_vars = var_Y2, # target\n",
    "                                                    name = f'model_predict'\n",
    "                                                   )\n",
    "pred_constr.print_stats()"
   ]
  },
  {
   "cell_type": "markdown",
   "id": "a6d9d8ba-1a89-4778-9cda-af38f9531ca8",
   "metadata": {},
   "source": [
    "#### NOTE IN THIS PART YOU CAN SEE IF THE MODEL CAN CONNNECT TO GUROBI!"
   ]
  },
  {
   "cell_type": "code",
   "execution_count": null,
   "id": "48e3b7df-2bff-4171-82d2-22dd7a62cf3a",
   "metadata": {},
   "outputs": [],
   "source": []
  },
  {
   "cell_type": "markdown",
   "id": "a6921d2e-48ac-4456-919b-7f5029321a52",
   "metadata": {},
   "source": [
    "### 5. Define objective optimization\n",
    "Objetive that no generate infeasibility"
   ]
  },
  {
   "cell_type": "code",
   "execution_count": null,
   "id": "a6142a3b-84d8-4ca1-b801-68573b17d98d",
   "metadata": {},
   "outputs": [],
   "source": [
    "m.setObjective(var_Y2.sum(),\n",
    "               gp.GRB.MINIMIZE)"
   ]
  },
  {
   "cell_type": "code",
   "execution_count": null,
   "id": "e6146b06-b08b-4c7c-a1a9-89af9e4b0fa9",
   "metadata": {},
   "outputs": [],
   "source": []
  },
  {
   "cell_type": "markdown",
   "id": "239737ce-2c33-4aca-b28e-b2e4450ee0bd",
   "metadata": {},
   "source": [
    "#### 6. Optimize and get optimal values"
   ]
  },
  {
   "cell_type": "code",
   "execution_count": null,
   "id": "688cdcf5-ea18-4716-a523-3ee16b90db48",
   "metadata": {},
   "outputs": [],
   "source": [
    "# solve\n",
    "m.optimize()"
   ]
  },
  {
   "cell_type": "code",
   "execution_count": null,
   "id": "b835ae8d-ca47-478f-9a11-a21227949557",
   "metadata": {},
   "outputs": [],
   "source": [
    "#### know the status of the model - 2 a optimal solution was founded\n",
    "# docu: https://www.gurobi.com/documentation/current/refman/optimization_status_codes.html#sec:StatusCodes\n",
    "m.Status"
   ]
  },
  {
   "cell_type": "code",
   "execution_count": null,
   "id": "241da7da-682e-4874-8251-c64700b06e16",
   "metadata": {},
   "outputs": [],
   "source": [
    "# get optimal values and save in a dataframe\n",
    "######## create a dataframe with set as index\n",
    "solution = pd.DataFrame(index = index_set)\n",
    "\n",
    "######################## save optimal values - features of models (only the features) ########################\n",
    "\n",
    "# model\n",
    "solution[\"var_Z1\"] = var_Z1.gppd.X\n",
    "solution[\"var_X2\"] = var_X2.gppd.X\n",
    "\n",
    "\n",
    "######################## save optimal values - targets of models (some targets are features of the model of the next step) ########################\n",
    "solution[\"var_Y2\"] = var_Y2.gppd.X  # model\n",
    "\n",
    "\n",
    "######################## # get value objetive function ########################\n",
    "opt_objetive_function = m.ObjVal"
   ]
  },
  {
   "cell_type": "code",
   "execution_count": null,
   "id": "a6af89e0-0dde-4edb-a6a3-438616df05f1",
   "metadata": {},
   "outputs": [],
   "source": [
    "# show value objetive function\n",
    "opt_objetive_function"
   ]
  },
  {
   "cell_type": "code",
   "execution_count": null,
   "id": "e55440c3-3f32-4219-ae03-968aa51780d1",
   "metadata": {},
   "outputs": [],
   "source": [
    "# show value decision variables\n",
    "solution"
   ]
  },
  {
   "cell_type": "code",
   "execution_count": null,
   "id": "591f9e07-b5c9-412a-9655-f5e0f0d6b2a9",
   "metadata": {},
   "outputs": [],
   "source": []
  },
  {
   "cell_type": "code",
   "execution_count": null,
   "id": "997212fc-e77f-4f88-9063-cee9924c5abe",
   "metadata": {},
   "outputs": [],
   "source": []
  }
 ],
 "metadata": {
  "kernelspec": {
   "display_name": "Python 3 (ipykernel)",
   "language": "python",
   "name": "python3"
  },
  "language_info": {
   "codemirror_mode": {
    "name": "ipython",
    "version": 3
   },
   "file_extension": ".py",
   "mimetype": "text/x-python",
   "name": "python",
   "nbconvert_exporter": "python",
   "pygments_lexer": "ipython3",
   "version": "3.10.12"
  }
 },
 "nbformat": 4,
 "nbformat_minor": 5
}
