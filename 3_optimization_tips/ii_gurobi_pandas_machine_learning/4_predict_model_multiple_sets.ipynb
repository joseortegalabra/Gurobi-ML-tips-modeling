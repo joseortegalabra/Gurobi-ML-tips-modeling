{
 "cells": [
  {
   "cell_type": "markdown",
   "id": "92347a6c-5266-4995-ae64-7ab94a368734",
   "metadata": {},
   "source": [
    "# Test to define how to add decision var with multiple sets Var(x,t) into a dataframe to connect to Machine Learning Model\n",
    "\n",
    "Gurobi machine learning, how is natural, only accepts dataframe of 2 dimensions to connect to Machine Learning Models. **The columns are the features that the model recibe (always are the features of the ml model) and the rows represent one set of the data**, \n",
    "\n",
    "So, when the decision variables has multiple sets there are two aproaches that can be do depending of the nature of the optimization problem:\n",
    "- Use a ML model transversal across only one of the sets (time for example) to achieve to generate the input dataframe: time, features\n",
    "- Use a ML model with the input dataframe with multiindex to have a input dataframe with 2 or more sets: (product, time), feartures"
   ]
  },
  {
   "cell_type": "markdown",
   "id": "986f169c-cd8e-4707-b545-84226eedb449",
   "metadata": {},
   "source": [
    "## Root folder and read env variables"
   ]
  },
  {
   "cell_type": "code",
   "execution_count": 1,
   "id": "dcee657f-aada-49b8-b447-f41e067e4a18",
   "metadata": {},
   "outputs": [
    {
     "name": "stdout",
     "output_type": "stream",
     "text": [
      "root path:  D:\\github-mi-repo\\Gurobi-ML-tips-modeling\n"
     ]
    }
   ],
   "source": [
    "import os\n",
    "# fix root path to save outputs\n",
    "actual_path = os.path.abspath(os.getcwd())\n",
    "list_root_path = actual_path.split('\\\\')[:-2]\n",
    "root_path = '\\\\'.join(list_root_path)\n",
    "os.chdir(root_path)\n",
    "print('root path: ', root_path)"
   ]
  },
  {
   "cell_type": "code",
   "execution_count": 2,
   "id": "a6640988-69c4-4dfd-b22f-aeeb11fa6e55",
   "metadata": {},
   "outputs": [],
   "source": [
    "import os\n",
    "from dotenv import load_dotenv, find_dotenv # package used in jupyter notebook to read the variables in file .env\n",
    "\n",
    "\"\"\" get env variable from .env \"\"\"\n",
    "load_dotenv(find_dotenv())\n",
    "\n",
    "\"\"\" Read env variables and save it as python variable \"\"\"\n",
    "PROJECT_GCP = os.environ.get(\"PROJECT_GCP\", \"\")"
   ]
  },
  {
   "cell_type": "code",
   "execution_count": null,
   "id": "115d254b-2433-4917-ba92-651a10705e06",
   "metadata": {},
   "outputs": [],
   "source": []
  },
  {
   "cell_type": "markdown",
   "id": "b6843afc-d41f-44ba-a1a9-469cc4f3a6a2",
   "metadata": {},
   "source": [
    "## RUN"
   ]
  },
  {
   "cell_type": "code",
   "execution_count": 3,
   "id": "365a0300-b10d-4106-af86-619457307401",
   "metadata": {},
   "outputs": [],
   "source": [
    "import pickle\n",
    "import pandas as pd\n",
    "import numpy as np\n",
    "\n",
    "#gurobi\n",
    "import gurobipy_pandas as gppd\n",
    "from gurobi_ml import add_predictor_constr\n",
    "import gurobipy as gp"
   ]
  },
  {
   "cell_type": "markdown",
   "id": "99763c69-717f-48d3-9875-c9435c00fcb8",
   "metadata": {},
   "source": [
    "### 0. Load data\n",
    "This data will be use to get values to generate a instance of the ml model"
   ]
  },
  {
   "cell_type": "code",
   "execution_count": 4,
   "id": "5ce4064a-405c-4cb1-b886-500687af49d4",
   "metadata": {},
   "outputs": [],
   "source": [
    "name_process = 'process_b'\n",
    "# load X_test\n",
    "path_X_test = f'artifacts/data_training/{name_process}/X_test.pkl'\n",
    "X_test = pd.read_pickle(path_X_test)\n",
    "\n",
    "# load y_test\n",
    "path_y_test = f'artifacts/data_training/{name_process}/y_test.pkl'\n",
    "y_test = pd.read_pickle(path_y_test)"
   ]
  },
  {
   "cell_type": "code",
   "execution_count": null,
   "id": "f7b14e29-5164-4360-a160-42a1a64bee08",
   "metadata": {},
   "outputs": [],
   "source": []
  },
  {
   "cell_type": "markdown",
   "id": "d87ead74-f6b6-4a17-bfbc-9605be9d33d9",
   "metadata": {},
   "source": [
    "### 1. Load Artifacts to connect ML to gurobi"
   ]
  },
  {
   "cell_type": "markdown",
   "id": "abb8e34c-3455-4e4b-8a93-67d5fea7a7aa",
   "metadata": {},
   "source": [
    "#### 1.1 pkl model"
   ]
  },
  {
   "cell_type": "code",
   "execution_count": 5,
   "id": "6c4387f7-3544-45ba-8b95-57af3f2d01b8",
   "metadata": {},
   "outputs": [
    {
     "data": {
      "text/html": [
       "<style>#sk-container-id-1 {color: black;}#sk-container-id-1 pre{padding: 0;}#sk-container-id-1 div.sk-toggleable {background-color: white;}#sk-container-id-1 label.sk-toggleable__label {cursor: pointer;display: block;width: 100%;margin-bottom: 0;padding: 0.3em;box-sizing: border-box;text-align: center;}#sk-container-id-1 label.sk-toggleable__label-arrow:before {content: \"▸\";float: left;margin-right: 0.25em;color: #696969;}#sk-container-id-1 label.sk-toggleable__label-arrow:hover:before {color: black;}#sk-container-id-1 div.sk-estimator:hover label.sk-toggleable__label-arrow:before {color: black;}#sk-container-id-1 div.sk-toggleable__content {max-height: 0;max-width: 0;overflow: hidden;text-align: left;background-color: #f0f8ff;}#sk-container-id-1 div.sk-toggleable__content pre {margin: 0.2em;color: black;border-radius: 0.25em;background-color: #f0f8ff;}#sk-container-id-1 input.sk-toggleable__control:checked~div.sk-toggleable__content {max-height: 200px;max-width: 100%;overflow: auto;}#sk-container-id-1 input.sk-toggleable__control:checked~label.sk-toggleable__label-arrow:before {content: \"▾\";}#sk-container-id-1 div.sk-estimator input.sk-toggleable__control:checked~label.sk-toggleable__label {background-color: #d4ebff;}#sk-container-id-1 div.sk-label input.sk-toggleable__control:checked~label.sk-toggleable__label {background-color: #d4ebff;}#sk-container-id-1 input.sk-hidden--visually {border: 0;clip: rect(1px 1px 1px 1px);clip: rect(1px, 1px, 1px, 1px);height: 1px;margin: -1px;overflow: hidden;padding: 0;position: absolute;width: 1px;}#sk-container-id-1 div.sk-estimator {font-family: monospace;background-color: #f0f8ff;border: 1px dotted black;border-radius: 0.25em;box-sizing: border-box;margin-bottom: 0.5em;}#sk-container-id-1 div.sk-estimator:hover {background-color: #d4ebff;}#sk-container-id-1 div.sk-parallel-item::after {content: \"\";width: 100%;border-bottom: 1px solid gray;flex-grow: 1;}#sk-container-id-1 div.sk-label:hover label.sk-toggleable__label {background-color: #d4ebff;}#sk-container-id-1 div.sk-serial::before {content: \"\";position: absolute;border-left: 1px solid gray;box-sizing: border-box;top: 0;bottom: 0;left: 50%;z-index: 0;}#sk-container-id-1 div.sk-serial {display: flex;flex-direction: column;align-items: center;background-color: white;padding-right: 0.2em;padding-left: 0.2em;position: relative;}#sk-container-id-1 div.sk-item {position: relative;z-index: 1;}#sk-container-id-1 div.sk-parallel {display: flex;align-items: stretch;justify-content: center;background-color: white;position: relative;}#sk-container-id-1 div.sk-item::before, #sk-container-id-1 div.sk-parallel-item::before {content: \"\";position: absolute;border-left: 1px solid gray;box-sizing: border-box;top: 0;bottom: 0;left: 50%;z-index: -1;}#sk-container-id-1 div.sk-parallel-item {display: flex;flex-direction: column;z-index: 1;position: relative;background-color: white;}#sk-container-id-1 div.sk-parallel-item:first-child::after {align-self: flex-end;width: 50%;}#sk-container-id-1 div.sk-parallel-item:last-child::after {align-self: flex-start;width: 50%;}#sk-container-id-1 div.sk-parallel-item:only-child::after {width: 0;}#sk-container-id-1 div.sk-dashed-wrapped {border: 1px dashed gray;margin: 0 0.4em 0.5em 0.4em;box-sizing: border-box;padding-bottom: 0.4em;background-color: white;}#sk-container-id-1 div.sk-label label {font-family: monospace;font-weight: bold;display: inline-block;line-height: 1.2em;}#sk-container-id-1 div.sk-label-container {text-align: center;}#sk-container-id-1 div.sk-container {/* jupyter's `normalize.less` sets `[hidden] { display: none; }` but bootstrap.min.css set `[hidden] { display: none !important; }` so we also need the `!important` here to be able to override the default hidden behavior on the sphinx rendered scikit-learn.org. See: https://github.com/scikit-learn/scikit-learn/issues/21755 */display: inline-block !important;position: relative;}#sk-container-id-1 div.sk-text-repr-fallback {display: none;}</style><div id=\"sk-container-id-1\" class=\"sk-top-container\"><div class=\"sk-text-repr-fallback\"><pre>Pipeline(steps=[(&#x27;scaler&#x27;, StandardScaler()),\n",
       "                (&#x27;poly_feature_2&#x27;, PolynomialFeatures()),\n",
       "                (&#x27;lr&#x27;, LinearRegression())])</pre><b>In a Jupyter environment, please rerun this cell to show the HTML representation or trust the notebook. <br />On GitHub, the HTML representation is unable to render, please try loading this page with nbviewer.org.</b></div><div class=\"sk-container\" hidden><div class=\"sk-item sk-dashed-wrapped\"><div class=\"sk-label-container\"><div class=\"sk-label sk-toggleable\"><input class=\"sk-toggleable__control sk-hidden--visually\" id=\"sk-estimator-id-1\" type=\"checkbox\" ><label for=\"sk-estimator-id-1\" class=\"sk-toggleable__label sk-toggleable__label-arrow\">Pipeline</label><div class=\"sk-toggleable__content\"><pre>Pipeline(steps=[(&#x27;scaler&#x27;, StandardScaler()),\n",
       "                (&#x27;poly_feature_2&#x27;, PolynomialFeatures()),\n",
       "                (&#x27;lr&#x27;, LinearRegression())])</pre></div></div></div><div class=\"sk-serial\"><div class=\"sk-item\"><div class=\"sk-estimator sk-toggleable\"><input class=\"sk-toggleable__control sk-hidden--visually\" id=\"sk-estimator-id-2\" type=\"checkbox\" ><label for=\"sk-estimator-id-2\" class=\"sk-toggleable__label sk-toggleable__label-arrow\">StandardScaler</label><div class=\"sk-toggleable__content\"><pre>StandardScaler()</pre></div></div></div><div class=\"sk-item\"><div class=\"sk-estimator sk-toggleable\"><input class=\"sk-toggleable__control sk-hidden--visually\" id=\"sk-estimator-id-3\" type=\"checkbox\" ><label for=\"sk-estimator-id-3\" class=\"sk-toggleable__label sk-toggleable__label-arrow\">PolynomialFeatures</label><div class=\"sk-toggleable__content\"><pre>PolynomialFeatures()</pre></div></div></div><div class=\"sk-item\"><div class=\"sk-estimator sk-toggleable\"><input class=\"sk-toggleable__control sk-hidden--visually\" id=\"sk-estimator-id-4\" type=\"checkbox\" ><label for=\"sk-estimator-id-4\" class=\"sk-toggleable__label sk-toggleable__label-arrow\">LinearRegression</label><div class=\"sk-toggleable__content\"><pre>LinearRegression()</pre></div></div></div></div></div></div></div>"
      ],
      "text/plain": [
       "Pipeline(steps=[('scaler', StandardScaler()),\n",
       "                ('poly_feature_2', PolynomialFeatures()),\n",
       "                ('lr', LinearRegression())])"
      ]
     },
     "execution_count": 5,
     "metadata": {},
     "output_type": "execute_result"
    }
   ],
   "source": [
    "path_model_to_test = f'artifacts/models/{name_process}/lr.pkl'\n",
    "model_ml_to_test = pd.read_pickle(path_model_to_test)\n",
    "model_ml_to_test"
   ]
  },
  {
   "cell_type": "markdown",
   "id": "49abfccd-803d-4530-84e0-4dd8d3902899",
   "metadata": {},
   "source": [
    "### 1.2 Define list of features and target for each model"
   ]
  },
  {
   "cell_type": "code",
   "execution_count": 6,
   "id": "bbd13696-711b-4623-bc8b-bec4d0bac2f3",
   "metadata": {},
   "outputs": [
    {
     "data": {
      "text/html": [
       "<div>\n",
       "<style scoped>\n",
       "    .dataframe tbody tr th:only-of-type {\n",
       "        vertical-align: middle;\n",
       "    }\n",
       "\n",
       "    .dataframe tbody tr th {\n",
       "        vertical-align: top;\n",
       "    }\n",
       "\n",
       "    .dataframe thead th {\n",
       "        text-align: right;\n",
       "    }\n",
       "</style>\n",
       "<table border=\"1\" class=\"dataframe\">\n",
       "  <thead>\n",
       "    <tr style=\"text-align: right;\">\n",
       "      <th></th>\n",
       "      <th>Z1</th>\n",
       "      <th>X2</th>\n",
       "      <th>O4</th>\n",
       "      <th>O5</th>\n",
       "    </tr>\n",
       "  </thead>\n",
       "  <tbody>\n",
       "    <tr>\n",
       "      <th>521</th>\n",
       "      <td>125.827767</td>\n",
       "      <td>1.600197</td>\n",
       "      <td>4.554699</td>\n",
       "      <td>0.088144</td>\n",
       "    </tr>\n",
       "    <tr>\n",
       "      <th>737</th>\n",
       "      <td>86.789512</td>\n",
       "      <td>0.578117</td>\n",
       "      <td>7.962496</td>\n",
       "      <td>3.903218</td>\n",
       "    </tr>\n",
       "    <tr>\n",
       "      <th>740</th>\n",
       "      <td>91.836144</td>\n",
       "      <td>6.023679</td>\n",
       "      <td>0.332634</td>\n",
       "      <td>2.712363</td>\n",
       "    </tr>\n",
       "    <tr>\n",
       "      <th>660</th>\n",
       "      <td>85.987786</td>\n",
       "      <td>3.098621</td>\n",
       "      <td>3.222811</td>\n",
       "      <td>0.905589</td>\n",
       "    </tr>\n",
       "    <tr>\n",
       "      <th>411</th>\n",
       "      <td>85.749421</td>\n",
       "      <td>5.509697</td>\n",
       "      <td>3.307710</td>\n",
       "      <td>4.956510</td>\n",
       "    </tr>\n",
       "    <tr>\n",
       "      <th>...</th>\n",
       "      <td>...</td>\n",
       "      <td>...</td>\n",
       "      <td>...</td>\n",
       "      <td>...</td>\n",
       "    </tr>\n",
       "    <tr>\n",
       "      <th>408</th>\n",
       "      <td>110.079863</td>\n",
       "      <td>6.547218</td>\n",
       "      <td>9.923618</td>\n",
       "      <td>8.871421</td>\n",
       "    </tr>\n",
       "    <tr>\n",
       "      <th>332</th>\n",
       "      <td>110.343326</td>\n",
       "      <td>3.887887</td>\n",
       "      <td>5.537505</td>\n",
       "      <td>4.707576</td>\n",
       "    </tr>\n",
       "    <tr>\n",
       "      <th>208</th>\n",
       "      <td>94.335957</td>\n",
       "      <td>7.043643</td>\n",
       "      <td>3.328544</td>\n",
       "      <td>0.851833</td>\n",
       "    </tr>\n",
       "    <tr>\n",
       "      <th>613</th>\n",
       "      <td>118.819866</td>\n",
       "      <td>2.913836</td>\n",
       "      <td>4.735953</td>\n",
       "      <td>0.224784</td>\n",
       "    </tr>\n",
       "    <tr>\n",
       "      <th>78</th>\n",
       "      <td>42.818423</td>\n",
       "      <td>5.898288</td>\n",
       "      <td>6.141162</td>\n",
       "      <td>5.116316</td>\n",
       "    </tr>\n",
       "  </tbody>\n",
       "</table>\n",
       "<p>200 rows × 4 columns</p>\n",
       "</div>"
      ],
      "text/plain": [
       "             Z1        X2        O4        O5\n",
       "521  125.827767  1.600197  4.554699  0.088144\n",
       "737   86.789512  0.578117  7.962496  3.903218\n",
       "740   91.836144  6.023679  0.332634  2.712363\n",
       "660   85.987786  3.098621  3.222811  0.905589\n",
       "411   85.749421  5.509697  3.307710  4.956510\n",
       "..          ...       ...       ...       ...\n",
       "408  110.079863  6.547218  9.923618  8.871421\n",
       "332  110.343326  3.887887  5.537505  4.707576\n",
       "208   94.335957  7.043643  3.328544  0.851833\n",
       "613  118.819866  2.913836  4.735953  0.224784\n",
       "78    42.818423  5.898288  6.141162  5.116316\n",
       "\n",
       "[200 rows x 4 columns]"
      ]
     },
     "execution_count": 6,
     "metadata": {},
     "output_type": "execute_result"
    }
   ],
   "source": [
    "X_test"
   ]
  },
  {
   "cell_type": "code",
   "execution_count": 7,
   "id": "9b192baa-ad8f-46a3-ad92-829dbc834d86",
   "metadata": {},
   "outputs": [],
   "source": [
    "######################## model  ########################\n",
    "\n",
    "list_features = ['Z1', 'X2', 'O4', 'O5']\n",
    "\n",
    "list_features_controlables = ['Z1', 'X2']\n",
    "\n",
    "list_target = ['Y2']"
   ]
  },
  {
   "cell_type": "markdown",
   "id": "e22683ab-b05e-4ee7-bf67-1fad5bb00428",
   "metadata": {},
   "source": [
    "### 1.3 Read master tag and sort features according its order"
   ]
  },
  {
   "cell_type": "code",
   "execution_count": 8,
   "id": "2678cd7c-a467-4b6c-acac-f6e044e29f08",
   "metadata": {},
   "outputs": [],
   "source": [
    "# read table master tag\n",
    "path_list_features_target_to_optimization = f'config/config_ml_models_development/MasterTable_{name_process}.xlsx'\n",
    "maestro_tags = pd.read_excel(path_list_features_target_to_optimization)\n",
    "\n",
    "### sort list of features according the order in master table\n",
    "list_features = [tag for tag in maestro_tags['TAG'].tolist() if tag in list_features]\n",
    "list_features_controlables = [tag for tag in maestro_tags['TAG'].tolist() if tag in list_features_controlables]"
   ]
  },
  {
   "cell_type": "code",
   "execution_count": null,
   "id": "1e3078fc-ed85-4d94-bcf6-47ac2f7e24d1",
   "metadata": {},
   "outputs": [],
   "source": []
  },
  {
   "cell_type": "markdown",
   "id": "61bbf9c2-fc6f-44cc-ac07-fd485651fca4",
   "metadata": {},
   "source": [
    "## 2. Create gurobi model"
   ]
  },
  {
   "cell_type": "code",
   "execution_count": 9,
   "id": "9adcac1a-f1e5-48a8-838a-132f4fd0de81",
   "metadata": {},
   "outputs": [
    {
     "name": "stdout",
     "output_type": "stream",
     "text": [
      "Restricted license - for non-production use only - expires 2025-11-24\n"
     ]
    }
   ],
   "source": [
    "# create model\n",
    "m = gp.Model('modelo')"
   ]
  },
  {
   "cell_type": "code",
   "execution_count": null,
   "id": "cd4834c3-d4b9-4918-9499-00ed9d3b7dfe",
   "metadata": {},
   "outputs": [],
   "source": []
  },
  {
   "cell_type": "markdown",
   "id": "052c9a12-c3a9-456f-8c59-e2f78776984d",
   "metadata": {},
   "source": [
    "### 3. Create decision variables\n",
    "- Decision variables that are features in ml models\n",
    "- Decicion variable that is the output in ml models"
   ]
  },
  {
   "cell_type": "markdown",
   "id": "3739f677-0504-46cc-96ee-be204809ed9a",
   "metadata": {},
   "source": [
    "#### 3.1 define multiple sets"
   ]
  },
  {
   "cell_type": "code",
   "execution_count": 10,
   "id": "4b528702-a27d-4bb2-8a67-f384123f7468",
   "metadata": {},
   "outputs": [
    {
     "data": {
      "text/plain": [
       "Index(['t0', 't1', 't2', 't3', 't4', 't5', 't6'], dtype='object')"
      ]
     },
     "execution_count": 10,
     "metadata": {},
     "output_type": "execute_result"
    }
   ],
   "source": [
    "# define set time\n",
    "list_set_time = ['t0', 't1', 't2', 't3', 't4', 't5', 't6']\n",
    "index_set_time = pd.Index(list_set_time)\n",
    "index_set_time"
   ]
  },
  {
   "cell_type": "code",
   "execution_count": 11,
   "id": "948d4170-b514-455a-9895-6d49f7846821",
   "metadata": {},
   "outputs": [
    {
     "data": {
      "text/plain": [
       "Index(['w', 'x', 'y', 'z'], dtype='object')"
      ]
     },
     "execution_count": 11,
     "metadata": {},
     "output_type": "execute_result"
    }
   ],
   "source": [
    "# define set additional - second set defined to this example - of example, think the set represent the kind of product\n",
    "list_set_product = ['w', 'x', 'y', 'z']\n",
    "index_set_product = pd.Index(list_set_product)\n",
    "index_set_product"
   ]
  },
  {
   "cell_type": "code",
   "execution_count": 12,
   "id": "8e7a0fc4-f3f6-46e4-b2ed-1a39ec7cd84a",
   "metadata": {},
   "outputs": [
    {
     "data": {
      "text/plain": [
       "MultiIndex([('w', 't0'),\n",
       "            ('w', 't1'),\n",
       "            ('w', 't2'),\n",
       "            ('w', 't3'),\n",
       "            ('w', 't4'),\n",
       "            ('w', 't5'),\n",
       "            ('w', 't6'),\n",
       "            ('x', 't0'),\n",
       "            ('x', 't1'),\n",
       "            ('x', 't2'),\n",
       "            ('x', 't3'),\n",
       "            ('x', 't4'),\n",
       "            ('x', 't5'),\n",
       "            ('x', 't6'),\n",
       "            ('y', 't0'),\n",
       "            ('y', 't1'),\n",
       "            ('y', 't2'),\n",
       "            ('y', 't3'),\n",
       "            ('y', 't4'),\n",
       "            ('y', 't5'),\n",
       "            ('y', 't6'),\n",
       "            ('z', 't0'),\n",
       "            ('z', 't1'),\n",
       "            ('z', 't2'),\n",
       "            ('z', 't3'),\n",
       "            ('z', 't4'),\n",
       "            ('z', 't5'),\n",
       "            ('z', 't6')],\n",
       "           names=['product', 'time'])"
      ]
     },
     "execution_count": 12,
     "metadata": {},
     "output_type": "execute_result"
    }
   ],
   "source": [
    "############## multi set region&time - index pandas ##############\n",
    "index_set_product_time = pd.MultiIndex.from_product((list_set_product, list_set_time), \n",
    "                                                    names = ('product', 'time')\n",
    "                                                   )\n",
    "index_set_product_time"
   ]
  },
  {
   "cell_type": "code",
   "execution_count": null,
   "id": "2c5e190f-3378-4204-bac7-6fce43f3f485",
   "metadata": {},
   "outputs": [],
   "source": []
  },
  {
   "cell_type": "markdown",
   "id": "8fcaeb83-b5ed-4c65-b22a-1d3ffcf1e1bf",
   "metadata": {},
   "source": [
    "#### 3.2 create decision variables MULTIPLE INDEX"
   ]
  },
  {
   "cell_type": "code",
   "execution_count": 13,
   "id": "fa72387d-019d-415b-a0de-3d88d08ff4cf",
   "metadata": {},
   "outputs": [],
   "source": [
    "# create decision variables - features ml model\n",
    "var_Z1 = gppd.add_vars(m, index_set_product_time, name = \"decision variable Z1\"\n",
    "                                     )\n",
    "\n",
    "var_X2 = gppd.add_vars(m, index_set_product_time, name = \"decision variable X2\"\n",
    "                                     )"
   ]
  },
  {
   "cell_type": "code",
   "execution_count": 14,
   "id": "dd2d5921-1117-4657-9e50-4768fc123fa6",
   "metadata": {},
   "outputs": [],
   "source": [
    "# crete decision variables - output ml model\n",
    "var_Y2 = gppd.add_vars(m, index_set_product_time, name = \"decision variable Y2\"\n",
    "                                     )"
   ]
  },
  {
   "cell_type": "code",
   "execution_count": 15,
   "id": "c6cdf440-8f8c-47ab-b020-fe1ad2acd306",
   "metadata": {},
   "outputs": [],
   "source": [
    "# \"compile\"\n",
    "m.update()"
   ]
  },
  {
   "cell_type": "code",
   "execution_count": 16,
   "id": "a028cec2-0f07-4743-8115-01a54801af2e",
   "metadata": {},
   "outputs": [
    {
     "data": {
      "text/plain": [
       "product  time\n",
       "w        t0      <gurobi.Var decision variable Y2[w,t0]>\n",
       "         t1      <gurobi.Var decision variable Y2[w,t1]>\n",
       "         t2      <gurobi.Var decision variable Y2[w,t2]>\n",
       "         t3      <gurobi.Var decision variable Y2[w,t3]>\n",
       "         t4      <gurobi.Var decision variable Y2[w,t4]>\n",
       "         t5      <gurobi.Var decision variable Y2[w,t5]>\n",
       "         t6      <gurobi.Var decision variable Y2[w,t6]>\n",
       "x        t0      <gurobi.Var decision variable Y2[x,t0]>\n",
       "         t1      <gurobi.Var decision variable Y2[x,t1]>\n",
       "         t2      <gurobi.Var decision variable Y2[x,t2]>\n",
       "         t3      <gurobi.Var decision variable Y2[x,t3]>\n",
       "         t4      <gurobi.Var decision variable Y2[x,t4]>\n",
       "         t5      <gurobi.Var decision variable Y2[x,t5]>\n",
       "         t6      <gurobi.Var decision variable Y2[x,t6]>\n",
       "y        t0      <gurobi.Var decision variable Y2[y,t0]>\n",
       "         t1      <gurobi.Var decision variable Y2[y,t1]>\n",
       "         t2      <gurobi.Var decision variable Y2[y,t2]>\n",
       "         t3      <gurobi.Var decision variable Y2[y,t3]>\n",
       "         t4      <gurobi.Var decision variable Y2[y,t4]>\n",
       "         t5      <gurobi.Var decision variable Y2[y,t5]>\n",
       "         t6      <gurobi.Var decision variable Y2[y,t6]>\n",
       "z        t0      <gurobi.Var decision variable Y2[z,t0]>\n",
       "         t1      <gurobi.Var decision variable Y2[z,t1]>\n",
       "         t2      <gurobi.Var decision variable Y2[z,t2]>\n",
       "         t3      <gurobi.Var decision variable Y2[z,t3]>\n",
       "         t4      <gurobi.Var decision variable Y2[z,t4]>\n",
       "         t5      <gurobi.Var decision variable Y2[z,t5]>\n",
       "         t6      <gurobi.Var decision variable Y2[z,t6]>\n",
       "Name: decision variable Y2, dtype: object"
      ]
     },
     "execution_count": 16,
     "metadata": {},
     "output_type": "execute_result"
    }
   ],
   "source": [
    "# see decision var created\n",
    "var_Y2"
   ]
  },
  {
   "cell_type": "code",
   "execution_count": null,
   "id": "ab543d35-902a-491f-b53f-fbda07c75c4d",
   "metadata": {},
   "outputs": [],
   "source": []
  },
  {
   "cell_type": "markdown",
   "id": "81dff7f6-25a9-4ab6-84e8-fa3fbbb16350",
   "metadata": {},
   "source": [
    "## EXAMPLES ML MODELS WITH DECISION VAR WITH MULTIPLE SETS"
   ]
  },
  {
   "cell_type": "code",
   "execution_count": null,
   "id": "bb4f4210-c1dc-4450-92fa-456693e4636c",
   "metadata": {},
   "outputs": [],
   "source": []
  },
  {
   "cell_type": "markdown",
   "id": "93f125e2-da48-4bd2-9109-a44ab658f8da",
   "metadata": {},
   "source": [
    "### A. Instance Machine learning MULTIPLE INDEX\n",
    "- Create instance of Machine learning model using decision var of gurobi (decision var in optimization)\n",
    "\n",
    "- The observed variables has fixed values, so this values doesn't change across the time"
   ]
  },
  {
   "cell_type": "code",
   "execution_count": 17,
   "id": "1300e282-9f69-47e3-8260-6787a430efe3",
   "metadata": {},
   "outputs": [
    {
     "data": {
      "text/html": [
       "<div>\n",
       "<style scoped>\n",
       "    .dataframe tbody tr th:only-of-type {\n",
       "        vertical-align: middle;\n",
       "    }\n",
       "\n",
       "    .dataframe tbody tr th {\n",
       "        vertical-align: top;\n",
       "    }\n",
       "\n",
       "    .dataframe thead th {\n",
       "        text-align: right;\n",
       "    }\n",
       "</style>\n",
       "<table border=\"1\" class=\"dataframe\">\n",
       "  <thead>\n",
       "    <tr style=\"text-align: right;\">\n",
       "      <th></th>\n",
       "      <th></th>\n",
       "      <th>O4</th>\n",
       "      <th>O5</th>\n",
       "    </tr>\n",
       "    <tr>\n",
       "      <th>product</th>\n",
       "      <th>time</th>\n",
       "      <th></th>\n",
       "      <th></th>\n",
       "    </tr>\n",
       "  </thead>\n",
       "  <tbody>\n",
       "    <tr>\n",
       "      <th rowspan=\"7\" valign=\"top\">w</th>\n",
       "      <th>t0</th>\n",
       "      <td>5.216518</td>\n",
       "      <td>4.53373</td>\n",
       "    </tr>\n",
       "    <tr>\n",
       "      <th>t1</th>\n",
       "      <td>5.216518</td>\n",
       "      <td>4.53373</td>\n",
       "    </tr>\n",
       "    <tr>\n",
       "      <th>t2</th>\n",
       "      <td>5.216518</td>\n",
       "      <td>4.53373</td>\n",
       "    </tr>\n",
       "    <tr>\n",
       "      <th>t3</th>\n",
       "      <td>5.216518</td>\n",
       "      <td>4.53373</td>\n",
       "    </tr>\n",
       "    <tr>\n",
       "      <th>t4</th>\n",
       "      <td>5.216518</td>\n",
       "      <td>4.53373</td>\n",
       "    </tr>\n",
       "    <tr>\n",
       "      <th>t5</th>\n",
       "      <td>5.216518</td>\n",
       "      <td>4.53373</td>\n",
       "    </tr>\n",
       "    <tr>\n",
       "      <th>t6</th>\n",
       "      <td>5.216518</td>\n",
       "      <td>4.53373</td>\n",
       "    </tr>\n",
       "    <tr>\n",
       "      <th rowspan=\"7\" valign=\"top\">x</th>\n",
       "      <th>t0</th>\n",
       "      <td>5.216518</td>\n",
       "      <td>4.53373</td>\n",
       "    </tr>\n",
       "    <tr>\n",
       "      <th>t1</th>\n",
       "      <td>5.216518</td>\n",
       "      <td>4.53373</td>\n",
       "    </tr>\n",
       "    <tr>\n",
       "      <th>t2</th>\n",
       "      <td>5.216518</td>\n",
       "      <td>4.53373</td>\n",
       "    </tr>\n",
       "    <tr>\n",
       "      <th>t3</th>\n",
       "      <td>5.216518</td>\n",
       "      <td>4.53373</td>\n",
       "    </tr>\n",
       "    <tr>\n",
       "      <th>t4</th>\n",
       "      <td>5.216518</td>\n",
       "      <td>4.53373</td>\n",
       "    </tr>\n",
       "    <tr>\n",
       "      <th>t5</th>\n",
       "      <td>5.216518</td>\n",
       "      <td>4.53373</td>\n",
       "    </tr>\n",
       "    <tr>\n",
       "      <th>t6</th>\n",
       "      <td>5.216518</td>\n",
       "      <td>4.53373</td>\n",
       "    </tr>\n",
       "    <tr>\n",
       "      <th rowspan=\"7\" valign=\"top\">y</th>\n",
       "      <th>t0</th>\n",
       "      <td>5.216518</td>\n",
       "      <td>4.53373</td>\n",
       "    </tr>\n",
       "    <tr>\n",
       "      <th>t1</th>\n",
       "      <td>5.216518</td>\n",
       "      <td>4.53373</td>\n",
       "    </tr>\n",
       "    <tr>\n",
       "      <th>t2</th>\n",
       "      <td>5.216518</td>\n",
       "      <td>4.53373</td>\n",
       "    </tr>\n",
       "    <tr>\n",
       "      <th>t3</th>\n",
       "      <td>5.216518</td>\n",
       "      <td>4.53373</td>\n",
       "    </tr>\n",
       "    <tr>\n",
       "      <th>t4</th>\n",
       "      <td>5.216518</td>\n",
       "      <td>4.53373</td>\n",
       "    </tr>\n",
       "    <tr>\n",
       "      <th>t5</th>\n",
       "      <td>5.216518</td>\n",
       "      <td>4.53373</td>\n",
       "    </tr>\n",
       "    <tr>\n",
       "      <th>t6</th>\n",
       "      <td>5.216518</td>\n",
       "      <td>4.53373</td>\n",
       "    </tr>\n",
       "    <tr>\n",
       "      <th rowspan=\"7\" valign=\"top\">z</th>\n",
       "      <th>t0</th>\n",
       "      <td>5.216518</td>\n",
       "      <td>4.53373</td>\n",
       "    </tr>\n",
       "    <tr>\n",
       "      <th>t1</th>\n",
       "      <td>5.216518</td>\n",
       "      <td>4.53373</td>\n",
       "    </tr>\n",
       "    <tr>\n",
       "      <th>t2</th>\n",
       "      <td>5.216518</td>\n",
       "      <td>4.53373</td>\n",
       "    </tr>\n",
       "    <tr>\n",
       "      <th>t3</th>\n",
       "      <td>5.216518</td>\n",
       "      <td>4.53373</td>\n",
       "    </tr>\n",
       "    <tr>\n",
       "      <th>t4</th>\n",
       "      <td>5.216518</td>\n",
       "      <td>4.53373</td>\n",
       "    </tr>\n",
       "    <tr>\n",
       "      <th>t5</th>\n",
       "      <td>5.216518</td>\n",
       "      <td>4.53373</td>\n",
       "    </tr>\n",
       "    <tr>\n",
       "      <th>t6</th>\n",
       "      <td>5.216518</td>\n",
       "      <td>4.53373</td>\n",
       "    </tr>\n",
       "  </tbody>\n",
       "</table>\n",
       "</div>"
      ],
      "text/plain": [
       "                    O4       O5\n",
       "product time                   \n",
       "w       t0    5.216518  4.53373\n",
       "        t1    5.216518  4.53373\n",
       "        t2    5.216518  4.53373\n",
       "        t3    5.216518  4.53373\n",
       "        t4    5.216518  4.53373\n",
       "        t5    5.216518  4.53373\n",
       "        t6    5.216518  4.53373\n",
       "x       t0    5.216518  4.53373\n",
       "        t1    5.216518  4.53373\n",
       "        t2    5.216518  4.53373\n",
       "        t3    5.216518  4.53373\n",
       "        t4    5.216518  4.53373\n",
       "        t5    5.216518  4.53373\n",
       "        t6    5.216518  4.53373\n",
       "y       t0    5.216518  4.53373\n",
       "        t1    5.216518  4.53373\n",
       "        t2    5.216518  4.53373\n",
       "        t3    5.216518  4.53373\n",
       "        t4    5.216518  4.53373\n",
       "        t5    5.216518  4.53373\n",
       "        t6    5.216518  4.53373\n",
       "z       t0    5.216518  4.53373\n",
       "        t1    5.216518  4.53373\n",
       "        t2    5.216518  4.53373\n",
       "        t3    5.216518  4.53373\n",
       "        t4    5.216518  4.53373\n",
       "        t5    5.216518  4.53373\n",
       "        t6    5.216518  4.53373"
      ]
     },
     "execution_count": 17,
     "metadata": {},
     "output_type": "execute_result"
    }
   ],
   "source": [
    "######################## generate instance NO controlables features for model ########################\n",
    "\n",
    "# list feature NC\n",
    "list_features_no_vc = list(set(list_features) - set(list_features_controlables))\n",
    "\n",
    "# generate dataframe with input values. In this example is the mean value\n",
    "df_input_values = np.array(X_test[list_features_no_vc].mean().to_frame().T).tolist()\n",
    "\n",
    "# generate dataframe instance_no_controlables with the time set - MULTIINDEX\n",
    "instance_no_controlables = pd.DataFrame(df_input_values, index = index_set_product_time, columns = list_features_no_vc) # TODO: full index dataframe - multiindex\n",
    "instance_no_controlables"
   ]
  },
  {
   "cell_type": "code",
   "execution_count": 18,
   "id": "75dd5abc-09b4-4ccc-ba4c-3dead6906f0f",
   "metadata": {},
   "outputs": [],
   "source": [
    "######################## genrate instance - features no controlables + decision vars ########################\n",
    "\n",
    "# create instance with controlables variables. sorted according the list of features. ES MUY IMPORTANTE QUE ESTÉ ORDENADO LAS VARIABLES DE DECUISIÓN DE ACUERDO A LA LISTA DE FEATURES\n",
    "instance_controlables = pd.DataFrame([var_Z1, var_X2]).T # ADD DECISION VARIABLES\n",
    "instance_controlables.columns = list_features_controlables # rename columns\n",
    "\n",
    "# append features controlables with no controlables\n",
    "instance = pd.concat([instance_no_controlables, instance_controlables], axis = 1)\n",
    "instance = instance[list_features] # sort features"
   ]
  },
  {
   "cell_type": "code",
   "execution_count": 19,
   "id": "3b3c5a9a-b7f9-4de8-bb54-836452061faf",
   "metadata": {},
   "outputs": [
    {
     "data": {
      "text/html": [
       "<div>\n",
       "<style scoped>\n",
       "    .dataframe tbody tr th:only-of-type {\n",
       "        vertical-align: middle;\n",
       "    }\n",
       "\n",
       "    .dataframe tbody tr th {\n",
       "        vertical-align: top;\n",
       "    }\n",
       "\n",
       "    .dataframe thead th {\n",
       "        text-align: right;\n",
       "    }\n",
       "</style>\n",
       "<table border=\"1\" class=\"dataframe\">\n",
       "  <thead>\n",
       "    <tr style=\"text-align: right;\">\n",
       "      <th></th>\n",
       "      <th></th>\n",
       "      <th>Z1</th>\n",
       "      <th>X2</th>\n",
       "      <th>O4</th>\n",
       "      <th>O5</th>\n",
       "    </tr>\n",
       "    <tr>\n",
       "      <th>product</th>\n",
       "      <th>time</th>\n",
       "      <th></th>\n",
       "      <th></th>\n",
       "      <th></th>\n",
       "      <th></th>\n",
       "    </tr>\n",
       "  </thead>\n",
       "  <tbody>\n",
       "    <tr>\n",
       "      <th rowspan=\"7\" valign=\"top\">w</th>\n",
       "      <th>t0</th>\n",
       "      <td>&lt;gurobi.Var decision variable Z1[w,t0]&gt;</td>\n",
       "      <td>&lt;gurobi.Var decision variable X2[w,t0]&gt;</td>\n",
       "      <td>5.216518</td>\n",
       "      <td>4.53373</td>\n",
       "    </tr>\n",
       "    <tr>\n",
       "      <th>t1</th>\n",
       "      <td>&lt;gurobi.Var decision variable Z1[w,t1]&gt;</td>\n",
       "      <td>&lt;gurobi.Var decision variable X2[w,t1]&gt;</td>\n",
       "      <td>5.216518</td>\n",
       "      <td>4.53373</td>\n",
       "    </tr>\n",
       "    <tr>\n",
       "      <th>t2</th>\n",
       "      <td>&lt;gurobi.Var decision variable Z1[w,t2]&gt;</td>\n",
       "      <td>&lt;gurobi.Var decision variable X2[w,t2]&gt;</td>\n",
       "      <td>5.216518</td>\n",
       "      <td>4.53373</td>\n",
       "    </tr>\n",
       "    <tr>\n",
       "      <th>t3</th>\n",
       "      <td>&lt;gurobi.Var decision variable Z1[w,t3]&gt;</td>\n",
       "      <td>&lt;gurobi.Var decision variable X2[w,t3]&gt;</td>\n",
       "      <td>5.216518</td>\n",
       "      <td>4.53373</td>\n",
       "    </tr>\n",
       "    <tr>\n",
       "      <th>t4</th>\n",
       "      <td>&lt;gurobi.Var decision variable Z1[w,t4]&gt;</td>\n",
       "      <td>&lt;gurobi.Var decision variable X2[w,t4]&gt;</td>\n",
       "      <td>5.216518</td>\n",
       "      <td>4.53373</td>\n",
       "    </tr>\n",
       "    <tr>\n",
       "      <th>t5</th>\n",
       "      <td>&lt;gurobi.Var decision variable Z1[w,t5]&gt;</td>\n",
       "      <td>&lt;gurobi.Var decision variable X2[w,t5]&gt;</td>\n",
       "      <td>5.216518</td>\n",
       "      <td>4.53373</td>\n",
       "    </tr>\n",
       "    <tr>\n",
       "      <th>t6</th>\n",
       "      <td>&lt;gurobi.Var decision variable Z1[w,t6]&gt;</td>\n",
       "      <td>&lt;gurobi.Var decision variable X2[w,t6]&gt;</td>\n",
       "      <td>5.216518</td>\n",
       "      <td>4.53373</td>\n",
       "    </tr>\n",
       "    <tr>\n",
       "      <th rowspan=\"7\" valign=\"top\">x</th>\n",
       "      <th>t0</th>\n",
       "      <td>&lt;gurobi.Var decision variable Z1[x,t0]&gt;</td>\n",
       "      <td>&lt;gurobi.Var decision variable X2[x,t0]&gt;</td>\n",
       "      <td>5.216518</td>\n",
       "      <td>4.53373</td>\n",
       "    </tr>\n",
       "    <tr>\n",
       "      <th>t1</th>\n",
       "      <td>&lt;gurobi.Var decision variable Z1[x,t1]&gt;</td>\n",
       "      <td>&lt;gurobi.Var decision variable X2[x,t1]&gt;</td>\n",
       "      <td>5.216518</td>\n",
       "      <td>4.53373</td>\n",
       "    </tr>\n",
       "    <tr>\n",
       "      <th>t2</th>\n",
       "      <td>&lt;gurobi.Var decision variable Z1[x,t2]&gt;</td>\n",
       "      <td>&lt;gurobi.Var decision variable X2[x,t2]&gt;</td>\n",
       "      <td>5.216518</td>\n",
       "      <td>4.53373</td>\n",
       "    </tr>\n",
       "    <tr>\n",
       "      <th>t3</th>\n",
       "      <td>&lt;gurobi.Var decision variable Z1[x,t3]&gt;</td>\n",
       "      <td>&lt;gurobi.Var decision variable X2[x,t3]&gt;</td>\n",
       "      <td>5.216518</td>\n",
       "      <td>4.53373</td>\n",
       "    </tr>\n",
       "    <tr>\n",
       "      <th>t4</th>\n",
       "      <td>&lt;gurobi.Var decision variable Z1[x,t4]&gt;</td>\n",
       "      <td>&lt;gurobi.Var decision variable X2[x,t4]&gt;</td>\n",
       "      <td>5.216518</td>\n",
       "      <td>4.53373</td>\n",
       "    </tr>\n",
       "    <tr>\n",
       "      <th>t5</th>\n",
       "      <td>&lt;gurobi.Var decision variable Z1[x,t5]&gt;</td>\n",
       "      <td>&lt;gurobi.Var decision variable X2[x,t5]&gt;</td>\n",
       "      <td>5.216518</td>\n",
       "      <td>4.53373</td>\n",
       "    </tr>\n",
       "    <tr>\n",
       "      <th>t6</th>\n",
       "      <td>&lt;gurobi.Var decision variable Z1[x,t6]&gt;</td>\n",
       "      <td>&lt;gurobi.Var decision variable X2[x,t6]&gt;</td>\n",
       "      <td>5.216518</td>\n",
       "      <td>4.53373</td>\n",
       "    </tr>\n",
       "    <tr>\n",
       "      <th rowspan=\"7\" valign=\"top\">y</th>\n",
       "      <th>t0</th>\n",
       "      <td>&lt;gurobi.Var decision variable Z1[y,t0]&gt;</td>\n",
       "      <td>&lt;gurobi.Var decision variable X2[y,t0]&gt;</td>\n",
       "      <td>5.216518</td>\n",
       "      <td>4.53373</td>\n",
       "    </tr>\n",
       "    <tr>\n",
       "      <th>t1</th>\n",
       "      <td>&lt;gurobi.Var decision variable Z1[y,t1]&gt;</td>\n",
       "      <td>&lt;gurobi.Var decision variable X2[y,t1]&gt;</td>\n",
       "      <td>5.216518</td>\n",
       "      <td>4.53373</td>\n",
       "    </tr>\n",
       "    <tr>\n",
       "      <th>t2</th>\n",
       "      <td>&lt;gurobi.Var decision variable Z1[y,t2]&gt;</td>\n",
       "      <td>&lt;gurobi.Var decision variable X2[y,t2]&gt;</td>\n",
       "      <td>5.216518</td>\n",
       "      <td>4.53373</td>\n",
       "    </tr>\n",
       "    <tr>\n",
       "      <th>t3</th>\n",
       "      <td>&lt;gurobi.Var decision variable Z1[y,t3]&gt;</td>\n",
       "      <td>&lt;gurobi.Var decision variable X2[y,t3]&gt;</td>\n",
       "      <td>5.216518</td>\n",
       "      <td>4.53373</td>\n",
       "    </tr>\n",
       "    <tr>\n",
       "      <th>t4</th>\n",
       "      <td>&lt;gurobi.Var decision variable Z1[y,t4]&gt;</td>\n",
       "      <td>&lt;gurobi.Var decision variable X2[y,t4]&gt;</td>\n",
       "      <td>5.216518</td>\n",
       "      <td>4.53373</td>\n",
       "    </tr>\n",
       "    <tr>\n",
       "      <th>t5</th>\n",
       "      <td>&lt;gurobi.Var decision variable Z1[y,t5]&gt;</td>\n",
       "      <td>&lt;gurobi.Var decision variable X2[y,t5]&gt;</td>\n",
       "      <td>5.216518</td>\n",
       "      <td>4.53373</td>\n",
       "    </tr>\n",
       "    <tr>\n",
       "      <th>t6</th>\n",
       "      <td>&lt;gurobi.Var decision variable Z1[y,t6]&gt;</td>\n",
       "      <td>&lt;gurobi.Var decision variable X2[y,t6]&gt;</td>\n",
       "      <td>5.216518</td>\n",
       "      <td>4.53373</td>\n",
       "    </tr>\n",
       "    <tr>\n",
       "      <th rowspan=\"7\" valign=\"top\">z</th>\n",
       "      <th>t0</th>\n",
       "      <td>&lt;gurobi.Var decision variable Z1[z,t0]&gt;</td>\n",
       "      <td>&lt;gurobi.Var decision variable X2[z,t0]&gt;</td>\n",
       "      <td>5.216518</td>\n",
       "      <td>4.53373</td>\n",
       "    </tr>\n",
       "    <tr>\n",
       "      <th>t1</th>\n",
       "      <td>&lt;gurobi.Var decision variable Z1[z,t1]&gt;</td>\n",
       "      <td>&lt;gurobi.Var decision variable X2[z,t1]&gt;</td>\n",
       "      <td>5.216518</td>\n",
       "      <td>4.53373</td>\n",
       "    </tr>\n",
       "    <tr>\n",
       "      <th>t2</th>\n",
       "      <td>&lt;gurobi.Var decision variable Z1[z,t2]&gt;</td>\n",
       "      <td>&lt;gurobi.Var decision variable X2[z,t2]&gt;</td>\n",
       "      <td>5.216518</td>\n",
       "      <td>4.53373</td>\n",
       "    </tr>\n",
       "    <tr>\n",
       "      <th>t3</th>\n",
       "      <td>&lt;gurobi.Var decision variable Z1[z,t3]&gt;</td>\n",
       "      <td>&lt;gurobi.Var decision variable X2[z,t3]&gt;</td>\n",
       "      <td>5.216518</td>\n",
       "      <td>4.53373</td>\n",
       "    </tr>\n",
       "    <tr>\n",
       "      <th>t4</th>\n",
       "      <td>&lt;gurobi.Var decision variable Z1[z,t4]&gt;</td>\n",
       "      <td>&lt;gurobi.Var decision variable X2[z,t4]&gt;</td>\n",
       "      <td>5.216518</td>\n",
       "      <td>4.53373</td>\n",
       "    </tr>\n",
       "    <tr>\n",
       "      <th>t5</th>\n",
       "      <td>&lt;gurobi.Var decision variable Z1[z,t5]&gt;</td>\n",
       "      <td>&lt;gurobi.Var decision variable X2[z,t5]&gt;</td>\n",
       "      <td>5.216518</td>\n",
       "      <td>4.53373</td>\n",
       "    </tr>\n",
       "    <tr>\n",
       "      <th>t6</th>\n",
       "      <td>&lt;gurobi.Var decision variable Z1[z,t6]&gt;</td>\n",
       "      <td>&lt;gurobi.Var decision variable X2[z,t6]&gt;</td>\n",
       "      <td>5.216518</td>\n",
       "      <td>4.53373</td>\n",
       "    </tr>\n",
       "  </tbody>\n",
       "</table>\n",
       "</div>"
      ],
      "text/plain": [
       "                                                   Z1  \\\n",
       "product time                                            \n",
       "w       t0    <gurobi.Var decision variable Z1[w,t0]>   \n",
       "        t1    <gurobi.Var decision variable Z1[w,t1]>   \n",
       "        t2    <gurobi.Var decision variable Z1[w,t2]>   \n",
       "        t3    <gurobi.Var decision variable Z1[w,t3]>   \n",
       "        t4    <gurobi.Var decision variable Z1[w,t4]>   \n",
       "        t5    <gurobi.Var decision variable Z1[w,t5]>   \n",
       "        t6    <gurobi.Var decision variable Z1[w,t6]>   \n",
       "x       t0    <gurobi.Var decision variable Z1[x,t0]>   \n",
       "        t1    <gurobi.Var decision variable Z1[x,t1]>   \n",
       "        t2    <gurobi.Var decision variable Z1[x,t2]>   \n",
       "        t3    <gurobi.Var decision variable Z1[x,t3]>   \n",
       "        t4    <gurobi.Var decision variable Z1[x,t4]>   \n",
       "        t5    <gurobi.Var decision variable Z1[x,t5]>   \n",
       "        t6    <gurobi.Var decision variable Z1[x,t6]>   \n",
       "y       t0    <gurobi.Var decision variable Z1[y,t0]>   \n",
       "        t1    <gurobi.Var decision variable Z1[y,t1]>   \n",
       "        t2    <gurobi.Var decision variable Z1[y,t2]>   \n",
       "        t3    <gurobi.Var decision variable Z1[y,t3]>   \n",
       "        t4    <gurobi.Var decision variable Z1[y,t4]>   \n",
       "        t5    <gurobi.Var decision variable Z1[y,t5]>   \n",
       "        t6    <gurobi.Var decision variable Z1[y,t6]>   \n",
       "z       t0    <gurobi.Var decision variable Z1[z,t0]>   \n",
       "        t1    <gurobi.Var decision variable Z1[z,t1]>   \n",
       "        t2    <gurobi.Var decision variable Z1[z,t2]>   \n",
       "        t3    <gurobi.Var decision variable Z1[z,t3]>   \n",
       "        t4    <gurobi.Var decision variable Z1[z,t4]>   \n",
       "        t5    <gurobi.Var decision variable Z1[z,t5]>   \n",
       "        t6    <gurobi.Var decision variable Z1[z,t6]>   \n",
       "\n",
       "                                                   X2        O4       O5  \n",
       "product time                                                              \n",
       "w       t0    <gurobi.Var decision variable X2[w,t0]>  5.216518  4.53373  \n",
       "        t1    <gurobi.Var decision variable X2[w,t1]>  5.216518  4.53373  \n",
       "        t2    <gurobi.Var decision variable X2[w,t2]>  5.216518  4.53373  \n",
       "        t3    <gurobi.Var decision variable X2[w,t3]>  5.216518  4.53373  \n",
       "        t4    <gurobi.Var decision variable X2[w,t4]>  5.216518  4.53373  \n",
       "        t5    <gurobi.Var decision variable X2[w,t5]>  5.216518  4.53373  \n",
       "        t6    <gurobi.Var decision variable X2[w,t6]>  5.216518  4.53373  \n",
       "x       t0    <gurobi.Var decision variable X2[x,t0]>  5.216518  4.53373  \n",
       "        t1    <gurobi.Var decision variable X2[x,t1]>  5.216518  4.53373  \n",
       "        t2    <gurobi.Var decision variable X2[x,t2]>  5.216518  4.53373  \n",
       "        t3    <gurobi.Var decision variable X2[x,t3]>  5.216518  4.53373  \n",
       "        t4    <gurobi.Var decision variable X2[x,t4]>  5.216518  4.53373  \n",
       "        t5    <gurobi.Var decision variable X2[x,t5]>  5.216518  4.53373  \n",
       "        t6    <gurobi.Var decision variable X2[x,t6]>  5.216518  4.53373  \n",
       "y       t0    <gurobi.Var decision variable X2[y,t0]>  5.216518  4.53373  \n",
       "        t1    <gurobi.Var decision variable X2[y,t1]>  5.216518  4.53373  \n",
       "        t2    <gurobi.Var decision variable X2[y,t2]>  5.216518  4.53373  \n",
       "        t3    <gurobi.Var decision variable X2[y,t3]>  5.216518  4.53373  \n",
       "        t4    <gurobi.Var decision variable X2[y,t4]>  5.216518  4.53373  \n",
       "        t5    <gurobi.Var decision variable X2[y,t5]>  5.216518  4.53373  \n",
       "        t6    <gurobi.Var decision variable X2[y,t6]>  5.216518  4.53373  \n",
       "z       t0    <gurobi.Var decision variable X2[z,t0]>  5.216518  4.53373  \n",
       "        t1    <gurobi.Var decision variable X2[z,t1]>  5.216518  4.53373  \n",
       "        t2    <gurobi.Var decision variable X2[z,t2]>  5.216518  4.53373  \n",
       "        t3    <gurobi.Var decision variable X2[z,t3]>  5.216518  4.53373  \n",
       "        t4    <gurobi.Var decision variable X2[z,t4]>  5.216518  4.53373  \n",
       "        t5    <gurobi.Var decision variable X2[z,t5]>  5.216518  4.53373  \n",
       "        t6    <gurobi.Var decision variable X2[z,t6]>  5.216518  4.53373  "
      ]
     },
     "execution_count": 19,
     "metadata": {},
     "output_type": "execute_result"
    }
   ],
   "source": [
    "instance"
   ]
  },
  {
   "cell_type": "code",
   "execution_count": 20,
   "id": "93a6da9b-35e0-4cda-97d2-730b89c6657a",
   "metadata": {},
   "outputs": [
    {
     "name": "stdout",
     "output_type": "stream",
     "text": [
      "Model for model_predict:\n",
      "588 variables\n",
      "140 constraints\n",
      "420 quadratic constraints\n",
      "Input has shape (28, 4)\n",
      "Output has shape (28, 1)\n",
      "\n",
      "Pipeline has 3 steps:\n",
      "\n",
      "--------------------------------------------------------------------------------\n",
      "Step            Output Shape    Variables              Constraints              \n",
      "                                                Linear    Quadratic      General\n",
      "================================================================================\n",
      "std_scaler           (28, 4)          168          112            0            0\n",
      "\n",
      "poly_feat           (28, 15)          420            0          420            0\n",
      "\n",
      "lin_reg              (28, 1)            0           28            0            0\n",
      "\n",
      "--------------------------------------------------------------------------------\n"
     ]
    }
   ],
   "source": [
    "###### load ml constraint ######\n",
    "pred_constr = add_predictor_constr(gp_model = m, \n",
    "                                                    predictor = model_ml_to_test, \n",
    "                                                    input_vars = instance, # instance pandas gurobi\n",
    "                                                    output_vars = var_Y2, # target\n",
    "                                                    name = f'model_predict'\n",
    "                                                   )\n",
    "pred_constr.print_stats()"
   ]
  },
  {
   "cell_type": "code",
   "execution_count": null,
   "id": "79f84f0e-6724-4286-933c-fced6ac61d19",
   "metadata": {},
   "outputs": [],
   "source": []
  },
  {
   "cell_type": "code",
   "execution_count": null,
   "id": "c8d6009b-c450-4eb8-866d-fa2ed8f19638",
   "metadata": {},
   "outputs": [],
   "source": []
  },
  {
   "cell_type": "markdown",
   "id": "2839e957-f07b-483d-8cea-86b8d42b34a9",
   "metadata": {},
   "source": [
    "### B. Instance Machine learning ONE INDEX\n",
    "- Create instance of Machine learning model using decision var of gurobi (decision var in optimization)\n",
    "\n",
    "- The observed variables has fixed values, so this values doesn't change across the time\n",
    "\n",
    "- For this example, supose that in the set \"product\" the element \"w\" was selected, **so the machine learning model predict for the \"product w\" across all the \"time t\"**"
   ]
  },
  {
   "cell_type": "code",
   "execution_count": 21,
   "id": "f502ef97-712d-4fbb-b890-d812fd529f28",
   "metadata": {},
   "outputs": [
    {
     "data": {
      "text/html": [
       "<div>\n",
       "<style scoped>\n",
       "    .dataframe tbody tr th:only-of-type {\n",
       "        vertical-align: middle;\n",
       "    }\n",
       "\n",
       "    .dataframe tbody tr th {\n",
       "        vertical-align: top;\n",
       "    }\n",
       "\n",
       "    .dataframe thead th {\n",
       "        text-align: right;\n",
       "    }\n",
       "</style>\n",
       "<table border=\"1\" class=\"dataframe\">\n",
       "  <thead>\n",
       "    <tr style=\"text-align: right;\">\n",
       "      <th></th>\n",
       "      <th>O4</th>\n",
       "      <th>O5</th>\n",
       "    </tr>\n",
       "  </thead>\n",
       "  <tbody>\n",
       "    <tr>\n",
       "      <th>t0</th>\n",
       "      <td>5.216518</td>\n",
       "      <td>4.53373</td>\n",
       "    </tr>\n",
       "    <tr>\n",
       "      <th>t1</th>\n",
       "      <td>5.216518</td>\n",
       "      <td>4.53373</td>\n",
       "    </tr>\n",
       "    <tr>\n",
       "      <th>t2</th>\n",
       "      <td>5.216518</td>\n",
       "      <td>4.53373</td>\n",
       "    </tr>\n",
       "    <tr>\n",
       "      <th>t3</th>\n",
       "      <td>5.216518</td>\n",
       "      <td>4.53373</td>\n",
       "    </tr>\n",
       "    <tr>\n",
       "      <th>t4</th>\n",
       "      <td>5.216518</td>\n",
       "      <td>4.53373</td>\n",
       "    </tr>\n",
       "    <tr>\n",
       "      <th>t5</th>\n",
       "      <td>5.216518</td>\n",
       "      <td>4.53373</td>\n",
       "    </tr>\n",
       "    <tr>\n",
       "      <th>t6</th>\n",
       "      <td>5.216518</td>\n",
       "      <td>4.53373</td>\n",
       "    </tr>\n",
       "  </tbody>\n",
       "</table>\n",
       "</div>"
      ],
      "text/plain": [
       "          O4       O5\n",
       "t0  5.216518  4.53373\n",
       "t1  5.216518  4.53373\n",
       "t2  5.216518  4.53373\n",
       "t3  5.216518  4.53373\n",
       "t4  5.216518  4.53373\n",
       "t5  5.216518  4.53373\n",
       "t6  5.216518  4.53373"
      ]
     },
     "execution_count": 21,
     "metadata": {},
     "output_type": "execute_result"
    }
   ],
   "source": [
    "######################## generate instance NO controlables features for model ########################\n",
    "\n",
    "# list feature NC\n",
    "list_features_no_vc = list(set(list_features) - set(list_features_controlables))\n",
    "\n",
    "# generate dataframe with input values. In this example is the mean value\n",
    "#df_input_values = X_test[list_features_no_vc].mean().to_frame().T\n",
    "df_input_values = np.array(X_test[list_features_no_vc].mean().to_frame().T).tolist()\n",
    "\n",
    "# generate dataframe instance_no_controlables with the time set - ONLY ONE INDEX\n",
    "instance_no_controlables = pd.DataFrame(df_input_values, index = index_set_time, columns = list_features_no_vc) # index dataframe - multiindex\n",
    "instance_no_controlables"
   ]
  },
  {
   "cell_type": "code",
   "execution_count": 22,
   "id": "d8c57e86-3897-46b1-bafc-b89c420eeedd",
   "metadata": {},
   "outputs": [],
   "source": [
    "######################## genrate instance - features no controlables + decision vars ########################\n",
    "\n",
    "# create instance with controlables variables. sorted according the list of features. ES MUY IMPORTANTE QUE ESTÉ ORDENADO LAS VARIABLES DE DECUISIÓN DE ACUERDO A LA LISTA DE FEATURES\n",
    "instance_controlables = pd.DataFrame([var_Z1['w'], var_X2['w']]).T # TODO: ADD DECISION VARIABLES WITH THE SELECTION OF THE SET\n",
    "instance_controlables.columns = list_features_controlables # rename columns\n",
    "\n",
    "# append features controlables with no controlables\n",
    "instance = pd.concat([instance_no_controlables, instance_controlables], axis = 1)\n",
    "instance = instance[list_features] # sort features"
   ]
  },
  {
   "cell_type": "code",
   "execution_count": 23,
   "id": "3dcac5d1-0fee-4872-9720-a66eb9f9a687",
   "metadata": {},
   "outputs": [
    {
     "data": {
      "text/html": [
       "<div>\n",
       "<style scoped>\n",
       "    .dataframe tbody tr th:only-of-type {\n",
       "        vertical-align: middle;\n",
       "    }\n",
       "\n",
       "    .dataframe tbody tr th {\n",
       "        vertical-align: top;\n",
       "    }\n",
       "\n",
       "    .dataframe thead th {\n",
       "        text-align: right;\n",
       "    }\n",
       "</style>\n",
       "<table border=\"1\" class=\"dataframe\">\n",
       "  <thead>\n",
       "    <tr style=\"text-align: right;\">\n",
       "      <th></th>\n",
       "      <th>Z1</th>\n",
       "      <th>X2</th>\n",
       "      <th>O4</th>\n",
       "      <th>O5</th>\n",
       "    </tr>\n",
       "  </thead>\n",
       "  <tbody>\n",
       "    <tr>\n",
       "      <th>t0</th>\n",
       "      <td>&lt;gurobi.Var decision variable Z1[w,t0]&gt;</td>\n",
       "      <td>&lt;gurobi.Var decision variable X2[w,t0]&gt;</td>\n",
       "      <td>5.216518</td>\n",
       "      <td>4.53373</td>\n",
       "    </tr>\n",
       "    <tr>\n",
       "      <th>t1</th>\n",
       "      <td>&lt;gurobi.Var decision variable Z1[w,t1]&gt;</td>\n",
       "      <td>&lt;gurobi.Var decision variable X2[w,t1]&gt;</td>\n",
       "      <td>5.216518</td>\n",
       "      <td>4.53373</td>\n",
       "    </tr>\n",
       "    <tr>\n",
       "      <th>t2</th>\n",
       "      <td>&lt;gurobi.Var decision variable Z1[w,t2]&gt;</td>\n",
       "      <td>&lt;gurobi.Var decision variable X2[w,t2]&gt;</td>\n",
       "      <td>5.216518</td>\n",
       "      <td>4.53373</td>\n",
       "    </tr>\n",
       "    <tr>\n",
       "      <th>t3</th>\n",
       "      <td>&lt;gurobi.Var decision variable Z1[w,t3]&gt;</td>\n",
       "      <td>&lt;gurobi.Var decision variable X2[w,t3]&gt;</td>\n",
       "      <td>5.216518</td>\n",
       "      <td>4.53373</td>\n",
       "    </tr>\n",
       "    <tr>\n",
       "      <th>t4</th>\n",
       "      <td>&lt;gurobi.Var decision variable Z1[w,t4]&gt;</td>\n",
       "      <td>&lt;gurobi.Var decision variable X2[w,t4]&gt;</td>\n",
       "      <td>5.216518</td>\n",
       "      <td>4.53373</td>\n",
       "    </tr>\n",
       "    <tr>\n",
       "      <th>t5</th>\n",
       "      <td>&lt;gurobi.Var decision variable Z1[w,t5]&gt;</td>\n",
       "      <td>&lt;gurobi.Var decision variable X2[w,t5]&gt;</td>\n",
       "      <td>5.216518</td>\n",
       "      <td>4.53373</td>\n",
       "    </tr>\n",
       "    <tr>\n",
       "      <th>t6</th>\n",
       "      <td>&lt;gurobi.Var decision variable Z1[w,t6]&gt;</td>\n",
       "      <td>&lt;gurobi.Var decision variable X2[w,t6]&gt;</td>\n",
       "      <td>5.216518</td>\n",
       "      <td>4.53373</td>\n",
       "    </tr>\n",
       "  </tbody>\n",
       "</table>\n",
       "</div>"
      ],
      "text/plain": [
       "                                         Z1  \\\n",
       "t0  <gurobi.Var decision variable Z1[w,t0]>   \n",
       "t1  <gurobi.Var decision variable Z1[w,t1]>   \n",
       "t2  <gurobi.Var decision variable Z1[w,t2]>   \n",
       "t3  <gurobi.Var decision variable Z1[w,t3]>   \n",
       "t4  <gurobi.Var decision variable Z1[w,t4]>   \n",
       "t5  <gurobi.Var decision variable Z1[w,t5]>   \n",
       "t6  <gurobi.Var decision variable Z1[w,t6]>   \n",
       "\n",
       "                                         X2        O4       O5  \n",
       "t0  <gurobi.Var decision variable X2[w,t0]>  5.216518  4.53373  \n",
       "t1  <gurobi.Var decision variable X2[w,t1]>  5.216518  4.53373  \n",
       "t2  <gurobi.Var decision variable X2[w,t2]>  5.216518  4.53373  \n",
       "t3  <gurobi.Var decision variable X2[w,t3]>  5.216518  4.53373  \n",
       "t4  <gurobi.Var decision variable X2[w,t4]>  5.216518  4.53373  \n",
       "t5  <gurobi.Var decision variable X2[w,t5]>  5.216518  4.53373  \n",
       "t6  <gurobi.Var decision variable X2[w,t6]>  5.216518  4.53373  "
      ]
     },
     "execution_count": 23,
     "metadata": {},
     "output_type": "execute_result"
    }
   ],
   "source": [
    "instance"
   ]
  },
  {
   "cell_type": "code",
   "execution_count": 24,
   "id": "5fd90f6c-2999-4848-a9ce-3f6e9c97dfc0",
   "metadata": {},
   "outputs": [
    {
     "name": "stdout",
     "output_type": "stream",
     "text": [
      "Model for model_predict0:\n",
      "147 variables\n",
      "35 constraints\n",
      "105 quadratic constraints\n",
      "Input has shape (7, 4)\n",
      "Output has shape (7, 1)\n",
      "\n",
      "Pipeline has 3 steps:\n",
      "\n",
      "--------------------------------------------------------------------------------\n",
      "Step            Output Shape    Variables              Constraints              \n",
      "                                                Linear    Quadratic      General\n",
      "================================================================================\n",
      "std_scaler            (7, 4)           42           28            0            0\n",
      "\n",
      "poly_feat            (7, 15)          105            0          105            0\n",
      "\n",
      "lin_reg               (7, 1)            0            7            0            0\n",
      "\n",
      "--------------------------------------------------------------------------------\n"
     ]
    }
   ],
   "source": [
    "###### load ml constraint ######\n",
    "pred_constr = add_predictor_constr(gp_model = m, \n",
    "                                                    predictor = model_ml_to_test, \n",
    "                                                    input_vars = instance, # instance pandas gurobi\n",
    "                                                    output_vars = var_Y2['w'], # TODO: ADD DECISION VARIABLES WITH THE SELECTION OF THE SET\n",
    "                                                    name = f'model_predict'\n",
    "                                                   )\n",
    "pred_constr.print_stats()"
   ]
  },
  {
   "cell_type": "code",
   "execution_count": null,
   "id": "30b21a45-d993-4725-b9bb-3f25e9291d02",
   "metadata": {},
   "outputs": [],
   "source": []
  },
  {
   "cell_type": "code",
   "execution_count": 30,
   "id": "220f9fd3-32a1-4f04-a489-176a5d6ce1bd",
   "metadata": {},
   "outputs": [
    {
     "ename": "SyntaxError",
     "evalue": "invalid syntax (1085773698.py, line 1)",
     "output_type": "error",
     "traceback": [
      "\u001b[1;36m  Cell \u001b[1;32mIn[30], line 1\u001b[1;36m\u001b[0m\n\u001b[1;33m    stop - at this part you can now 2 ways to works with model with mutiple sets in gurobi machine learning\u001b[0m\n\u001b[1;37m              ^\u001b[0m\n\u001b[1;31mSyntaxError\u001b[0m\u001b[1;31m:\u001b[0m invalid syntax\n"
     ]
    }
   ],
   "source": [
    "stop - at this part you can now 2 ways to works with model with mutiple sets in gurobi machine learning"
   ]
  },
  {
   "cell_type": "code",
   "execution_count": null,
   "id": "b0f0d6a3-21a2-422c-a35e-5d3b9156ad61",
   "metadata": {},
   "outputs": [],
   "source": []
  },
  {
   "cell_type": "code",
   "execution_count": null,
   "id": "4f434f6b-e133-48cc-a4c9-8c9f826c213d",
   "metadata": {},
   "outputs": [],
   "source": []
  },
  {
   "cell_type": "markdown",
   "id": "e5dd9888-8b46-484d-aeae-c137540e827a",
   "metadata": {},
   "source": [
    "### 5. Define objective optimization\n",
    "Objetive that no generate infeasibility"
   ]
  },
  {
   "cell_type": "code",
   "execution_count": 26,
   "id": "4dc19f6b-5d9c-4449-b8e5-0685a52715f5",
   "metadata": {},
   "outputs": [
    {
     "data": {
      "text/plain": [
       "<gurobi.LinExpr: decision variable Y2[w,t0] + decision variable Y2[w,t1] + decision variable Y2[w,t2] + decision variable Y2[w,t3] + decision variable Y2[w,t4] + decision variable Y2[w,t5] + decision variable Y2[w,t6] + decision variable Y2[x,t0] + decision variable Y2[x,t1] + decision variable Y2[x,t2] + decision variable Y2[x,t3] + decision variable Y2[x,t4] + decision variable Y2[x,t5] + decision variable Y2[x,t6] + decision variable Y2[y,t0] + decision variable Y2[y,t1] + decision variable Y2[y,t2] + decision variable Y2[y,t3] + decision variable Y2[y,t4] + decision variable Y2[y,t5] + decision variable Y2[y,t6] + decision variable Y2[z,t0] + decision variable Y2[z,t1] + decision variable Y2[z,t2] + decision variable Y2[z,t3] + decision variable Y2[z,t4] + decision variable Y2[z,t5] + decision variable Y2[z,t6]>"
      ]
     },
     "execution_count": 26,
     "metadata": {},
     "output_type": "execute_result"
    }
   ],
   "source": [
    "var_Y2.sum() # sum across time"
   ]
  },
  {
   "cell_type": "code",
   "execution_count": 27,
   "id": "6cb07100-85e0-47e7-a7ef-dbb23e2580b6",
   "metadata": {},
   "outputs": [],
   "source": [
    "m.setObjective(var_Y2.sum(),\n",
    "               gp.GRB.MINIMIZE)"
   ]
  },
  {
   "cell_type": "code",
   "execution_count": null,
   "id": "368f6be4-01d6-416b-8777-b0234b3fc0ba",
   "metadata": {},
   "outputs": [],
   "source": []
  },
  {
   "cell_type": "code",
   "execution_count": null,
   "id": "2de070fe-66de-4f13-98b9-584b4b33ba22",
   "metadata": {},
   "outputs": [],
   "source": []
  },
  {
   "cell_type": "code",
   "execution_count": null,
   "id": "48e3b7df-2bff-4171-82d2-22dd7a62cf3a",
   "metadata": {},
   "outputs": [],
   "source": []
  },
  {
   "cell_type": "markdown",
   "id": "239737ce-2c33-4aca-b28e-b2e4450ee0bd",
   "metadata": {},
   "source": [
    "#### 6. Optimize and get optimal values"
   ]
  },
  {
   "cell_type": "code",
   "execution_count": 28,
   "id": "688cdcf5-ea18-4716-a523-3ee16b90db48",
   "metadata": {},
   "outputs": [
    {
     "name": "stdout",
     "output_type": "stream",
     "text": [
      "Gurobi Optimizer version 11.0.0 build v11.0.0rc2 (win64 - Windows 10.0 (19043.2))\n",
      "\n",
      "CPU model: Intel(R) Core(TM) i7-10750H CPU @ 2.60GHz, instruction set [SSE2|AVX|AVX2]\n",
      "Thread count: 6 physical cores, 12 logical processors, using up to 12 threads\n",
      "\n"
     ]
    },
    {
     "ename": "GurobiError",
     "evalue": "Model too large for size-limited license; visit https://www.gurobi.com/free-trial for a full license",
     "output_type": "error",
     "traceback": [
      "\u001b[1;31m---------------------------------------------------------------------------\u001b[0m",
      "\u001b[1;31mGurobiError\u001b[0m                               Traceback (most recent call last)",
      "Cell \u001b[1;32mIn[28], line 2\u001b[0m\n\u001b[0;32m      1\u001b[0m \u001b[38;5;66;03m# solve\u001b[39;00m\n\u001b[1;32m----> 2\u001b[0m \u001b[43mm\u001b[49m\u001b[38;5;241;43m.\u001b[39;49m\u001b[43moptimize\u001b[49m\u001b[43m(\u001b[49m\u001b[43m)\u001b[49m\n",
      "File \u001b[1;32msrc\\\\gurobipy\\\\model.pxi:893\u001b[0m, in \u001b[0;36mgurobipy.Model.optimize\u001b[1;34m()\u001b[0m\n",
      "\u001b[1;31mGurobiError\u001b[0m: Model too large for size-limited license; visit https://www.gurobi.com/free-trial for a full license"
     ]
    }
   ],
   "source": [
    "# solve\n",
    "m.optimize()"
   ]
  },
  {
   "cell_type": "code",
   "execution_count": 29,
   "id": "b835ae8d-ca47-478f-9a11-a21227949557",
   "metadata": {},
   "outputs": [
    {
     "data": {
      "text/plain": [
       "1"
      ]
     },
     "execution_count": 29,
     "metadata": {},
     "output_type": "execute_result"
    }
   ],
   "source": [
    "#### know the status of the model - 2 a optimal solution was founded\n",
    "# docu: https://www.gurobi.com/documentation/current/refman/optimization_status_codes.html#sec:StatusCodes\n",
    "m.Status"
   ]
  },
  {
   "cell_type": "code",
   "execution_count": null,
   "id": "241da7da-682e-4874-8251-c64700b06e16",
   "metadata": {},
   "outputs": [],
   "source": [
    "# get optimal values and save in a dataframe\n",
    "######## create a dataframe with set as index\n",
    "solution = pd.DataFrame(index = index_set_time)\n",
    "\n",
    "######################## save optimal values - features of models (only the features) ########################\n",
    "\n",
    "# model\n",
    "solution[\"var_Z1\"] = var_Z1.gppd.X\n",
    "solution[\"var_X2\"] = var_X2.gppd.X\n",
    "\n",
    "\n",
    "######################## save optimal values - targets of models (some targets are features of the model of the next step) ########################\n",
    "solution[\"var_Y2\"] = var_Y2.gppd.X  # model\n",
    "\n",
    "\n",
    "######################## # get value objetive function ########################\n",
    "opt_objetive_function = m.ObjVal"
   ]
  },
  {
   "cell_type": "code",
   "execution_count": null,
   "id": "a6af89e0-0dde-4edb-a6a3-438616df05f1",
   "metadata": {},
   "outputs": [],
   "source": [
    "# show value objetive function\n",
    "opt_objetive_function"
   ]
  },
  {
   "cell_type": "code",
   "execution_count": null,
   "id": "e55440c3-3f32-4219-ae03-968aa51780d1",
   "metadata": {},
   "outputs": [],
   "source": [
    "# show value decision variables\n",
    "solution"
   ]
  },
  {
   "cell_type": "code",
   "execution_count": null,
   "id": "591f9e07-b5c9-412a-9655-f5e0f0d6b2a9",
   "metadata": {},
   "outputs": [],
   "source": []
  },
  {
   "cell_type": "code",
   "execution_count": null,
   "id": "997212fc-e77f-4f88-9063-cee9924c5abe",
   "metadata": {},
   "outputs": [],
   "source": []
  }
 ],
 "metadata": {
  "kernelspec": {
   "display_name": "Python 3 (ipykernel)",
   "language": "python",
   "name": "python3"
  },
  "language_info": {
   "codemirror_mode": {
    "name": "ipython",
    "version": 3
   },
   "file_extension": ".py",
   "mimetype": "text/x-python",
   "name": "python",
   "nbconvert_exporter": "python",
   "pygments_lexer": "ipython3",
   "version": "3.10.12"
  }
 },
 "nbformat": 4,
 "nbformat_minor": 5
}
