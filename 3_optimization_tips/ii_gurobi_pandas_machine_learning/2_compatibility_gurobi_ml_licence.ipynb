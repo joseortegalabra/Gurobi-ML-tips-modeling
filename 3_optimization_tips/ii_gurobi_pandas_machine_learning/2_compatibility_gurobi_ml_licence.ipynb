{
 "cells": [
  {
   "cell_type": "markdown",
   "id": "92347a6c-5266-4995-ae64-7ab94a368734",
   "metadata": {},
   "source": [
    "# Test compatibility gurobi\n",
    "The idea is test if the model development is compatible with gurobi constraints. Using the packaege gurobi machine learning.\n",
    "\n",
    "This code is hardcoded and connected with the model process b in this example"
   ]
  },
  {
   "cell_type": "markdown",
   "id": "986f169c-cd8e-4707-b545-84226eedb449",
   "metadata": {},
   "source": [
    "## Root folder and read env variables"
   ]
  },
  {
   "cell_type": "code",
   "execution_count": 1,
   "id": "dcee657f-aada-49b8-b447-f41e067e4a18",
   "metadata": {},
   "outputs": [
    {
     "name": "stdout",
     "output_type": "stream",
     "text": [
      "root path:  D:\\github-mi-repo\\Gurobi-ML-tips-modeling\n"
     ]
    }
   ],
   "source": [
    "import os\n",
    "# fix root path to save outputs\n",
    "actual_path = os.path.abspath(os.getcwd())\n",
    "list_root_path = actual_path.split('\\\\')[:-2]\n",
    "root_path = '\\\\'.join(list_root_path)\n",
    "os.chdir(root_path)\n",
    "print('root path: ', root_path)"
   ]
  },
  {
   "cell_type": "code",
   "execution_count": 2,
   "id": "a6640988-69c4-4dfd-b22f-aeeb11fa6e55",
   "metadata": {},
   "outputs": [],
   "source": [
    "import os\n",
    "from dotenv import load_dotenv, find_dotenv # package used in jupyter notebook to read the variables in file .env\n",
    "\n",
    "\"\"\" get env variable from .env \"\"\"\n",
    "load_dotenv(find_dotenv())\n",
    "\n",
    "\"\"\" Read env variables and save it as python variable \"\"\"\n",
    "PROJECT_GCP = os.environ.get(\"PROJECT_GCP\", \"\")"
   ]
  },
  {
   "cell_type": "code",
   "execution_count": null,
   "id": "115d254b-2433-4917-ba92-651a10705e06",
   "metadata": {},
   "outputs": [],
   "source": []
  },
  {
   "cell_type": "markdown",
   "id": "28bb7f97-a0a2-4410-845c-24883687b08f",
   "metadata": {},
   "source": [
    "## LOAD LICENCE GUROBI"
   ]
  },
  {
   "cell_type": "code",
   "execution_count": 3,
   "id": "79f39abf-12db-4e47-ac23-68b74cd88f17",
   "metadata": {},
   "outputs": [
    {
     "name": "stdout",
     "output_type": "stream",
     "text": [
      "D:\\github-mi-repo\\Gurobi-ML-tips-modeling\\gurobi.lic\n"
     ]
    }
   ],
   "source": [
    "##########  LOAD LICENCE GUROBI ##########\n",
    "import gurobipy as gp\n",
    "\n",
    "# set env variable with the path of the licence\n",
    "name_file_licence_gurobi = \"gurobi.lic\"\n",
    "path_licence_gurobi = root_path + '\\\\' + name_file_licence_gurobi\n",
    "os.environ [\"GRB_LICENSE_FILE\"] = path_licence_gurobi\n",
    "print(os.environ[\"GRB_LICENSE_FILE\"])"
   ]
  },
  {
   "cell_type": "code",
   "execution_count": 4,
   "id": "931ea044-e325-49a4-aee3-061269536796",
   "metadata": {},
   "outputs": [],
   "source": [
    "######### LAOD CONTENT LICENCE GUROBI #########\n",
    "with open(path_licence_gurobi, 'r') as f:\n",
    "    content_licence = f.read()\n",
    "WLSACCESSID = content_licence.split('\\n')[3].split('=')[1] # load WLSACCESSID (string)\n",
    "WLSSECRET = content_licence.split('\\n')[4].split('=')[1] # load WLSSECRET (string)\n",
    "LICENSEID = int(content_licence.split('\\n')[5].split(\"=\")[1]) # load LICENSEID (integer)\n",
    "\n",
    "params = {\n",
    "\"WLSACCESSID\": WLSACCESSID,\n",
    "\"WLSSECRET\": WLSSECRET,\n",
    "\"LICENSEID\": LICENSEID\n",
    "}"
   ]
  },
  {
   "cell_type": "code",
   "execution_count": 5,
   "id": "fc1e96ff-a1fb-4cd0-9f0d-39483ab00c6f",
   "metadata": {},
   "outputs": [
    {
     "name": "stdout",
     "output_type": "stream",
     "text": [
      "Set parameter WLSAccessID\n",
      "Set parameter WLSSecret\n",
      "Set parameter LicenseID to value 2441807\n",
      "WLS license 2441807 - registered to CMPC Celulosa S.A\n"
     ]
    },
    {
     "data": {
      "text/plain": [
       "<gurobi.Model Continuous instance Gurobi test model: 0 constrs, 0 vars, Parameter changes: LicenseID=2441807>"
      ]
     },
     "execution_count": 5,
     "metadata": {},
     "output_type": "execute_result"
    }
   ],
   "source": [
    "######### lOAD GUROBI MODEL #########\n",
    "env = gp.Env(params=params)\n",
    "\n",
    "#Create the model within the Gurobi environment\n",
    "m_test_licence = gp.Model(\"Gurobi test model\", env = env)\n",
    "m_test_licence"
   ]
  },
  {
   "cell_type": "code",
   "execution_count": null,
   "id": "23887497-305d-482f-8dd6-bdc119feee33",
   "metadata": {},
   "outputs": [],
   "source": []
  },
  {
   "cell_type": "code",
   "execution_count": null,
   "id": "99b52180-a1ce-43b2-a645-7efa7b574b99",
   "metadata": {},
   "outputs": [],
   "source": []
  },
  {
   "cell_type": "code",
   "execution_count": null,
   "id": "75712f47-1f5e-402d-9c44-73a465bdedc3",
   "metadata": {},
   "outputs": [],
   "source": []
  },
  {
   "cell_type": "markdown",
   "id": "b6843afc-d41f-44ba-a1a9-469cc4f3a6a2",
   "metadata": {},
   "source": [
    "## RUN"
   ]
  },
  {
   "cell_type": "code",
   "execution_count": 6,
   "id": "365a0300-b10d-4106-af86-619457307401",
   "metadata": {},
   "outputs": [],
   "source": [
    "import pickle\n",
    "import pandas as pd\n",
    "import numpy as np\n",
    "\n",
    "#gurobi\n",
    "import gurobipy_pandas as gppd\n",
    "from gurobi_ml import add_predictor_constr\n",
    "import gurobipy as gp"
   ]
  },
  {
   "cell_type": "markdown",
   "id": "99763c69-717f-48d3-9875-c9435c00fcb8",
   "metadata": {},
   "source": [
    "### 0. Load data\n",
    "This data will be use to get values to generate a instance of the ml model"
   ]
  },
  {
   "cell_type": "code",
   "execution_count": 7,
   "id": "5ce4064a-405c-4cb1-b886-500687af49d4",
   "metadata": {},
   "outputs": [],
   "source": [
    "name_process = 'process_b'\n",
    "# load X_test\n",
    "path_X_test = f'artifacts/data_training/{name_process}/X_test.pkl'\n",
    "X_test = pd.read_pickle(path_X_test)\n",
    "\n",
    "# load y_test\n",
    "path_y_test = f'artifacts/data_training/{name_process}/y_test.pkl'\n",
    "y_test = pd.read_pickle(path_y_test)"
   ]
  },
  {
   "cell_type": "code",
   "execution_count": null,
   "id": "f7b14e29-5164-4360-a160-42a1a64bee08",
   "metadata": {},
   "outputs": [],
   "source": []
  },
  {
   "cell_type": "markdown",
   "id": "d87ead74-f6b6-4a17-bfbc-9605be9d33d9",
   "metadata": {},
   "source": [
    "### 1. Load Artifacts to connect ML to gurobi"
   ]
  },
  {
   "cell_type": "markdown",
   "id": "abb8e34c-3455-4e4b-8a93-67d5fea7a7aa",
   "metadata": {},
   "source": [
    "#### 1.1 pkl model"
   ]
  },
  {
   "cell_type": "code",
   "execution_count": 8,
   "id": "6c4387f7-3544-45ba-8b95-57af3f2d01b8",
   "metadata": {},
   "outputs": [
    {
     "data": {
      "text/html": [
       "<style>#sk-container-id-1 {color: black;}#sk-container-id-1 pre{padding: 0;}#sk-container-id-1 div.sk-toggleable {background-color: white;}#sk-container-id-1 label.sk-toggleable__label {cursor: pointer;display: block;width: 100%;margin-bottom: 0;padding: 0.3em;box-sizing: border-box;text-align: center;}#sk-container-id-1 label.sk-toggleable__label-arrow:before {content: \"▸\";float: left;margin-right: 0.25em;color: #696969;}#sk-container-id-1 label.sk-toggleable__label-arrow:hover:before {color: black;}#sk-container-id-1 div.sk-estimator:hover label.sk-toggleable__label-arrow:before {color: black;}#sk-container-id-1 div.sk-toggleable__content {max-height: 0;max-width: 0;overflow: hidden;text-align: left;background-color: #f0f8ff;}#sk-container-id-1 div.sk-toggleable__content pre {margin: 0.2em;color: black;border-radius: 0.25em;background-color: #f0f8ff;}#sk-container-id-1 input.sk-toggleable__control:checked~div.sk-toggleable__content {max-height: 200px;max-width: 100%;overflow: auto;}#sk-container-id-1 input.sk-toggleable__control:checked~label.sk-toggleable__label-arrow:before {content: \"▾\";}#sk-container-id-1 div.sk-estimator input.sk-toggleable__control:checked~label.sk-toggleable__label {background-color: #d4ebff;}#sk-container-id-1 div.sk-label input.sk-toggleable__control:checked~label.sk-toggleable__label {background-color: #d4ebff;}#sk-container-id-1 input.sk-hidden--visually {border: 0;clip: rect(1px 1px 1px 1px);clip: rect(1px, 1px, 1px, 1px);height: 1px;margin: -1px;overflow: hidden;padding: 0;position: absolute;width: 1px;}#sk-container-id-1 div.sk-estimator {font-family: monospace;background-color: #f0f8ff;border: 1px dotted black;border-radius: 0.25em;box-sizing: border-box;margin-bottom: 0.5em;}#sk-container-id-1 div.sk-estimator:hover {background-color: #d4ebff;}#sk-container-id-1 div.sk-parallel-item::after {content: \"\";width: 100%;border-bottom: 1px solid gray;flex-grow: 1;}#sk-container-id-1 div.sk-label:hover label.sk-toggleable__label {background-color: #d4ebff;}#sk-container-id-1 div.sk-serial::before {content: \"\";position: absolute;border-left: 1px solid gray;box-sizing: border-box;top: 0;bottom: 0;left: 50%;z-index: 0;}#sk-container-id-1 div.sk-serial {display: flex;flex-direction: column;align-items: center;background-color: white;padding-right: 0.2em;padding-left: 0.2em;position: relative;}#sk-container-id-1 div.sk-item {position: relative;z-index: 1;}#sk-container-id-1 div.sk-parallel {display: flex;align-items: stretch;justify-content: center;background-color: white;position: relative;}#sk-container-id-1 div.sk-item::before, #sk-container-id-1 div.sk-parallel-item::before {content: \"\";position: absolute;border-left: 1px solid gray;box-sizing: border-box;top: 0;bottom: 0;left: 50%;z-index: -1;}#sk-container-id-1 div.sk-parallel-item {display: flex;flex-direction: column;z-index: 1;position: relative;background-color: white;}#sk-container-id-1 div.sk-parallel-item:first-child::after {align-self: flex-end;width: 50%;}#sk-container-id-1 div.sk-parallel-item:last-child::after {align-self: flex-start;width: 50%;}#sk-container-id-1 div.sk-parallel-item:only-child::after {width: 0;}#sk-container-id-1 div.sk-dashed-wrapped {border: 1px dashed gray;margin: 0 0.4em 0.5em 0.4em;box-sizing: border-box;padding-bottom: 0.4em;background-color: white;}#sk-container-id-1 div.sk-label label {font-family: monospace;font-weight: bold;display: inline-block;line-height: 1.2em;}#sk-container-id-1 div.sk-label-container {text-align: center;}#sk-container-id-1 div.sk-container {/* jupyter's `normalize.less` sets `[hidden] { display: none; }` but bootstrap.min.css set `[hidden] { display: none !important; }` so we also need the `!important` here to be able to override the default hidden behavior on the sphinx rendered scikit-learn.org. See: https://github.com/scikit-learn/scikit-learn/issues/21755 */display: inline-block !important;position: relative;}#sk-container-id-1 div.sk-text-repr-fallback {display: none;}</style><div id=\"sk-container-id-1\" class=\"sk-top-container\"><div class=\"sk-text-repr-fallback\"><pre>Pipeline(steps=[(&#x27;scaler&#x27;, StandardScaler()),\n",
       "                (&#x27;poly_feature_2&#x27;, PolynomialFeatures()),\n",
       "                (&#x27;lr&#x27;, LinearRegression())])</pre><b>In a Jupyter environment, please rerun this cell to show the HTML representation or trust the notebook. <br />On GitHub, the HTML representation is unable to render, please try loading this page with nbviewer.org.</b></div><div class=\"sk-container\" hidden><div class=\"sk-item sk-dashed-wrapped\"><div class=\"sk-label-container\"><div class=\"sk-label sk-toggleable\"><input class=\"sk-toggleable__control sk-hidden--visually\" id=\"sk-estimator-id-1\" type=\"checkbox\" ><label for=\"sk-estimator-id-1\" class=\"sk-toggleable__label sk-toggleable__label-arrow\">Pipeline</label><div class=\"sk-toggleable__content\"><pre>Pipeline(steps=[(&#x27;scaler&#x27;, StandardScaler()),\n",
       "                (&#x27;poly_feature_2&#x27;, PolynomialFeatures()),\n",
       "                (&#x27;lr&#x27;, LinearRegression())])</pre></div></div></div><div class=\"sk-serial\"><div class=\"sk-item\"><div class=\"sk-estimator sk-toggleable\"><input class=\"sk-toggleable__control sk-hidden--visually\" id=\"sk-estimator-id-2\" type=\"checkbox\" ><label for=\"sk-estimator-id-2\" class=\"sk-toggleable__label sk-toggleable__label-arrow\">StandardScaler</label><div class=\"sk-toggleable__content\"><pre>StandardScaler()</pre></div></div></div><div class=\"sk-item\"><div class=\"sk-estimator sk-toggleable\"><input class=\"sk-toggleable__control sk-hidden--visually\" id=\"sk-estimator-id-3\" type=\"checkbox\" ><label for=\"sk-estimator-id-3\" class=\"sk-toggleable__label sk-toggleable__label-arrow\">PolynomialFeatures</label><div class=\"sk-toggleable__content\"><pre>PolynomialFeatures()</pre></div></div></div><div class=\"sk-item\"><div class=\"sk-estimator sk-toggleable\"><input class=\"sk-toggleable__control sk-hidden--visually\" id=\"sk-estimator-id-4\" type=\"checkbox\" ><label for=\"sk-estimator-id-4\" class=\"sk-toggleable__label sk-toggleable__label-arrow\">LinearRegression</label><div class=\"sk-toggleable__content\"><pre>LinearRegression()</pre></div></div></div></div></div></div></div>"
      ],
      "text/plain": [
       "Pipeline(steps=[('scaler', StandardScaler()),\n",
       "                ('poly_feature_2', PolynomialFeatures()),\n",
       "                ('lr', LinearRegression())])"
      ]
     },
     "execution_count": 8,
     "metadata": {},
     "output_type": "execute_result"
    }
   ],
   "source": [
    "path_model_to_test = f'artifacts/models/{name_process}/lr.pkl'\n",
    "model_ml_to_test = pd.read_pickle(path_model_to_test)\n",
    "model_ml_to_test"
   ]
  },
  {
   "cell_type": "markdown",
   "id": "49abfccd-803d-4530-84e0-4dd8d3902899",
   "metadata": {},
   "source": [
    "### 1.2 Define list of features and target for each model"
   ]
  },
  {
   "cell_type": "code",
   "execution_count": 9,
   "id": "bbd13696-711b-4623-bc8b-bec4d0bac2f3",
   "metadata": {},
   "outputs": [
    {
     "data": {
      "text/html": [
       "<div>\n",
       "<style scoped>\n",
       "    .dataframe tbody tr th:only-of-type {\n",
       "        vertical-align: middle;\n",
       "    }\n",
       "\n",
       "    .dataframe tbody tr th {\n",
       "        vertical-align: top;\n",
       "    }\n",
       "\n",
       "    .dataframe thead th {\n",
       "        text-align: right;\n",
       "    }\n",
       "</style>\n",
       "<table border=\"1\" class=\"dataframe\">\n",
       "  <thead>\n",
       "    <tr style=\"text-align: right;\">\n",
       "      <th></th>\n",
       "      <th>Z1</th>\n",
       "      <th>X2</th>\n",
       "      <th>O4</th>\n",
       "      <th>O5</th>\n",
       "    </tr>\n",
       "  </thead>\n",
       "  <tbody>\n",
       "    <tr>\n",
       "      <th>521</th>\n",
       "      <td>125.827767</td>\n",
       "      <td>1.600197</td>\n",
       "      <td>4.554699</td>\n",
       "      <td>0.088144</td>\n",
       "    </tr>\n",
       "    <tr>\n",
       "      <th>737</th>\n",
       "      <td>86.789512</td>\n",
       "      <td>0.578117</td>\n",
       "      <td>7.962496</td>\n",
       "      <td>3.903218</td>\n",
       "    </tr>\n",
       "    <tr>\n",
       "      <th>740</th>\n",
       "      <td>91.836144</td>\n",
       "      <td>6.023679</td>\n",
       "      <td>0.332634</td>\n",
       "      <td>2.712363</td>\n",
       "    </tr>\n",
       "    <tr>\n",
       "      <th>660</th>\n",
       "      <td>85.987786</td>\n",
       "      <td>3.098621</td>\n",
       "      <td>3.222811</td>\n",
       "      <td>0.905589</td>\n",
       "    </tr>\n",
       "    <tr>\n",
       "      <th>411</th>\n",
       "      <td>85.749421</td>\n",
       "      <td>5.509697</td>\n",
       "      <td>3.307710</td>\n",
       "      <td>4.956510</td>\n",
       "    </tr>\n",
       "    <tr>\n",
       "      <th>...</th>\n",
       "      <td>...</td>\n",
       "      <td>...</td>\n",
       "      <td>...</td>\n",
       "      <td>...</td>\n",
       "    </tr>\n",
       "    <tr>\n",
       "      <th>408</th>\n",
       "      <td>110.079863</td>\n",
       "      <td>6.547218</td>\n",
       "      <td>9.923618</td>\n",
       "      <td>8.871421</td>\n",
       "    </tr>\n",
       "    <tr>\n",
       "      <th>332</th>\n",
       "      <td>110.343326</td>\n",
       "      <td>3.887887</td>\n",
       "      <td>5.537505</td>\n",
       "      <td>4.707576</td>\n",
       "    </tr>\n",
       "    <tr>\n",
       "      <th>208</th>\n",
       "      <td>94.335957</td>\n",
       "      <td>7.043643</td>\n",
       "      <td>3.328544</td>\n",
       "      <td>0.851833</td>\n",
       "    </tr>\n",
       "    <tr>\n",
       "      <th>613</th>\n",
       "      <td>118.819866</td>\n",
       "      <td>2.913836</td>\n",
       "      <td>4.735953</td>\n",
       "      <td>0.224784</td>\n",
       "    </tr>\n",
       "    <tr>\n",
       "      <th>78</th>\n",
       "      <td>42.818423</td>\n",
       "      <td>5.898288</td>\n",
       "      <td>6.141162</td>\n",
       "      <td>5.116316</td>\n",
       "    </tr>\n",
       "  </tbody>\n",
       "</table>\n",
       "<p>200 rows × 4 columns</p>\n",
       "</div>"
      ],
      "text/plain": [
       "             Z1        X2        O4        O5\n",
       "521  125.827767  1.600197  4.554699  0.088144\n",
       "737   86.789512  0.578117  7.962496  3.903218\n",
       "740   91.836144  6.023679  0.332634  2.712363\n",
       "660   85.987786  3.098621  3.222811  0.905589\n",
       "411   85.749421  5.509697  3.307710  4.956510\n",
       "..          ...       ...       ...       ...\n",
       "408  110.079863  6.547218  9.923618  8.871421\n",
       "332  110.343326  3.887887  5.537505  4.707576\n",
       "208   94.335957  7.043643  3.328544  0.851833\n",
       "613  118.819866  2.913836  4.735953  0.224784\n",
       "78    42.818423  5.898288  6.141162  5.116316\n",
       "\n",
       "[200 rows x 4 columns]"
      ]
     },
     "execution_count": 9,
     "metadata": {},
     "output_type": "execute_result"
    }
   ],
   "source": [
    "X_test"
   ]
  },
  {
   "cell_type": "code",
   "execution_count": 10,
   "id": "9b192baa-ad8f-46a3-ad92-829dbc834d86",
   "metadata": {},
   "outputs": [],
   "source": [
    "######################## model  ########################\n",
    "\n",
    "list_features = ['Z1', 'X2', 'O4', 'O5']\n",
    "\n",
    "list_features_controlables = ['Z1', 'X2']\n",
    "\n",
    "list_target = ['Y2']"
   ]
  },
  {
   "cell_type": "markdown",
   "id": "e22683ab-b05e-4ee7-bf67-1fad5bb00428",
   "metadata": {},
   "source": [
    "### 1.3 Read master tag and sort features according its order"
   ]
  },
  {
   "cell_type": "code",
   "execution_count": 11,
   "id": "2678cd7c-a467-4b6c-acac-f6e044e29f08",
   "metadata": {},
   "outputs": [],
   "source": [
    "# read table master tag\n",
    "path_list_features_target_to_optimization = f'config/config_ml_models_development/MasterTable_{name_process}.xlsx'\n",
    "maestro_tags = pd.read_excel(path_list_features_target_to_optimization)\n",
    "\n",
    "### sort list of features according the order in master table\n",
    "list_features = [tag for tag in maestro_tags['TAG'].tolist() if tag in list_features]\n",
    "list_features_controlables = [tag for tag in maestro_tags['TAG'].tolist() if tag in list_features_controlables]"
   ]
  },
  {
   "cell_type": "code",
   "execution_count": null,
   "id": "1e3078fc-ed85-4d94-bcf6-47ac2f7e24d1",
   "metadata": {},
   "outputs": [],
   "source": []
  },
  {
   "cell_type": "markdown",
   "id": "61bbf9c2-fc6f-44cc-ac07-fd485651fca4",
   "metadata": {},
   "source": [
    "## 2. Create gurobi model"
   ]
  },
  {
   "cell_type": "code",
   "execution_count": 12,
   "id": "9adcac1a-f1e5-48a8-838a-132f4fd0de81",
   "metadata": {},
   "outputs": [],
   "source": [
    "# create model\n",
    "m = gp.Model('modelo',  env = env)"
   ]
  },
  {
   "cell_type": "code",
   "execution_count": null,
   "id": "cd4834c3-d4b9-4918-9499-00ed9d3b7dfe",
   "metadata": {},
   "outputs": [],
   "source": []
  },
  {
   "cell_type": "markdown",
   "id": "052c9a12-c3a9-456f-8c59-e2f78776984d",
   "metadata": {},
   "source": [
    "### 3. Create decision variables\n",
    "- Decision variables that are features in ml models\n",
    "- Decicion variable that is the output in ml models"
   ]
  },
  {
   "cell_type": "code",
   "execution_count": 13,
   "id": "4b528702-a27d-4bb2-8a67-f384123f7468",
   "metadata": {},
   "outputs": [
    {
     "data": {
      "text/plain": [
       "Index(['set_test'], dtype='object')"
      ]
     },
     "execution_count": 13,
     "metadata": {},
     "output_type": "execute_result"
    }
   ],
   "source": [
    "# define set\n",
    "list_set_elements_index = ['set_test']\n",
    "index_set = pd.Index(list_set_elements_index)\n",
    "index_set"
   ]
  },
  {
   "cell_type": "code",
   "execution_count": 14,
   "id": "d72c7990-3551-4a58-9b4f-ba418fd4ef60",
   "metadata": {},
   "outputs": [
    {
     "data": {
      "text/plain": [
       "['Y2']"
      ]
     },
     "execution_count": 14,
     "metadata": {},
     "output_type": "execute_result"
    }
   ],
   "source": [
    "list_target"
   ]
  },
  {
   "cell_type": "code",
   "execution_count": 15,
   "id": "fa72387d-019d-415b-a0de-3d88d08ff4cf",
   "metadata": {},
   "outputs": [],
   "source": [
    "# create decision variables - features ml model\n",
    "var_Z1 = gppd.add_vars(m, index_set, name = \"decision variable Z1\"\n",
    "                                     )\n",
    "\n",
    "var_X2 = gppd.add_vars(m, index_set, name = \"decision variable X2\"\n",
    "                                     )"
   ]
  },
  {
   "cell_type": "code",
   "execution_count": 16,
   "id": "dd2d5921-1117-4657-9e50-4768fc123fa6",
   "metadata": {},
   "outputs": [],
   "source": [
    "# crete decision variables - output ml model\n",
    "var_Y2 = gppd.add_vars(m, index_set, name = \"decision variable Y2\"\n",
    "                                     )"
   ]
  },
  {
   "cell_type": "code",
   "execution_count": 17,
   "id": "c6cdf440-8f8c-47ab-b020-fe1ad2acd306",
   "metadata": {},
   "outputs": [],
   "source": [
    "# \"compile\"\n",
    "m.update()"
   ]
  },
  {
   "cell_type": "code",
   "execution_count": 18,
   "id": "a028cec2-0f07-4743-8115-01a54801af2e",
   "metadata": {},
   "outputs": [
    {
     "data": {
      "text/plain": [
       "set_test    <gurobi.Var decision variable Y2[set_test]>\n",
       "Name: decision variable Y2, dtype: object"
      ]
     },
     "execution_count": 18,
     "metadata": {},
     "output_type": "execute_result"
    }
   ],
   "source": [
    "# see decision var created\n",
    "var_Y2"
   ]
  },
  {
   "cell_type": "code",
   "execution_count": null,
   "id": "99f6bf39-eb22-450f-ae77-db601e860e3a",
   "metadata": {},
   "outputs": [],
   "source": []
  },
  {
   "cell_type": "markdown",
   "id": "93f125e2-da48-4bd2-9109-a44ab658f8da",
   "metadata": {},
   "source": [
    "### 4. Create instance of Machine learning model using decision var of gurobi (decision var in optimization)"
   ]
  },
  {
   "cell_type": "code",
   "execution_count": 19,
   "id": "1300e282-9f69-47e3-8260-6787a430efe3",
   "metadata": {},
   "outputs": [
    {
     "data": {
      "text/html": [
       "<div>\n",
       "<style scoped>\n",
       "    .dataframe tbody tr th:only-of-type {\n",
       "        vertical-align: middle;\n",
       "    }\n",
       "\n",
       "    .dataframe tbody tr th {\n",
       "        vertical-align: top;\n",
       "    }\n",
       "\n",
       "    .dataframe thead th {\n",
       "        text-align: right;\n",
       "    }\n",
       "</style>\n",
       "<table border=\"1\" class=\"dataframe\">\n",
       "  <thead>\n",
       "    <tr style=\"text-align: right;\">\n",
       "      <th></th>\n",
       "      <th>O4</th>\n",
       "      <th>O5</th>\n",
       "    </tr>\n",
       "  </thead>\n",
       "  <tbody>\n",
       "    <tr>\n",
       "      <th>0</th>\n",
       "      <td>5.216518</td>\n",
       "      <td>4.53373</td>\n",
       "    </tr>\n",
       "  </tbody>\n",
       "</table>\n",
       "</div>"
      ],
      "text/plain": [
       "         O4       O5\n",
       "0  5.216518  4.53373"
      ]
     },
     "execution_count": 19,
     "metadata": {},
     "output_type": "execute_result"
    }
   ],
   "source": [
    "######################## generate instance NO controlables features for model ########################\n",
    "\n",
    "# list feature NC\n",
    "list_features_no_vc = list(set(list_features) - set(list_features_controlables))\n",
    "\n",
    "# generate dataframe with the mean\n",
    "instance_no_controlables = X_test[list_features_no_vc].mean().to_frame().T\n",
    "instance_no_controlables"
   ]
  },
  {
   "cell_type": "code",
   "execution_count": 20,
   "id": "75dd5abc-09b4-4ccc-ba4c-3dead6906f0f",
   "metadata": {},
   "outputs": [],
   "source": [
    "######################## genrate instance - features no controlables + decision vars ########################\n",
    "\n",
    "# create instance with controlables variables. sorted according the list of features. ES MUY IMPORTANTE QUE ESTÉ ORDENADO LAS VARIABLES DE DECUISIÓN DE ACUERDO A LA LISTA DE FEATURES\n",
    "instance_controlables = pd.DataFrame([var_Z1, var_X2]).T # ADD DECISION VARIABLES\n",
    "instance_controlables.columns = list_features_controlables # rename columns\n",
    "instance_controlables.reset_index(inplace = True)\n",
    "instance_controlables.drop(columns = 'index', inplace = True)\n",
    "\n",
    "# append features controlables with no controlables\n",
    "instance = pd.concat([instance_no_controlables, instance_controlables], axis = 1)\n",
    "instance = instance[list_features] # sort features\n",
    "\n",
    "# set index - optimization set\n",
    "instance.index = index_set"
   ]
  },
  {
   "cell_type": "code",
   "execution_count": 21,
   "id": "99d50799-a4e0-4e1f-a80b-3fd3932b9e1a",
   "metadata": {},
   "outputs": [
    {
     "data": {
      "text/html": [
       "<div>\n",
       "<style scoped>\n",
       "    .dataframe tbody tr th:only-of-type {\n",
       "        vertical-align: middle;\n",
       "    }\n",
       "\n",
       "    .dataframe tbody tr th {\n",
       "        vertical-align: top;\n",
       "    }\n",
       "\n",
       "    .dataframe thead th {\n",
       "        text-align: right;\n",
       "    }\n",
       "</style>\n",
       "<table border=\"1\" class=\"dataframe\">\n",
       "  <thead>\n",
       "    <tr style=\"text-align: right;\">\n",
       "      <th></th>\n",
       "      <th>Z1</th>\n",
       "      <th>X2</th>\n",
       "      <th>O4</th>\n",
       "      <th>O5</th>\n",
       "    </tr>\n",
       "  </thead>\n",
       "  <tbody>\n",
       "    <tr>\n",
       "      <th>set_test</th>\n",
       "      <td>&lt;gurobi.Var decision variable Z1[set_test]&gt;</td>\n",
       "      <td>&lt;gurobi.Var decision variable X2[set_test]&gt;</td>\n",
       "      <td>5.216518</td>\n",
       "      <td>4.53373</td>\n",
       "    </tr>\n",
       "  </tbody>\n",
       "</table>\n",
       "</div>"
      ],
      "text/plain": [
       "                                                   Z1  \\\n",
       "set_test  <gurobi.Var decision variable Z1[set_test]>   \n",
       "\n",
       "                                                   X2        O4       O5  \n",
       "set_test  <gurobi.Var decision variable X2[set_test]>  5.216518  4.53373  "
      ]
     },
     "execution_count": 21,
     "metadata": {},
     "output_type": "execute_result"
    }
   ],
   "source": [
    "instance"
   ]
  },
  {
   "cell_type": "code",
   "execution_count": 22,
   "id": "93a6da9b-35e0-4cda-97d2-730b89c6657a",
   "metadata": {},
   "outputs": [
    {
     "name": "stdout",
     "output_type": "stream",
     "text": [
      "Model for model_predict:\n",
      "21 variables\n",
      "5 constraints\n",
      "15 quadratic constraints\n",
      "Input has shape (1, 4)\n",
      "Output has shape (1, 1)\n",
      "\n",
      "Pipeline has 3 steps:\n",
      "\n",
      "--------------------------------------------------------------------------------\n",
      "Step            Output Shape    Variables              Constraints              \n",
      "                                                Linear    Quadratic      General\n",
      "================================================================================\n",
      "std_scaler            (1, 4)            6            4            0            0\n",
      "\n",
      "poly_feat            (1, 15)           15            0           15            0\n",
      "\n",
      "lin_reg               (1, 1)            0            1            0            0\n",
      "\n",
      "--------------------------------------------------------------------------------\n"
     ]
    }
   ],
   "source": [
    "###### load ml constraint ######\n",
    "pred_constr = add_predictor_constr(gp_model = m, \n",
    "                                                    predictor = model_ml_to_test, \n",
    "                                                    input_vars = instance, # instance pandas gurobi\n",
    "                                                    output_vars = var_Y2, # target\n",
    "                                                    name = f'model_predict'\n",
    "                                                   )\n",
    "pred_constr.print_stats()"
   ]
  },
  {
   "cell_type": "markdown",
   "id": "a6d9d8ba-1a89-4778-9cda-af38f9531ca8",
   "metadata": {},
   "source": [
    "#### NOTE IN THIS PART YOU CAN SEE IF THE MODEL CAN CONNNECT TO GUROBI!"
   ]
  },
  {
   "cell_type": "code",
   "execution_count": null,
   "id": "48e3b7df-2bff-4171-82d2-22dd7a62cf3a",
   "metadata": {},
   "outputs": [],
   "source": []
  },
  {
   "cell_type": "markdown",
   "id": "a6921d2e-48ac-4456-919b-7f5029321a52",
   "metadata": {},
   "source": [
    "### 5. Define objective optimization\n",
    "Objetive that no generate infeasibility"
   ]
  },
  {
   "cell_type": "code",
   "execution_count": 23,
   "id": "a6142a3b-84d8-4ca1-b801-68573b17d98d",
   "metadata": {},
   "outputs": [],
   "source": [
    "m.setObjective(var_Y2.sum(),\n",
    "               gp.GRB.MINIMIZE)"
   ]
  },
  {
   "cell_type": "code",
   "execution_count": null,
   "id": "e6146b06-b08b-4c7c-a1a9-89af9e4b0fa9",
   "metadata": {},
   "outputs": [],
   "source": []
  },
  {
   "cell_type": "markdown",
   "id": "239737ce-2c33-4aca-b28e-b2e4450ee0bd",
   "metadata": {},
   "source": [
    "#### 6. Optimize and get optimal values"
   ]
  },
  {
   "cell_type": "code",
   "execution_count": 24,
   "id": "688cdcf5-ea18-4716-a523-3ee16b90db48",
   "metadata": {},
   "outputs": [
    {
     "name": "stdout",
     "output_type": "stream",
     "text": [
      "Gurobi Optimizer version 11.0.0 build v11.0.0rc2 (win64 - Windows 10.0 (19043.2))\n",
      "\n",
      "CPU model: Intel(R) Core(TM) i7-10750H CPU @ 2.60GHz, instruction set [SSE2|AVX|AVX2]\n",
      "Thread count: 6 physical cores, 12 logical processors, using up to 12 threads\n",
      "\n",
      "WLS license 2441807 - registered to CMPC Celulosa S.A\n",
      "Optimize a model with 5 rows, 24 columns and 23 nonzeros\n",
      "Model fingerprint: 0xabb844a1\n",
      "Model has 15 quadratic constraints\n",
      "Coefficient statistics:\n",
      "  Matrix range     [4e-03, 2e+01]\n",
      "  QMatrix range    [1e+00, 1e+00]\n",
      "  QLMatrix range   [1e+00, 1e+00]\n",
      "  Objective range  [1e+00, 1e+00]\n",
      "  Bounds range     [5e+00, 5e+00]\n",
      "  RHS range        [5e+00, 1e+02]\n",
      "  QRHS range       [1e+00, 1e+00]\n",
      "Presolve removed 4 rows and 7 columns\n",
      "\n",
      "Continuous model is non-convex -- solving as a MIP\n",
      "\n",
      "Presolve removed 4 rows and 19 columns\n",
      "Presolve time: 0.00s\n",
      "Presolved: 11 rows, 6 columns, 26 nonzeros\n",
      "Presolved model has 3 bilinear constraint(s)\n",
      "Warning: Model contains variables with very large bounds participating\n",
      "         in product terms.\n",
      "         Presolve was not able to compute smaller bounds for these variables.\n",
      "         Consider bounding these variables or reformulating the model.\n",
      "\n",
      "Variable types: 6 continuous, 0 integer (0 binary)\n",
      "Found heuristic solution: objective 17.1831022\n",
      "\n",
      "Root relaxation: objective 0.000000e+00, 9 iterations, 0.00 seconds (0.00 work units)\n",
      "\n",
      "    Nodes    |    Current Node    |     Objective Bounds      |     Work\n",
      " Expl Unexpl |  Obj  Depth IntInf | Incumbent    BestBd   Gap | It/Node Time\n",
      "\n",
      "     0     0    0.00000    0    2   17.18310    0.00000   100%     -    0s\n",
      "     0     0    0.00000    0    2   17.18310    0.00000   100%     -    0s\n",
      "     0     0    0.00000    0    2   17.18310    0.00000   100%     -    0s\n",
      "     0     2    0.00000    0    2   17.18310    0.00000   100%     -    0s\n",
      "*    3     4               2      17.1831022    0.00000   100%   2.0    0s\n",
      "H   57     2                      15.5130288    0.00000   100%   2.0    0s\n",
      "H  117     2                       3.6964698    0.00000   100%   2.1    0s\n",
      "*  206     4              53       2.1869341    0.00000   100%   2.2    0s\n",
      "*  208     4              54       0.6391497    0.00000   100%   2.2    0s\n",
      "*  224     7              60      -0.0000000   -0.00000  0.00%   2.1    0s\n",
      "\n",
      "Explored 242 nodes (517 simplex iterations) in 0.16 seconds (0.00 work units)\n",
      "Thread count was 12 (of 12 available processors)\n",
      "\n",
      "Solution count 6: -7.10543e-15 0.63915 2.18693 ... 17.1831\n",
      "\n",
      "Optimal solution found (tolerance 1.00e-04)\n",
      "Best objective 0.000000000000e+00, best bound -7.105427357601e-15, gap 0.0000%\n"
     ]
    }
   ],
   "source": [
    "# solve\n",
    "m.optimize()"
   ]
  },
  {
   "cell_type": "code",
   "execution_count": 25,
   "id": "b835ae8d-ca47-478f-9a11-a21227949557",
   "metadata": {},
   "outputs": [
    {
     "data": {
      "text/plain": [
       "2"
      ]
     },
     "execution_count": 25,
     "metadata": {},
     "output_type": "execute_result"
    }
   ],
   "source": [
    "#### know the status of the model - 2 a optimal solution was founded\n",
    "# docu: https://www.gurobi.com/documentation/current/refman/optimization_status_codes.html#sec:StatusCodes\n",
    "m.Status"
   ]
  },
  {
   "cell_type": "code",
   "execution_count": 26,
   "id": "241da7da-682e-4874-8251-c64700b06e16",
   "metadata": {},
   "outputs": [],
   "source": [
    "# get optimal values and save in a dataframe\n",
    "######## create a dataframe with set as index\n",
    "solution = pd.DataFrame(index = index_set)\n",
    "\n",
    "######################## save optimal values - features of models (only the features) ########################\n",
    "\n",
    "# model\n",
    "solution[\"var_Z1\"] = var_Z1.gppd.X\n",
    "solution[\"var_X2\"] = var_X2.gppd.X\n",
    "\n",
    "\n",
    "######################## save optimal values - targets of models (some targets are features of the model of the next step) ########################\n",
    "solution[\"var_Y2\"] = var_Y2.gppd.X  # model\n",
    "\n",
    "\n",
    "######################## # get value objetive function ########################\n",
    "opt_objetive_function = m.ObjVal"
   ]
  },
  {
   "cell_type": "code",
   "execution_count": 27,
   "id": "a6af89e0-0dde-4edb-a6a3-438616df05f1",
   "metadata": {},
   "outputs": [
    {
     "data": {
      "text/plain": [
       "0.0"
      ]
     },
     "execution_count": 27,
     "metadata": {},
     "output_type": "execute_result"
    }
   ],
   "source": [
    "# show value objetive function\n",
    "opt_objetive_function"
   ]
  },
  {
   "cell_type": "code",
   "execution_count": 28,
   "id": "e55440c3-3f32-4219-ae03-968aa51780d1",
   "metadata": {},
   "outputs": [
    {
     "data": {
      "text/html": [
       "<div>\n",
       "<style scoped>\n",
       "    .dataframe tbody tr th:only-of-type {\n",
       "        vertical-align: middle;\n",
       "    }\n",
       "\n",
       "    .dataframe tbody tr th {\n",
       "        vertical-align: top;\n",
       "    }\n",
       "\n",
       "    .dataframe thead th {\n",
       "        text-align: right;\n",
       "    }\n",
       "</style>\n",
       "<table border=\"1\" class=\"dataframe\">\n",
       "  <thead>\n",
       "    <tr style=\"text-align: right;\">\n",
       "      <th></th>\n",
       "      <th>var_Z1</th>\n",
       "      <th>var_X2</th>\n",
       "      <th>var_Y2</th>\n",
       "    </tr>\n",
       "  </thead>\n",
       "  <tbody>\n",
       "    <tr>\n",
       "      <th>set_test</th>\n",
       "      <td>4.156942</td>\n",
       "      <td>20.466896</td>\n",
       "      <td>0.0</td>\n",
       "    </tr>\n",
       "  </tbody>\n",
       "</table>\n",
       "</div>"
      ],
      "text/plain": [
       "            var_Z1     var_X2  var_Y2\n",
       "set_test  4.156942  20.466896     0.0"
      ]
     },
     "execution_count": 28,
     "metadata": {},
     "output_type": "execute_result"
    }
   ],
   "source": [
    "# show value decision variables\n",
    "solution"
   ]
  },
  {
   "cell_type": "code",
   "execution_count": null,
   "id": "591f9e07-b5c9-412a-9655-f5e0f0d6b2a9",
   "metadata": {},
   "outputs": [],
   "source": []
  },
  {
   "cell_type": "code",
   "execution_count": null,
   "id": "997212fc-e77f-4f88-9063-cee9924c5abe",
   "metadata": {},
   "outputs": [],
   "source": []
  }
 ],
 "metadata": {
  "kernelspec": {
   "display_name": "Python 3 (ipykernel)",
   "language": "python",
   "name": "python3"
  },
  "language_info": {
   "codemirror_mode": {
    "name": "ipython",
    "version": 3
   },
   "file_extension": ".py",
   "mimetype": "text/x-python",
   "name": "python",
   "nbconvert_exporter": "python",
   "pygments_lexer": "ipython3",
   "version": "3.10.12"
  }
 },
 "nbformat": 4,
 "nbformat_minor": 5
}
