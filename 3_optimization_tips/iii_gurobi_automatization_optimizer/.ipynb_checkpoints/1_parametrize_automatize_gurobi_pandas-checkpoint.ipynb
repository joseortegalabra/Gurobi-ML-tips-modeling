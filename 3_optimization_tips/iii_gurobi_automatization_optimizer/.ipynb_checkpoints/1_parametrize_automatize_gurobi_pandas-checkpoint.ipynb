{
 "cells": [
  {
   "cell_type": "markdown",
   "id": "92347a6c-5266-4995-ae64-7ab94a368734",
   "metadata": {},
   "source": [
    "# Codes to parametrize and automatize the creation of Optimization Model with gurobi pandas.\n",
    "## With this code it is possible to automatize the creation of optimization problem conserving the structure of the problem and changing the number of decision variables\n",
    "\n",
    "There two concepts to define:\n",
    "- **Parametrize**: conserve the original optimization problem (conserve the structure of decision variables) and change some parameters as rate change, bounds, initial values, etc without change the structure of the optimization that is hardcoded. There always the same decision variables, the same constraints\n",
    "\n",
    "- **Automatize**: this point refers to the automatization of the creation of the optimization model according a certain configuration files and create differents optimization problems, for example the optimization problem with more or less decision variables, differents inputs and outputs of the tank, etc. There are some default structure in optimizer but some decision variables and other can change\n",
    "\n",
    "\n",
    "------ \n",
    "**IMPORTANT OBSERVATIONS**\n",
    "\n",
    "- Write the codes in the notebook with the idea to transfer it into a script and call the script with the configuration file and create the optimizer and return it\n",
    "\n",
    "- All the python variables that are getting from configuration files, master tables, etc are **named with the prefix \"config\"** to reember that values are getting from a parameters that create the optimizer\n",
    "\n",
    "- **All of these parametes needs to be defined as external configuration/master tables. For this examples are defined inside the code**\n",
    "\n",
    "- **With this code it is possible to automatize the creation of optimization problem conserving the structure of the problem and changing the number of decision variables**\n",
    "\n",
    "- Obs2: aún no se automatiza las variables de los tanques cuando tienen multiples entradas y multiples salidas"
   ]
  },
  {
   "cell_type": "markdown",
   "id": "986f169c-cd8e-4707-b545-84226eedb449",
   "metadata": {},
   "source": [
    "## Root folder and read env variables"
   ]
  },
  {
   "cell_type": "code",
   "execution_count": 1,
   "id": "dcee657f-aada-49b8-b447-f41e067e4a18",
   "metadata": {},
   "outputs": [
    {
     "name": "stdout",
     "output_type": "stream",
     "text": [
      "root path:  D:\\github-mi-repo\\Gurobi-ML-tips-modeling\n"
     ]
    }
   ],
   "source": [
    "import os\n",
    "# fix root path to save outputs\n",
    "actual_path = os.path.abspath(os.getcwd())\n",
    "list_root_path = actual_path.split('\\\\')[:-2]\n",
    "root_path = '\\\\'.join(list_root_path)\n",
    "os.chdir(root_path)\n",
    "print('root path: ', root_path)"
   ]
  },
  {
   "cell_type": "code",
   "execution_count": 2,
   "id": "a6640988-69c4-4dfd-b22f-aeeb11fa6e55",
   "metadata": {},
   "outputs": [],
   "source": [
    "import os\n",
    "from dotenv import load_dotenv, find_dotenv # package used in jupyter notebook to read the variables in file .env\n",
    "\n",
    "\"\"\" get env variable from .env \"\"\"\n",
    "load_dotenv(find_dotenv())\n",
    "\n",
    "\"\"\" Read env variables and save it as python variable \"\"\"\n",
    "PROJECT_GCP = os.environ.get(\"PROJECT_GCP\", \"\")"
   ]
  },
  {
   "cell_type": "code",
   "execution_count": null,
   "id": "115d254b-2433-4917-ba92-651a10705e06",
   "metadata": {},
   "outputs": [],
   "source": []
  },
  {
   "cell_type": "markdown",
   "id": "b6843afc-d41f-44ba-a1a9-469cc4f3a6a2",
   "metadata": {},
   "source": [
    "## RUN"
   ]
  },
  {
   "cell_type": "code",
   "execution_count": 3,
   "id": "365a0300-b10d-4106-af86-619457307401",
   "metadata": {},
   "outputs": [],
   "source": [
    "import pickle\n",
    "import pandas as pd\n",
    "import numpy as np\n",
    "\n",
    "#gurobi\n",
    "import gurobipy_pandas as gppd\n",
    "from gurobi_ml import add_predictor_constr\n",
    "import gurobipy as gp"
   ]
  },
  {
   "cell_type": "code",
   "execution_count": 4,
   "id": "f7b14e29-5164-4360-a160-42a1a64bee08",
   "metadata": {},
   "outputs": [],
   "source": [
    "import warnings\n",
    "warnings.filterwarnings('ignore')"
   ]
  },
  {
   "cell_type": "code",
   "execution_count": null,
   "id": "1e3078fc-ed85-4d94-bcf6-47ac2f7e24d1",
   "metadata": {},
   "outputs": [],
   "source": []
  },
  {
   "cell_type": "code",
   "execution_count": null,
   "id": "45687449-9d9d-44aa-82a7-ae70255ac000",
   "metadata": {},
   "outputs": [],
   "source": []
  },
  {
   "cell_type": "markdown",
   "id": "08f70863-7e71-4ed5-8d9a-f9193550b3e5",
   "metadata": {},
   "source": [
    "### 1. Load configuration file optimizer and configuration instance to solve"
   ]
  },
  {
   "cell_type": "markdown",
   "id": "ed635269-06e2-4d29-93aa-33d7255a0bca",
   "metadata": {},
   "source": [
    "#### 1.1. Configuration file to load optimizer"
   ]
  },
  {
   "cell_type": "code",
   "execution_count": 5,
   "id": "7afa714d-76c7-45b2-931a-446ddcbfa9a3",
   "metadata": {},
   "outputs": [
    {
     "data": {
      "text/plain": [
       "Index(['t0', 't1', 't2', 't3', 't4', 't5', 't6'], dtype='object')"
      ]
     },
     "execution_count": 5,
     "metadata": {},
     "output_type": "execute_result"
    }
   ],
   "source": [
    "##### define set\n",
    "list_set_time = ['t0', 't1', 't2', 't3', 't4', 't5', 't6']\n",
    "index_set_time = pd.Index(list_set_time)\n",
    "index_set_time"
   ]
  },
  {
   "cell_type": "code",
   "execution_count": 6,
   "id": "d5d8f927-f2b9-485f-9f11-16e956bc6465",
   "metadata": {},
   "outputs": [
    {
     "data": {
      "text/html": [
       "<div>\n",
       "<style scoped>\n",
       "    .dataframe tbody tr th:only-of-type {\n",
       "        vertical-align: middle;\n",
       "    }\n",
       "\n",
       "    .dataframe tbody tr th {\n",
       "        vertical-align: top;\n",
       "    }\n",
       "\n",
       "    .dataframe thead th {\n",
       "        text-align: right;\n",
       "    }\n",
       "</style>\n",
       "<table border=\"1\" class=\"dataframe\">\n",
       "  <thead>\n",
       "    <tr style=\"text-align: right;\">\n",
       "      <th></th>\n",
       "      <th>names</th>\n",
       "      <th>description</th>\n",
       "      <th>lower</th>\n",
       "      <th>upper</th>\n",
       "      <th>rate_change</th>\n",
       "    </tr>\n",
       "  </thead>\n",
       "  <tbody>\n",
       "    <tr>\n",
       "      <th>0</th>\n",
       "      <td>X1</td>\n",
       "      <td>decision variable X1</td>\n",
       "      <td>0</td>\n",
       "      <td>1000</td>\n",
       "      <td>100.0</td>\n",
       "    </tr>\n",
       "    <tr>\n",
       "      <th>1</th>\n",
       "      <td>X2</td>\n",
       "      <td>decision variable X2</td>\n",
       "      <td>0</td>\n",
       "      <td>1000</td>\n",
       "      <td>NaN</td>\n",
       "    </tr>\n",
       "    <tr>\n",
       "      <th>2</th>\n",
       "      <td>Y1</td>\n",
       "      <td>decision variable Y1</td>\n",
       "      <td>0</td>\n",
       "      <td>1000</td>\n",
       "      <td>40.0</td>\n",
       "    </tr>\n",
       "    <tr>\n",
       "      <th>3</th>\n",
       "      <td>Z1</td>\n",
       "      <td>decision variable Y2</td>\n",
       "      <td>0</td>\n",
       "      <td>1000</td>\n",
       "      <td>40.0</td>\n",
       "    </tr>\n",
       "    <tr>\n",
       "      <th>4</th>\n",
       "      <td>tank_level</td>\n",
       "      <td>decision variable level tank</td>\n",
       "      <td>200</td>\n",
       "      <td>1000</td>\n",
       "      <td>NaN</td>\n",
       "    </tr>\n",
       "  </tbody>\n",
       "</table>\n",
       "</div>"
      ],
      "text/plain": [
       "        names                   description  lower  upper  rate_change\n",
       "0          X1          decision variable X1      0   1000        100.0\n",
       "1          X2          decision variable X2      0   1000          NaN\n",
       "2          Y1          decision variable Y1      0   1000         40.0\n",
       "3          Z1          decision variable Y2      0   1000         40.0\n",
       "4  tank_level  decision variable level tank    200   1000          NaN"
      ]
     },
     "execution_count": 6,
     "metadata": {},
     "output_type": "execute_result"
    }
   ],
   "source": [
    "##### define table to create decision vars\n",
    "list_decision_var_names = [\"X1\", \"X2\", \"Y1\", \"Z1\", \"tank_level\"]\n",
    "list_deceision_var_description = [\"decision variable X1\", \"decision variable X2\", \"decision variable Y1\", \"decision variable Y2\", \"decision variable level tank\"]\n",
    "list_lower_bound = [0, 0, 0, 0, 200]\n",
    "list_upper_bound = [1000, 1000, 1000, 1000, 1000]\n",
    "list_rate_change = [100, np.nan, 40, 40, np.nan]\n",
    "\n",
    "# dataframe\n",
    "config_decision_var = pd.DataFrame()\n",
    "config_decision_var['names'] = list_decision_var_names\n",
    "config_decision_var['description'] = list_deceision_var_description\n",
    "config_decision_var['lower'] = list_lower_bound\n",
    "config_decision_var['upper'] = list_upper_bound\n",
    "config_decision_var['rate_change'] = list_rate_change\n",
    "\n",
    "config_decision_var"
   ]
  },
  {
   "cell_type": "code",
   "execution_count": null,
   "id": "46677b41-5c2d-42a1-a139-66867a151d5f",
   "metadata": {},
   "outputs": [],
   "source": []
  },
  {
   "cell_type": "markdown",
   "id": "ff21e472-478b-4cbf-99c1-7c783ce5f303",
   "metadata": {},
   "source": [
    "#### 1.2. Configuration files instance to solve"
   ]
  },
  {
   "cell_type": "code",
   "execution_count": 7,
   "id": "644be1ca-b30b-439d-a76e-8325e52f1698",
   "metadata": {},
   "outputs": [
    {
     "data": {
      "text/html": [
       "<div>\n",
       "<style scoped>\n",
       "    .dataframe tbody tr th:only-of-type {\n",
       "        vertical-align: middle;\n",
       "    }\n",
       "\n",
       "    .dataframe tbody tr th {\n",
       "        vertical-align: top;\n",
       "    }\n",
       "\n",
       "    .dataframe thead th {\n",
       "        text-align: right;\n",
       "    }\n",
       "</style>\n",
       "<table border=\"1\" class=\"dataframe\">\n",
       "  <thead>\n",
       "    <tr style=\"text-align: right;\">\n",
       "      <th></th>\n",
       "      <th>names</th>\n",
       "      <th>values</th>\n",
       "    </tr>\n",
       "  </thead>\n",
       "  <tbody>\n",
       "    <tr>\n",
       "      <th>0</th>\n",
       "      <td>X1</td>\n",
       "      <td>10.0</td>\n",
       "    </tr>\n",
       "    <tr>\n",
       "      <th>1</th>\n",
       "      <td>X2</td>\n",
       "      <td>55.0</td>\n",
       "    </tr>\n",
       "    <tr>\n",
       "      <th>2</th>\n",
       "      <td>Y1</td>\n",
       "      <td>NaN</td>\n",
       "    </tr>\n",
       "    <tr>\n",
       "      <th>3</th>\n",
       "      <td>Z1</td>\n",
       "      <td>20.0</td>\n",
       "    </tr>\n",
       "    <tr>\n",
       "      <th>4</th>\n",
       "      <td>tank_level</td>\n",
       "      <td>500.0</td>\n",
       "    </tr>\n",
       "  </tbody>\n",
       "</table>\n",
       "</div>"
      ],
      "text/plain": [
       "        names  values\n",
       "0          X1    10.0\n",
       "1          X2    55.0\n",
       "2          Y1     NaN\n",
       "3          Z1    20.0\n",
       "4  tank_level   500.0"
      ]
     },
     "execution_count": 7,
     "metadata": {},
     "output_type": "execute_result"
    }
   ],
   "source": [
    "# define file with initial values\n",
    "list_decision_var_names = [\"X1\", \"X2\", \"Y1\", \"Z1\", \"tank_level\"]\n",
    "list_initial_values = [10, 55, np.NaN, 20, 500]\n",
    "\n",
    "# dataframe\n",
    "config_initial_values = pd.DataFrame()\n",
    "config_initial_values['names'] = list_decision_var_names\n",
    "config_initial_values['values'] = list_initial_values\n",
    "\n",
    "config_initial_values"
   ]
  },
  {
   "cell_type": "code",
   "execution_count": null,
   "id": "16525b18-abc7-4506-85ea-1e8b2900d6bd",
   "metadata": {},
   "outputs": [],
   "source": []
  },
  {
   "cell_type": "code",
   "execution_count": null,
   "id": "148c5ac8-f0d8-4ddd-b52e-9db7c7aaa7f9",
   "metadata": {},
   "outputs": [],
   "source": []
  },
  {
   "cell_type": "markdown",
   "id": "61bbf9c2-fc6f-44cc-ac07-fd485651fca4",
   "metadata": {},
   "source": [
    "### 2. Create gurobi model"
   ]
  },
  {
   "cell_type": "code",
   "execution_count": 8,
   "id": "9adcac1a-f1e5-48a8-838a-132f4fd0de81",
   "metadata": {},
   "outputs": [
    {
     "name": "stdout",
     "output_type": "stream",
     "text": [
      "Restricted license - for non-production use only - expires 2025-11-24\n"
     ]
    }
   ],
   "source": [
    "# create model\n",
    "model_opt = gp.Model('Example Optimization Model')"
   ]
  },
  {
   "cell_type": "code",
   "execution_count": null,
   "id": "cd4834c3-d4b9-4918-9499-00ed9d3b7dfe",
   "metadata": {},
   "outputs": [],
   "source": []
  },
  {
   "cell_type": "markdown",
   "id": "052c9a12-c3a9-456f-8c59-e2f78776984d",
   "metadata": {},
   "source": [
    "### 3. Create decision variables\n",
    "It is necesary to have:\n",
    "- list of elements of the sets of decision var\n",
    "- table with the list of decision variables to create with important considerations when the are created (for example, upper bound and lower bound)\n",
    "- **create the decision var and save it into a dictionary of decision var. Use the dictionary to call the decision var when they are used to create a constraints**"
   ]
  },
  {
   "cell_type": "markdown",
   "id": "26d058dc-ac4d-43a0-a85b-64d786eb4292",
   "metadata": {},
   "source": [
    "#### Aditional, when the decision var is created, set the initial value\n",
    "\n",
    "- Fix the values of period t=0 for each decision var.\n",
    "\n",
    "- t=0 represent the actual period or initial period and it in some problems and modelations is kwown\n",
    "\n",
    "- In addition in this notebook, the values in time t=0 are fixed for all decision variables, inclusive if the decision var have a constraint that define its values in time t = 0 (so, this kind of constraints needs to be defined since t = 1)"
   ]
  },
  {
   "cell_type": "code",
   "execution_count": 9,
   "id": "477adb5f-a388-4ed1-b812-b16e571f3887",
   "metadata": {},
   "outputs": [
    {
     "name": "stdout",
     "output_type": "stream",
     "text": [
      "defining decision variables:  X1\n",
      "defining decision variables:  X2\n",
      "defining decision variables:  Y1\n",
      "defining decision variables:  Z1\n",
      "defining decision variables:  tank_level\n"
     ]
    }
   ],
   "source": [
    "##### define a for across the configuration table to create the decision vars and save it into a python dictionary\n",
    "\n",
    "decision_var = {}\n",
    "for index_var in range(len(config_decision_var)):\n",
    "\n",
    "    # get config values\n",
    "    config_names_decision_var = config_decision_var.loc[index_var, 'names']\n",
    "    config_description_decision_var = config_decision_var.loc[index_var, 'description']\n",
    "    print('defining decision variables: ', config_names_decision_var)\n",
    "\n",
    "    # create decision var and save in the dictionary\n",
    "    decision_var[config_names_decision_var] = gppd.add_vars(model_opt, \n",
    "                                                            index_set_time, \n",
    "                                                            name = config_description_decision_var,\n",
    "                                                            #lb = -gp.GRB.INFINITY,\n",
    "                                                            ub = gp.GRB.INFINITY\n",
    "                                                           )"
   ]
  },
  {
   "cell_type": "code",
   "execution_count": 10,
   "id": "e4a5c42c-7636-4d97-90fa-18a486c1f92b",
   "metadata": {},
   "outputs": [
    {
     "data": {
      "text/plain": [
       "{'X1': t0    <gurobi.Var *Awaiting Model Update*>\n",
       " t1    <gurobi.Var *Awaiting Model Update*>\n",
       " t2    <gurobi.Var *Awaiting Model Update*>\n",
       " t3    <gurobi.Var *Awaiting Model Update*>\n",
       " t4    <gurobi.Var *Awaiting Model Update*>\n",
       " t5    <gurobi.Var *Awaiting Model Update*>\n",
       " t6    <gurobi.Var *Awaiting Model Update*>\n",
       " Name: decision variable X1, dtype: object,\n",
       " 'X2': t0    <gurobi.Var *Awaiting Model Update*>\n",
       " t1    <gurobi.Var *Awaiting Model Update*>\n",
       " t2    <gurobi.Var *Awaiting Model Update*>\n",
       " t3    <gurobi.Var *Awaiting Model Update*>\n",
       " t4    <gurobi.Var *Awaiting Model Update*>\n",
       " t5    <gurobi.Var *Awaiting Model Update*>\n",
       " t6    <gurobi.Var *Awaiting Model Update*>\n",
       " Name: decision variable X2, dtype: object,\n",
       " 'Y1': t0    <gurobi.Var *Awaiting Model Update*>\n",
       " t1    <gurobi.Var *Awaiting Model Update*>\n",
       " t2    <gurobi.Var *Awaiting Model Update*>\n",
       " t3    <gurobi.Var *Awaiting Model Update*>\n",
       " t4    <gurobi.Var *Awaiting Model Update*>\n",
       " t5    <gurobi.Var *Awaiting Model Update*>\n",
       " t6    <gurobi.Var *Awaiting Model Update*>\n",
       " Name: decision variable Y1, dtype: object,\n",
       " 'Z1': t0    <gurobi.Var *Awaiting Model Update*>\n",
       " t1    <gurobi.Var *Awaiting Model Update*>\n",
       " t2    <gurobi.Var *Awaiting Model Update*>\n",
       " t3    <gurobi.Var *Awaiting Model Update*>\n",
       " t4    <gurobi.Var *Awaiting Model Update*>\n",
       " t5    <gurobi.Var *Awaiting Model Update*>\n",
       " t6    <gurobi.Var *Awaiting Model Update*>\n",
       " Name: decision variable Y2, dtype: object,\n",
       " 'tank_level': t0    <gurobi.Var *Awaiting Model Update*>\n",
       " t1    <gurobi.Var *Awaiting Model Update*>\n",
       " t2    <gurobi.Var *Awaiting Model Update*>\n",
       " t3    <gurobi.Var *Awaiting Model Update*>\n",
       " t4    <gurobi.Var *Awaiting Model Update*>\n",
       " t5    <gurobi.Var *Awaiting Model Update*>\n",
       " t6    <gurobi.Var *Awaiting Model Update*>\n",
       " Name: decision variable level tank, dtype: object}"
      ]
     },
     "execution_count": 10,
     "metadata": {},
     "output_type": "execute_result"
    }
   ],
   "source": [
    "decision_var"
   ]
  },
  {
   "cell_type": "code",
   "execution_count": 11,
   "id": "928977f1-96f3-4da8-ad8d-c5159f4bb168",
   "metadata": {},
   "outputs": [],
   "source": [
    "model_opt.update()"
   ]
  },
  {
   "cell_type": "code",
   "execution_count": 12,
   "id": "8ba979fa-d792-4bab-a28c-ff5e28108341",
   "metadata": {},
   "outputs": [
    {
     "data": {
      "text/plain": [
       "<gurobi.Model Continuous instance Example Optimization Model: 0 constrs, 35 vars, No parameter changes>"
      ]
     },
     "execution_count": 12,
     "metadata": {},
     "output_type": "execute_result"
    }
   ],
   "source": [
    "model_opt"
   ]
  },
  {
   "cell_type": "code",
   "execution_count": null,
   "id": "f2355bc7-955a-4464-923c-ea2cef8b372f",
   "metadata": {},
   "outputs": [],
   "source": []
  },
  {
   "cell_type": "code",
   "execution_count": null,
   "id": "05d97e9f-7b09-4858-bd63-9d898d4f9e70",
   "metadata": {},
   "outputs": [],
   "source": []
  },
  {
   "cell_type": "markdown",
   "id": "d06c2bbf-1f5e-4aaf-99f5-3e1fdbeca3f1",
   "metadata": {},
   "source": [
    "### 4. Set initial values decision variables\n",
    "Set the initial values t=0 for the decision variables that needs this initial values and save in t=0"
   ]
  },
  {
   "cell_type": "code",
   "execution_count": 13,
   "id": "ed2f48a1-1039-4c65-8f18-0800b4df757a",
   "metadata": {},
   "outputs": [
    {
     "data": {
      "text/html": [
       "<div>\n",
       "<style scoped>\n",
       "    .dataframe tbody tr th:only-of-type {\n",
       "        vertical-align: middle;\n",
       "    }\n",
       "\n",
       "    .dataframe tbody tr th {\n",
       "        vertical-align: top;\n",
       "    }\n",
       "\n",
       "    .dataframe thead th {\n",
       "        text-align: right;\n",
       "    }\n",
       "</style>\n",
       "<table border=\"1\" class=\"dataframe\">\n",
       "  <thead>\n",
       "    <tr style=\"text-align: right;\">\n",
       "      <th></th>\n",
       "      <th>names</th>\n",
       "      <th>values</th>\n",
       "    </tr>\n",
       "  </thead>\n",
       "  <tbody>\n",
       "    <tr>\n",
       "      <th>0</th>\n",
       "      <td>X1</td>\n",
       "      <td>10.0</td>\n",
       "    </tr>\n",
       "    <tr>\n",
       "      <th>1</th>\n",
       "      <td>X2</td>\n",
       "      <td>55.0</td>\n",
       "    </tr>\n",
       "    <tr>\n",
       "      <th>2</th>\n",
       "      <td>Z1</td>\n",
       "      <td>20.0</td>\n",
       "    </tr>\n",
       "    <tr>\n",
       "      <th>3</th>\n",
       "      <td>tank_level</td>\n",
       "      <td>500.0</td>\n",
       "    </tr>\n",
       "  </tbody>\n",
       "</table>\n",
       "</div>"
      ],
      "text/plain": [
       "        names  values\n",
       "0          X1    10.0\n",
       "1          X2    55.0\n",
       "2          Z1    20.0\n",
       "3  tank_level   500.0"
      ]
     },
     "execution_count": 13,
     "metadata": {},
     "output_type": "execute_result"
    }
   ],
   "source": [
    "# initial values decision variables - filter configuration file with only the decision var that have defined its initial values\n",
    "config_initial_values_decision_var = config_initial_values[config_initial_values['values'].isnull() == False]\n",
    "config_initial_values_decision_var = config_initial_values_decision_var.reset_index().drop(columns = 'index')\n",
    "config_initial_values_decision_var"
   ]
  },
  {
   "cell_type": "code",
   "execution_count": 14,
   "id": "5cdbcc44-cd0a-4d9a-b094-6380ca23afe8",
   "metadata": {},
   "outputs": [
    {
     "name": "stdout",
     "output_type": "stream",
     "text": [
      "set initial values decision variables:  X1\n",
      "set initial values decision variables:  X2\n",
      "set initial values decision variables:  Z1\n",
      "set initial values decision variables:  tank_level\n"
     ]
    }
   ],
   "source": [
    "for index_var in range(len(config_initial_values_decision_var)):\n",
    "\n",
    "    # get config values\n",
    "    config_names_decision_var = config_initial_values_decision_var.loc[index_var, 'names']\n",
    "    print('set initial values decision variables: ', config_names_decision_var)\n",
    "\n",
    "    # get initial value\n",
    "    initial_value_decision_var = config_initial_values_decision_var[config_initial_values_decision_var['names'] == config_names_decision_var]['values'].values[0]\n",
    "    \n",
    "    # set initial value (diff t = 0 and t = -1) is set to cero because t = -1 is not defined\n",
    "    model_opt.addConstr(decision_var[config_names_decision_var]['t0'] == initial_value_decision_var,  \n",
    "                        name = f'Initial Value {config_names_decision_var}')"
   ]
  },
  {
   "cell_type": "code",
   "execution_count": 15,
   "id": "0047077e-7ff3-4b62-94d8-7f20bd4fb9a9",
   "metadata": {},
   "outputs": [
    {
     "data": {
      "text/plain": [
       "<gurobi.Model Continuous instance Example Optimization Model: 0 constrs, 35 vars, No parameter changes>"
      ]
     },
     "execution_count": 15,
     "metadata": {},
     "output_type": "execute_result"
    }
   ],
   "source": [
    "model_opt"
   ]
  },
  {
   "cell_type": "code",
   "execution_count": 16,
   "id": "7610d526-120e-4157-9828-da0a24821a0e",
   "metadata": {},
   "outputs": [],
   "source": [
    "model_opt.update()"
   ]
  },
  {
   "cell_type": "code",
   "execution_count": 17,
   "id": "d4f70e21-3154-4794-b41b-3cb684a94c42",
   "metadata": {},
   "outputs": [
    {
     "data": {
      "text/plain": [
       "<gurobi.Model Continuous instance Example Optimization Model: 4 constrs, 35 vars, No parameter changes>"
      ]
     },
     "execution_count": 17,
     "metadata": {},
     "output_type": "execute_result"
    }
   ],
   "source": [
    "model_opt"
   ]
  },
  {
   "cell_type": "code",
   "execution_count": null,
   "id": "ddc8343e-8d22-48c9-a5a1-c5d8b403a55e",
   "metadata": {},
   "outputs": [],
   "source": []
  },
  {
   "cell_type": "code",
   "execution_count": null,
   "id": "7453a981-ef9a-4763-8e50-a3f338a78f09",
   "metadata": {},
   "outputs": [],
   "source": []
  },
  {
   "cell_type": "code",
   "execution_count": null,
   "id": "216ff68d-ee77-488a-b8c4-bcc39469f4f8",
   "metadata": {},
   "outputs": [],
   "source": []
  },
  {
   "cell_type": "markdown",
   "id": "b9d7708c-7f10-45c9-b3ac-f41c81f20763",
   "metadata": {},
   "source": [
    "### 5. Lower bound and Upper bound decision variables\n",
    "For example, lower bound and upper bound of tank level\n",
    "\n",
    "---\n",
    "If one decision variables doesn't need a lower bound and upper bound parameter, its value in configuration file is saved as np.NaN\n",
    "\n",
    "Then filter the configuration table to have only the decision variables that have defined a rate_change\n",
    "\n",
    "define in differents files one for lower bounds and another for upper bounds"
   ]
  },
  {
   "cell_type": "markdown",
   "id": "82f4e62a-7ba1-4a67-becd-7f66a4428f5e",
   "metadata": {},
   "source": [
    "#### 5.1 Lower bound\n",
    "Since config decision var create a subtable with only the features that have defined its upper bound and then create the constraints"
   ]
  },
  {
   "cell_type": "code",
   "execution_count": 18,
   "id": "270e54c6-bde4-4421-99ef-80fc8043ff0e",
   "metadata": {},
   "outputs": [
    {
     "data": {
      "text/html": [
       "<div>\n",
       "<style scoped>\n",
       "    .dataframe tbody tr th:only-of-type {\n",
       "        vertical-align: middle;\n",
       "    }\n",
       "\n",
       "    .dataframe tbody tr th {\n",
       "        vertical-align: top;\n",
       "    }\n",
       "\n",
       "    .dataframe thead th {\n",
       "        text-align: right;\n",
       "    }\n",
       "</style>\n",
       "<table border=\"1\" class=\"dataframe\">\n",
       "  <thead>\n",
       "    <tr style=\"text-align: right;\">\n",
       "      <th></th>\n",
       "      <th>names</th>\n",
       "      <th>description</th>\n",
       "      <th>lower</th>\n",
       "      <th>upper</th>\n",
       "      <th>rate_change</th>\n",
       "    </tr>\n",
       "  </thead>\n",
       "  <tbody>\n",
       "    <tr>\n",
       "      <th>0</th>\n",
       "      <td>X1</td>\n",
       "      <td>decision variable X1</td>\n",
       "      <td>0</td>\n",
       "      <td>1000</td>\n",
       "      <td>100.0</td>\n",
       "    </tr>\n",
       "    <tr>\n",
       "      <th>1</th>\n",
       "      <td>X2</td>\n",
       "      <td>decision variable X2</td>\n",
       "      <td>0</td>\n",
       "      <td>1000</td>\n",
       "      <td>NaN</td>\n",
       "    </tr>\n",
       "    <tr>\n",
       "      <th>2</th>\n",
       "      <td>Y1</td>\n",
       "      <td>decision variable Y1</td>\n",
       "      <td>0</td>\n",
       "      <td>1000</td>\n",
       "      <td>40.0</td>\n",
       "    </tr>\n",
       "    <tr>\n",
       "      <th>3</th>\n",
       "      <td>Z1</td>\n",
       "      <td>decision variable Y2</td>\n",
       "      <td>0</td>\n",
       "      <td>1000</td>\n",
       "      <td>40.0</td>\n",
       "    </tr>\n",
       "    <tr>\n",
       "      <th>4</th>\n",
       "      <td>tank_level</td>\n",
       "      <td>decision variable level tank</td>\n",
       "      <td>200</td>\n",
       "      <td>1000</td>\n",
       "      <td>NaN</td>\n",
       "    </tr>\n",
       "  </tbody>\n",
       "</table>\n",
       "</div>"
      ],
      "text/plain": [
       "        names                   description  lower  upper  rate_change\n",
       "0          X1          decision variable X1      0   1000        100.0\n",
       "1          X2          decision variable X2      0   1000          NaN\n",
       "2          Y1          decision variable Y1      0   1000         40.0\n",
       "3          Z1          decision variable Y2      0   1000         40.0\n",
       "4  tank_level  decision variable level tank    200   1000          NaN"
      ]
     },
     "execution_count": 18,
     "metadata": {},
     "output_type": "execute_result"
    }
   ],
   "source": [
    "# lower bounds parameters - filter configuration file with only the decision var that have defined its lower bounds\n",
    "config_decision_var_lower_bounds = config_decision_var[config_decision_var['lower'].isnull() == False]\n",
    "config_decision_var_lower_bounds = config_decision_var_lower_bounds.reset_index().drop(columns = 'index')\n",
    "config_decision_var_lower_bounds"
   ]
  },
  {
   "cell_type": "code",
   "execution_count": 19,
   "id": "d9239a21-7bba-4a69-8609-6b55ec81fc60",
   "metadata": {},
   "outputs": [
    {
     "name": "stdout",
     "output_type": "stream",
     "text": [
      "lower bound decision_var:  X1\n",
      "lower bound decision_var:  X2\n",
      "lower bound decision_var:  Y1\n",
      "lower bound decision_var:  Z1\n",
      "lower bound decision_var:  tank_level\n"
     ]
    }
   ],
   "source": [
    "# generate constaint - lower bound\n",
    "\n",
    "for index_var in range(len(config_decision_var_lower_bounds)):\n",
    "\n",
    "    # get config values\n",
    "    config_names_decision_var = config_decision_var_lower_bounds.loc[index_var, 'names']\n",
    "    print('lower bound decision_var: ', config_names_decision_var)\n",
    "    \n",
    "    gppd.add_constrs(model_opt, \n",
    "                     decision_var[config_names_decision_var],  # decision var\n",
    "                     gp.GRB.GREATER_EQUAL,\n",
    "                     config_decision_var_lower_bounds[config_decision_var_lower_bounds['names'] == config_names_decision_var]['lower'].values[0],  # lower bound\n",
    "                     name = f'Lower bound {config_names_decision_var}')"
   ]
  },
  {
   "cell_type": "code",
   "execution_count": null,
   "id": "af46521d-d060-474f-a93d-1323258b524f",
   "metadata": {},
   "outputs": [],
   "source": []
  },
  {
   "cell_type": "code",
   "execution_count": null,
   "id": "9fb165d8-6db4-4127-a088-e798171fd13b",
   "metadata": {},
   "outputs": [],
   "source": []
  },
  {
   "cell_type": "markdown",
   "id": "7e7dbd14-8485-4a9f-a76c-7cbf650cd358",
   "metadata": {},
   "source": [
    "#### 5.2 upper bound\n",
    "Since config decision var create a subtable with only the features that have defined its upper bound and then create the constraints"
   ]
  },
  {
   "cell_type": "code",
   "execution_count": 20,
   "id": "f468287e-e392-4134-a096-91b5ac457963",
   "metadata": {},
   "outputs": [
    {
     "data": {
      "text/html": [
       "<div>\n",
       "<style scoped>\n",
       "    .dataframe tbody tr th:only-of-type {\n",
       "        vertical-align: middle;\n",
       "    }\n",
       "\n",
       "    .dataframe tbody tr th {\n",
       "        vertical-align: top;\n",
       "    }\n",
       "\n",
       "    .dataframe thead th {\n",
       "        text-align: right;\n",
       "    }\n",
       "</style>\n",
       "<table border=\"1\" class=\"dataframe\">\n",
       "  <thead>\n",
       "    <tr style=\"text-align: right;\">\n",
       "      <th></th>\n",
       "      <th>names</th>\n",
       "      <th>description</th>\n",
       "      <th>lower</th>\n",
       "      <th>upper</th>\n",
       "      <th>rate_change</th>\n",
       "    </tr>\n",
       "  </thead>\n",
       "  <tbody>\n",
       "    <tr>\n",
       "      <th>0</th>\n",
       "      <td>X1</td>\n",
       "      <td>decision variable X1</td>\n",
       "      <td>0</td>\n",
       "      <td>1000</td>\n",
       "      <td>100.0</td>\n",
       "    </tr>\n",
       "    <tr>\n",
       "      <th>1</th>\n",
       "      <td>X2</td>\n",
       "      <td>decision variable X2</td>\n",
       "      <td>0</td>\n",
       "      <td>1000</td>\n",
       "      <td>NaN</td>\n",
       "    </tr>\n",
       "    <tr>\n",
       "      <th>2</th>\n",
       "      <td>Y1</td>\n",
       "      <td>decision variable Y1</td>\n",
       "      <td>0</td>\n",
       "      <td>1000</td>\n",
       "      <td>40.0</td>\n",
       "    </tr>\n",
       "    <tr>\n",
       "      <th>3</th>\n",
       "      <td>Z1</td>\n",
       "      <td>decision variable Y2</td>\n",
       "      <td>0</td>\n",
       "      <td>1000</td>\n",
       "      <td>40.0</td>\n",
       "    </tr>\n",
       "    <tr>\n",
       "      <th>4</th>\n",
       "      <td>tank_level</td>\n",
       "      <td>decision variable level tank</td>\n",
       "      <td>200</td>\n",
       "      <td>1000</td>\n",
       "      <td>NaN</td>\n",
       "    </tr>\n",
       "  </tbody>\n",
       "</table>\n",
       "</div>"
      ],
      "text/plain": [
       "        names                   description  lower  upper  rate_change\n",
       "0          X1          decision variable X1      0   1000        100.0\n",
       "1          X2          decision variable X2      0   1000          NaN\n",
       "2          Y1          decision variable Y1      0   1000         40.0\n",
       "3          Z1          decision variable Y2      0   1000         40.0\n",
       "4  tank_level  decision variable level tank    200   1000          NaN"
      ]
     },
     "execution_count": 20,
     "metadata": {},
     "output_type": "execute_result"
    }
   ],
   "source": [
    "# upper bounds parameters - filter configuration file with only the decision var that have defined its upper bounds\n",
    "config_decision_var_upper_bounds = config_decision_var[config_decision_var['upper'].isnull() == False]\n",
    "config_decision_var_upper_bounds = config_decision_var_upper_bounds.reset_index().drop(columns = 'index')\n",
    "config_decision_var_upper_bounds"
   ]
  },
  {
   "cell_type": "code",
   "execution_count": 21,
   "id": "e8d3e40e-460a-45b8-97d8-923ecbd6d412",
   "metadata": {},
   "outputs": [
    {
     "name": "stdout",
     "output_type": "stream",
     "text": [
      "upper bound decision_var:  X1\n",
      "upper bound decision_var:  X2\n",
      "upper bound decision_var:  Y1\n",
      "upper bound decision_var:  Z1\n",
      "upper bound decision_var:  tank_level\n"
     ]
    }
   ],
   "source": [
    "# generate constaint - upper bound\n",
    "\n",
    "for index_var in range(len(config_decision_var_upper_bounds)):\n",
    "\n",
    "    # get config values\n",
    "    config_names_decision_var = config_decision_var_upper_bounds.loc[index_var, 'names']\n",
    "    print('upper bound decision_var: ', config_names_decision_var)\n",
    "    \n",
    "    gppd.add_constrs(model_opt, \n",
    "                     decision_var[config_names_decision_var],  # decision var\n",
    "                     gp.GRB.LESS_EQUAL, \n",
    "                     config_decision_var_upper_bounds[config_decision_var_upper_bounds['names'] == config_names_decision_var]['upper'].values[0],  # upper bound\n",
    "                     name = f'Upper bound {config_names_decision_var}')"
   ]
  },
  {
   "cell_type": "code",
   "execution_count": null,
   "id": "85d43894-5489-423a-af35-ce97f3042edb",
   "metadata": {},
   "outputs": [],
   "source": []
  },
  {
   "cell_type": "code",
   "execution_count": 22,
   "id": "a6d9b874-5107-44ff-ba3c-92748f947dc3",
   "metadata": {},
   "outputs": [
    {
     "data": {
      "text/plain": [
       "<gurobi.Model Continuous instance Example Optimization Model: 4 constrs, 35 vars, No parameter changes>"
      ]
     },
     "execution_count": 22,
     "metadata": {},
     "output_type": "execute_result"
    }
   ],
   "source": [
    "model_opt"
   ]
  },
  {
   "cell_type": "code",
   "execution_count": 23,
   "id": "84c76597-e69c-427b-8cb5-5c3474020604",
   "metadata": {},
   "outputs": [],
   "source": [
    "model_opt.update()"
   ]
  },
  {
   "cell_type": "code",
   "execution_count": 24,
   "id": "e67e8aa1-7cb7-4159-b4eb-78f9f4ff8b85",
   "metadata": {},
   "outputs": [
    {
     "data": {
      "text/plain": [
       "<gurobi.Model Continuous instance Example Optimization Model: 74 constrs, 35 vars, No parameter changes>"
      ]
     },
     "execution_count": 24,
     "metadata": {},
     "output_type": "execute_result"
    }
   ],
   "source": [
    "model_opt # debugging"
   ]
  },
  {
   "cell_type": "code",
   "execution_count": null,
   "id": "4884f5f4-99b4-4bc9-8c8d-d857534f8bd9",
   "metadata": {},
   "outputs": [],
   "source": []
  },
  {
   "cell_type": "code",
   "execution_count": null,
   "id": "8a508b0c-5098-4efa-b0a7-d002ed98b2a7",
   "metadata": {},
   "outputs": [],
   "source": []
  },
  {
   "cell_type": "markdown",
   "id": "60ce8851-5341-4f0b-ba43-19bf29aea0df",
   "metadata": {},
   "source": [
    "### 6. Rate change of decision variables across the time\n",
    "\n",
    "If one decision variables doesn't need a rate change parameter, its value in configuration file is saved as np.NaN\n",
    "\n",
    "Then filter the configuration table to have only the decision variables that have defined a rate_change\n",
    "\n",
    "\\begin{align}\n",
    "&| ~ X^{t}_{i} - X^{t-1}_{i} ~ | ~ \\leq  ~ c_{i} &\\quad \\forall ~ i \\in I, t \\in T \\tag{6}\\\\\n",
    "\\end{align}"
   ]
  },
  {
   "cell_type": "markdown",
   "id": "7d3ef06a-c662-41b7-86d3-80ee67bb07bc",
   "metadata": {},
   "source": [
    "#### 6.1 define table with values of rate_change"
   ]
  },
  {
   "cell_type": "code",
   "execution_count": 25,
   "id": "dee7dfc2-09c1-4ff1-b9b9-bc9a7053c7bc",
   "metadata": {},
   "outputs": [
    {
     "data": {
      "text/html": [
       "<div>\n",
       "<style scoped>\n",
       "    .dataframe tbody tr th:only-of-type {\n",
       "        vertical-align: middle;\n",
       "    }\n",
       "\n",
       "    .dataframe tbody tr th {\n",
       "        vertical-align: top;\n",
       "    }\n",
       "\n",
       "    .dataframe thead th {\n",
       "        text-align: right;\n",
       "    }\n",
       "</style>\n",
       "<table border=\"1\" class=\"dataframe\">\n",
       "  <thead>\n",
       "    <tr style=\"text-align: right;\">\n",
       "      <th></th>\n",
       "      <th>names</th>\n",
       "      <th>description</th>\n",
       "      <th>lower</th>\n",
       "      <th>upper</th>\n",
       "      <th>rate_change</th>\n",
       "    </tr>\n",
       "  </thead>\n",
       "  <tbody>\n",
       "    <tr>\n",
       "      <th>0</th>\n",
       "      <td>X1</td>\n",
       "      <td>decision variable X1</td>\n",
       "      <td>0</td>\n",
       "      <td>1000</td>\n",
       "      <td>100.0</td>\n",
       "    </tr>\n",
       "    <tr>\n",
       "      <th>1</th>\n",
       "      <td>Y1</td>\n",
       "      <td>decision variable Y1</td>\n",
       "      <td>0</td>\n",
       "      <td>1000</td>\n",
       "      <td>40.0</td>\n",
       "    </tr>\n",
       "    <tr>\n",
       "      <th>2</th>\n",
       "      <td>Z1</td>\n",
       "      <td>decision variable Y2</td>\n",
       "      <td>0</td>\n",
       "      <td>1000</td>\n",
       "      <td>40.0</td>\n",
       "    </tr>\n",
       "  </tbody>\n",
       "</table>\n",
       "</div>"
      ],
      "text/plain": [
       "  names           description  lower  upper  rate_change\n",
       "0    X1  decision variable X1      0   1000        100.0\n",
       "1    Y1  decision variable Y1      0   1000         40.0\n",
       "2    Z1  decision variable Y2      0   1000         40.0"
      ]
     },
     "execution_count": 25,
     "metadata": {},
     "output_type": "execute_result"
    }
   ],
   "source": [
    "# rate change parameters - filter configuration file with only the decision var that have defined its rates changes\n",
    "config_decision_var_rate_change = config_decision_var[config_decision_var['rate_change'].isnull() == False]\n",
    "config_decision_var_rate_change = config_decision_var_rate_change.reset_index().drop(columns = 'index')\n",
    "config_decision_var_rate_change"
   ]
  },
  {
   "cell_type": "code",
   "execution_count": null,
   "id": "4a529580-c7ea-47da-b9f1-25c5ecc1b9e5",
   "metadata": {},
   "outputs": [],
   "source": []
  },
  {
   "cell_type": "code",
   "execution_count": null,
   "id": "9ab747ac-01ff-4b09-8c39-63002a018167",
   "metadata": {},
   "outputs": [],
   "source": []
  },
  {
   "cell_type": "markdown",
   "id": "dbd577b7-0031-4a92-8b57-0c8fde7d4415",
   "metadata": {},
   "source": [
    "#### 6.2 The rate change constraints is defined using absolute values. So it is necesary create an auxiliar decision variable\n"
   ]
  },
  {
   "cell_type": "markdown",
   "id": "c543a6f1-8d3d-4ab5-9955-e3283b9b08e1",
   "metadata": {},
   "source": [
    "This auxiliar decision var created represents the difference between the decisions vars. It is necesary create auxiliar variables and fixed it first value into zero (set initial value (diff t = 0 and t = -1) is set to cero because t = -1 is not defined)"
   ]
  },
  {
   "cell_type": "markdown",
   "id": "28fe704c-e981-49c4-bfcc-d2e669ce1980",
   "metadata": {},
   "source": [
    "In this example\n",
    "- diff_time_x >= (x(t-1) - x(t))\n",
    "\n",
    "- diff_time_x >= -(x(t-1) - x(t))\n",
    "\n",
    "- diff_time_x <= delta_x"
   ]
  },
  {
   "cell_type": "code",
   "execution_count": 26,
   "id": "612f27c0-6de3-4d18-a1eb-d43276af78e6",
   "metadata": {},
   "outputs": [
    {
     "name": "stdout",
     "output_type": "stream",
     "text": [
      "create auxiliar variable diff \"t\" - \"t-1\":  X1\n",
      "create auxiliar variable diff \"t\" - \"t-1\":  Y1\n",
      "create auxiliar variable diff \"t\" - \"t-1\":  Z1\n"
     ]
    }
   ],
   "source": [
    "### create an auxiliar decion var \"diff\" for each decision var that has defined its rate change\n",
    "\n",
    "aux_decision_var = {}\n",
    "for index_var in range(len(config_decision_var_rate_change)):\n",
    "\n",
    "    # get config values\n",
    "    config_names_decision_var = config_decision_var_rate_change.loc[index_var, 'names']\n",
    "    print('create auxiliar variable diff \"t\" - \"t-1\": ', config_names_decision_var)\n",
    "\n",
    "    # create decision var and save in the dictionary\n",
    "    aux_decision_var[config_names_decision_var] = gppd.add_vars(model_opt, \n",
    "                                                                index_set_time, \n",
    "                                                                name = f'diff \"t\" - \"t_1\" of decision var: {config_names_decision_var}',\n",
    "                                                                lb = -gp.GRB.INFINITY,\n",
    "                                                                ub = gp.GRB.INFINITY\n",
    "                                                               )\n",
    "\n",
    "    # set initial value (diff t = 0 and t = -1) is set to cero because t = -1 is not defined\n",
    "    model_opt.addConstr(aux_decision_var[config_names_decision_var]['t0'] == 0,  name = f'Initial Value diff {config_names_decision_var}')"
   ]
  },
  {
   "cell_type": "code",
   "execution_count": null,
   "id": "86812e5d-851d-4bc6-b116-bb259f0ad78e",
   "metadata": {},
   "outputs": [],
   "source": []
  },
  {
   "cell_type": "code",
   "execution_count": null,
   "id": "ba84d6cd-3eeb-4709-b97f-499c9f8fcbf3",
   "metadata": {},
   "outputs": [],
   "source": []
  },
  {
   "cell_type": "markdown",
   "id": "3d82f5b0-d870-4040-980e-f1f46be0a31e",
   "metadata": {},
   "source": [
    "#### 6.3 Define rate change variable constraint for each decision variable and for each time"
   ]
  },
  {
   "cell_type": "code",
   "execution_count": 27,
   "id": "3e367e5e-a1ff-4ce8-9ff7-8be1e830dd69",
   "metadata": {},
   "outputs": [
    {
     "name": "stdout",
     "output_type": "stream",
     "text": [
      "rate change decision var:  X1\n",
      "rate change decision var:  Y1\n",
      "rate change decision var:  Z1\n"
     ]
    }
   ],
   "source": [
    "# for each variable\n",
    "for index_var in range(len(config_decision_var_rate_change)):\n",
    "\n",
    "    # get config values\n",
    "    config_names_decision_var = config_decision_var_rate_change.loc[index_var, 'names']\n",
    "    print('rate change decision var: ', config_names_decision_var)\n",
    "\n",
    "    # get rate change for this decision var\n",
    "    rate_change_decision_var = config_decision_var_rate_change[config_decision_var_rate_change['names'] == config_names_decision_var]['rate_change'].values[0]\n",
    "    \n",
    "    # for each time in this decision variable\n",
    "    for index_time in range(1, len(index_set_time)):\n",
    "        \n",
    "        ### define time t and t-1\n",
    "        time_t = index_set_time[index_time]\n",
    "        time_t_1 = index_set_time[index_time-1]\n",
    "    \n",
    "        ### define constraints\n",
    "        # positive segment\n",
    "        model_opt.addConstr(aux_decision_var[config_names_decision_var][time_t] >= (decision_var[config_names_decision_var][time_t] - decision_var[config_names_decision_var][time_t_1]), \n",
    "                            name = f'diff {config_names_decision_var} positive segment {time_t} - {time_t_1}')\n",
    "\n",
    "        # negative segment\n",
    "        model_opt.addConstr(aux_decision_var[config_names_decision_var][time_t] >= -(decision_var[config_names_decision_var][time_t] - decision_var[config_names_decision_var][time_t_1]), \n",
    "                            name = f'diff {config_names_decision_var} negative segment {time_t} - {time_t_1}')\n",
    "\n",
    "        # rate change\n",
    "        model_opt.addConstr(aux_decision_var[config_names_decision_var][time_t] <= rate_change_decision_var, \n",
    "                            name = f'diff_var_X1 delta {time_t} - {time_t_1}')"
   ]
  },
  {
   "cell_type": "code",
   "execution_count": null,
   "id": "9b65602d-2fec-41c8-9752-b87145d51307",
   "metadata": {},
   "outputs": [],
   "source": []
  },
  {
   "cell_type": "code",
   "execution_count": null,
   "id": "6f82ef97-07ee-4e73-8256-211db4b7d605",
   "metadata": {},
   "outputs": [],
   "source": []
  },
  {
   "cell_type": "code",
   "execution_count": 28,
   "id": "db6fbb55-b801-4394-adf7-da0c4d2e50e3",
   "metadata": {},
   "outputs": [
    {
     "data": {
      "text/plain": [
       "<gurobi.Model Continuous instance Example Optimization Model: 74 constrs, 35 vars, No parameter changes>"
      ]
     },
     "execution_count": 28,
     "metadata": {},
     "output_type": "execute_result"
    }
   ],
   "source": [
    "model_opt"
   ]
  },
  {
   "cell_type": "code",
   "execution_count": 29,
   "id": "276fce9c-cf1e-4007-b4d4-481b26a01e9d",
   "metadata": {},
   "outputs": [],
   "source": [
    "model_opt.update()"
   ]
  },
  {
   "cell_type": "code",
   "execution_count": 30,
   "id": "88502e33-0473-4910-89ac-b158ddc1dd40",
   "metadata": {},
   "outputs": [
    {
     "data": {
      "text/plain": [
       "<gurobi.Model Continuous instance Example Optimization Model: 131 constrs, 56 vars, No parameter changes>"
      ]
     },
     "execution_count": 30,
     "metadata": {},
     "output_type": "execute_result"
    }
   ],
   "source": [
    "model_opt"
   ]
  },
  {
   "cell_type": "code",
   "execution_count": null,
   "id": "1ff77998-c2d2-4b58-974f-dbb120e58505",
   "metadata": {},
   "outputs": [],
   "source": []
  },
  {
   "cell_type": "code",
   "execution_count": null,
   "id": "51d06aaf-69bb-4aff-9912-7afb13a651b5",
   "metadata": {},
   "outputs": [],
   "source": []
  },
  {
   "cell_type": "markdown",
   "id": "71f4fdfa-8f1c-4bbc-ac00-90d5b16b20c6",
   "metadata": {},
   "source": [
    "### 7. Volumen change (Inventory change) - across time - relation between decision variables\n",
    "\n",
    "\\begin{align}\r\n",
    "&V^{t-1}_{j} ~ + \\sum_{i}  Y^{t}_{i,j} -  \\sum_{i}  Z^{t}_{i',j} ~ \\leq  ~ UB_{j} &\\quad \\forall ~ t \\in T, j \\in J \\tag{2}\\\\\r\n",
    "\\end{align}\r\n",
    "\r\n",
    "\\begin{align}\r\n",
    "&V^{t-1}_{j} ~ + \\sum_{i}  Y^{t}_{i,j} -  \\sum_{i}  Z^{t}_{i',j} ~ \\geq  ~ LB_{j} &\\quad \\forall ~ t \\in T, j \\in J \\tag{3}\\\\\r\n",
    "\\end{align}\r\n",
    "\r\n",
    "\\begin{align}\r\n",
    "&V^{t-1}_{j} ~ + \\sum_{i}  Y^{t}_{i,j} -  \\sum_{i}  Z^{t}_{i',j} ~ =  ~ V^{t}_{j} &\\quad \\forall ~ t \\in T, j \\in J \\tag{4}\\\\\r\n",
    "\\end{align}"
   ]
  },
  {
   "cell_type": "markdown",
   "id": "1bab8ee2-5eb0-4d43-928e-ce1490ee8848",
   "metadata": {},
   "source": [
    "## 7.0 IMPORTANT: The two first contraints can be replaced with the constraint that defined the lower and upper bound of the decision variables.\n",
    "So the only constraint that needs to be defined is:\n",
    "## THIS PART IS DIFFERENT AGAINS THE BASE CODES\n",
    "\n",
    "\\begin{align}\n",
    "&V^{t-1}_{j} ~ + \\sum_{i}  Y^{t}_{i,j} -  \\sum_{i}  Z^{t}_{i',j} ~ =  ~ V^{t}_{j} &\\quad \\forall ~ t \\in T, j \\in J \\tag{4}\\\\\n",
    "\\end{align}"
   ]
  },
  {
   "cell_type": "code",
   "execution_count": null,
   "id": "51b49760-329b-4e23-8238-73e02cfd61b4",
   "metadata": {},
   "outputs": [],
   "source": []
  },
  {
   "cell_type": "markdown",
   "id": "33054af1-2a5b-46fc-b15c-63130b6ffb9d",
   "metadata": {},
   "source": [
    "#### 7.1 Define full constraints - automatically all times\n",
    "- Automatization constraint. For across all the set time (t0, t1, t2, etc). But it is important to see that the first value of the decision variable (period t=0) is defined before, so the \"for cicle\" start from (t1, t2, etc)\n",
    "\n",
    "\n",
    "- **IMPORTANT**: This codes are defined for only this example when there are only one input and one output. In the future it needs to genelize to recibe multiple input and output values\n",
    "\n",
    "- **IMPORTANT 2**: There are only one tank in the example, so it is more easy to define the automatization\n",
    "\n",
    "- **IMPORTANT 3**: in this example the map of the input and output variables of the tank is HARCODED. In the full example it needs to be parametrize"
   ]
  },
  {
   "cell_type": "markdown",
   "id": "1e75361f-031b-4fa5-baae-631bb1a4c664",
   "metadata": {},
   "source": [
    "original codes\n",
    "    \n",
    "    model_opt.addConstr(var_tank_level[time_t_1] + var_Y1[time_t] - var_Z1[time_t] == var_tank_level[time_t], \n",
    "                name = f'new level of tank {time_t} - {time_t_1}')"
   ]
  },
  {
   "cell_type": "code",
   "execution_count": 31,
   "id": "2c1a97d0-b03c-4adc-9e0a-5c6a8dd43809",
   "metadata": {},
   "outputs": [],
   "source": [
    "for index_time in range(1, len(index_set_time)):\n",
    "    \n",
    "    ### define time t and t-1\n",
    "    time_t = index_set_time[index_time]\n",
    "    time_t_1 = index_set_time[index_time-1]\n",
    "\n",
    "    ### define constraints\n",
    "    model_opt.addConstr(decision_var['tank_level'][time_t_1] + decision_var['Y1'][time_t] - decision_var['Z1'][time_t] == decision_var['tank_level'][time_t], \n",
    "                name = f'new level of tank {time_t} - {time_t_1}')"
   ]
  },
  {
   "cell_type": "code",
   "execution_count": null,
   "id": "b7281e4c-a53c-41b7-b0c8-785cbf0ebe6b",
   "metadata": {},
   "outputs": [],
   "source": []
  },
  {
   "cell_type": "code",
   "execution_count": 32,
   "id": "fec64824-95ee-4f1b-970a-96854300d0c4",
   "metadata": {},
   "outputs": [
    {
     "data": {
      "text/plain": [
       "<gurobi.Model Continuous instance Example Optimization Model: 131 constrs, 56 vars, No parameter changes>"
      ]
     },
     "execution_count": 32,
     "metadata": {},
     "output_type": "execute_result"
    }
   ],
   "source": [
    "model_opt"
   ]
  },
  {
   "cell_type": "code",
   "execution_count": 33,
   "id": "ccf21135-f25b-4945-a62f-1b4795ac3ac6",
   "metadata": {},
   "outputs": [],
   "source": [
    "model_opt.update()"
   ]
  },
  {
   "cell_type": "code",
   "execution_count": 34,
   "id": "81175655-f9b2-4c16-b7c8-e5a9c21c752b",
   "metadata": {},
   "outputs": [
    {
     "data": {
      "text/plain": [
       "<gurobi.Model Continuous instance Example Optimization Model: 137 constrs, 56 vars, No parameter changes>"
      ]
     },
     "execution_count": 34,
     "metadata": {},
     "output_type": "execute_result"
    }
   ],
   "source": [
    "model_opt"
   ]
  },
  {
   "cell_type": "code",
   "execution_count": 35,
   "id": "3c2b471f-6320-4354-a09e-d361a9095f5a",
   "metadata": {},
   "outputs": [
    {
     "data": {
      "text/plain": [
       "t0    <gurobi.Var decision variable level tank[t0]>\n",
       "t1    <gurobi.Var decision variable level tank[t1]>\n",
       "t2    <gurobi.Var decision variable level tank[t2]>\n",
       "t3    <gurobi.Var decision variable level tank[t3]>\n",
       "t4    <gurobi.Var decision variable level tank[t4]>\n",
       "t5    <gurobi.Var decision variable level tank[t5]>\n",
       "t6    <gurobi.Var decision variable level tank[t6]>\n",
       "Name: decision variable level tank, dtype: object"
      ]
     },
     "execution_count": 35,
     "metadata": {},
     "output_type": "execute_result"
    }
   ],
   "source": [
    "# print show one decision var\n",
    "decision_var['tank_level']"
   ]
  },
  {
   "cell_type": "code",
   "execution_count": null,
   "id": "6c88a2c5-fe81-4325-84ed-d2921aed2a17",
   "metadata": {},
   "outputs": [],
   "source": []
  },
  {
   "cell_type": "code",
   "execution_count": null,
   "id": "785a028d-049d-4b88-9de8-c33130446420",
   "metadata": {},
   "outputs": [],
   "source": []
  },
  {
   "cell_type": "markdown",
   "id": "c428d04b-2f17-42f8-9a96-23897d6cc2d0",
   "metadata": {},
   "source": [
    "### 8. Define a custom function as constraints that represent the relations in the process\n",
    "Add a constraint defined as a funtion that represent the relation between X1, X2 with the output of the process (Y1)\n",
    "\n",
    "Important: this constraint and the objective functions are more hardoded that the rest of constraints"
   ]
  },
  {
   "cell_type": "code",
   "execution_count": 36,
   "id": "07265e22-ff2a-417f-a3cc-ab49eb0d1105",
   "metadata": {},
   "outputs": [],
   "source": [
    "# define parameters of the constraint\n",
    "alpha_feature_x1 = 1/5\n",
    "alpha_feature_x2 = 15"
   ]
  },
  {
   "cell_type": "code",
   "execution_count": 37,
   "id": "ad7f613e-4dca-4fab-85b0-66416b4fdaec",
   "metadata": {},
   "outputs": [
    {
     "data": {
      "text/plain": [
       "t0    <gurobi.Constr *Awaiting Model Update*>\n",
       "t1    <gurobi.Constr *Awaiting Model Update*>\n",
       "t2    <gurobi.Constr *Awaiting Model Update*>\n",
       "t3    <gurobi.Constr *Awaiting Model Update*>\n",
       "t4    <gurobi.Constr *Awaiting Model Update*>\n",
       "t5    <gurobi.Constr *Awaiting Model Update*>\n",
       "t6    <gurobi.Constr *Awaiting Model Update*>\n",
       "Name: function as constraint output process, dtype: object"
      ]
     },
     "execution_count": 37,
     "metadata": {},
     "output_type": "execute_result"
    }
   ],
   "source": [
    "# define function as constraint\n",
    "gppd.add_constrs(model_opt, \n",
    "                 (alpha_feature_x1 * decision_var['X1'] + alpha_feature_x1 * decision_var['X1']), \n",
    "                 gp.GRB.EQUAL, \n",
    "                 decision_var['Y1'], \n",
    "                 name = 'function as constraint output process'\n",
    "                )"
   ]
  },
  {
   "cell_type": "code",
   "execution_count": null,
   "id": "3df127c1-78eb-4db5-b36d-c2dc5729921a",
   "metadata": {},
   "outputs": [],
   "source": []
  },
  {
   "cell_type": "code",
   "execution_count": 38,
   "id": "336fd096-25e1-4c0d-a246-ba9c05ea1957",
   "metadata": {},
   "outputs": [
    {
     "data": {
      "text/plain": [
       "<gurobi.Model Continuous instance Example Optimization Model: 137 constrs, 56 vars, No parameter changes>"
      ]
     },
     "execution_count": 38,
     "metadata": {},
     "output_type": "execute_result"
    }
   ],
   "source": [
    "model_opt"
   ]
  },
  {
   "cell_type": "code",
   "execution_count": 39,
   "id": "c43849da-36db-4c8e-9855-5422aaccf9ca",
   "metadata": {},
   "outputs": [],
   "source": [
    "model_opt.update()"
   ]
  },
  {
   "cell_type": "code",
   "execution_count": 40,
   "id": "63dca58e-9e11-4888-9565-d85aaff30616",
   "metadata": {},
   "outputs": [
    {
     "data": {
      "text/plain": [
       "<gurobi.Model Continuous instance Example Optimization Model: 144 constrs, 56 vars, No parameter changes>"
      ]
     },
     "execution_count": 40,
     "metadata": {},
     "output_type": "execute_result"
    }
   ],
   "source": [
    "model_opt"
   ]
  },
  {
   "cell_type": "code",
   "execution_count": null,
   "id": "5b0ac647-fca1-4d8e-97e5-f90cea8149e2",
   "metadata": {},
   "outputs": [],
   "source": []
  },
  {
   "cell_type": "markdown",
   "id": "a6921d2e-48ac-4456-919b-7f5029321a52",
   "metadata": {},
   "source": [
    "### 9. Define objective optimization\n",
    "Objetive that no generate infeasibility"
   ]
  },
  {
   "cell_type": "code",
   "execution_count": 41,
   "id": "a6142a3b-84d8-4ca1-b801-68573b17d98d",
   "metadata": {},
   "outputs": [],
   "source": [
    "# original\n",
    "# model_opt.setObjective(var_tank_level.sum(),\n",
    "#                        gp.GRB.MINIMIZE)\n",
    "\n",
    "model_opt.setObjective(decision_var['tank_level'].sum(),\n",
    "                       gp.GRB.MINIMIZE)"
   ]
  },
  {
   "cell_type": "code",
   "execution_count": null,
   "id": "f877b067-7b04-4436-bfb3-090e81f48973",
   "metadata": {},
   "outputs": [],
   "source": []
  },
  {
   "cell_type": "markdown",
   "id": "e0c037fe-dd9b-408b-b1ef-0e0ccc0a8711",
   "metadata": {},
   "source": [
    "## ----> return the mdoel_opt that has defined for this instance can get the solution <----"
   ]
  },
  {
   "cell_type": "code",
   "execution_count": 42,
   "id": "117daef7-4e2e-4c5f-95d0-57b7db2580a7",
   "metadata": {},
   "outputs": [
    {
     "data": {
      "text/plain": [
       "<gurobi.Model Continuous instance Example Optimization Model: 144 constrs, 56 vars, No parameter changes>"
      ]
     },
     "execution_count": 42,
     "metadata": {},
     "output_type": "execute_result"
    }
   ],
   "source": [
    "model_opt"
   ]
  },
  {
   "cell_type": "code",
   "execution_count": null,
   "id": "c8b34685-603a-4d3a-8a27-ea2785cde136",
   "metadata": {},
   "outputs": [],
   "source": []
  },
  {
   "cell_type": "code",
   "execution_count": null,
   "id": "e6146b06-b08b-4c7c-a1a9-89af9e4b0fa9",
   "metadata": {},
   "outputs": [],
   "source": []
  },
  {
   "cell_type": "markdown",
   "id": "239737ce-2c33-4aca-b28e-b2e4450ee0bd",
   "metadata": {},
   "source": [
    "### 10. Optimize and get optimal values"
   ]
  },
  {
   "cell_type": "code",
   "execution_count": 43,
   "id": "688cdcf5-ea18-4716-a523-3ee16b90db48",
   "metadata": {},
   "outputs": [
    {
     "name": "stdout",
     "output_type": "stream",
     "text": [
      "Gurobi Optimizer version 11.0.0 build v11.0.0rc2 (win64 - Windows 10.0 (19043.2))\n",
      "\n",
      "CPU model: Intel(R) Core(TM) i7-10750H CPU @ 2.60GHz, instruction set [SSE2|AVX|AVX2]\n",
      "Thread count: 6 physical cores, 12 logical processors, using up to 12 threads\n",
      "\n",
      "Optimize a model with 144 rows, 56 columns and 241 nonzeros\n",
      "Model fingerprint: 0x36bd2d45\n",
      "Coefficient statistics:\n",
      "  Matrix range     [4e-01, 1e+00]\n",
      "  Objective range  [1e+00, 1e+00]\n",
      "  Bounds range     [0e+00, 0e+00]\n",
      "  RHS range        [1e+01, 1e+03]\n",
      "Presolve removed 130 rows and 40 columns\n",
      "Presolve time: 0.02s\n",
      "Presolved: 14 rows, 26 columns, 49 nonzeros\n",
      "\n",
      "Iteration    Objective       Primal Inf.    Dual Inf.      Time\n",
      "       0    1.8158756e+03   1.433384e+02   0.000000e+00      0s\n",
      "       5    2.1100000e+03   0.000000e+00   0.000000e+00      0s\n",
      "\n",
      "Solved in 5 iterations and 0.03 seconds (0.00 work units)\n",
      "Optimal objective  2.110000000e+03\n"
     ]
    }
   ],
   "source": [
    "# solve\n",
    "model_opt.optimize()"
   ]
  },
  {
   "cell_type": "code",
   "execution_count": 44,
   "id": "b835ae8d-ca47-478f-9a11-a21227949557",
   "metadata": {},
   "outputs": [
    {
     "data": {
      "text/plain": [
       "2"
      ]
     },
     "execution_count": 44,
     "metadata": {},
     "output_type": "execute_result"
    }
   ],
   "source": [
    "#### know the status of the model - 2 a optimal solution was founded\n",
    "# docu: https://www.gurobi.com/documentation/current/refman/optimization_status_codes.html#sec:StatusCodes\n",
    "model_opt.Status"
   ]
  },
  {
   "cell_type": "code",
   "execution_count": 45,
   "id": "241da7da-682e-4874-8251-c64700b06e16",
   "metadata": {},
   "outputs": [],
   "source": [
    "# get optimal values and save in a dataframe\n",
    "######## create a dataframe with set as index\n",
    "solution = pd.DataFrame(index = index_set_time)\n",
    "\n",
    "######################## save optimal values - features of models (only the features) ########################\n",
    "solution[\"var_X1\"] = decision_var['X1'].gppd.X\n",
    "solution[\"var_X2\"] = decision_var['X2'].gppd.X\n",
    "solution[\"var_Y1\"] = decision_var['Y1'].gppd.X\n",
    "solution[\"var_Z1\"] = decision_var['Z1'].gppd.X\n",
    "solution[\"var_tank_level\"] = decision_var['tank_level'].gppd.X\n",
    "\n",
    "\n",
    "######################## # get value objetive function ########################\n",
    "opt_objetive_function = model_opt.ObjVal"
   ]
  },
  {
   "cell_type": "code",
   "execution_count": 46,
   "id": "a6af89e0-0dde-4edb-a6a3-438616df05f1",
   "metadata": {},
   "outputs": [
    {
     "data": {
      "text/plain": [
       "2110.0"
      ]
     },
     "execution_count": 46,
     "metadata": {},
     "output_type": "execute_result"
    }
   ],
   "source": [
    "# show value objetive function\n",
    "opt_objetive_function"
   ]
  },
  {
   "cell_type": "code",
   "execution_count": 47,
   "id": "e55440c3-3f32-4219-ae03-968aa51780d1",
   "metadata": {},
   "outputs": [
    {
     "data": {
      "text/html": [
       "<div>\n",
       "<style scoped>\n",
       "    .dataframe tbody tr th:only-of-type {\n",
       "        vertical-align: middle;\n",
       "    }\n",
       "\n",
       "    .dataframe tbody tr th {\n",
       "        vertical-align: top;\n",
       "    }\n",
       "\n",
       "    .dataframe thead th {\n",
       "        text-align: right;\n",
       "    }\n",
       "</style>\n",
       "<table border=\"1\" class=\"dataframe\">\n",
       "  <thead>\n",
       "    <tr style=\"text-align: right;\">\n",
       "      <th></th>\n",
       "      <th>var_X1</th>\n",
       "      <th>var_X2</th>\n",
       "      <th>var_Y1</th>\n",
       "      <th>var_Z1</th>\n",
       "      <th>var_tank_level</th>\n",
       "    </tr>\n",
       "  </thead>\n",
       "  <tbody>\n",
       "    <tr>\n",
       "      <th>t0</th>\n",
       "      <td>10.0</td>\n",
       "      <td>55.0</td>\n",
       "      <td>4.0</td>\n",
       "      <td>20.0</td>\n",
       "      <td>500.0</td>\n",
       "    </tr>\n",
       "    <tr>\n",
       "      <th>t1</th>\n",
       "      <td>0.0</td>\n",
       "      <td>0.0</td>\n",
       "      <td>0.0</td>\n",
       "      <td>60.0</td>\n",
       "      <td>440.0</td>\n",
       "    </tr>\n",
       "    <tr>\n",
       "      <th>t2</th>\n",
       "      <td>0.0</td>\n",
       "      <td>0.0</td>\n",
       "      <td>0.0</td>\n",
       "      <td>100.0</td>\n",
       "      <td>340.0</td>\n",
       "    </tr>\n",
       "    <tr>\n",
       "      <th>t3</th>\n",
       "      <td>0.0</td>\n",
       "      <td>0.0</td>\n",
       "      <td>0.0</td>\n",
       "      <td>110.0</td>\n",
       "      <td>230.0</td>\n",
       "    </tr>\n",
       "    <tr>\n",
       "      <th>t4</th>\n",
       "      <td>100.0</td>\n",
       "      <td>0.0</td>\n",
       "      <td>40.0</td>\n",
       "      <td>70.0</td>\n",
       "      <td>200.0</td>\n",
       "    </tr>\n",
       "    <tr>\n",
       "      <th>t5</th>\n",
       "      <td>75.0</td>\n",
       "      <td>0.0</td>\n",
       "      <td>30.0</td>\n",
       "      <td>30.0</td>\n",
       "      <td>200.0</td>\n",
       "    </tr>\n",
       "    <tr>\n",
       "      <th>t6</th>\n",
       "      <td>0.0</td>\n",
       "      <td>0.0</td>\n",
       "      <td>0.0</td>\n",
       "      <td>0.0</td>\n",
       "      <td>200.0</td>\n",
       "    </tr>\n",
       "  </tbody>\n",
       "</table>\n",
       "</div>"
      ],
      "text/plain": [
       "    var_X1  var_X2  var_Y1  var_Z1  var_tank_level\n",
       "t0    10.0    55.0     4.0    20.0           500.0\n",
       "t1     0.0     0.0     0.0    60.0           440.0\n",
       "t2     0.0     0.0     0.0   100.0           340.0\n",
       "t3     0.0     0.0     0.0   110.0           230.0\n",
       "t4   100.0     0.0    40.0    70.0           200.0\n",
       "t5    75.0     0.0    30.0    30.0           200.0\n",
       "t6     0.0     0.0     0.0     0.0           200.0"
      ]
     },
     "execution_count": 47,
     "metadata": {},
     "output_type": "execute_result"
    }
   ],
   "source": [
    "# show value decision variables\n",
    "solution"
   ]
  },
  {
   "cell_type": "code",
   "execution_count": null,
   "id": "e74ad2dc-fd9d-481d-81fe-b113820ebfd3",
   "metadata": {},
   "outputs": [],
   "source": []
  },
  {
   "cell_type": "code",
   "execution_count": null,
   "id": "a50e32cc-0860-4d29-a204-ce7a6a6d276a",
   "metadata": {},
   "outputs": [],
   "source": []
  },
  {
   "cell_type": "code",
   "execution_count": null,
   "id": "997212fc-e77f-4f88-9063-cee9924c5abe",
   "metadata": {},
   "outputs": [],
   "source": []
  }
 ],
 "metadata": {
  "kernelspec": {
   "display_name": "Python 3 (ipykernel)",
   "language": "python",
   "name": "python3"
  },
  "language_info": {
   "codemirror_mode": {
    "name": "ipython",
    "version": 3
   },
   "file_extension": ".py",
   "mimetype": "text/x-python",
   "name": "python",
   "nbconvert_exporter": "python",
   "pygments_lexer": "ipython3",
   "version": "3.10.12"
  }
 },
 "nbformat": 4,
 "nbformat_minor": 5
}
