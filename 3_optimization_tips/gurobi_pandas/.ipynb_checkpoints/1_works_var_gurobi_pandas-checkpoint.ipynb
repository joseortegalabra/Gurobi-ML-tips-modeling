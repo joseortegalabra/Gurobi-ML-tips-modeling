{
 "cells": [
  {
   "cell_type": "markdown",
   "id": "92347a6c-5266-4995-ae64-7ab94a368734",
   "metadata": {},
   "source": [
    "# How to work with gurobi pandas to define decision var with multiple sets (index)"
   ]
  },
  {
   "cell_type": "markdown",
   "id": "986f169c-cd8e-4707-b545-84226eedb449",
   "metadata": {},
   "source": [
    "## Root folder and read env variables"
   ]
  },
  {
   "cell_type": "code",
   "execution_count": 1,
   "id": "dcee657f-aada-49b8-b447-f41e067e4a18",
   "metadata": {},
   "outputs": [
    {
     "name": "stdout",
     "output_type": "stream",
     "text": [
      "root path:  D:\\github-mi-repo\\Gurobi-ML-tips-modeling\n"
     ]
    }
   ],
   "source": [
    "import os\n",
    "# fix root path to save outputs\n",
    "actual_path = os.path.abspath(os.getcwd())\n",
    "list_root_path = actual_path.split('\\\\')[:-2]\n",
    "root_path = '\\\\'.join(list_root_path)\n",
    "os.chdir(root_path)\n",
    "print('root path: ', root_path)"
   ]
  },
  {
   "cell_type": "code",
   "execution_count": 2,
   "id": "a6640988-69c4-4dfd-b22f-aeeb11fa6e55",
   "metadata": {},
   "outputs": [],
   "source": [
    "import os\n",
    "from dotenv import load_dotenv, find_dotenv # package used in jupyter notebook to read the variables in file .env\n",
    "\n",
    "\"\"\" get env variable from .env \"\"\"\n",
    "load_dotenv(find_dotenv())\n",
    "\n",
    "\"\"\" Read env variables and save it as python variable \"\"\"\n",
    "PROJECT_GCP = os.environ.get(\"PROJECT_GCP\", \"\")"
   ]
  },
  {
   "cell_type": "code",
   "execution_count": null,
   "id": "115d254b-2433-4917-ba92-651a10705e06",
   "metadata": {},
   "outputs": [],
   "source": []
  },
  {
   "cell_type": "markdown",
   "id": "b6843afc-d41f-44ba-a1a9-469cc4f3a6a2",
   "metadata": {},
   "source": [
    "## RUN"
   ]
  },
  {
   "cell_type": "code",
   "execution_count": 3,
   "id": "365a0300-b10d-4106-af86-619457307401",
   "metadata": {},
   "outputs": [],
   "source": [
    "import pickle\n",
    "import pandas as pd\n",
    "import numpy as np\n",
    "\n",
    "#gurobi\n",
    "import gurobipy_pandas as gppd\n",
    "from gurobi_ml import add_predictor_constr\n",
    "import gurobipy as gp"
   ]
  },
  {
   "cell_type": "code",
   "execution_count": null,
   "id": "f7b14e29-5164-4360-a160-42a1a64bee08",
   "metadata": {},
   "outputs": [],
   "source": []
  },
  {
   "cell_type": "code",
   "execution_count": null,
   "id": "1e3078fc-ed85-4d94-bcf6-47ac2f7e24d1",
   "metadata": {},
   "outputs": [],
   "source": []
  },
  {
   "cell_type": "markdown",
   "id": "61bbf9c2-fc6f-44cc-ac07-fd485651fca4",
   "metadata": {},
   "source": [
    "## 2. Create gurobi model"
   ]
  },
  {
   "cell_type": "code",
   "execution_count": 4,
   "id": "9adcac1a-f1e5-48a8-838a-132f4fd0de81",
   "metadata": {},
   "outputs": [
    {
     "name": "stdout",
     "output_type": "stream",
     "text": [
      "Restricted license - for non-production use only - expires 2025-11-24\n"
     ]
    }
   ],
   "source": [
    "# create model\n",
    "m = gp.Model('modelo')"
   ]
  },
  {
   "cell_type": "code",
   "execution_count": null,
   "id": "cd4834c3-d4b9-4918-9499-00ed9d3b7dfe",
   "metadata": {},
   "outputs": [],
   "source": []
  },
  {
   "cell_type": "markdown",
   "id": "052c9a12-c3a9-456f-8c59-e2f78776984d",
   "metadata": {},
   "source": [
    "### 3. Create decision variables\n",
    "- Decision variables that are features in ml models\n",
    "- Decicion variable that is the output in ml models"
   ]
  },
  {
   "cell_type": "markdown",
   "id": "3739f677-0504-46cc-96ee-be204809ed9a",
   "metadata": {},
   "source": [
    "#### 3.1 define multiple sets"
   ]
  },
  {
   "cell_type": "code",
   "execution_count": 5,
   "id": "4b528702-a27d-4bb2-8a67-f384123f7468",
   "metadata": {},
   "outputs": [
    {
     "data": {
      "text/plain": [
       "Index(['t0', 't1', 't2', 't3', 't4', 't5', 't6'], dtype='object')"
      ]
     },
     "execution_count": 5,
     "metadata": {},
     "output_type": "execute_result"
    }
   ],
   "source": [
    "# define set time\n",
    "list_set_time = ['t0', 't1', 't2', 't3', 't4', 't5', 't6']\n",
    "index_set_time = pd.Index(list_set_time)\n",
    "index_set_time"
   ]
  },
  {
   "cell_type": "code",
   "execution_count": 6,
   "id": "948d4170-b514-455a-9895-6d49f7846821",
   "metadata": {},
   "outputs": [
    {
     "data": {
      "text/plain": [
       "Index(['w', 'x', 'y', 'z'], dtype='object')"
      ]
     },
     "execution_count": 6,
     "metadata": {},
     "output_type": "execute_result"
    }
   ],
   "source": [
    "# define set additional - second set defined to this example - of example, think the set represent the kind of product\n",
    "list_set_product = ['w', 'x', 'y', 'z']\n",
    "index_set_product = pd.Index(list_set_product)\n",
    "index_set_product"
   ]
  },
  {
   "cell_type": "code",
   "execution_count": 7,
   "id": "8e7a0fc4-f3f6-46e4-b2ed-1a39ec7cd84a",
   "metadata": {},
   "outputs": [
    {
     "data": {
      "text/plain": [
       "MultiIndex([('w', 't0'),\n",
       "            ('w', 't1'),\n",
       "            ('w', 't2'),\n",
       "            ('w', 't3'),\n",
       "            ('w', 't4'),\n",
       "            ('w', 't5'),\n",
       "            ('w', 't6'),\n",
       "            ('x', 't0'),\n",
       "            ('x', 't1'),\n",
       "            ('x', 't2'),\n",
       "            ('x', 't3'),\n",
       "            ('x', 't4'),\n",
       "            ('x', 't5'),\n",
       "            ('x', 't6'),\n",
       "            ('y', 't0'),\n",
       "            ('y', 't1'),\n",
       "            ('y', 't2'),\n",
       "            ('y', 't3'),\n",
       "            ('y', 't4'),\n",
       "            ('y', 't5'),\n",
       "            ('y', 't6'),\n",
       "            ('z', 't0'),\n",
       "            ('z', 't1'),\n",
       "            ('z', 't2'),\n",
       "            ('z', 't3'),\n",
       "            ('z', 't4'),\n",
       "            ('z', 't5'),\n",
       "            ('z', 't6')],\n",
       "           names=['product', 'time'])"
      ]
     },
     "execution_count": 7,
     "metadata": {},
     "output_type": "execute_result"
    }
   ],
   "source": [
    "############## multi set region&time - index pandas ##############\n",
    "index_set_product_time = pd.MultiIndex.from_product((list_set_product, list_set_time), \n",
    "                                                    names = ('product', 'time')\n",
    "                                                   )\n",
    "index_set_product_time"
   ]
  },
  {
   "cell_type": "code",
   "execution_count": null,
   "id": "2c5e190f-3378-4204-bac7-6fce43f3f485",
   "metadata": {},
   "outputs": [],
   "source": []
  },
  {
   "cell_type": "markdown",
   "id": "8fcaeb83-b5ed-4c65-b22a-1d3ffcf1e1bf",
   "metadata": {},
   "source": [
    "#### 3.2 create decision variables MULTIPLE INDEX"
   ]
  },
  {
   "cell_type": "code",
   "execution_count": 12,
   "id": "fa72387d-019d-415b-a0de-3d88d08ff4cf",
   "metadata": {},
   "outputs": [],
   "source": [
    "# create decision variables\n",
    "var_Z1_multiple = gppd.add_vars(m, index_set_product_time, name = \"decision variable Z1 - MULTI INDEX\"\n",
    "                                     )\n",
    "\n",
    "var_X2_multiple = gppd.add_vars(m, index_set_product_time, name = \"decision variable X2 - MULTI INDEX\"\n",
    "                                     )\n",
    "\n",
    "var_Y2_multiple = gppd.add_vars(m, index_set_product_time, name = \"decision variable Y2 - MULTI INDEX\"\n",
    "                                     )"
   ]
  },
  {
   "cell_type": "code",
   "execution_count": 13,
   "id": "c6cdf440-8f8c-47ab-b020-fe1ad2acd306",
   "metadata": {},
   "outputs": [],
   "source": [
    "# \"compile\"\n",
    "m.update()"
   ]
  },
  {
   "cell_type": "code",
   "execution_count": 14,
   "id": "a028cec2-0f07-4743-8115-01a54801af2e",
   "metadata": {},
   "outputs": [
    {
     "data": {
      "text/plain": [
       "product  time\n",
       "w        t0      <gurobi.Var decision variable Y2 - MULTI INDEX...\n",
       "         t1      <gurobi.Var decision variable Y2 - MULTI INDEX...\n",
       "         t2      <gurobi.Var decision variable Y2 - MULTI INDEX...\n",
       "         t3      <gurobi.Var decision variable Y2 - MULTI INDEX...\n",
       "         t4      <gurobi.Var decision variable Y2 - MULTI INDEX...\n",
       "         t5      <gurobi.Var decision variable Y2 - MULTI INDEX...\n",
       "         t6      <gurobi.Var decision variable Y2 - MULTI INDEX...\n",
       "x        t0      <gurobi.Var decision variable Y2 - MULTI INDEX...\n",
       "         t1      <gurobi.Var decision variable Y2 - MULTI INDEX...\n",
       "         t2      <gurobi.Var decision variable Y2 - MULTI INDEX...\n",
       "         t3      <gurobi.Var decision variable Y2 - MULTI INDEX...\n",
       "         t4      <gurobi.Var decision variable Y2 - MULTI INDEX...\n",
       "         t5      <gurobi.Var decision variable Y2 - MULTI INDEX...\n",
       "         t6      <gurobi.Var decision variable Y2 - MULTI INDEX...\n",
       "y        t0      <gurobi.Var decision variable Y2 - MULTI INDEX...\n",
       "         t1      <gurobi.Var decision variable Y2 - MULTI INDEX...\n",
       "         t2      <gurobi.Var decision variable Y2 - MULTI INDEX...\n",
       "         t3      <gurobi.Var decision variable Y2 - MULTI INDEX...\n",
       "         t4      <gurobi.Var decision variable Y2 - MULTI INDEX...\n",
       "         t5      <gurobi.Var decision variable Y2 - MULTI INDEX...\n",
       "         t6      <gurobi.Var decision variable Y2 - MULTI INDEX...\n",
       "z        t0      <gurobi.Var decision variable Y2 - MULTI INDEX...\n",
       "         t1      <gurobi.Var decision variable Y2 - MULTI INDEX...\n",
       "         t2      <gurobi.Var decision variable Y2 - MULTI INDEX...\n",
       "         t3      <gurobi.Var decision variable Y2 - MULTI INDEX...\n",
       "         t4      <gurobi.Var decision variable Y2 - MULTI INDEX...\n",
       "         t5      <gurobi.Var decision variable Y2 - MULTI INDEX...\n",
       "         t6      <gurobi.Var decision variable Y2 - MULTI INDEX...\n",
       "Name: decision variable Y2 - MULTI INDEX, dtype: object"
      ]
     },
     "execution_count": 14,
     "metadata": {},
     "output_type": "execute_result"
    }
   ],
   "source": [
    "# see decision var created\n",
    "var_Y2_multiple"
   ]
  },
  {
   "cell_type": "code",
   "execution_count": null,
   "id": "4457e145-6b2d-4aa6-911e-612abc4cda29",
   "metadata": {},
   "outputs": [],
   "source": []
  },
  {
   "cell_type": "markdown",
   "id": "693a320f-1152-4893-8612-540241304c3c",
   "metadata": {},
   "source": [
    "#### 3.3 create decision variables ONE INDEX"
   ]
  },
  {
   "cell_type": "code",
   "execution_count": 18,
   "id": "d5367f18-431f-448d-8492-04feaed09a23",
   "metadata": {},
   "outputs": [],
   "source": [
    "# create decision variables\n",
    "var_Z1_one = gppd.add_vars(m, index_set_product, name = \"decision variable Z1 - ONE INDEX\"\n",
    "                                     )\n",
    "\n",
    "var_X2_one = gppd.add_vars(m, index_set_product, name = \"decision variable X2 - ONE INDEX\"\n",
    "                                     )\n",
    "\n",
    "var_Y2_one = gppd.add_vars(m, index_set_product, name = \"decision variable Y2 - ONE INDEX\"\n",
    "                                     )"
   ]
  },
  {
   "cell_type": "code",
   "execution_count": 19,
   "id": "c1438cb4-2fdc-469b-84d6-a4e7fcde1105",
   "metadata": {},
   "outputs": [],
   "source": [
    "# \"compile\"\n",
    "m.update()"
   ]
  },
  {
   "cell_type": "code",
   "execution_count": 20,
   "id": "9f10b479-f308-44fc-bdb0-464e2d232b12",
   "metadata": {},
   "outputs": [
    {
     "data": {
      "text/plain": [
       "w    <gurobi.Var decision variable Y2 - ONE INDEX[w]>\n",
       "x    <gurobi.Var decision variable Y2 - ONE INDEX[x]>\n",
       "y    <gurobi.Var decision variable Y2 - ONE INDEX[y]>\n",
       "z    <gurobi.Var decision variable Y2 - ONE INDEX[z]>\n",
       "Name: decision variable Y2 - ONE INDEX, dtype: object"
      ]
     },
     "execution_count": 20,
     "metadata": {},
     "output_type": "execute_result"
    }
   ],
   "source": [
    "# see decision var created\n",
    "var_Y2_one"
   ]
  },
  {
   "cell_type": "code",
   "execution_count": null,
   "id": "56b1aebc-c8aa-4888-b72d-4394face2f49",
   "metadata": {},
   "outputs": [],
   "source": []
  },
  {
   "cell_type": "markdown",
   "id": "e5dd9888-8b46-484d-aeae-c137540e827a",
   "metadata": {},
   "source": [
    "### 5. Define objective optimization\n",
    "Objetive that no generate infeasibility"
   ]
  },
  {
   "cell_type": "code",
   "execution_count": 22,
   "id": "4dc19f6b-5d9c-4449-b8e5-0685a52715f5",
   "metadata": {},
   "outputs": [
    {
     "data": {
      "text/plain": [
       "<gurobi.LinExpr: decision variable Y2 - ONE INDEX[w] + decision variable Y2 - ONE INDEX[x] + decision variable Y2 - ONE INDEX[y] + decision variable Y2 - ONE INDEX[z]>"
      ]
     },
     "execution_count": 22,
     "metadata": {},
     "output_type": "execute_result"
    }
   ],
   "source": [
    "var_Y2_one.sum() # sum across time"
   ]
  },
  {
   "cell_type": "code",
   "execution_count": 24,
   "id": "6cb07100-85e0-47e7-a7ef-dbb23e2580b6",
   "metadata": {},
   "outputs": [],
   "source": [
    "m.setObjective(var_Y2_one.sum(),\n",
    "               gp.GRB.MINIMIZE)"
   ]
  },
  {
   "cell_type": "code",
   "execution_count": null,
   "id": "368f6be4-01d6-416b-8777-b0234b3fc0ba",
   "metadata": {},
   "outputs": [],
   "source": []
  },
  {
   "cell_type": "markdown",
   "id": "239737ce-2c33-4aca-b28e-b2e4450ee0bd",
   "metadata": {},
   "source": [
    "#### 6. Optimize and get optimal values"
   ]
  },
  {
   "cell_type": "code",
   "execution_count": 25,
   "id": "688cdcf5-ea18-4716-a523-3ee16b90db48",
   "metadata": {},
   "outputs": [
    {
     "name": "stdout",
     "output_type": "stream",
     "text": [
      "Gurobi Optimizer version 11.0.0 build v11.0.0rc2 (win64 - Windows 10.0 (19043.2))\n",
      "\n",
      "CPU model: Intel(R) Core(TM) i7-10750H CPU @ 2.60GHz, instruction set [SSE2|AVX|AVX2]\n",
      "Thread count: 6 physical cores, 12 logical processors, using up to 12 threads\n",
      "\n",
      "Optimize a model with 0 rows, 264 columns and 0 nonzeros\n",
      "Model fingerprint: 0x30bbd984\n",
      "Coefficient statistics:\n",
      "  Matrix range     [0e+00, 0e+00]\n",
      "  Objective range  [1e+00, 1e+00]\n",
      "  Bounds range     [0e+00, 0e+00]\n",
      "  RHS range        [0e+00, 0e+00]\n",
      "Presolve removed 0 rows and 264 columns\n",
      "Presolve time: 0.02s\n",
      "Presolve: All rows and columns removed\n",
      "Iteration    Objective       Primal Inf.    Dual Inf.      Time\n",
      "       0    0.0000000e+00   0.000000e+00   0.000000e+00      0s\n",
      "\n",
      "Solved in 0 iterations and 0.03 seconds (0.00 work units)\n",
      "Optimal objective  0.000000000e+00\n"
     ]
    }
   ],
   "source": [
    "# solve\n",
    "m.optimize()"
   ]
  },
  {
   "cell_type": "code",
   "execution_count": 26,
   "id": "b835ae8d-ca47-478f-9a11-a21227949557",
   "metadata": {},
   "outputs": [
    {
     "data": {
      "text/plain": [
       "2"
      ]
     },
     "execution_count": 26,
     "metadata": {},
     "output_type": "execute_result"
    }
   ],
   "source": [
    "#### know the status of the model - 2 a optimal solution was founded\n",
    "# docu: https://www.gurobi.com/documentation/current/refman/optimization_status_codes.html#sec:StatusCodes\n",
    "m.Status"
   ]
  },
  {
   "cell_type": "code",
   "execution_count": 34,
   "id": "241da7da-682e-4874-8251-c64700b06e16",
   "metadata": {},
   "outputs": [],
   "source": [
    "# get optimal values and save in a dataframe\n",
    "######## create a dataframe with set used previosly\n",
    "solution = pd.DataFrame(index = index_set_product)\n",
    "\n",
    "######################## save optimal values - features of models (only the features) ########################\n",
    "\n",
    "# model\n",
    "solution[\"var_Z1_one\"] = var_Z1_one.gppd.X\n",
    "solution[\"var_X2_one\"] = var_X2_one.gppd.X\n",
    "\n",
    "\n",
    "######################## save optimal values - targets of models (some targets are features of the model of the next step) ########################\n",
    "solution[\"var_Y2_one\"] = var_Y2_one.gppd.X  # model\n",
    "\n",
    "\n",
    "######################## # get value objetive function ########################\n",
    "opt_objetive_function = m.ObjVal"
   ]
  },
  {
   "cell_type": "code",
   "execution_count": 35,
   "id": "a6af89e0-0dde-4edb-a6a3-438616df05f1",
   "metadata": {},
   "outputs": [
    {
     "data": {
      "text/plain": [
       "0.0"
      ]
     },
     "execution_count": 35,
     "metadata": {},
     "output_type": "execute_result"
    }
   ],
   "source": [
    "# show value objetive function\n",
    "opt_objetive_function"
   ]
  },
  {
   "cell_type": "code",
   "execution_count": 36,
   "id": "e55440c3-3f32-4219-ae03-968aa51780d1",
   "metadata": {},
   "outputs": [
    {
     "data": {
      "text/html": [
       "<div>\n",
       "<style scoped>\n",
       "    .dataframe tbody tr th:only-of-type {\n",
       "        vertical-align: middle;\n",
       "    }\n",
       "\n",
       "    .dataframe tbody tr th {\n",
       "        vertical-align: top;\n",
       "    }\n",
       "\n",
       "    .dataframe thead th {\n",
       "        text-align: right;\n",
       "    }\n",
       "</style>\n",
       "<table border=\"1\" class=\"dataframe\">\n",
       "  <thead>\n",
       "    <tr style=\"text-align: right;\">\n",
       "      <th></th>\n",
       "      <th>var_Z1_one</th>\n",
       "      <th>var_X2_one</th>\n",
       "      <th>var_Y2_one</th>\n",
       "    </tr>\n",
       "  </thead>\n",
       "  <tbody>\n",
       "    <tr>\n",
       "      <th>w</th>\n",
       "      <td>0.0</td>\n",
       "      <td>0.0</td>\n",
       "      <td>0.0</td>\n",
       "    </tr>\n",
       "    <tr>\n",
       "      <th>x</th>\n",
       "      <td>0.0</td>\n",
       "      <td>0.0</td>\n",
       "      <td>0.0</td>\n",
       "    </tr>\n",
       "    <tr>\n",
       "      <th>y</th>\n",
       "      <td>0.0</td>\n",
       "      <td>0.0</td>\n",
       "      <td>0.0</td>\n",
       "    </tr>\n",
       "    <tr>\n",
       "      <th>z</th>\n",
       "      <td>0.0</td>\n",
       "      <td>0.0</td>\n",
       "      <td>0.0</td>\n",
       "    </tr>\n",
       "  </tbody>\n",
       "</table>\n",
       "</div>"
      ],
      "text/plain": [
       "   var_Z1_one  var_X2_one  var_Y2_one\n",
       "w         0.0         0.0         0.0\n",
       "x         0.0         0.0         0.0\n",
       "y         0.0         0.0         0.0\n",
       "z         0.0         0.0         0.0"
      ]
     },
     "execution_count": 36,
     "metadata": {},
     "output_type": "execute_result"
    }
   ],
   "source": [
    "# show value decision variables\n",
    "solution"
   ]
  },
  {
   "cell_type": "code",
   "execution_count": null,
   "id": "997212fc-e77f-4f88-9063-cee9924c5abe",
   "metadata": {},
   "outputs": [],
   "source": []
  }
 ],
 "metadata": {
  "kernelspec": {
   "display_name": "Python 3 (ipykernel)",
   "language": "python",
   "name": "python3"
  },
  "language_info": {
   "codemirror_mode": {
    "name": "ipython",
    "version": 3
   },
   "file_extension": ".py",
   "mimetype": "text/x-python",
   "name": "python",
   "nbconvert_exporter": "python",
   "pygments_lexer": "ipython3",
   "version": "3.10.12"
  }
 },
 "nbformat": 4,
 "nbformat_minor": 5
}
