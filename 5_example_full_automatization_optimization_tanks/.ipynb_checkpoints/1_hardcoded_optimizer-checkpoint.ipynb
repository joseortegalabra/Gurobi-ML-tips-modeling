{
 "cells": [
  {
   "cell_type": "markdown",
   "id": "92347a6c-5266-4995-ae64-7ab94a368734",
   "metadata": {},
   "source": [
    "# Full example - hardcoded optimizer\n",
    "- Hardcoded optimizer creating each variable manually\n",
    "- Hardcoded optimizer creating each constraints manually\n",
    "- There are created configuration tables in excel tables that the optimizer read\n",
    "- IMPORTANT: the observed variables in this code is a decision variable in optimization but its value is fixed"
   ]
  },
  {
   "cell_type": "markdown",
   "id": "ae68a236-44db-4d71-84d3-41f2e8854a66",
   "metadata": {},
   "source": [
    "About observed variables (that always have a fixed value)\n",
    "- The observed variables are not decision variables, but with the idea to automatize this codes they are defined as decision variables and then a constraint is added to set its values to a unique values\n",
    "\n",
    "- Doing this is a little automatice the creation of the constraints and open the posibility to transform the observed variables into a decision variables and connect other models/tanks/process to this observed variables with a less modification in the codes"
   ]
  },
  {
   "cell_type": "code",
   "execution_count": null,
   "id": "5c5d42a2-f745-4d06-9677-e990681e3041",
   "metadata": {},
   "outputs": [],
   "source": []
  },
  {
   "cell_type": "markdown",
   "id": "986f169c-cd8e-4707-b545-84226eedb449",
   "metadata": {},
   "source": [
    "## Root folder and read env variables"
   ]
  },
  {
   "cell_type": "code",
   "execution_count": 1,
   "id": "dcee657f-aada-49b8-b447-f41e067e4a18",
   "metadata": {},
   "outputs": [
    {
     "name": "stdout",
     "output_type": "stream",
     "text": [
      "root path:  D:\\github-mi-repo\\Gurobi-ML-tips-modeling\n"
     ]
    }
   ],
   "source": [
    "import os\n",
    "# fix root path to save outputs\n",
    "actual_path = os.path.abspath(os.getcwd())\n",
    "list_root_path = actual_path.split('\\\\')[:-1]\n",
    "root_path = '\\\\'.join(list_root_path)\n",
    "os.chdir(root_path)\n",
    "print('root path: ', root_path)"
   ]
  },
  {
   "cell_type": "code",
   "execution_count": 2,
   "id": "a6640988-69c4-4dfd-b22f-aeeb11fa6e55",
   "metadata": {},
   "outputs": [],
   "source": [
    "import os\n",
    "from dotenv import load_dotenv, find_dotenv # package used in jupyter notebook to read the variables in file .env\n",
    "\n",
    "\"\"\" get env variable from .env \"\"\"\n",
    "load_dotenv(find_dotenv())\n",
    "\n",
    "\"\"\" Read env variables and save it as python variable \"\"\"\n",
    "PROJECT_GCP = os.environ.get(\"PROJECT_GCP\", \"\")"
   ]
  },
  {
   "cell_type": "code",
   "execution_count": null,
   "id": "527d20f4-aa38-490e-84f2-30e6fda8bdd9",
   "metadata": {},
   "outputs": [],
   "source": []
  },
  {
   "cell_type": "markdown",
   "id": "003f3a9b-374c-4d73-8444-fc7da3423488",
   "metadata": {},
   "source": [
    "## Load licence gurobi"
   ]
  },
  {
   "cell_type": "code",
   "execution_count": 3,
   "id": "ac2359ef-eb78-4784-b81d-d23a27037bd9",
   "metadata": {},
   "outputs": [
    {
     "name": "stdout",
     "output_type": "stream",
     "text": [
      "D:\\github-mi-repo\\Gurobi-ML-tips-modeling\\gurobi.lic\n"
     ]
    }
   ],
   "source": [
    "##########  LOAD LICENCE GUROBI ##########\n",
    "import gurobipy as gp\n",
    "\n",
    "# set env variable with the path of the licence\n",
    "name_file_licence_gurobi = \"gurobi.lic\"\n",
    "path_licence_gurobi = root_path + '\\\\' + name_file_licence_gurobi\n",
    "os.environ [\"GRB_LICENSE_FILE\"] = path_licence_gurobi\n",
    "print(os.environ[\"GRB_LICENSE_FILE\"])"
   ]
  },
  {
   "cell_type": "code",
   "execution_count": 4,
   "id": "f59402de-4b8f-42c1-82e7-c286bfeb21f1",
   "metadata": {},
   "outputs": [],
   "source": [
    "######### LAOD CONTENT LICENCE GUROBI #########\n",
    "with open(path_licence_gurobi, 'r') as f:\n",
    "    content_licence = f.read()\n",
    "WLSACCESSID = content_licence.split('\\n')[3].split('=')[1] # load WLSACCESSID (string)\n",
    "WLSSECRET = content_licence.split('\\n')[4].split('=')[1] # load WLSSECRET (string)\n",
    "LICENSEID = int(content_licence.split('\\n')[5].split(\"=\")[1]) # load LICENSEID (integer)\n",
    "\n",
    "params = {\n",
    "\"WLSACCESSID\": WLSACCESSID,\n",
    "\"WLSSECRET\": WLSSECRET,\n",
    "\"LICENSEID\": LICENSEID\n",
    "}"
   ]
  },
  {
   "cell_type": "code",
   "execution_count": null,
   "id": "115d254b-2433-4917-ba92-651a10705e06",
   "metadata": {},
   "outputs": [],
   "source": []
  },
  {
   "cell_type": "markdown",
   "id": "b6843afc-d41f-44ba-a1a9-469cc4f3a6a2",
   "metadata": {},
   "source": [
    "## RUN"
   ]
  },
  {
   "cell_type": "code",
   "execution_count": 5,
   "id": "365a0300-b10d-4106-af86-619457307401",
   "metadata": {},
   "outputs": [],
   "source": [
    "import pickle\n",
    "import pandas as pd\n",
    "import numpy as np\n",
    "\n",
    "#gurobi\n",
    "import gurobipy_pandas as gppd\n",
    "from gurobi_ml import add_predictor_constr\n",
    "import gurobipy as gp"
   ]
  },
  {
   "cell_type": "code",
   "execution_count": 6,
   "id": "f7b14e29-5164-4360-a160-42a1a64bee08",
   "metadata": {},
   "outputs": [],
   "source": [
    "import warnings\n",
    "warnings.filterwarnings('ignore')"
   ]
  },
  {
   "cell_type": "code",
   "execution_count": null,
   "id": "1e3078fc-ed85-4d94-bcf6-47ac2f7e24d1",
   "metadata": {},
   "outputs": [],
   "source": []
  },
  {
   "cell_type": "code",
   "execution_count": null,
   "id": "45687449-9d9d-44aa-82a7-ae70255ac000",
   "metadata": {},
   "outputs": [],
   "source": []
  },
  {
   "cell_type": "markdown",
   "id": "08f70863-7e71-4ed5-8d9a-f9193550b3e5",
   "metadata": {},
   "source": [
    "### 1. Load configuration file optimizer and configuration instance to solve\n",
    "The are principally two kind of files to config optimizer\n",
    "- **configuration file to create optimizer**: there a files used to create the optimization network such as, list of sets, list of variables, upper bound and lower bound, etc. Pricipally in this files should be parameters that doesn't change too much across the time. For example, the list of variable, is a parameter that if change, the structure of the network change and the machine learning models needs to change too\n",
    "\n",
    "- **configuration file with instance to solve**: there files that change its values every time that the optimizer solve the problem. It represents the files with the actual values of the features, and so, this values change every time that the optimizer is executed"
   ]
  },
  {
   "cell_type": "markdown",
   "id": "ed635269-06e2-4d29-93aa-33d7255a0bca",
   "metadata": {},
   "source": [
    "#### 1.1. IndexTime file"
   ]
  },
  {
   "cell_type": "code",
   "execution_count": 7,
   "id": "1666dafa-d7a9-4f09-b665-5b870753b4ae",
   "metadata": {},
   "outputs": [
    {
     "data": {
      "text/plain": [
       "Index(['t0', 't1', 't2', 't3', 't4', 't5', 't6'], dtype='object')"
      ]
     },
     "execution_count": 7,
     "metadata": {},
     "output_type": "execute_result"
    }
   ],
   "source": [
    "#################### define set ####################\n",
    "\n",
    "## paths and files names\n",
    "path_folder_config_optimization = f'config/optimization_engine/config_optimization/'\n",
    "file_indextime = 'IndexTime.xlsx'\n",
    "path_indextime = path_folder_config_optimization + file_indextime\n",
    "\n",
    "# read file\n",
    "indextime = pd.read_excel(path_indextime)\n",
    "\n",
    "# set index\n",
    "index_set_time = pd.Index(indextime['IndexTime'].values)\n",
    "index_set_time"
   ]
  },
  {
   "cell_type": "code",
   "execution_count": null,
   "id": "5e4eb132-7dc6-413c-9d54-10b09f7d9e12",
   "metadata": {},
   "outputs": [],
   "source": []
  },
  {
   "cell_type": "markdown",
   "id": "43641dc7-5b3e-4659-958b-4142bef567a7",
   "metadata": {},
   "source": [
    "#### 1.2 Decision variables"
   ]
  },
  {
   "cell_type": "code",
   "execution_count": 8,
   "id": "79fc9b30-bbd3-4e04-9d63-3321c608a2ec",
   "metadata": {},
   "outputs": [
    {
     "data": {
      "text/html": [
       "<div>\n",
       "<style scoped>\n",
       "    .dataframe tbody tr th:only-of-type {\n",
       "        vertical-align: middle;\n",
       "    }\n",
       "\n",
       "    .dataframe tbody tr th {\n",
       "        vertical-align: top;\n",
       "    }\n",
       "\n",
       "    .dataframe thead th {\n",
       "        text-align: right;\n",
       "    }\n",
       "</style>\n",
       "<table border=\"1\" class=\"dataframe\">\n",
       "  <thead>\n",
       "    <tr style=\"text-align: right;\">\n",
       "      <th></th>\n",
       "      <th>tag</th>\n",
       "      <th>feature_name</th>\n",
       "      <th>description</th>\n",
       "      <th>clasification_name</th>\n",
       "      <th>clasification</th>\n",
       "      <th>lower</th>\n",
       "      <th>upper</th>\n",
       "      <th>rate_change</th>\n",
       "    </tr>\n",
       "  </thead>\n",
       "  <tbody>\n",
       "    <tr>\n",
       "      <th>0</th>\n",
       "      <td>X1</td>\n",
       "      <td>X1</td>\n",
       "      <td>Variable de entrada al proceso A. Variable Pri...</td>\n",
       "      <td>Primary</td>\n",
       "      <td>P</td>\n",
       "      <td>0.0</td>\n",
       "      <td>1000.0</td>\n",
       "      <td>100.0</td>\n",
       "    </tr>\n",
       "    <tr>\n",
       "      <th>1</th>\n",
       "      <td>O1</td>\n",
       "      <td>O1</td>\n",
       "      <td>Variable de entrada al proceso A. No es una va...</td>\n",
       "      <td>Observed</td>\n",
       "      <td>O</td>\n",
       "      <td>NaN</td>\n",
       "      <td>NaN</td>\n",
       "      <td>NaN</td>\n",
       "    </tr>\n",
       "    <tr>\n",
       "      <th>2</th>\n",
       "      <td>O2</td>\n",
       "      <td>O2</td>\n",
       "      <td>Variable de entrada al proceso A. No es una va...</td>\n",
       "      <td>Observed</td>\n",
       "      <td>O</td>\n",
       "      <td>NaN</td>\n",
       "      <td>NaN</td>\n",
       "      <td>NaN</td>\n",
       "    </tr>\n",
       "    <tr>\n",
       "      <th>3</th>\n",
       "      <td>O3</td>\n",
       "      <td>O3</td>\n",
       "      <td>Variable de entrada al proceso A. No es una va...</td>\n",
       "      <td>Observed</td>\n",
       "      <td>O</td>\n",
       "      <td>NaN</td>\n",
       "      <td>NaN</td>\n",
       "      <td>NaN</td>\n",
       "    </tr>\n",
       "    <tr>\n",
       "      <th>4</th>\n",
       "      <td>Y1</td>\n",
       "      <td>Y1</td>\n",
       "      <td>Variable target del proceso A y Variable de en...</td>\n",
       "      <td>Target</td>\n",
       "      <td>T</td>\n",
       "      <td>0.0</td>\n",
       "      <td>150.0</td>\n",
       "      <td>100.0</td>\n",
       "    </tr>\n",
       "    <tr>\n",
       "      <th>5</th>\n",
       "      <td>O4</td>\n",
       "      <td>O4</td>\n",
       "      <td>Variable de entrada al proceso tanque TANK1. N...</td>\n",
       "      <td>Observed</td>\n",
       "      <td>O</td>\n",
       "      <td>NaN</td>\n",
       "      <td>NaN</td>\n",
       "      <td>NaN</td>\n",
       "    </tr>\n",
       "    <tr>\n",
       "      <th>6</th>\n",
       "      <td>Z1</td>\n",
       "      <td>Z1</td>\n",
       "      <td>Variable de salida del tanque X y Variable de ...</td>\n",
       "      <td>Secundary</td>\n",
       "      <td>S</td>\n",
       "      <td>0.0</td>\n",
       "      <td>1000.0</td>\n",
       "      <td>100.0</td>\n",
       "    </tr>\n",
       "    <tr>\n",
       "      <th>7</th>\n",
       "      <td>X2</td>\n",
       "      <td>X2</td>\n",
       "      <td>Variable de entrada al proceso B. Aparece por ...</td>\n",
       "      <td>Primary</td>\n",
       "      <td>P</td>\n",
       "      <td>0.0</td>\n",
       "      <td>1000.0</td>\n",
       "      <td>100.0</td>\n",
       "    </tr>\n",
       "    <tr>\n",
       "      <th>8</th>\n",
       "      <td>O5</td>\n",
       "      <td>O5</td>\n",
       "      <td>Variable de entrada al proceso B. No es una va...</td>\n",
       "      <td>Observed</td>\n",
       "      <td>O</td>\n",
       "      <td>NaN</td>\n",
       "      <td>NaN</td>\n",
       "      <td>NaN</td>\n",
       "    </tr>\n",
       "    <tr>\n",
       "      <th>9</th>\n",
       "      <td>O6</td>\n",
       "      <td>O6</td>\n",
       "      <td>Variable de entrada al proceso B. No es una va...</td>\n",
       "      <td>Observed</td>\n",
       "      <td>O</td>\n",
       "      <td>NaN</td>\n",
       "      <td>NaN</td>\n",
       "      <td>NaN</td>\n",
       "    </tr>\n",
       "    <tr>\n",
       "      <th>10</th>\n",
       "      <td>Y2</td>\n",
       "      <td>Y2</td>\n",
       "      <td>Variable target del proceso B y proceso C (y v...</td>\n",
       "      <td>Target</td>\n",
       "      <td>T</td>\n",
       "      <td>0.0</td>\n",
       "      <td>100.0</td>\n",
       "      <td>100.0</td>\n",
       "    </tr>\n",
       "    <tr>\n",
       "      <th>11</th>\n",
       "      <td>Y3</td>\n",
       "      <td>Y3</td>\n",
       "      <td>Variable target del proceso B que finaliza el ...</td>\n",
       "      <td>Target</td>\n",
       "      <td>T</td>\n",
       "      <td>0.0</td>\n",
       "      <td>350.0</td>\n",
       "      <td>100.0</td>\n",
       "    </tr>\n",
       "    <tr>\n",
       "      <th>12</th>\n",
       "      <td>X3</td>\n",
       "      <td>X3</td>\n",
       "      <td>Variable de entrada al proceso C. Aparece por ...</td>\n",
       "      <td>Primary</td>\n",
       "      <td>P</td>\n",
       "      <td>0.0</td>\n",
       "      <td>1000.0</td>\n",
       "      <td>100.0</td>\n",
       "    </tr>\n",
       "    <tr>\n",
       "      <th>13</th>\n",
       "      <td>O7</td>\n",
       "      <td>O7</td>\n",
       "      <td>Variable de entrada al proceso C. No es una va...</td>\n",
       "      <td>Observed</td>\n",
       "      <td>O</td>\n",
       "      <td>NaN</td>\n",
       "      <td>NaN</td>\n",
       "      <td>NaN</td>\n",
       "    </tr>\n",
       "    <tr>\n",
       "      <th>14</th>\n",
       "      <td>TL1</td>\n",
       "      <td>TL1</td>\n",
       "      <td>Tank level - tank 1</td>\n",
       "      <td>Tank level</td>\n",
       "      <td>L</td>\n",
       "      <td>100.0</td>\n",
       "      <td>20000.0</td>\n",
       "      <td>300.0</td>\n",
       "    </tr>\n",
       "    <tr>\n",
       "      <th>15</th>\n",
       "      <td>TL2</td>\n",
       "      <td>TL2</td>\n",
       "      <td>Tank level - tank 2</td>\n",
       "      <td>Tank level</td>\n",
       "      <td>L</td>\n",
       "      <td>100.0</td>\n",
       "      <td>20000.0</td>\n",
       "      <td>300.0</td>\n",
       "    </tr>\n",
       "    <tr>\n",
       "      <th>16</th>\n",
       "      <td>TL3</td>\n",
       "      <td>TL3</td>\n",
       "      <td>Tank level - tank 3</td>\n",
       "      <td>Tank level</td>\n",
       "      <td>L</td>\n",
       "      <td>100.0</td>\n",
       "      <td>20000.0</td>\n",
       "      <td>300.0</td>\n",
       "    </tr>\n",
       "  </tbody>\n",
       "</table>\n",
       "</div>"
      ],
      "text/plain": [
       "    tag feature_name                                        description  \\\n",
       "0    X1           X1  Variable de entrada al proceso A. Variable Pri...   \n",
       "1    O1           O1  Variable de entrada al proceso A. No es una va...   \n",
       "2    O2           O2  Variable de entrada al proceso A. No es una va...   \n",
       "3    O3           O3  Variable de entrada al proceso A. No es una va...   \n",
       "4    Y1           Y1  Variable target del proceso A y Variable de en...   \n",
       "5    O4           O4  Variable de entrada al proceso tanque TANK1. N...   \n",
       "6    Z1           Z1  Variable de salida del tanque X y Variable de ...   \n",
       "7    X2           X2  Variable de entrada al proceso B. Aparece por ...   \n",
       "8    O5           O5  Variable de entrada al proceso B. No es una va...   \n",
       "9    O6           O6  Variable de entrada al proceso B. No es una va...   \n",
       "10   Y2           Y2  Variable target del proceso B y proceso C (y v...   \n",
       "11   Y3           Y3  Variable target del proceso B que finaliza el ...   \n",
       "12   X3           X3  Variable de entrada al proceso C. Aparece por ...   \n",
       "13   O7           O7  Variable de entrada al proceso C. No es una va...   \n",
       "14  TL1          TL1                                Tank level - tank 1   \n",
       "15  TL2          TL2                                Tank level - tank 2   \n",
       "16  TL3          TL3                                Tank level - tank 3   \n",
       "\n",
       "   clasification_name clasification  lower    upper  rate_change  \n",
       "0             Primary             P    0.0   1000.0        100.0  \n",
       "1            Observed             O    NaN      NaN          NaN  \n",
       "2            Observed             O    NaN      NaN          NaN  \n",
       "3            Observed             O    NaN      NaN          NaN  \n",
       "4              Target             T    0.0    150.0        100.0  \n",
       "5            Observed             O    NaN      NaN          NaN  \n",
       "6           Secundary             S    0.0   1000.0        100.0  \n",
       "7             Primary             P    0.0   1000.0        100.0  \n",
       "8            Observed             O    NaN      NaN          NaN  \n",
       "9            Observed             O    NaN      NaN          NaN  \n",
       "10             Target             T    0.0    100.0        100.0  \n",
       "11             Target             T    0.0    350.0        100.0  \n",
       "12            Primary             P    0.0   1000.0        100.0  \n",
       "13           Observed             O    NaN      NaN          NaN  \n",
       "14         Tank level             L  100.0  20000.0        300.0  \n",
       "15         Tank level             L  100.0  20000.0        300.0  \n",
       "16         Tank level             L  100.0  20000.0        300.0  "
      ]
     },
     "execution_count": 8,
     "metadata": {},
     "output_type": "execute_result"
    }
   ],
   "source": [
    "#################### define decision variables ####################\n",
    "\n",
    "# paths and file names\n",
    "path_folder_config_optimization = f'config/optimization_engine/config_optimization/'\n",
    "file_allfeatures = 'AllFeatures.xlsx'\n",
    "path_allfeatures = path_folder_config_optimization + file_allfeatures\n",
    "\n",
    "# read file\n",
    "config_allfeatures = pd.read_excel(path_allfeatures)\n",
    "\n",
    "# table\n",
    "config_allfeatures"
   ]
  },
  {
   "cell_type": "code",
   "execution_count": null,
   "id": "bc0bd905-53a1-4440-a2c4-986063b6fad7",
   "metadata": {},
   "outputs": [],
   "source": []
  },
  {
   "cell_type": "markdown",
   "id": "8a4a9dbf-457a-4427-b93d-80589e8a9918",
   "metadata": {},
   "source": [
    "#### 1.3 Initial Values\n",
    "-  This configuration files corresponde to the description **\"configuration file with instance to solve\"**. This file has the initial values to start the optimizer\n",
    "-  **OBS: the decision variable that are targets of machine learning models its initial value it nos defined. For all the optimization process since t=0 to t=N all the values are predicted by ml model**"
   ]
  },
  {
   "cell_type": "code",
   "execution_count": 9,
   "id": "6753daf8-85a5-42c0-86cc-f7b9eef468e1",
   "metadata": {},
   "outputs": [
    {
     "data": {
      "text/html": [
       "<div>\n",
       "<style scoped>\n",
       "    .dataframe tbody tr th:only-of-type {\n",
       "        vertical-align: middle;\n",
       "    }\n",
       "\n",
       "    .dataframe tbody tr th {\n",
       "        vertical-align: top;\n",
       "    }\n",
       "\n",
       "    .dataframe thead th {\n",
       "        text-align: right;\n",
       "    }\n",
       "</style>\n",
       "<table border=\"1\" class=\"dataframe\">\n",
       "  <thead>\n",
       "    <tr style=\"text-align: right;\">\n",
       "      <th></th>\n",
       "      <th>tag</th>\n",
       "      <th>feature_name</th>\n",
       "      <th>init_values</th>\n",
       "    </tr>\n",
       "  </thead>\n",
       "  <tbody>\n",
       "    <tr>\n",
       "      <th>0</th>\n",
       "      <td>X1</td>\n",
       "      <td>X1</td>\n",
       "      <td>50.0</td>\n",
       "    </tr>\n",
       "    <tr>\n",
       "      <th>1</th>\n",
       "      <td>O1</td>\n",
       "      <td>O1</td>\n",
       "      <td>50.0</td>\n",
       "    </tr>\n",
       "    <tr>\n",
       "      <th>2</th>\n",
       "      <td>O2</td>\n",
       "      <td>O2</td>\n",
       "      <td>50.0</td>\n",
       "    </tr>\n",
       "    <tr>\n",
       "      <th>3</th>\n",
       "      <td>O3</td>\n",
       "      <td>O3</td>\n",
       "      <td>50.0</td>\n",
       "    </tr>\n",
       "    <tr>\n",
       "      <th>4</th>\n",
       "      <td>Y1</td>\n",
       "      <td>Y1</td>\n",
       "      <td>NaN</td>\n",
       "    </tr>\n",
       "    <tr>\n",
       "      <th>5</th>\n",
       "      <td>O4</td>\n",
       "      <td>O4</td>\n",
       "      <td>200.0</td>\n",
       "    </tr>\n",
       "    <tr>\n",
       "      <th>6</th>\n",
       "      <td>Z1</td>\n",
       "      <td>Z1</td>\n",
       "      <td>120.0</td>\n",
       "    </tr>\n",
       "    <tr>\n",
       "      <th>7</th>\n",
       "      <td>X2</td>\n",
       "      <td>X2</td>\n",
       "      <td>5.0</td>\n",
       "    </tr>\n",
       "    <tr>\n",
       "      <th>8</th>\n",
       "      <td>O5</td>\n",
       "      <td>O5</td>\n",
       "      <td>5.0</td>\n",
       "    </tr>\n",
       "    <tr>\n",
       "      <th>9</th>\n",
       "      <td>O6</td>\n",
       "      <td>O6</td>\n",
       "      <td>5.0</td>\n",
       "    </tr>\n",
       "    <tr>\n",
       "      <th>10</th>\n",
       "      <td>Y2</td>\n",
       "      <td>Y2</td>\n",
       "      <td>NaN</td>\n",
       "    </tr>\n",
       "    <tr>\n",
       "      <th>11</th>\n",
       "      <td>Y3</td>\n",
       "      <td>Y3</td>\n",
       "      <td>NaN</td>\n",
       "    </tr>\n",
       "    <tr>\n",
       "      <th>12</th>\n",
       "      <td>X3</td>\n",
       "      <td>X3</td>\n",
       "      <td>5.0</td>\n",
       "    </tr>\n",
       "    <tr>\n",
       "      <th>13</th>\n",
       "      <td>O7</td>\n",
       "      <td>O7</td>\n",
       "      <td>4.0</td>\n",
       "    </tr>\n",
       "    <tr>\n",
       "      <th>14</th>\n",
       "      <td>TL1</td>\n",
       "      <td>TL1</td>\n",
       "      <td>500.0</td>\n",
       "    </tr>\n",
       "    <tr>\n",
       "      <th>15</th>\n",
       "      <td>TL2</td>\n",
       "      <td>TL2</td>\n",
       "      <td>500.0</td>\n",
       "    </tr>\n",
       "    <tr>\n",
       "      <th>16</th>\n",
       "      <td>TL3</td>\n",
       "      <td>TL3</td>\n",
       "      <td>500.0</td>\n",
       "    </tr>\n",
       "  </tbody>\n",
       "</table>\n",
       "</div>"
      ],
      "text/plain": [
       "    tag feature_name  init_values\n",
       "0    X1           X1         50.0\n",
       "1    O1           O1         50.0\n",
       "2    O2           O2         50.0\n",
       "3    O3           O3         50.0\n",
       "4    Y1           Y1          NaN\n",
       "5    O4           O4        200.0\n",
       "6    Z1           Z1        120.0\n",
       "7    X2           X2          5.0\n",
       "8    O5           O5          5.0\n",
       "9    O6           O6          5.0\n",
       "10   Y2           Y2          NaN\n",
       "11   Y3           Y3          NaN\n",
       "12   X3           X3          5.0\n",
       "13   O7           O7          4.0\n",
       "14  TL1          TL1        500.0\n",
       "15  TL2          TL2        500.0\n",
       "16  TL3          TL3        500.0"
      ]
     },
     "execution_count": 9,
     "metadata": {},
     "output_type": "execute_result"
    }
   ],
   "source": [
    "#################### define initial values ####################\n",
    "\n",
    "# paths and file names\n",
    "path_folder_config_optimization = f'config/optimization_engine/config_optimization/'\n",
    "file_initvalues = 'InitialValues.xlsx'\n",
    "path_initvalues = path_folder_config_optimization + file_initvalues\n",
    "\n",
    "# read file\n",
    "config_initvalues = pd.read_excel(path_initvalues)\n",
    "\n",
    "# table\n",
    "config_initvalues"
   ]
  },
  {
   "cell_type": "markdown",
   "id": "5da68e5a-2c9f-4f01-b139-6520790dd29c",
   "metadata": {},
   "source": [
    "#### OBS: at this part all the parameters of decision variables and observed variables were defined. Now, it is necesary define a structure of the optimization network to have the capacity to generate whatever network of this kind of problem with the posibilty to change the number of variables, its limits, capacity of tanks and also the NUMBER of process and tanks"
   ]
  },
  {
   "cell_type": "code",
   "execution_count": null,
   "id": "a6c3e5f2-884c-41e3-b5d3-328a2dea03f4",
   "metadata": {},
   "outputs": [],
   "source": []
  },
  {
   "cell_type": "markdown",
   "id": "a2fb2fba-02d0-4573-9ed6-f7e7c03251e7",
   "metadata": {},
   "source": [
    "#### 1.4 Define models to load\n",
    "In this file are defined the path to ml models used in each process. Then reading the table the optimizer can go to load the ml model\n",
    "\n",
    "**As you can see a process can have multiple models because the process has multiple outputs. BUT each model to develop has its own and unique name**"
   ]
  },
  {
   "cell_type": "code",
   "execution_count": 10,
   "id": "0c524341-4053-4bc0-a4a3-6805705ee79c",
   "metadata": {},
   "outputs": [
    {
     "data": {
      "text/html": [
       "<div>\n",
       "<style scoped>\n",
       "    .dataframe tbody tr th:only-of-type {\n",
       "        vertical-align: middle;\n",
       "    }\n",
       "\n",
       "    .dataframe tbody tr th {\n",
       "        vertical-align: top;\n",
       "    }\n",
       "\n",
       "    .dataframe thead th {\n",
       "        text-align: right;\n",
       "    }\n",
       "</style>\n",
       "<table border=\"1\" class=\"dataframe\">\n",
       "  <thead>\n",
       "    <tr style=\"text-align: right;\">\n",
       "      <th></th>\n",
       "      <th>process</th>\n",
       "      <th>name_process_model</th>\n",
       "      <th>path_folder</th>\n",
       "      <th>artifact_name</th>\n",
       "    </tr>\n",
       "  </thead>\n",
       "  <tbody>\n",
       "    <tr>\n",
       "      <th>0</th>\n",
       "      <td>PR_A</td>\n",
       "      <td>PR_A_Y1</td>\n",
       "      <td>process_a</td>\n",
       "      <td>lr.pkl</td>\n",
       "    </tr>\n",
       "    <tr>\n",
       "      <th>1</th>\n",
       "      <td>PR_B</td>\n",
       "      <td>PR_B_Y2</td>\n",
       "      <td>process_b_y2</td>\n",
       "      <td>lr.pkl</td>\n",
       "    </tr>\n",
       "    <tr>\n",
       "      <th>2</th>\n",
       "      <td>PR_B</td>\n",
       "      <td>PR_B_Y3</td>\n",
       "      <td>process_b_y3</td>\n",
       "      <td>lr.pkl</td>\n",
       "    </tr>\n",
       "    <tr>\n",
       "      <th>3</th>\n",
       "      <td>PR_C</td>\n",
       "      <td>PR_C_Y2</td>\n",
       "      <td>process_c</td>\n",
       "      <td>custom</td>\n",
       "    </tr>\n",
       "  </tbody>\n",
       "</table>\n",
       "</div>"
      ],
      "text/plain": [
       "  process name_process_model   path_folder artifact_name\n",
       "0    PR_A            PR_A_Y1     process_a        lr.pkl\n",
       "1    PR_B            PR_B_Y2  process_b_y2        lr.pkl\n",
       "2    PR_B            PR_B_Y3  process_b_y3        lr.pkl\n",
       "3    PR_C            PR_C_Y2     process_c        custom"
      ]
     },
     "execution_count": 10,
     "metadata": {},
     "output_type": "execute_result"
    }
   ],
   "source": [
    "#################### define initial values ####################\n",
    "\n",
    "# paths and file names\n",
    "path_folder_config_optimization = f'config/optimization_engine/config_optimization/'\n",
    "file_modelsml = 'ModelsML.xlsx'\n",
    "path_modelsml = path_folder_config_optimization + file_modelsml\n",
    "\n",
    "# read file\n",
    "config_modelsml = pd.read_excel(path_modelsml)\n",
    "\n",
    "# table\n",
    "config_modelsml"
   ]
  },
  {
   "cell_type": "code",
   "execution_count": null,
   "id": "e4871286-4594-4d1f-b4fd-730450623bfd",
   "metadata": {},
   "outputs": [],
   "source": []
  },
  {
   "cell_type": "markdown",
   "id": "8840e610-730f-48db-908c-55a35689a91c",
   "metadata": {},
   "source": [
    "#### 1.5 Map tanks\n",
    "Read a configuration table that map each tank in the process. For each tank is mapped the input flows and the output flows\n",
    "\n",
    "Important, obviosly, the input and outputs of the tank needs to be defined in the table that maps all the features in the network"
   ]
  },
  {
   "cell_type": "code",
   "execution_count": 11,
   "id": "79c87023-8240-49b3-a803-b58c34346373",
   "metadata": {},
   "outputs": [
    {
     "data": {
      "text/html": [
       "<div>\n",
       "<style scoped>\n",
       "    .dataframe tbody tr th:only-of-type {\n",
       "        vertical-align: middle;\n",
       "    }\n",
       "\n",
       "    .dataframe tbody tr th {\n",
       "        vertical-align: top;\n",
       "    }\n",
       "\n",
       "    .dataframe thead th {\n",
       "        text-align: right;\n",
       "    }\n",
       "</style>\n",
       "<table border=\"1\" class=\"dataframe\">\n",
       "  <thead>\n",
       "    <tr style=\"text-align: right;\">\n",
       "      <th></th>\n",
       "      <th>tank</th>\n",
       "      <th>tag</th>\n",
       "      <th>feature_name</th>\n",
       "      <th>input_output</th>\n",
       "    </tr>\n",
       "  </thead>\n",
       "  <tbody>\n",
       "    <tr>\n",
       "      <th>0</th>\n",
       "      <td>TK_1</td>\n",
       "      <td>Y1</td>\n",
       "      <td>Y1</td>\n",
       "      <td>IN</td>\n",
       "    </tr>\n",
       "    <tr>\n",
       "      <th>1</th>\n",
       "      <td>TK_1</td>\n",
       "      <td>O4</td>\n",
       "      <td>O4</td>\n",
       "      <td>IN</td>\n",
       "    </tr>\n",
       "    <tr>\n",
       "      <th>2</th>\n",
       "      <td>TK_1</td>\n",
       "      <td>Z1</td>\n",
       "      <td>Z1</td>\n",
       "      <td>OUT</td>\n",
       "    </tr>\n",
       "    <tr>\n",
       "      <th>3</th>\n",
       "      <td>TK_1</td>\n",
       "      <td>TL1</td>\n",
       "      <td>TL1</td>\n",
       "      <td>L</td>\n",
       "    </tr>\n",
       "    <tr>\n",
       "      <th>4</th>\n",
       "      <td>TK_2</td>\n",
       "      <td>Y2</td>\n",
       "      <td>Y2</td>\n",
       "      <td>IN</td>\n",
       "    </tr>\n",
       "    <tr>\n",
       "      <th>5</th>\n",
       "      <td>TK_2</td>\n",
       "      <td>TL2</td>\n",
       "      <td>TL2</td>\n",
       "      <td>L</td>\n",
       "    </tr>\n",
       "    <tr>\n",
       "      <th>6</th>\n",
       "      <td>TK_3</td>\n",
       "      <td>Y3</td>\n",
       "      <td>Y3</td>\n",
       "      <td>IN</td>\n",
       "    </tr>\n",
       "    <tr>\n",
       "      <th>7</th>\n",
       "      <td>TK_3</td>\n",
       "      <td>TL3</td>\n",
       "      <td>TL3</td>\n",
       "      <td>L</td>\n",
       "    </tr>\n",
       "  </tbody>\n",
       "</table>\n",
       "</div>"
      ],
      "text/plain": [
       "   tank  tag feature_name input_output\n",
       "0  TK_1   Y1           Y1           IN\n",
       "1  TK_1   O4           O4           IN\n",
       "2  TK_1   Z1           Z1          OUT\n",
       "3  TK_1  TL1          TL1            L\n",
       "4  TK_2   Y2           Y2           IN\n",
       "5  TK_2  TL2          TL2            L\n",
       "6  TK_3   Y3           Y3           IN\n",
       "7  TK_3  TL3          TL3            L"
      ]
     },
     "execution_count": 11,
     "metadata": {},
     "output_type": "execute_result"
    }
   ],
   "source": [
    "#################### define map input outputs each tank ####################\n",
    "\n",
    "# paths and file names\n",
    "path_folder_config_optimization = f'config/optimization_engine/config_optimization/'\n",
    "file_maptanks = 'MapTanks.xlsx'\n",
    "path_maptanks = path_folder_config_optimization + file_maptanks\n",
    "\n",
    "# read file\n",
    "config_maptanks = pd.read_excel(path_maptanks)\n",
    "\n",
    "# table\n",
    "config_maptanks"
   ]
  },
  {
   "cell_type": "code",
   "execution_count": null,
   "id": "8b4cdf33-6cf2-4521-8837-3b668253d767",
   "metadata": {},
   "outputs": [],
   "source": []
  },
  {
   "cell_type": "markdown",
   "id": "230e1b2f-5c53-4b44-941a-ea6c19ea51cb",
   "metadata": {},
   "source": [
    "#### 1.6 Map process Machine learning models features and target\n",
    "When each machine learning model is trained, one of the outputs of the tranining process is the artifact with the model and also a master table with the features and target of the model.\n",
    "\n",
    "- **In this example the individual master table for each model was generated automatically and the sintetized table is generated manually by the author**\n",
    "\n",
    "- **As you can see a process can have multiple models because the process has multiple outputs. BUT each model to develop has its own and unique name**"
   ]
  },
  {
   "cell_type": "code",
   "execution_count": 12,
   "id": "e0103235-3335-40e0-899e-80149e5880a8",
   "metadata": {},
   "outputs": [
    {
     "data": {
      "text/html": [
       "<div>\n",
       "<style scoped>\n",
       "    .dataframe tbody tr th:only-of-type {\n",
       "        vertical-align: middle;\n",
       "    }\n",
       "\n",
       "    .dataframe tbody tr th {\n",
       "        vertical-align: top;\n",
       "    }\n",
       "\n",
       "    .dataframe thead th {\n",
       "        text-align: right;\n",
       "    }\n",
       "</style>\n",
       "<table border=\"1\" class=\"dataframe\">\n",
       "  <thead>\n",
       "    <tr style=\"text-align: right;\">\n",
       "      <th></th>\n",
       "      <th>process</th>\n",
       "      <th>name_process_model</th>\n",
       "      <th>tag</th>\n",
       "      <th>feature_name</th>\n",
       "      <th>clasificacion</th>\n",
       "    </tr>\n",
       "  </thead>\n",
       "  <tbody>\n",
       "    <tr>\n",
       "      <th>0</th>\n",
       "      <td>PR_A</td>\n",
       "      <td>PR_A_Y1</td>\n",
       "      <td>X1</td>\n",
       "      <td>X1</td>\n",
       "      <td>P</td>\n",
       "    </tr>\n",
       "    <tr>\n",
       "      <th>1</th>\n",
       "      <td>PR_A</td>\n",
       "      <td>PR_A_Y1</td>\n",
       "      <td>O1</td>\n",
       "      <td>O1</td>\n",
       "      <td>O</td>\n",
       "    </tr>\n",
       "    <tr>\n",
       "      <th>2</th>\n",
       "      <td>PR_A</td>\n",
       "      <td>PR_A_Y1</td>\n",
       "      <td>O2</td>\n",
       "      <td>O2</td>\n",
       "      <td>O</td>\n",
       "    </tr>\n",
       "    <tr>\n",
       "      <th>3</th>\n",
       "      <td>PR_A</td>\n",
       "      <td>PR_A_Y1</td>\n",
       "      <td>O3</td>\n",
       "      <td>O3</td>\n",
       "      <td>O</td>\n",
       "    </tr>\n",
       "    <tr>\n",
       "      <th>4</th>\n",
       "      <td>PR_A</td>\n",
       "      <td>PR_A_Y1</td>\n",
       "      <td>Y1</td>\n",
       "      <td>Y1</td>\n",
       "      <td>T</td>\n",
       "    </tr>\n",
       "    <tr>\n",
       "      <th>5</th>\n",
       "      <td>PR_B</td>\n",
       "      <td>PR_B_Y2</td>\n",
       "      <td>Z1</td>\n",
       "      <td>Z1</td>\n",
       "      <td>S</td>\n",
       "    </tr>\n",
       "    <tr>\n",
       "      <th>6</th>\n",
       "      <td>PR_B</td>\n",
       "      <td>PR_B_Y2</td>\n",
       "      <td>X2</td>\n",
       "      <td>X2</td>\n",
       "      <td>P</td>\n",
       "    </tr>\n",
       "    <tr>\n",
       "      <th>7</th>\n",
       "      <td>PR_B</td>\n",
       "      <td>PR_B_Y2</td>\n",
       "      <td>O5</td>\n",
       "      <td>O5</td>\n",
       "      <td>O</td>\n",
       "    </tr>\n",
       "    <tr>\n",
       "      <th>8</th>\n",
       "      <td>PR_B</td>\n",
       "      <td>PR_B_Y2</td>\n",
       "      <td>O6</td>\n",
       "      <td>O6</td>\n",
       "      <td>O</td>\n",
       "    </tr>\n",
       "    <tr>\n",
       "      <th>9</th>\n",
       "      <td>PR_B</td>\n",
       "      <td>PR_B_Y2</td>\n",
       "      <td>Y2</td>\n",
       "      <td>Y2</td>\n",
       "      <td>T</td>\n",
       "    </tr>\n",
       "    <tr>\n",
       "      <th>10</th>\n",
       "      <td>PR_B</td>\n",
       "      <td>PR_B_Y3</td>\n",
       "      <td>Z1</td>\n",
       "      <td>Z1</td>\n",
       "      <td>S</td>\n",
       "    </tr>\n",
       "    <tr>\n",
       "      <th>11</th>\n",
       "      <td>PR_B</td>\n",
       "      <td>PR_B_Y3</td>\n",
       "      <td>X2</td>\n",
       "      <td>X2</td>\n",
       "      <td>P</td>\n",
       "    </tr>\n",
       "    <tr>\n",
       "      <th>12</th>\n",
       "      <td>PR_B</td>\n",
       "      <td>PR_B_Y3</td>\n",
       "      <td>Y3</td>\n",
       "      <td>Y3</td>\n",
       "      <td>T</td>\n",
       "    </tr>\n",
       "    <tr>\n",
       "      <th>13</th>\n",
       "      <td>PR_C</td>\n",
       "      <td>PR_C_Y2</td>\n",
       "      <td>X3</td>\n",
       "      <td>X3</td>\n",
       "      <td>P</td>\n",
       "    </tr>\n",
       "    <tr>\n",
       "      <th>14</th>\n",
       "      <td>PR_C</td>\n",
       "      <td>PR_C_Y2</td>\n",
       "      <td>O7</td>\n",
       "      <td>O7</td>\n",
       "      <td>O</td>\n",
       "    </tr>\n",
       "    <tr>\n",
       "      <th>15</th>\n",
       "      <td>PR_C</td>\n",
       "      <td>PR_C_Y2</td>\n",
       "      <td>Y2</td>\n",
       "      <td>Y2</td>\n",
       "      <td>T</td>\n",
       "    </tr>\n",
       "  </tbody>\n",
       "</table>\n",
       "</div>"
      ],
      "text/plain": [
       "   process name_process_model tag feature_name clasificacion\n",
       "0     PR_A            PR_A_Y1  X1           X1             P\n",
       "1     PR_A            PR_A_Y1  O1           O1             O\n",
       "2     PR_A            PR_A_Y1  O2           O2             O\n",
       "3     PR_A            PR_A_Y1  O3           O3             O\n",
       "4     PR_A            PR_A_Y1  Y1           Y1             T\n",
       "5     PR_B            PR_B_Y2  Z1           Z1             S\n",
       "6     PR_B            PR_B_Y2  X2           X2             P\n",
       "7     PR_B            PR_B_Y2  O5           O5             O\n",
       "8     PR_B            PR_B_Y2  O6           O6             O\n",
       "9     PR_B            PR_B_Y2  Y2           Y2             T\n",
       "10    PR_B            PR_B_Y3  Z1           Z1             S\n",
       "11    PR_B            PR_B_Y3  X2           X2             P\n",
       "12    PR_B            PR_B_Y3  Y3           Y3             T\n",
       "13    PR_C            PR_C_Y2  X3           X3             P\n",
       "14    PR_C            PR_C_Y2  O7           O7             O\n",
       "15    PR_C            PR_C_Y2  Y2           Y2             T"
      ]
     },
     "execution_count": 12,
     "metadata": {},
     "output_type": "execute_result"
    }
   ],
   "source": [
    "#################### define map features and targer of each model for each process ####################\n",
    "\n",
    "# paths and file names\n",
    "path_folder_config_optimization = f'config/optimization_engine/config_optimization/'\n",
    "file_mapprocess_mlmodels = 'MapProcessMLmodels.xlsx'\n",
    "path_mapprocess_mlmodels = path_folder_config_optimization + file_mapprocess_mlmodels\n",
    "\n",
    "# read filemapprocess_mlmodels\n",
    "config_mapprocess_mlmodels = pd.read_excel(path_mapprocess_mlmodels)\n",
    "\n",
    "# table\n",
    "config_mapprocess_mlmodels"
   ]
  },
  {
   "cell_type": "code",
   "execution_count": null,
   "id": "8c584d2b-26b0-40ea-bc5a-049fb4069a74",
   "metadata": {},
   "outputs": [],
   "source": []
  },
  {
   "cell_type": "code",
   "execution_count": null,
   "id": "31b6e593-7684-424a-9331-05b88cc874fa",
   "metadata": {},
   "outputs": [],
   "source": []
  },
  {
   "cell_type": "markdown",
   "id": "7a009362-3cb5-41d0-95d1-0b7db239f94c",
   "metadata": {},
   "source": [
    "### 2. Load ML models\n",
    "Automatically load all the models and save its into a dictionary to call when it is neccesary (as a process can have multiple models, id of the dictionary is the **name_process_model** that indicates the name for a unique model in the optimization network)\n",
    "- Process A - y1\n",
    "- Process B - y2\n",
    "- Process C - y2 (custom model)\n",
    "- Process B - y3"
   ]
  },
  {
   "cell_type": "code",
   "execution_count": 13,
   "id": "1b70cb6b-c744-4a59-8196-d80b1e3ce681",
   "metadata": {},
   "outputs": [
    {
     "data": {
      "text/html": [
       "<div>\n",
       "<style scoped>\n",
       "    .dataframe tbody tr th:only-of-type {\n",
       "        vertical-align: middle;\n",
       "    }\n",
       "\n",
       "    .dataframe tbody tr th {\n",
       "        vertical-align: top;\n",
       "    }\n",
       "\n",
       "    .dataframe thead th {\n",
       "        text-align: right;\n",
       "    }\n",
       "</style>\n",
       "<table border=\"1\" class=\"dataframe\">\n",
       "  <thead>\n",
       "    <tr style=\"text-align: right;\">\n",
       "      <th></th>\n",
       "      <th>process</th>\n",
       "      <th>name_process_model</th>\n",
       "      <th>path_folder</th>\n",
       "      <th>artifact_name</th>\n",
       "    </tr>\n",
       "  </thead>\n",
       "  <tbody>\n",
       "    <tr>\n",
       "      <th>0</th>\n",
       "      <td>PR_A</td>\n",
       "      <td>PR_A_Y1</td>\n",
       "      <td>process_a</td>\n",
       "      <td>lr.pkl</td>\n",
       "    </tr>\n",
       "    <tr>\n",
       "      <th>1</th>\n",
       "      <td>PR_B</td>\n",
       "      <td>PR_B_Y2</td>\n",
       "      <td>process_b_y2</td>\n",
       "      <td>lr.pkl</td>\n",
       "    </tr>\n",
       "    <tr>\n",
       "      <th>2</th>\n",
       "      <td>PR_B</td>\n",
       "      <td>PR_B_Y3</td>\n",
       "      <td>process_b_y3</td>\n",
       "      <td>lr.pkl</td>\n",
       "    </tr>\n",
       "    <tr>\n",
       "      <th>3</th>\n",
       "      <td>PR_C</td>\n",
       "      <td>PR_C_Y2</td>\n",
       "      <td>process_c</td>\n",
       "      <td>custom</td>\n",
       "    </tr>\n",
       "  </tbody>\n",
       "</table>\n",
       "</div>"
      ],
      "text/plain": [
       "  process name_process_model   path_folder artifact_name\n",
       "0    PR_A            PR_A_Y1     process_a        lr.pkl\n",
       "1    PR_B            PR_B_Y2  process_b_y2        lr.pkl\n",
       "2    PR_B            PR_B_Y3  process_b_y3        lr.pkl\n",
       "3    PR_C            PR_C_Y2     process_c        custom"
      ]
     },
     "execution_count": 13,
     "metadata": {},
     "output_type": "execute_result"
    }
   ],
   "source": [
    "config_modelsml"
   ]
  },
  {
   "cell_type": "code",
   "execution_count": 14,
   "id": "900620d8-8b60-4907-bcd7-20aa5744ef6c",
   "metadata": {},
   "outputs": [
    {
     "data": {
      "text/html": [
       "<style>#sk-container-id-1 {color: black;}#sk-container-id-1 pre{padding: 0;}#sk-container-id-1 div.sk-toggleable {background-color: white;}#sk-container-id-1 label.sk-toggleable__label {cursor: pointer;display: block;width: 100%;margin-bottom: 0;padding: 0.3em;box-sizing: border-box;text-align: center;}#sk-container-id-1 label.sk-toggleable__label-arrow:before {content: \"▸\";float: left;margin-right: 0.25em;color: #696969;}#sk-container-id-1 label.sk-toggleable__label-arrow:hover:before {color: black;}#sk-container-id-1 div.sk-estimator:hover label.sk-toggleable__label-arrow:before {color: black;}#sk-container-id-1 div.sk-toggleable__content {max-height: 0;max-width: 0;overflow: hidden;text-align: left;background-color: #f0f8ff;}#sk-container-id-1 div.sk-toggleable__content pre {margin: 0.2em;color: black;border-radius: 0.25em;background-color: #f0f8ff;}#sk-container-id-1 input.sk-toggleable__control:checked~div.sk-toggleable__content {max-height: 200px;max-width: 100%;overflow: auto;}#sk-container-id-1 input.sk-toggleable__control:checked~label.sk-toggleable__label-arrow:before {content: \"▾\";}#sk-container-id-1 div.sk-estimator input.sk-toggleable__control:checked~label.sk-toggleable__label {background-color: #d4ebff;}#sk-container-id-1 div.sk-label input.sk-toggleable__control:checked~label.sk-toggleable__label {background-color: #d4ebff;}#sk-container-id-1 input.sk-hidden--visually {border: 0;clip: rect(1px 1px 1px 1px);clip: rect(1px, 1px, 1px, 1px);height: 1px;margin: -1px;overflow: hidden;padding: 0;position: absolute;width: 1px;}#sk-container-id-1 div.sk-estimator {font-family: monospace;background-color: #f0f8ff;border: 1px dotted black;border-radius: 0.25em;box-sizing: border-box;margin-bottom: 0.5em;}#sk-container-id-1 div.sk-estimator:hover {background-color: #d4ebff;}#sk-container-id-1 div.sk-parallel-item::after {content: \"\";width: 100%;border-bottom: 1px solid gray;flex-grow: 1;}#sk-container-id-1 div.sk-label:hover label.sk-toggleable__label {background-color: #d4ebff;}#sk-container-id-1 div.sk-serial::before {content: \"\";position: absolute;border-left: 1px solid gray;box-sizing: border-box;top: 0;bottom: 0;left: 50%;z-index: 0;}#sk-container-id-1 div.sk-serial {display: flex;flex-direction: column;align-items: center;background-color: white;padding-right: 0.2em;padding-left: 0.2em;position: relative;}#sk-container-id-1 div.sk-item {position: relative;z-index: 1;}#sk-container-id-1 div.sk-parallel {display: flex;align-items: stretch;justify-content: center;background-color: white;position: relative;}#sk-container-id-1 div.sk-item::before, #sk-container-id-1 div.sk-parallel-item::before {content: \"\";position: absolute;border-left: 1px solid gray;box-sizing: border-box;top: 0;bottom: 0;left: 50%;z-index: -1;}#sk-container-id-1 div.sk-parallel-item {display: flex;flex-direction: column;z-index: 1;position: relative;background-color: white;}#sk-container-id-1 div.sk-parallel-item:first-child::after {align-self: flex-end;width: 50%;}#sk-container-id-1 div.sk-parallel-item:last-child::after {align-self: flex-start;width: 50%;}#sk-container-id-1 div.sk-parallel-item:only-child::after {width: 0;}#sk-container-id-1 div.sk-dashed-wrapped {border: 1px dashed gray;margin: 0 0.4em 0.5em 0.4em;box-sizing: border-box;padding-bottom: 0.4em;background-color: white;}#sk-container-id-1 div.sk-label label {font-family: monospace;font-weight: bold;display: inline-block;line-height: 1.2em;}#sk-container-id-1 div.sk-label-container {text-align: center;}#sk-container-id-1 div.sk-container {/* jupyter's `normalize.less` sets `[hidden] { display: none; }` but bootstrap.min.css set `[hidden] { display: none !important; }` so we also need the `!important` here to be able to override the default hidden behavior on the sphinx rendered scikit-learn.org. See: https://github.com/scikit-learn/scikit-learn/issues/21755 */display: inline-block !important;position: relative;}#sk-container-id-1 div.sk-text-repr-fallback {display: none;}</style><div id=\"sk-container-id-1\" class=\"sk-top-container\"><div class=\"sk-text-repr-fallback\"><pre>Pipeline(steps=[(&#x27;scaler&#x27;, StandardScaler()), (&#x27;lr&#x27;, LinearRegression())])</pre><b>In a Jupyter environment, please rerun this cell to show the HTML representation or trust the notebook. <br />On GitHub, the HTML representation is unable to render, please try loading this page with nbviewer.org.</b></div><div class=\"sk-container\" hidden><div class=\"sk-item sk-dashed-wrapped\"><div class=\"sk-label-container\"><div class=\"sk-label sk-toggleable\"><input class=\"sk-toggleable__control sk-hidden--visually\" id=\"sk-estimator-id-1\" type=\"checkbox\" ><label for=\"sk-estimator-id-1\" class=\"sk-toggleable__label sk-toggleable__label-arrow\">Pipeline</label><div class=\"sk-toggleable__content\"><pre>Pipeline(steps=[(&#x27;scaler&#x27;, StandardScaler()), (&#x27;lr&#x27;, LinearRegression())])</pre></div></div></div><div class=\"sk-serial\"><div class=\"sk-item\"><div class=\"sk-estimator sk-toggleable\"><input class=\"sk-toggleable__control sk-hidden--visually\" id=\"sk-estimator-id-2\" type=\"checkbox\" ><label for=\"sk-estimator-id-2\" class=\"sk-toggleable__label sk-toggleable__label-arrow\">StandardScaler</label><div class=\"sk-toggleable__content\"><pre>StandardScaler()</pre></div></div></div><div class=\"sk-item\"><div class=\"sk-estimator sk-toggleable\"><input class=\"sk-toggleable__control sk-hidden--visually\" id=\"sk-estimator-id-3\" type=\"checkbox\" ><label for=\"sk-estimator-id-3\" class=\"sk-toggleable__label sk-toggleable__label-arrow\">LinearRegression</label><div class=\"sk-toggleable__content\"><pre>LinearRegression()</pre></div></div></div></div></div></div></div>"
      ],
      "text/plain": [
       "Pipeline(steps=[('scaler', StandardScaler()), ('lr', LinearRegression())])"
      ]
     },
     "execution_count": 14,
     "metadata": {},
     "output_type": "execute_result"
    }
   ],
   "source": [
    "# process_a_y1\n",
    "path_model_process_a_y1 = 'artifacts/models/process_a/'\n",
    "artifact_model_process_a_y1 = 'lr.pkl'\n",
    "path_model_process_a_y1 = path_model_process_a_y1 + artifact_model_process_a_y1\n",
    "model_process_a_y1 = pd.read_pickle(path_model_process_a_y1)\n",
    "model_process_a_y1"
   ]
  },
  {
   "cell_type": "code",
   "execution_count": 15,
   "id": "19f2eb3f-b9a4-43e5-b80b-d8eb782bf260",
   "metadata": {},
   "outputs": [
    {
     "data": {
      "text/html": [
       "<style>#sk-container-id-2 {color: black;}#sk-container-id-2 pre{padding: 0;}#sk-container-id-2 div.sk-toggleable {background-color: white;}#sk-container-id-2 label.sk-toggleable__label {cursor: pointer;display: block;width: 100%;margin-bottom: 0;padding: 0.3em;box-sizing: border-box;text-align: center;}#sk-container-id-2 label.sk-toggleable__label-arrow:before {content: \"▸\";float: left;margin-right: 0.25em;color: #696969;}#sk-container-id-2 label.sk-toggleable__label-arrow:hover:before {color: black;}#sk-container-id-2 div.sk-estimator:hover label.sk-toggleable__label-arrow:before {color: black;}#sk-container-id-2 div.sk-toggleable__content {max-height: 0;max-width: 0;overflow: hidden;text-align: left;background-color: #f0f8ff;}#sk-container-id-2 div.sk-toggleable__content pre {margin: 0.2em;color: black;border-radius: 0.25em;background-color: #f0f8ff;}#sk-container-id-2 input.sk-toggleable__control:checked~div.sk-toggleable__content {max-height: 200px;max-width: 100%;overflow: auto;}#sk-container-id-2 input.sk-toggleable__control:checked~label.sk-toggleable__label-arrow:before {content: \"▾\";}#sk-container-id-2 div.sk-estimator input.sk-toggleable__control:checked~label.sk-toggleable__label {background-color: #d4ebff;}#sk-container-id-2 div.sk-label input.sk-toggleable__control:checked~label.sk-toggleable__label {background-color: #d4ebff;}#sk-container-id-2 input.sk-hidden--visually {border: 0;clip: rect(1px 1px 1px 1px);clip: rect(1px, 1px, 1px, 1px);height: 1px;margin: -1px;overflow: hidden;padding: 0;position: absolute;width: 1px;}#sk-container-id-2 div.sk-estimator {font-family: monospace;background-color: #f0f8ff;border: 1px dotted black;border-radius: 0.25em;box-sizing: border-box;margin-bottom: 0.5em;}#sk-container-id-2 div.sk-estimator:hover {background-color: #d4ebff;}#sk-container-id-2 div.sk-parallel-item::after {content: \"\";width: 100%;border-bottom: 1px solid gray;flex-grow: 1;}#sk-container-id-2 div.sk-label:hover label.sk-toggleable__label {background-color: #d4ebff;}#sk-container-id-2 div.sk-serial::before {content: \"\";position: absolute;border-left: 1px solid gray;box-sizing: border-box;top: 0;bottom: 0;left: 50%;z-index: 0;}#sk-container-id-2 div.sk-serial {display: flex;flex-direction: column;align-items: center;background-color: white;padding-right: 0.2em;padding-left: 0.2em;position: relative;}#sk-container-id-2 div.sk-item {position: relative;z-index: 1;}#sk-container-id-2 div.sk-parallel {display: flex;align-items: stretch;justify-content: center;background-color: white;position: relative;}#sk-container-id-2 div.sk-item::before, #sk-container-id-2 div.sk-parallel-item::before {content: \"\";position: absolute;border-left: 1px solid gray;box-sizing: border-box;top: 0;bottom: 0;left: 50%;z-index: -1;}#sk-container-id-2 div.sk-parallel-item {display: flex;flex-direction: column;z-index: 1;position: relative;background-color: white;}#sk-container-id-2 div.sk-parallel-item:first-child::after {align-self: flex-end;width: 50%;}#sk-container-id-2 div.sk-parallel-item:last-child::after {align-self: flex-start;width: 50%;}#sk-container-id-2 div.sk-parallel-item:only-child::after {width: 0;}#sk-container-id-2 div.sk-dashed-wrapped {border: 1px dashed gray;margin: 0 0.4em 0.5em 0.4em;box-sizing: border-box;padding-bottom: 0.4em;background-color: white;}#sk-container-id-2 div.sk-label label {font-family: monospace;font-weight: bold;display: inline-block;line-height: 1.2em;}#sk-container-id-2 div.sk-label-container {text-align: center;}#sk-container-id-2 div.sk-container {/* jupyter's `normalize.less` sets `[hidden] { display: none; }` but bootstrap.min.css set `[hidden] { display: none !important; }` so we also need the `!important` here to be able to override the default hidden behavior on the sphinx rendered scikit-learn.org. See: https://github.com/scikit-learn/scikit-learn/issues/21755 */display: inline-block !important;position: relative;}#sk-container-id-2 div.sk-text-repr-fallback {display: none;}</style><div id=\"sk-container-id-2\" class=\"sk-top-container\"><div class=\"sk-text-repr-fallback\"><pre>Pipeline(steps=[(&#x27;scaler&#x27;, StandardScaler()), (&#x27;lr&#x27;, LinearRegression())])</pre><b>In a Jupyter environment, please rerun this cell to show the HTML representation or trust the notebook. <br />On GitHub, the HTML representation is unable to render, please try loading this page with nbviewer.org.</b></div><div class=\"sk-container\" hidden><div class=\"sk-item sk-dashed-wrapped\"><div class=\"sk-label-container\"><div class=\"sk-label sk-toggleable\"><input class=\"sk-toggleable__control sk-hidden--visually\" id=\"sk-estimator-id-4\" type=\"checkbox\" ><label for=\"sk-estimator-id-4\" class=\"sk-toggleable__label sk-toggleable__label-arrow\">Pipeline</label><div class=\"sk-toggleable__content\"><pre>Pipeline(steps=[(&#x27;scaler&#x27;, StandardScaler()), (&#x27;lr&#x27;, LinearRegression())])</pre></div></div></div><div class=\"sk-serial\"><div class=\"sk-item\"><div class=\"sk-estimator sk-toggleable\"><input class=\"sk-toggleable__control sk-hidden--visually\" id=\"sk-estimator-id-5\" type=\"checkbox\" ><label for=\"sk-estimator-id-5\" class=\"sk-toggleable__label sk-toggleable__label-arrow\">StandardScaler</label><div class=\"sk-toggleable__content\"><pre>StandardScaler()</pre></div></div></div><div class=\"sk-item\"><div class=\"sk-estimator sk-toggleable\"><input class=\"sk-toggleable__control sk-hidden--visually\" id=\"sk-estimator-id-6\" type=\"checkbox\" ><label for=\"sk-estimator-id-6\" class=\"sk-toggleable__label sk-toggleable__label-arrow\">LinearRegression</label><div class=\"sk-toggleable__content\"><pre>LinearRegression()</pre></div></div></div></div></div></div></div>"
      ],
      "text/plain": [
       "Pipeline(steps=[('scaler', StandardScaler()), ('lr', LinearRegression())])"
      ]
     },
     "execution_count": 15,
     "metadata": {},
     "output_type": "execute_result"
    }
   ],
   "source": [
    "# process_b_y2\n",
    "path_model_process_b_y2 = 'artifacts/models/process_b_y2/'\n",
    "artifact_model_process_b_y2 = 'lr.pkl'\n",
    "path_model_process_b_y2 = path_model_process_b_y2 + artifact_model_process_b_y2\n",
    "model_process_b_y2 = pd.read_pickle(path_model_process_b_y2)\n",
    "model_process_b_y2"
   ]
  },
  {
   "cell_type": "code",
   "execution_count": 16,
   "id": "f1747ce1-b627-462f-bf94-7facf0d57ebc",
   "metadata": {},
   "outputs": [
    {
     "data": {
      "text/html": [
       "<style>#sk-container-id-3 {color: black;}#sk-container-id-3 pre{padding: 0;}#sk-container-id-3 div.sk-toggleable {background-color: white;}#sk-container-id-3 label.sk-toggleable__label {cursor: pointer;display: block;width: 100%;margin-bottom: 0;padding: 0.3em;box-sizing: border-box;text-align: center;}#sk-container-id-3 label.sk-toggleable__label-arrow:before {content: \"▸\";float: left;margin-right: 0.25em;color: #696969;}#sk-container-id-3 label.sk-toggleable__label-arrow:hover:before {color: black;}#sk-container-id-3 div.sk-estimator:hover label.sk-toggleable__label-arrow:before {color: black;}#sk-container-id-3 div.sk-toggleable__content {max-height: 0;max-width: 0;overflow: hidden;text-align: left;background-color: #f0f8ff;}#sk-container-id-3 div.sk-toggleable__content pre {margin: 0.2em;color: black;border-radius: 0.25em;background-color: #f0f8ff;}#sk-container-id-3 input.sk-toggleable__control:checked~div.sk-toggleable__content {max-height: 200px;max-width: 100%;overflow: auto;}#sk-container-id-3 input.sk-toggleable__control:checked~label.sk-toggleable__label-arrow:before {content: \"▾\";}#sk-container-id-3 div.sk-estimator input.sk-toggleable__control:checked~label.sk-toggleable__label {background-color: #d4ebff;}#sk-container-id-3 div.sk-label input.sk-toggleable__control:checked~label.sk-toggleable__label {background-color: #d4ebff;}#sk-container-id-3 input.sk-hidden--visually {border: 0;clip: rect(1px 1px 1px 1px);clip: rect(1px, 1px, 1px, 1px);height: 1px;margin: -1px;overflow: hidden;padding: 0;position: absolute;width: 1px;}#sk-container-id-3 div.sk-estimator {font-family: monospace;background-color: #f0f8ff;border: 1px dotted black;border-radius: 0.25em;box-sizing: border-box;margin-bottom: 0.5em;}#sk-container-id-3 div.sk-estimator:hover {background-color: #d4ebff;}#sk-container-id-3 div.sk-parallel-item::after {content: \"\";width: 100%;border-bottom: 1px solid gray;flex-grow: 1;}#sk-container-id-3 div.sk-label:hover label.sk-toggleable__label {background-color: #d4ebff;}#sk-container-id-3 div.sk-serial::before {content: \"\";position: absolute;border-left: 1px solid gray;box-sizing: border-box;top: 0;bottom: 0;left: 50%;z-index: 0;}#sk-container-id-3 div.sk-serial {display: flex;flex-direction: column;align-items: center;background-color: white;padding-right: 0.2em;padding-left: 0.2em;position: relative;}#sk-container-id-3 div.sk-item {position: relative;z-index: 1;}#sk-container-id-3 div.sk-parallel {display: flex;align-items: stretch;justify-content: center;background-color: white;position: relative;}#sk-container-id-3 div.sk-item::before, #sk-container-id-3 div.sk-parallel-item::before {content: \"\";position: absolute;border-left: 1px solid gray;box-sizing: border-box;top: 0;bottom: 0;left: 50%;z-index: -1;}#sk-container-id-3 div.sk-parallel-item {display: flex;flex-direction: column;z-index: 1;position: relative;background-color: white;}#sk-container-id-3 div.sk-parallel-item:first-child::after {align-self: flex-end;width: 50%;}#sk-container-id-3 div.sk-parallel-item:last-child::after {align-self: flex-start;width: 50%;}#sk-container-id-3 div.sk-parallel-item:only-child::after {width: 0;}#sk-container-id-3 div.sk-dashed-wrapped {border: 1px dashed gray;margin: 0 0.4em 0.5em 0.4em;box-sizing: border-box;padding-bottom: 0.4em;background-color: white;}#sk-container-id-3 div.sk-label label {font-family: monospace;font-weight: bold;display: inline-block;line-height: 1.2em;}#sk-container-id-3 div.sk-label-container {text-align: center;}#sk-container-id-3 div.sk-container {/* jupyter's `normalize.less` sets `[hidden] { display: none; }` but bootstrap.min.css set `[hidden] { display: none !important; }` so we also need the `!important` here to be able to override the default hidden behavior on the sphinx rendered scikit-learn.org. See: https://github.com/scikit-learn/scikit-learn/issues/21755 */display: inline-block !important;position: relative;}#sk-container-id-3 div.sk-text-repr-fallback {display: none;}</style><div id=\"sk-container-id-3\" class=\"sk-top-container\"><div class=\"sk-text-repr-fallback\"><pre>Pipeline(steps=[(&#x27;scaler&#x27;, StandardScaler()), (&#x27;lr&#x27;, LinearRegression())])</pre><b>In a Jupyter environment, please rerun this cell to show the HTML representation or trust the notebook. <br />On GitHub, the HTML representation is unable to render, please try loading this page with nbviewer.org.</b></div><div class=\"sk-container\" hidden><div class=\"sk-item sk-dashed-wrapped\"><div class=\"sk-label-container\"><div class=\"sk-label sk-toggleable\"><input class=\"sk-toggleable__control sk-hidden--visually\" id=\"sk-estimator-id-7\" type=\"checkbox\" ><label for=\"sk-estimator-id-7\" class=\"sk-toggleable__label sk-toggleable__label-arrow\">Pipeline</label><div class=\"sk-toggleable__content\"><pre>Pipeline(steps=[(&#x27;scaler&#x27;, StandardScaler()), (&#x27;lr&#x27;, LinearRegression())])</pre></div></div></div><div class=\"sk-serial\"><div class=\"sk-item\"><div class=\"sk-estimator sk-toggleable\"><input class=\"sk-toggleable__control sk-hidden--visually\" id=\"sk-estimator-id-8\" type=\"checkbox\" ><label for=\"sk-estimator-id-8\" class=\"sk-toggleable__label sk-toggleable__label-arrow\">StandardScaler</label><div class=\"sk-toggleable__content\"><pre>StandardScaler()</pre></div></div></div><div class=\"sk-item\"><div class=\"sk-estimator sk-toggleable\"><input class=\"sk-toggleable__control sk-hidden--visually\" id=\"sk-estimator-id-9\" type=\"checkbox\" ><label for=\"sk-estimator-id-9\" class=\"sk-toggleable__label sk-toggleable__label-arrow\">LinearRegression</label><div class=\"sk-toggleable__content\"><pre>LinearRegression()</pre></div></div></div></div></div></div></div>"
      ],
      "text/plain": [
       "Pipeline(steps=[('scaler', StandardScaler()), ('lr', LinearRegression())])"
      ]
     },
     "execution_count": 16,
     "metadata": {},
     "output_type": "execute_result"
    }
   ],
   "source": [
    "# process_b_y3\n",
    "path_model_process_b_y3 = 'artifacts/models/process_b_y3/'\n",
    "artifact_model_process_b_y3 = 'lr.pkl'\n",
    "path_model_process_b_y3 = path_model_process_b_y3 + artifact_model_process_b_y3\n",
    "model_process_b_y3 = pd.read_pickle(path_model_process_b_y3)\n",
    "model_process_b_y3"
   ]
  },
  {
   "cell_type": "code",
   "execution_count": 17,
   "id": "e208d2be-94f3-4c26-a12f-ec2763bdebee",
   "metadata": {},
   "outputs": [],
   "source": [
    "# process_c_y2\n",
    "# CUSTOM\n",
    "\n",
    "# parametes alpha\n",
    "alpha_feature_X3 = 1/5\n",
    "alpha_feature_O7 = 15\n",
    "\n",
    "#target_predicted = alpha_feature_X3 * X_train['X3'] + alpha_feature_O7 * X_train['07']\n",
    "#target_predicted"
   ]
  },
  {
   "cell_type": "code",
   "execution_count": null,
   "id": "bd1fbc9e-a707-4e91-9c8c-84324cb1c671",
   "metadata": {},
   "outputs": [],
   "source": []
  },
  {
   "cell_type": "code",
   "execution_count": null,
   "id": "916a457d-2ab1-4a75-8e5f-4b360f1cef78",
   "metadata": {},
   "outputs": [],
   "source": []
  },
  {
   "cell_type": "code",
   "execution_count": null,
   "id": "148c5ac8-f0d8-4ddd-b52e-9db7c7aaa7f9",
   "metadata": {},
   "outputs": [],
   "source": []
  },
  {
   "cell_type": "markdown",
   "id": "61bbf9c2-fc6f-44cc-ac07-fd485651fca4",
   "metadata": {},
   "source": [
    "### 2. Create gurobi model"
   ]
  },
  {
   "cell_type": "code",
   "execution_count": 18,
   "id": "9adcac1a-f1e5-48a8-838a-132f4fd0de81",
   "metadata": {},
   "outputs": [
    {
     "name": "stdout",
     "output_type": "stream",
     "text": [
      "Set parameter WLSAccessID\n",
      "Set parameter WLSSecret\n",
      "Set parameter LicenseID to value 2441807\n",
      "WLS license 2441807 - registered to CMPC Celulosa S.A\n"
     ]
    }
   ],
   "source": [
    "# # create model with licence\n",
    "env = gp.Env(params=params)\n",
    "model_opt = gp.Model('Example Optimization Model', env = env)\n",
    "\n",
    "# create model without licence\n",
    "# model_opt = gp.Model('Example Optimization Model')"
   ]
  },
  {
   "cell_type": "code",
   "execution_count": null,
   "id": "c182e230-920d-4dc8-8117-c034f10c1e25",
   "metadata": {},
   "outputs": [],
   "source": []
  },
  {
   "cell_type": "code",
   "execution_count": null,
   "id": "11088ab2-9f11-4554-a374-54415f686ba2",
   "metadata": {},
   "outputs": [],
   "source": []
  },
  {
   "cell_type": "code",
   "execution_count": null,
   "id": "cd4834c3-d4b9-4918-9499-00ed9d3b7dfe",
   "metadata": {},
   "outputs": [],
   "source": []
  },
  {
   "cell_type": "markdown",
   "id": "052c9a12-c3a9-456f-8c59-e2f78776984d",
   "metadata": {},
   "source": [
    "### 3. Create decision variables\n",
    "It is necesary to have:\n",
    "- list of elements of the sets of decision var\n",
    "- table with the list of decision variables to create with important considerations when the are created (for example, upper bound and lower bound)\n",
    "- **create the decision var and save it into a dictionary of decision var. Use the dictionary to call the decision var when they are used to create a constraints**"
   ]
  },
  {
   "cell_type": "markdown",
   "id": "26d058dc-ac4d-43a0-a85b-64d786eb4292",
   "metadata": {},
   "source": [
    "#### Aditional, when the decision var is created, set the initial value\n",
    "\n",
    "- Fix the values of period t=0 for each decision var.\n",
    "\n",
    "- t=0 represent the actual period or initial period and it in some problems and modelations is kwown\n",
    "\n",
    "- In addition in this notebook, the values in time t=0 are fixed for all decision variables, inclusive if the decision var have a constraint that define its values in time t = 0 (so, this kind of constraints needs to be defined since t = 1)"
   ]
  },
  {
   "cell_type": "code",
   "execution_count": 19,
   "id": "0250a208-6f05-4962-92d5-d544cc69d931",
   "metadata": {},
   "outputs": [],
   "source": [
    "### MANUALLY - create a decision variable with the prefix var_xxx\n",
    "var_X1 = gppd.add_vars(model_opt, \n",
    "                       index_set_time, \n",
    "                       name = 'description X1',\n",
    "                       ub = gp.GRB.INFINITY\n",
    "                      )\n",
    "\n",
    "var_O1 = gppd.add_vars(model_opt, \n",
    "                       index_set_time, \n",
    "                       name = 'description X1',\n",
    "                       ub = gp.GRB.INFINITY\n",
    "                      )\n",
    "\n",
    "var_O2 = gppd.add_vars(model_opt, \n",
    "                       index_set_time, \n",
    "                       name = 'description X1',\n",
    "                       ub = gp.GRB.INFINITY\n",
    "                      )\n",
    "\n",
    "var_O3 = gppd.add_vars(model_opt, \n",
    "                       index_set_time, \n",
    "                       name = 'description X1',\n",
    "                       ub = gp.GRB.INFINITY\n",
    "                      )\n",
    "\n",
    "var_Y1 = gppd.add_vars(model_opt, \n",
    "                       index_set_time, \n",
    "                       name = 'description X1',\n",
    "                       ub = gp.GRB.INFINITY\n",
    "                      )\n",
    "\n",
    "var_O4 = gppd.add_vars(model_opt, \n",
    "                       index_set_time, \n",
    "                       name = 'description X1',\n",
    "                       ub = gp.GRB.INFINITY\n",
    "                      )\n",
    "\n",
    "var_Z1 = gppd.add_vars(model_opt, \n",
    "                       index_set_time, \n",
    "                       name = 'description X1',\n",
    "                       ub = gp.GRB.INFINITY\n",
    "                      )\n",
    "\n",
    "var_X2 = gppd.add_vars(model_opt, \n",
    "                       index_set_time, \n",
    "                       name = 'description X1',\n",
    "                       ub = gp.GRB.INFINITY\n",
    "                      )\n",
    "\n",
    "var_O5 = gppd.add_vars(model_opt, \n",
    "                       index_set_time, \n",
    "                       name = 'description X1',\n",
    "                       ub = gp.GRB.INFINITY\n",
    "                      )\n",
    "\n",
    "var_O6 = gppd.add_vars(model_opt, \n",
    "                       index_set_time, \n",
    "                       name = 'description X1',\n",
    "                       ub = gp.GRB.INFINITY\n",
    "                      )\n",
    "\n",
    "var_Y2 = gppd.add_vars(model_opt, \n",
    "                       index_set_time, \n",
    "                       name = 'description X1',\n",
    "                       ub = gp.GRB.INFINITY\n",
    "                      )\n",
    "\n",
    "var_Y3 = gppd.add_vars(model_opt, \n",
    "                       index_set_time, \n",
    "                       name = 'description X1',\n",
    "                       ub = gp.GRB.INFINITY\n",
    "                      )\n",
    "\n",
    "var_X3 = gppd.add_vars(model_opt, \n",
    "                       index_set_time, \n",
    "                       name = 'description X1',\n",
    "                       ub = gp.GRB.INFINITY\n",
    "                      )\n",
    "\n",
    "var_O7 = gppd.add_vars(model_opt, \n",
    "                       index_set_time, \n",
    "                       name = 'description X1',\n",
    "                       ub = gp.GRB.INFINITY\n",
    "                      )\n",
    "\n",
    "var_TL1 = gppd.add_vars(model_opt, \n",
    "                       index_set_time, \n",
    "                       name = 'description X1',\n",
    "                       ub = gp.GRB.INFINITY\n",
    "                      )\n",
    "\n",
    "var_TL2 = gppd.add_vars(model_opt, \n",
    "                       index_set_time, \n",
    "                       name = 'description X1',\n",
    "                       ub = gp.GRB.INFINITY\n",
    "                      )\n",
    "\n",
    "var_TL3 = gppd.add_vars(model_opt, \n",
    "                       index_set_time, \n",
    "                       name = 'description X1',\n",
    "                       ub = gp.GRB.INFINITY\n",
    "                      )"
   ]
  },
  {
   "cell_type": "code",
   "execution_count": null,
   "id": "a27ba154-46cd-4ddb-9b28-68e7e3b729a3",
   "metadata": {},
   "outputs": [],
   "source": []
  },
  {
   "cell_type": "code",
   "execution_count": null,
   "id": "f2355bc7-955a-4464-923c-ea2cef8b372f",
   "metadata": {},
   "outputs": [],
   "source": []
  },
  {
   "cell_type": "code",
   "execution_count": null,
   "id": "05d97e9f-7b09-4858-bd63-9d898d4f9e70",
   "metadata": {},
   "outputs": [],
   "source": []
  },
  {
   "cell_type": "markdown",
   "id": "d06c2bbf-1f5e-4aaf-99f5-3e1fdbeca3f1",
   "metadata": {},
   "source": [
    "### 4. Set initial values decision variables\n",
    "Set the initial values t=0 for the decision variables that needs this initial values and save in t=0"
   ]
  },
  {
   "cell_type": "code",
   "execution_count": 20,
   "id": "c5724444-fafd-4a01-9532-b79af0d13db7",
   "metadata": {},
   "outputs": [],
   "source": [
    "# MANUALLY"
   ]
  },
  {
   "cell_type": "code",
   "execution_count": 21,
   "id": "696ca093-2629-4c47-9315-b6f52ae91431",
   "metadata": {},
   "outputs": [
    {
     "data": {
      "text/plain": [
       "<gurobi.Constr *Awaiting Model Update*>"
      ]
     },
     "execution_count": 21,
     "metadata": {},
     "output_type": "execute_result"
    }
   ],
   "source": [
    "# X1\n",
    "init_value_X1 = 50.0\n",
    "model_opt.addConstr(var_X1['t0'] == init_value_X1, name = f'Initial Value X0')\n",
    "\n",
    "# O1\n",
    "init_value_O1 = 50.0\n",
    "model_opt.addConstr(var_O1['t0'] == init_value_O1, name = f'Initial Value X0')\n",
    "\n",
    "# O2\t\n",
    "init_value_O2 = 50.0\n",
    "model_opt.addConstr(var_O2['t0'] == init_value_O2, name = f'Initial Value X0')\n",
    "\n",
    "# O3\n",
    "init_value_O3 = 50.0\n",
    "model_opt.addConstr(var_O3['t0'] == init_value_O3, name = f'Initial Value X0')\n",
    "\n",
    "# O4\n",
    "init_value_O4 = 200.0\n",
    "model_opt.addConstr(var_O4['t0'] == init_value_O4, name = f'Initial Value X0')\n",
    "\n",
    "# Z1\n",
    "init_value_Z1 = 120\n",
    "model_opt.addConstr(var_Z1['t0'] == init_value_Z1, name = f'Initial Value X0')\n",
    "\n",
    "# X2\n",
    "init_value_X2 = 5\n",
    "model_opt.addConstr(var_X2['t0'] == init_value_X2, name = f'Initial Value X0')\n",
    "\n",
    "# O5\n",
    "init_value_O5 = 5\n",
    "model_opt.addConstr(var_O5['t0'] == init_value_O5, name = f'Initial Value X0')\n",
    "\n",
    "# O6\n",
    "init_value_O6 = 5\n",
    "model_opt.addConstr(var_O6['t0'] == init_value_O6, name = f'Initial Value X0')\n",
    "\n",
    "# X3\n",
    "init_value_X3 = 5\n",
    "model_opt.addConstr(var_X3['t0'] == init_value_X3, name = f'Initial Value X0')\n",
    "\n",
    "# O7\n",
    "init_value_O7 = 4\n",
    "model_opt.addConstr(var_O7['t0'] == init_value_O7, name = f'Initial Value X0')\n",
    "\n",
    "# TL1\n",
    "init_value_TL1 = 500\n",
    "model_opt.addConstr(var_TL1['t0'] == init_value_TL1, name = f'Initial Value X0')\n",
    "\n",
    "# TL2\n",
    "init_value_TL2 = 500\n",
    "model_opt.addConstr(var_TL2['t0'] == init_value_TL2, name = f'Initial Value X0')\n",
    "\n",
    "# TL3\n",
    "init_value_TL3 = 500\n",
    "model_opt.addConstr(var_TL3['t0'] == init_value_TL3, name = f'Initial Value X0')"
   ]
  },
  {
   "cell_type": "code",
   "execution_count": null,
   "id": "5b97d79a-7af6-401a-b30e-75251808596b",
   "metadata": {},
   "outputs": [],
   "source": []
  },
  {
   "cell_type": "code",
   "execution_count": null,
   "id": "956a40d2-e620-4b49-a93b-ad0e42469886",
   "metadata": {},
   "outputs": [],
   "source": []
  },
  {
   "cell_type": "code",
   "execution_count": null,
   "id": "216ff68d-ee77-488a-b8c4-bcc39469f4f8",
   "metadata": {},
   "outputs": [],
   "source": []
  },
  {
   "cell_type": "markdown",
   "id": "b9d7708c-7f10-45c9-b3ac-f41c81f20763",
   "metadata": {},
   "source": [
    "### 5. Lower bound and Upper bound decision variables\n",
    "For example, lower bound and upper bound of tank level\n",
    "\n",
    "---\n",
    "If one decision variables doesn't need a lower bound and upper bound parameter, its value in configuration file is saved as np.NaN\n",
    "\n",
    "Then filter the configuration table to have only the decision variables that have defined a rate_change\n",
    "\n",
    "define in differents files one for lower bounds and another for upper bounds"
   ]
  },
  {
   "cell_type": "markdown",
   "id": "82f4e62a-7ba1-4a67-becd-7f66a4428f5e",
   "metadata": {},
   "source": [
    "#### 5.1 Lower bound\n",
    "Since config decision var create a subtable with only the features that have defined its upper bound and then create the constraints"
   ]
  },
  {
   "cell_type": "code",
   "execution_count": null,
   "id": "4d7329b5-d4f3-4fc1-808d-c4188ddf7d56",
   "metadata": {},
   "outputs": [],
   "source": []
  },
  {
   "cell_type": "code",
   "execution_count": 22,
   "id": "b5651b2f-143e-4434-90d8-69d27bc83347",
   "metadata": {},
   "outputs": [],
   "source": [
    "# MANUALLY"
   ]
  },
  {
   "cell_type": "code",
   "execution_count": 23,
   "id": "1c06832f-3635-4908-bfc9-a0f8183735b1",
   "metadata": {},
   "outputs": [
    {
     "data": {
      "text/plain": [
       "t0    <gurobi.Constr *Awaiting Model Update*>\n",
       "t1    <gurobi.Constr *Awaiting Model Update*>\n",
       "t2    <gurobi.Constr *Awaiting Model Update*>\n",
       "t3    <gurobi.Constr *Awaiting Model Update*>\n",
       "t4    <gurobi.Constr *Awaiting Model Update*>\n",
       "t5    <gurobi.Constr *Awaiting Model Update*>\n",
       "t6    <gurobi.Constr *Awaiting Model Update*>\n",
       "Name: Lower bound X0, dtype: object"
      ]
     },
     "execution_count": 23,
     "metadata": {},
     "output_type": "execute_result"
    }
   ],
   "source": [
    "# var_X1\n",
    "var_X1_lower_bound = 0\n",
    "gppd.add_constrs(model_opt,\n",
    "                 var_X1,  # decision var\n",
    "                 gp.GRB.GREATER_EQUAL,\n",
    "                 var_X1_lower_bound,  # lower bound\n",
    "                 name = f'Lower bound X0')\n",
    "\n",
    "# var_Y1\n",
    "var_Y1_lower_bound = 0\n",
    "gppd.add_constrs(model_opt,\n",
    "                 var_Y1,  # decision var\n",
    "                 gp.GRB.GREATER_EQUAL,\n",
    "                 var_Y1_lower_bound,  # lower bound\n",
    "                 name = f'Lower bound X0')\n",
    "\n",
    "# var_Z1\n",
    "var_Z1_lower_bound = 0\n",
    "gppd.add_constrs(model_opt,\n",
    "                 var_Z1,  # decision var\n",
    "                 gp.GRB.GREATER_EQUAL,\n",
    "                 var_Z1_lower_bound,  # lower bound\n",
    "                 name = f'Lower bound X0')\n",
    "\n",
    "# var_X2\n",
    "var_X2_lower_bound = 0\n",
    "gppd.add_constrs(model_opt,\n",
    "                 var_X2,  # decision var\n",
    "                 gp.GRB.GREATER_EQUAL,\n",
    "                 var_X2_lower_bound,  # lower bound\n",
    "                 name = f'Lower bound X0')\n",
    "\n",
    "# var_Y2\n",
    "var_Y2_lower_bound = 0\n",
    "gppd.add_constrs(model_opt,\n",
    "                 var_Y2,  # decision var\n",
    "                 gp.GRB.GREATER_EQUAL,\n",
    "                 var_Y2_lower_bound,  # lower bound\n",
    "                 name = f'Lower bound X0')\n",
    "\n",
    "# var_Y3\n",
    "var_Y3_lower_bound = 0\n",
    "gppd.add_constrs(model_opt,\n",
    "                 var_Y3,  # decision var\n",
    "                 gp.GRB.GREATER_EQUAL,\n",
    "                 var_Y3_lower_bound,  # lower bound\n",
    "                 name = f'Lower bound X0')\n",
    "\n",
    "# var_X3\n",
    "var_X3_lower_bound = 0\n",
    "gppd.add_constrs(model_opt,\n",
    "                 var_X3,  # decision var\n",
    "                 gp.GRB.GREATER_EQUAL,\n",
    "                 var_X3_lower_bound,  # lower bound\n",
    "                 name = f'Lower bound X0')\n",
    "\n",
    "# var_TL1\n",
    "var_TL1_lower_bound = 100\n",
    "gppd.add_constrs(model_opt,\n",
    "                 var_TL1,  # decision var\n",
    "                 gp.GRB.GREATER_EQUAL,\n",
    "                 var_TL1_lower_bound,  # lower bound\n",
    "                 name = f'Lower bound X0')\n",
    "\n",
    "# var_TL2\n",
    "var_TL2_lower_bound = 100\n",
    "gppd.add_constrs(model_opt,\n",
    "                 var_TL2,  # decision var\n",
    "                 gp.GRB.GREATER_EQUAL,\n",
    "                 var_TL2_lower_bound,  # lower bound\n",
    "                 name = f'Lower bound X0')\n",
    "\n",
    "# var_TL3\n",
    "var_TL3_lower_bound = 100\n",
    "gppd.add_constrs(model_opt,\n",
    "                 var_TL3,  # decision var\n",
    "                 gp.GRB.GREATER_EQUAL,\n",
    "                 var_TL3_lower_bound,  # lower bound\n",
    "                 name = f'Lower bound X0')"
   ]
  },
  {
   "cell_type": "code",
   "execution_count": null,
   "id": "cea7d402-028a-4bd8-85c2-f270bb483f14",
   "metadata": {},
   "outputs": [],
   "source": []
  },
  {
   "cell_type": "code",
   "execution_count": null,
   "id": "9fb165d8-6db4-4127-a088-e798171fd13b",
   "metadata": {},
   "outputs": [],
   "source": []
  },
  {
   "cell_type": "markdown",
   "id": "7e7dbd14-8485-4a9f-a76c-7cbf650cd358",
   "metadata": {},
   "source": [
    "#### 5.2 upper bound\n",
    "Since config decision var create a subtable with only the features that have defined its upper bound and then create the constraints"
   ]
  },
  {
   "cell_type": "code",
   "execution_count": 24,
   "id": "2ff8099d-3cf5-4939-8272-5a2cb4debd39",
   "metadata": {},
   "outputs": [],
   "source": [
    "##### MANUALLY"
   ]
  },
  {
   "cell_type": "code",
   "execution_count": 25,
   "id": "311795df-833a-4e20-b967-2ffaa9e02df9",
   "metadata": {},
   "outputs": [
    {
     "data": {
      "text/plain": [
       "t0    <gurobi.Constr *Awaiting Model Update*>\n",
       "t1    <gurobi.Constr *Awaiting Model Update*>\n",
       "t2    <gurobi.Constr *Awaiting Model Update*>\n",
       "t3    <gurobi.Constr *Awaiting Model Update*>\n",
       "t4    <gurobi.Constr *Awaiting Model Update*>\n",
       "t5    <gurobi.Constr *Awaiting Model Update*>\n",
       "t6    <gurobi.Constr *Awaiting Model Update*>\n",
       "Name: Upper bound X0, dtype: object"
      ]
     },
     "execution_count": 25,
     "metadata": {},
     "output_type": "execute_result"
    }
   ],
   "source": [
    "# var_X1\n",
    "var_X1_upper_bound = 1000\n",
    "gppd.add_constrs(model_opt,\n",
    "                 var_X1,  # decision var\n",
    "                 gp.GRB.LESS_EQUAL,\n",
    "                 var_X1_upper_bound,  # upper bound\n",
    "                 name = f'Upper bound X0')\n",
    "\n",
    "# var_Y1\n",
    "var_Y1_upper_bound = 150\n",
    "gppd.add_constrs(model_opt,\n",
    "                 var_Y1,  # decision var\n",
    "                 gp.GRB.LESS_EQUAL,\n",
    "                 var_Y1_upper_bound,  # upper bound\n",
    "                 name = f'Upper bound X0')\n",
    "\n",
    "# var_Z1\n",
    "var_Z1_upper_bound = 1000\n",
    "gppd.add_constrs(model_opt,\n",
    "                 var_Z1,  # decision var\n",
    "                 gp.GRB.LESS_EQUAL,\n",
    "                 var_Z1_upper_bound,  # upper bound\n",
    "                 name = f'Upper bound X0')\n",
    "\n",
    "# var_X2\n",
    "var_X2_upper_bound = 1000\n",
    "gppd.add_constrs(model_opt,\n",
    "                 var_X2,  # decision var\n",
    "                 gp.GRB.LESS_EQUAL,\n",
    "                 var_X2_upper_bound,  # upper bound\n",
    "                 name = f'Upper bound X0')\n",
    "\n",
    "# var_Y2\n",
    "var_Y2_upper_bound = 100\n",
    "gppd.add_constrs(model_opt,\n",
    "                 var_Y2,  # decision var\n",
    "                 gp.GRB.LESS_EQUAL,\n",
    "                 var_Y2_upper_bound,  # upper bound\n",
    "                 name = f'Upper bound X0')\n",
    "\n",
    "# var_Y3\n",
    "var_Y3_upper_bound = 350\n",
    "gppd.add_constrs(model_opt,\n",
    "                 var_Y3,  # decision var\n",
    "                 gp.GRB.LESS_EQUAL,\n",
    "                 var_Y3_upper_bound,  # upper bound\n",
    "                 name = f'Upper bound X0')\n",
    "\n",
    "# var_X3\n",
    "var_X3_upper_bound = 1000\n",
    "gppd.add_constrs(model_opt,\n",
    "                 var_X3,  # decision var\n",
    "                 gp.GRB.LESS_EQUAL,\n",
    "                 var_X3_upper_bound,  # upper bound\n",
    "                 name = f'Upper bound X0')\n",
    "\n",
    "# var_TL1\n",
    "var_TL1_upper_bound = 20000\n",
    "gppd.add_constrs(model_opt,\n",
    "                 var_TL1,  # decision var\n",
    "                 gp.GRB.LESS_EQUAL,\n",
    "                 var_TL1_upper_bound,  # upper bound\n",
    "                 name = f'Upper bound X0')\n",
    "\n",
    "# var_TL2\n",
    "var_TL2_upper_bound = 20000\n",
    "gppd.add_constrs(model_opt,\n",
    "                 var_TL2,  # decision var\n",
    "                 gp.GRB.LESS_EQUAL,\n",
    "                 var_TL2_upper_bound,  # upper bound\n",
    "                 name = f'Upper bound X0')\n",
    "\n",
    "# var_TL3\n",
    "var_TL3_upper_bound = 20000\n",
    "gppd.add_constrs(model_opt,\n",
    "                 var_TL3,  # decision var\n",
    "                 gp.GRB.LESS_EQUAL,\n",
    "                 var_TL3_upper_bound,  # upper bound\n",
    "                 name = f'Upper bound X0')"
   ]
  },
  {
   "cell_type": "code",
   "execution_count": null,
   "id": "8fd06710-0857-4643-95ed-e42547aa72f8",
   "metadata": {},
   "outputs": [],
   "source": []
  },
  {
   "cell_type": "code",
   "execution_count": null,
   "id": "8a508b0c-5098-4efa-b0a7-d002ed98b2a7",
   "metadata": {},
   "outputs": [],
   "source": []
  },
  {
   "cell_type": "markdown",
   "id": "60ce8851-5341-4f0b-ba43-19bf29aea0df",
   "metadata": {},
   "source": [
    "### 6. Rate change of decision variables across the time\n",
    "\n",
    "If one decision variables doesn't need a rate change parameter, its value in configuration file is saved as np.NaN\n",
    "\n",
    "Then filter the configuration table to have only the decision variables that have defined a rate_change\n",
    "\n",
    "\\begin{align}\n",
    "&| ~ X^{t}_{i} - X^{t-1}_{i} ~ | ~ \\leq  ~ c_{i} &\\quad \\forall ~ i \\in I, t \\in T \\tag{6}\\\\\n",
    "\\end{align}"
   ]
  },
  {
   "cell_type": "code",
   "execution_count": 26,
   "id": "434b3ef4-e75f-4b78-bc8a-3288b6bc2676",
   "metadata": {},
   "outputs": [],
   "source": [
    "##  MANUAL - RELAXED RATE CHANGE TO HAVE FEASIBLE SOLUTION WITH THE MODELS"
   ]
  },
  {
   "cell_type": "code",
   "execution_count": 27,
   "id": "c870d072-6134-43d4-b792-89edb9267d4f",
   "metadata": {},
   "outputs": [],
   "source": [
    "# var_X1\n",
    "\n",
    "# define rate_change\n",
    "rate_change_var_X1 = 100\n",
    "\n",
    "# create decision var and save in the dictionary\n",
    "diff_var_X1 = gppd.add_vars(model_opt, \n",
    "                            index_set_time, \n",
    "                            name = f'diff \"t\" - \"t_1\" of decision var: var_X0',\n",
    "                            lb = -gp.GRB.INFINITY,\n",
    "                            ub = gp.GRB.INFINITY)\n",
    "\n",
    "# set initial value (diff t = 0 and t = -1) is set to cero because t = -1 is not defined\n",
    "model_opt.addConstr(diff_var_X1['t0'] == 0,  name = f'Initial Value diff var_X0')\n",
    "\n",
    "# for each time in this decision variable\n",
    "for index_time in range(1, len(index_set_time)):\n",
    "    \n",
    "    ### define time t and t-1\n",
    "    time_t = index_set_time[index_time]\n",
    "    time_t_1 = index_set_time[index_time-1]\n",
    "\n",
    "    ### define constraints\n",
    "    # positive segment\n",
    "    model_opt.addConstr(diff_var_X1[time_t] >= (var_X1[time_t] - var_X1[time_t_1]), \n",
    "                        name = f'diff var_X0 positive segment {time_t} - {time_t_1}')\n",
    "\n",
    "    # negative segment\n",
    "    model_opt.addConstr(diff_var_X1[time_t] >= -(var_X1[time_t] - var_X1[time_t_1]), \n",
    "                        name = f'diff var_X0 negative segment {time_t} - {time_t_1}')\n",
    "\n",
    "    # rate change\n",
    "    model_opt.addConstr(diff_var_X1[time_t] <= rate_change_var_X1, \n",
    "                        name = f'diff_var_X0 delta {time_t} - {time_t_1}')"
   ]
  },
  {
   "cell_type": "code",
   "execution_count": 28,
   "id": "4bb174e8-b971-4254-a752-6b377cdd1cc2",
   "metadata": {},
   "outputs": [],
   "source": [
    "# var_Y1\n",
    "\n",
    "# define rate_change\n",
    "rate_change_var_Y1 = 100\n",
    "\n",
    "# create decision var and save in the dictionary\n",
    "diff_var_Y1 = gppd.add_vars(model_opt, \n",
    "                            index_set_time, \n",
    "                            name = f'diff \"t\" - \"t_1\" of decision var: var_X0',\n",
    "                            lb = -gp.GRB.INFINITY,\n",
    "                            ub = gp.GRB.INFINITY)\n",
    "\n",
    "# set initial value (diff t = 0 and t = -1) is set to cero because t = -1 is not defined\n",
    "model_opt.addConstr(diff_var_Y1['t0'] == 0,  name = f'Initial Value diff var_X0')\n",
    "\n",
    "# for each time in this decision variable\n",
    "for index_time in range(1, len(index_set_time)):\n",
    "    \n",
    "    ### define time t and t-1\n",
    "    time_t = index_set_time[index_time]\n",
    "    time_t_1 = index_set_time[index_time-1]\n",
    "\n",
    "    ### define constraints\n",
    "    # positive segment\n",
    "    model_opt.addConstr(diff_var_Y1[time_t] >= (var_Y1[time_t] - var_Y1[time_t_1]), \n",
    "                        name = f'diff var_X0 positive segment {time_t} - {time_t_1}')\n",
    "\n",
    "    # negative segment\n",
    "    model_opt.addConstr(diff_var_Y1[time_t] >= -(var_Y1[time_t] - var_Y1[time_t_1]), \n",
    "                        name = f'diff var_X0 negative segment {time_t} - {time_t_1}')\n",
    "\n",
    "    # rate change\n",
    "    model_opt.addConstr(diff_var_Y1[time_t] <= rate_change_var_Y1, \n",
    "                        name = f'diff_var_X0 delta {time_t} - {time_t_1}')"
   ]
  },
  {
   "cell_type": "code",
   "execution_count": 29,
   "id": "d559daa7-0073-4a93-a28f-a6db2d801a22",
   "metadata": {},
   "outputs": [],
   "source": [
    "# var_Z1\n",
    "\n",
    "# define rate_change\n",
    "rate_change_var_Z1 = 100\n",
    "\n",
    "# create decision var and save in the dictionary\n",
    "diff_var_Z1 = gppd.add_vars(model_opt, \n",
    "                            index_set_time, \n",
    "                            name = f'diff \"t\" - \"t_1\" of decision var: var_X0',\n",
    "                            lb = -gp.GRB.INFINITY,\n",
    "                            ub = gp.GRB.INFINITY)\n",
    "\n",
    "# set initial value (diff t = 0 and t = -1) is set to cero because t = -1 is not defined\n",
    "model_opt.addConstr(diff_var_Z1['t0'] == 0,  name = f'Initial Value diff var_X0')\n",
    "\n",
    "# for each time in this decision variable\n",
    "for index_time in range(1, len(index_set_time)):\n",
    "    \n",
    "    ### define time t and t-1\n",
    "    time_t = index_set_time[index_time]\n",
    "    time_t_1 = index_set_time[index_time-1]\n",
    "\n",
    "    ### define constraints\n",
    "    # positive segment\n",
    "    model_opt.addConstr(diff_var_Z1[time_t] >= (var_Z1[time_t] - var_Z1[time_t_1]), \n",
    "                        name = f'diff var_X0 positive segment {time_t} - {time_t_1}')\n",
    "\n",
    "    # negative segment\n",
    "    model_opt.addConstr(diff_var_Z1[time_t] >= -(var_Z1[time_t] - var_Z1[time_t_1]), \n",
    "                        name = f'diff var_X0 negative segment {time_t} - {time_t_1}')\n",
    "\n",
    "    # rate change\n",
    "    model_opt.addConstr(diff_var_Z1[time_t] <= rate_change_var_Z1, \n",
    "                        name = f'diff_var_X0 delta {time_t} - {time_t_1}')"
   ]
  },
  {
   "cell_type": "code",
   "execution_count": 30,
   "id": "78986cc1-5290-4756-ac03-a437d2927f5c",
   "metadata": {},
   "outputs": [],
   "source": [
    "# var_X2\n",
    "\n",
    "# define rate_change\n",
    "rate_change_var_X2 = 100\n",
    "\n",
    "# create decision var and save in the dictionary\n",
    "diff_var_X2 = gppd.add_vars(model_opt, \n",
    "                            index_set_time, \n",
    "                            name = f'diff \"t\" - \"t_1\" of decision var: var_X0',\n",
    "                            lb = -gp.GRB.INFINITY,\n",
    "                            ub = gp.GRB.INFINITY)\n",
    "\n",
    "# set initial value (diff t = 0 and t = -1) is set to cero because t = -1 is not defined\n",
    "model_opt.addConstr(diff_var_X2['t0'] == 0,  name = f'Initial Value diff var_X0')\n",
    "\n",
    "# for each time in this decision variable\n",
    "for index_time in range(1, len(index_set_time)):\n",
    "    \n",
    "    ### define time t and t-1\n",
    "    time_t = index_set_time[index_time]\n",
    "    time_t_1 = index_set_time[index_time-1]\n",
    "\n",
    "    ### define constraints\n",
    "    # positive segment\n",
    "    model_opt.addConstr(diff_var_X2[time_t] >= (var_X2[time_t] - var_X2[time_t_1]), \n",
    "                        name = f'diff var_X0 positive segment {time_t} - {time_t_1}')\n",
    "\n",
    "    # negative segment\n",
    "    model_opt.addConstr(diff_var_X2[time_t] >= -(var_X2[time_t] - var_X2[time_t_1]), \n",
    "                        name = f'diff var_X0 negative segment {time_t} - {time_t_1}')\n",
    "\n",
    "    # rate change\n",
    "    model_opt.addConstr(diff_var_X2[time_t] <= rate_change_var_X2, \n",
    "                        name = f'diff_var_X0 delta {time_t} - {time_t_1}')"
   ]
  },
  {
   "cell_type": "code",
   "execution_count": 31,
   "id": "c0442c53-f5c0-4e84-9773-597b644421d1",
   "metadata": {},
   "outputs": [],
   "source": [
    "# var_Y2\n",
    "\n",
    "# define rate_change\n",
    "rate_change_var_Y2 = 100\n",
    "\n",
    "# create decision var and save in the dictionary\n",
    "diff_var_Y2 = gppd.add_vars(model_opt, \n",
    "                            index_set_time, \n",
    "                            name = f'diff \"t\" - \"t_1\" of decision var: var_X0',\n",
    "                            lb = -gp.GRB.INFINITY,\n",
    "                            ub = gp.GRB.INFINITY)\n",
    "\n",
    "# set initial value (diff t = 0 and t = -1) is set to cero because t = -1 is not defined\n",
    "model_opt.addConstr(diff_var_Y2['t0'] == 0,  name = f'Initial Value diff var_X0')\n",
    "\n",
    "# for each time in this decision variable\n",
    "for index_time in range(1, len(index_set_time)):\n",
    "    \n",
    "    ### define time t and t-1\n",
    "    time_t = index_set_time[index_time]\n",
    "    time_t_1 = index_set_time[index_time-1]\n",
    "\n",
    "    ### define constraints\n",
    "    # positive segment\n",
    "    model_opt.addConstr(diff_var_Y2[time_t] >= (var_Y2[time_t] - var_Y2[time_t_1]), \n",
    "                        name = f'diff var_X0 positive segment {time_t} - {time_t_1}')\n",
    "\n",
    "    # negative segment\n",
    "    model_opt.addConstr(diff_var_Y2[time_t] >= -(var_Y2[time_t] - var_Y2[time_t_1]), \n",
    "                        name = f'diff var_X0 negative segment {time_t} - {time_t_1}')\n",
    "\n",
    "    # rate change\n",
    "    model_opt.addConstr(diff_var_Y2[time_t] <= rate_change_var_Y2, \n",
    "                        name = f'diff_var_X0 delta {time_t} - {time_t_1}')"
   ]
  },
  {
   "cell_type": "code",
   "execution_count": 32,
   "id": "0e11b140-6c13-48ac-8c01-699087d678d2",
   "metadata": {},
   "outputs": [],
   "source": [
    "# var_Y3\n",
    "\n",
    "# define rate_change\n",
    "rate_change_var_Y3 = 100\n",
    "\n",
    "# create decision var and save in the dictionary\n",
    "diff_var_Y3 = gppd.add_vars(model_opt, \n",
    "                            index_set_time, \n",
    "                            name = f'diff \"t\" - \"t_1\" of decision var: var_X0',\n",
    "                            lb = -gp.GRB.INFINITY,\n",
    "                            ub = gp.GRB.INFINITY)\n",
    "\n",
    "# set initial value (diff t = 0 and t = -1) is set to cero because t = -1 is not defined\n",
    "model_opt.addConstr(diff_var_Y3['t0'] == 0,  name = f'Initial Value diff var_X0')\n",
    "\n",
    "# for each time in this decision variable\n",
    "for index_time in range(1, len(index_set_time)):\n",
    "    \n",
    "    ### define time t and t-1\n",
    "    time_t = index_set_time[index_time]\n",
    "    time_t_1 = index_set_time[index_time-1]\n",
    "\n",
    "    ### define constraints\n",
    "    # positive segment\n",
    "    model_opt.addConstr(diff_var_Y3[time_t] >= (var_Y3[time_t] - var_Y3[time_t_1]), \n",
    "                        name = f'diff var_X0 positive segment {time_t} - {time_t_1}')\n",
    "\n",
    "    # negative segment\n",
    "    model_opt.addConstr(diff_var_Y3[time_t] >= -(var_Y3[time_t] - var_Y3[time_t_1]), \n",
    "                        name = f'diff var_X0 negative segment {time_t} - {time_t_1}')\n",
    "\n",
    "    # rate change\n",
    "    model_opt.addConstr(diff_var_Y3[time_t] <= rate_change_var_Y3, \n",
    "                        name = f'diff_var_X0 delta {time_t} - {time_t_1}')"
   ]
  },
  {
   "cell_type": "code",
   "execution_count": 33,
   "id": "cbc01342-ce6b-46d6-8712-b31d58487afd",
   "metadata": {},
   "outputs": [],
   "source": [
    "# var_X3\n",
    "\n",
    "# define rate_change\n",
    "rate_change_var_X3 = 100\n",
    "\n",
    "# create decision var and save in the dictionary\n",
    "diff_var_X3 = gppd.add_vars(model_opt, \n",
    "                            index_set_time, \n",
    "                            name = f'diff \"t\" - \"t_1\" of decision var: var_X0',\n",
    "                            lb = -gp.GRB.INFINITY,\n",
    "                            ub = gp.GRB.INFINITY)\n",
    "\n",
    "# set initial value (diff t = 0 and t = -1) is set to cero because t = -1 is not defined\n",
    "model_opt.addConstr(diff_var_X3['t0'] == 0,  name = f'Initial Value diff var_X0')\n",
    "\n",
    "# for each time in this decision variable\n",
    "for index_time in range(1, len(index_set_time)):\n",
    "    \n",
    "    ### define time t and t-1\n",
    "    time_t = index_set_time[index_time]\n",
    "    time_t_1 = index_set_time[index_time-1]\n",
    "\n",
    "    ### define constraints\n",
    "    # positive segment\n",
    "    model_opt.addConstr(diff_var_X3[time_t] >= (var_X3[time_t] - var_X3[time_t_1]), \n",
    "                        name = f'diff var_X0 positive segment {time_t} - {time_t_1}')\n",
    "\n",
    "    # negative segment\n",
    "    model_opt.addConstr(diff_var_X3[time_t] >= -(var_X3[time_t] - var_X3[time_t_1]), \n",
    "                        name = f'diff var_X0 negative segment {time_t} - {time_t_1}')\n",
    "\n",
    "    # rate change\n",
    "    model_opt.addConstr(diff_var_X3[time_t] <= rate_change_var_X3, \n",
    "                        name = f'diff_var_X0 delta {time_t} - {time_t_1}')"
   ]
  },
  {
   "cell_type": "code",
   "execution_count": 34,
   "id": "3f2a9507-1bd1-4f2f-a61a-be6f51a78125",
   "metadata": {},
   "outputs": [],
   "source": [
    "# var_TL1\n",
    "\n",
    "# define rate_change\n",
    "rate_change_var_TL1 = 300\n",
    "\n",
    "# create decision var and save in the dictionary\n",
    "diff_var_TL1 = gppd.add_vars(model_opt, \n",
    "                            index_set_time, \n",
    "                            name = f'diff \"t\" - \"t_1\" of decision var: var_X0',\n",
    "                            lb = -gp.GRB.INFINITY,\n",
    "                            ub = gp.GRB.INFINITY)\n",
    "\n",
    "# set initial value (diff t = 0 and t = -1) is set to cero because t = -1 is not defined\n",
    "model_opt.addConstr(diff_var_TL1['t0'] == 0,  name = f'Initial Value diff var_X0')\n",
    "\n",
    "# for each time in this decision variable\n",
    "for index_time in range(1, len(index_set_time)):\n",
    "    \n",
    "    ### define time t and t-1\n",
    "    time_t = index_set_time[index_time]\n",
    "    time_t_1 = index_set_time[index_time-1]\n",
    "\n",
    "    ### define constraints\n",
    "    # positive segment\n",
    "    model_opt.addConstr(diff_var_TL1[time_t] >= (var_TL1[time_t] - var_TL1[time_t_1]), \n",
    "                        name = f'diff var_X0 positive segment {time_t} - {time_t_1}')\n",
    "\n",
    "    # negative segment\n",
    "    model_opt.addConstr(diff_var_TL1[time_t] >= -(var_TL1[time_t] - var_TL1[time_t_1]), \n",
    "                        name = f'diff var_X0 negative segment {time_t} - {time_t_1}')\n",
    "\n",
    "    # rate change\n",
    "    model_opt.addConstr(diff_var_TL1[time_t] <= rate_change_var_TL1, \n",
    "                        name = f'diff_var_X0 delta {time_t} - {time_t_1}')"
   ]
  },
  {
   "cell_type": "code",
   "execution_count": 35,
   "id": "4721fad5-f974-4352-8690-084a0f1dfaab",
   "metadata": {},
   "outputs": [],
   "source": [
    "# var_TL2\n",
    "\n",
    "# define rate_change\n",
    "rate_change_var_TL2 = 300\n",
    "\n",
    "# create decision var and save in the dictionary\n",
    "diff_var_TL2 = gppd.add_vars(model_opt, \n",
    "                            index_set_time, \n",
    "                            name = f'diff \"t\" - \"t_1\" of decision var: var_X0',\n",
    "                            lb = -gp.GRB.INFINITY,\n",
    "                            ub = gp.GRB.INFINITY)\n",
    "\n",
    "# set initial value (diff t = 0 and t = -1) is set to cero because t = -1 is not defined\n",
    "model_opt.addConstr(diff_var_TL2['t0'] == 0,  name = f'Initial Value diff var_X0')\n",
    "\n",
    "# for each time in this decision variable\n",
    "for index_time in range(1, len(index_set_time)):\n",
    "    \n",
    "    ### define time t and t-1\n",
    "    time_t = index_set_time[index_time]\n",
    "    time_t_1 = index_set_time[index_time-1]\n",
    "\n",
    "    ### define constraints\n",
    "    # positive segment\n",
    "    model_opt.addConstr(diff_var_TL2[time_t] >= (var_TL2[time_t] - var_TL2[time_t_1]), \n",
    "                        name = f'diff var_X0 positive segment {time_t} - {time_t_1}')\n",
    "\n",
    "    # negative segment\n",
    "    model_opt.addConstr(diff_var_TL2[time_t] >= -(var_TL2[time_t] - var_TL2[time_t_1]), \n",
    "                        name = f'diff var_X0 negative segment {time_t} - {time_t_1}')\n",
    "\n",
    "    # rate change\n",
    "    model_opt.addConstr(diff_var_TL2[time_t] <= rate_change_var_TL2, \n",
    "                        name = f'diff_var_X0 delta {time_t} - {time_t_1}')"
   ]
  },
  {
   "cell_type": "code",
   "execution_count": 36,
   "id": "97aeeed8-cc93-488d-acc1-f0ece12dbfbf",
   "metadata": {},
   "outputs": [],
   "source": [
    "# var_TL3\n",
    "\n",
    "# define rate_change\n",
    "rate_change_var_TL3 = 300\n",
    "\n",
    "# create decision var and save in the dictionary\n",
    "diff_var_TL3 = gppd.add_vars(model_opt, \n",
    "                            index_set_time, \n",
    "                            name = f'diff \"t\" - \"t_1\" of decision var: var_X0',\n",
    "                            lb = -gp.GRB.INFINITY,\n",
    "                            ub = gp.GRB.INFINITY)\n",
    "\n",
    "# set initial value (diff t = 0 and t = -1) is set to cero because t = -1 is not defined\n",
    "model_opt.addConstr(diff_var_TL3['t0'] == 0,  name = f'Initial Value diff var_X0')\n",
    "\n",
    "# for each time in this decision variable\n",
    "for index_time in range(1, len(index_set_time)):\n",
    "    \n",
    "    ### define time t and t-1\n",
    "    time_t = index_set_time[index_time]\n",
    "    time_t_1 = index_set_time[index_time-1]\n",
    "\n",
    "    ### define constraints\n",
    "    # positive segment\n",
    "    model_opt.addConstr(diff_var_TL3[time_t] >= (var_TL3[time_t] - var_TL3[time_t_1]), \n",
    "                        name = f'diff var_X0 positive segment {time_t} - {time_t_1}')\n",
    "\n",
    "    # negative segment\n",
    "    model_opt.addConstr(diff_var_TL3[time_t] >= -(var_TL3[time_t] - var_TL3[time_t_1]), \n",
    "                        name = f'diff var_X0 negative segment {time_t} - {time_t_1}')\n",
    "\n",
    "    # rate change\n",
    "    model_opt.addConstr(diff_var_TL3[time_t] <= rate_change_var_TL3, \n",
    "                        name = f'diff_var_X0 delta {time_t} - {time_t_1}')"
   ]
  },
  {
   "cell_type": "code",
   "execution_count": null,
   "id": "adc1262a-f1f8-408a-a663-d86d054eb420",
   "metadata": {},
   "outputs": [],
   "source": []
  },
  {
   "cell_type": "code",
   "execution_count": null,
   "id": "70d2193b-215d-41e9-bd4c-1f45160e80ce",
   "metadata": {},
   "outputs": [],
   "source": []
  },
  {
   "cell_type": "code",
   "execution_count": null,
   "id": "bb4c80b3-640c-4030-af1a-738fb138f039",
   "metadata": {},
   "outputs": [],
   "source": []
  },
  {
   "cell_type": "code",
   "execution_count": null,
   "id": "08a0de44-7799-4e13-ae37-2a39f9d82e74",
   "metadata": {},
   "outputs": [],
   "source": []
  },
  {
   "cell_type": "code",
   "execution_count": null,
   "id": "51d06aaf-69bb-4aff-9912-7afb13a651b5",
   "metadata": {},
   "outputs": [],
   "source": []
  },
  {
   "cell_type": "markdown",
   "id": "71f4fdfa-8f1c-4bbc-ac00-90d5b16b20c6",
   "metadata": {},
   "source": [
    "### 7. Volumen change (Inventory change) - across time - relation between decision variablesend{align}"
   ]
  },
  {
   "cell_type": "markdown",
   "id": "1bab8ee2-5eb0-4d43-928e-ce1490ee8848",
   "metadata": {},
   "source": [
    "The only constraint that needs to be defined is (because the constraints of rate change are defined above - The two first contraints can be replaced with the constraint that defined the lower and upper bound of the decision variables.)\n",
    "\n",
    "\\begin{align}\n",
    "&V^{t-1}_{j} ~ + \\sum_{i}  Y^{t}_{i,j} -  \\sum_{i}  Z^{t}_{i',j} ~ =  ~ V^{t}_{j} &\\quad \\forall ~ t \\in T, j \\in J \\tag{4}\\\\\n",
    "\\end{align}"
   ]
  },
  {
   "cell_type": "code",
   "execution_count": null,
   "id": "51b49760-329b-4e23-8238-73e02cfd61b4",
   "metadata": {},
   "outputs": [],
   "source": []
  },
  {
   "cell_type": "markdown",
   "id": "33054af1-2a5b-46fc-b15c-63130b6ffb9d",
   "metadata": {},
   "source": [
    "#### 7.1 Define full constraints - automatically all times\n",
    "- Automatization constraint. For across all the set time (t0, t1, t2, etc). But it is important to see that the first value of the decision variable (period t=0) is defined before, so the \"for cicle\" start from (t1, t2, etc)"
   ]
  },
  {
   "cell_type": "markdown",
   "id": "1e75361f-031b-4fa5-baae-631bb1a4c664",
   "metadata": {},
   "source": [
    "original codes\n",
    "    \n",
    "    model_opt.addConstr(var_tank_level[time_t_1] + var_Y1[time_t] - var_Z1[time_t] == var_tank_level[time_t], \n",
    "                name = f'new level of tank {time_t} - {time_t_1}')"
   ]
  },
  {
   "cell_type": "code",
   "execution_count": null,
   "id": "f7b55bc5-ab4d-4f57-9298-416358c8e8ec",
   "metadata": {},
   "outputs": [],
   "source": []
  },
  {
   "cell_type": "code",
   "execution_count": 37,
   "id": "e54e2a2b-867c-4443-af9d-0c8a65598e4c",
   "metadata": {},
   "outputs": [],
   "source": [
    "#### EXAMPLE FOR ONE TANK HARCODED\n",
    "\n",
    "# for index_time in range(1, len(index_set_time)):\n",
    "    \n",
    "#     ### define time t and t-1\n",
    "#     time_t = index_set_time[index_time]\n",
    "#     time_t_1 = index_set_time[index_time-1]\n",
    "\n",
    "#     ### define constraints\n",
    "#     model_opt.addConstr(decision_var['TL1'][time_t_1] + decision_var['Y1'][time_t] - decision_var['Z1'][time_t] == decision_var['TL1'][time_t], \n",
    "#                 name = f'new level of tank {time_t} - {time_t_1}')"
   ]
  },
  {
   "cell_type": "code",
   "execution_count": 38,
   "id": "d99bf3f8-b7d4-4450-a3e4-10e720763de0",
   "metadata": {},
   "outputs": [],
   "source": [
    "#### MANUALLY"
   ]
  },
  {
   "cell_type": "code",
   "execution_count": 39,
   "id": "026453eb-69be-46e5-aea6-3d341583a129",
   "metadata": {},
   "outputs": [],
   "source": [
    "## TK_1: previous level + input flow - output flow = actual level\n",
    "\n",
    "for index_time in range(1, len(index_set_time)):\n",
    "    \n",
    "    ### define time t and t-1\n",
    "    time_t = index_set_time[index_time]\n",
    "    time_t_1 = index_set_time[index_time-1]\n",
    "\n",
    "    ### define constraints\n",
    "    model_opt.addConstr(var_TL1[time_t_1] + var_Y1[time_t] + var_O4[time_t] - var_Z1[time_t] == var_TL1[time_t], \n",
    "                name = f'new level of tank TK_1: {time_t} - {time_t_1}')"
   ]
  },
  {
   "cell_type": "code",
   "execution_count": 40,
   "id": "310e7651-cf84-4973-8fdf-a84f71c68fe8",
   "metadata": {},
   "outputs": [],
   "source": [
    "## TK_2: previous level + input flow - output flow = actual level\n",
    "\n",
    "for index_time in range(1, len(index_set_time)):\n",
    "    \n",
    "    ### define time t and t-1\n",
    "    time_t = index_set_time[index_time]\n",
    "    time_t_1 = index_set_time[index_time-1]\n",
    "\n",
    "    ### define constraints\n",
    "    model_opt.addConstr(var_TL2[time_t_1] + var_Y2[time_t] == var_TL2[time_t], \n",
    "                name = f'new level of tank TK_2: {time_t} - {time_t_1}')"
   ]
  },
  {
   "cell_type": "code",
   "execution_count": 41,
   "id": "b8743bf2-b63e-4ef8-b362-a1b1b47f9d28",
   "metadata": {},
   "outputs": [],
   "source": [
    "## TK_3: previous level + input flow - output flow = actual level\n",
    "\n",
    "for index_time in range(1, len(index_set_time)):\n",
    "    \n",
    "    ### define time t and t-1\n",
    "    time_t = index_set_time[index_time]\n",
    "    time_t_1 = index_set_time[index_time-1]\n",
    "\n",
    "    ### define constraints\n",
    "    model_opt.addConstr(var_TL3[time_t_1] + var_Y3[time_t] == var_TL3[time_t], \n",
    "                name = f'new level of tank TK_3: {time_t} - {time_t_1}')"
   ]
  },
  {
   "cell_type": "code",
   "execution_count": null,
   "id": "a82643ba-b72e-4ec3-86a7-87543ed09ae6",
   "metadata": {},
   "outputs": [],
   "source": []
  },
  {
   "cell_type": "code",
   "execution_count": null,
   "id": "edec50e0-cf38-4ca1-bda9-a21111e535d0",
   "metadata": {},
   "outputs": [],
   "source": []
  },
  {
   "cell_type": "markdown",
   "id": "aa48cdac-04cc-456b-89fb-c37ef2a7eff0",
   "metadata": {},
   "source": [
    "### 8. Set values of observed variables\n",
    "The observed variables are not decision variables, but with the idea to automatize this codes they are defined as decision variables and then a constraint is added to set its values to a unique values\n",
    "\n",
    "Doing this is a little automatice the creation of the constraints and open the posibility to transform the observed variables into a decision variables and connect other models/tanks/process to this observed variables with a less modification in the codes"
   ]
  },
  {
   "cell_type": "code",
   "execution_count": 42,
   "id": "da6214d5-039d-4543-b6b8-057caa8aadea",
   "metadata": {},
   "outputs": [],
   "source": [
    "##### MANUALLY"
   ]
  },
  {
   "cell_type": "code",
   "execution_count": 43,
   "id": "a46e71eb-eb85-4c3c-97fb-a3461faf0506",
   "metadata": {},
   "outputs": [
    {
     "data": {
      "text/plain": [
       "t0    <gurobi.Constr *Awaiting Model Update*>\n",
       "t1    <gurobi.Constr *Awaiting Model Update*>\n",
       "t2    <gurobi.Constr *Awaiting Model Update*>\n",
       "t3    <gurobi.Constr *Awaiting Model Update*>\n",
       "t4    <gurobi.Constr *Awaiting Model Update*>\n",
       "t5    <gurobi.Constr *Awaiting Model Update*>\n",
       "t6    <gurobi.Constr *Awaiting Model Update*>\n",
       "Name: set value to observed variable, dtype: object"
      ]
     },
     "execution_count": 43,
     "metadata": {},
     "output_type": "execute_result"
    }
   ],
   "source": [
    "# var_O1\n",
    "\n",
    "observed_value_O1 = 50.0\n",
    "gppd.add_constrs(model_opt,\n",
    "                 var_O1,  # decision var\n",
    "                 gp.GRB.EQUAL,\n",
    "                 observed_value_O1,  # value observed variable\n",
    "                 name = f'set value to observed variable')"
   ]
  },
  {
   "cell_type": "code",
   "execution_count": 44,
   "id": "611fdb4a-107f-439b-bd4a-5948a33868f6",
   "metadata": {},
   "outputs": [
    {
     "data": {
      "text/plain": [
       "t0    <gurobi.Constr *Awaiting Model Update*>\n",
       "t1    <gurobi.Constr *Awaiting Model Update*>\n",
       "t2    <gurobi.Constr *Awaiting Model Update*>\n",
       "t3    <gurobi.Constr *Awaiting Model Update*>\n",
       "t4    <gurobi.Constr *Awaiting Model Update*>\n",
       "t5    <gurobi.Constr *Awaiting Model Update*>\n",
       "t6    <gurobi.Constr *Awaiting Model Update*>\n",
       "Name: set value to observed variable, dtype: object"
      ]
     },
     "execution_count": 44,
     "metadata": {},
     "output_type": "execute_result"
    }
   ],
   "source": [
    "# var_O2\n",
    "\n",
    "observed_value_O2 = 50.0\n",
    "gppd.add_constrs(model_opt,\n",
    "                 var_O2,  # decision var\n",
    "                 gp.GRB.EQUAL,\n",
    "                 observed_value_O2,  # value observed variable\n",
    "                 name = f'set value to observed variable')"
   ]
  },
  {
   "cell_type": "code",
   "execution_count": 45,
   "id": "f7a69d31-c016-4c67-9be2-69981a2424a1",
   "metadata": {},
   "outputs": [
    {
     "data": {
      "text/plain": [
       "t0    <gurobi.Constr *Awaiting Model Update*>\n",
       "t1    <gurobi.Constr *Awaiting Model Update*>\n",
       "t2    <gurobi.Constr *Awaiting Model Update*>\n",
       "t3    <gurobi.Constr *Awaiting Model Update*>\n",
       "t4    <gurobi.Constr *Awaiting Model Update*>\n",
       "t5    <gurobi.Constr *Awaiting Model Update*>\n",
       "t6    <gurobi.Constr *Awaiting Model Update*>\n",
       "Name: set value to observed variable, dtype: object"
      ]
     },
     "execution_count": 45,
     "metadata": {},
     "output_type": "execute_result"
    }
   ],
   "source": [
    "# var_O3\n",
    "\n",
    "observed_value_O3 = 50.0\n",
    "gppd.add_constrs(model_opt,\n",
    "                 var_O3,  # decision var\n",
    "                 gp.GRB.EQUAL,\n",
    "                 observed_value_O3,  # value observed variable\n",
    "                 name = f'set value to observed variable')"
   ]
  },
  {
   "cell_type": "code",
   "execution_count": 46,
   "id": "b7884a45-f2a5-4cdf-8fa7-f53ad5485f8d",
   "metadata": {},
   "outputs": [
    {
     "data": {
      "text/plain": [
       "t0    <gurobi.Constr *Awaiting Model Update*>\n",
       "t1    <gurobi.Constr *Awaiting Model Update*>\n",
       "t2    <gurobi.Constr *Awaiting Model Update*>\n",
       "t3    <gurobi.Constr *Awaiting Model Update*>\n",
       "t4    <gurobi.Constr *Awaiting Model Update*>\n",
       "t5    <gurobi.Constr *Awaiting Model Update*>\n",
       "t6    <gurobi.Constr *Awaiting Model Update*>\n",
       "Name: set value to observed variable, dtype: object"
      ]
     },
     "execution_count": 46,
     "metadata": {},
     "output_type": "execute_result"
    }
   ],
   "source": [
    "# var_O4\n",
    "\n",
    "observed_value_O4 = 200.0\n",
    "gppd.add_constrs(model_opt,\n",
    "                 var_O4,  # decision var\n",
    "                 gp.GRB.EQUAL,\n",
    "                 observed_value_O4,  # value observed variable\n",
    "                 name = f'set value to observed variable')"
   ]
  },
  {
   "cell_type": "code",
   "execution_count": 47,
   "id": "b72ccdc1-3c1d-4074-9c08-11948adfd44c",
   "metadata": {},
   "outputs": [
    {
     "data": {
      "text/plain": [
       "t0    <gurobi.Constr *Awaiting Model Update*>\n",
       "t1    <gurobi.Constr *Awaiting Model Update*>\n",
       "t2    <gurobi.Constr *Awaiting Model Update*>\n",
       "t3    <gurobi.Constr *Awaiting Model Update*>\n",
       "t4    <gurobi.Constr *Awaiting Model Update*>\n",
       "t5    <gurobi.Constr *Awaiting Model Update*>\n",
       "t6    <gurobi.Constr *Awaiting Model Update*>\n",
       "Name: set value to observed variable, dtype: object"
      ]
     },
     "execution_count": 47,
     "metadata": {},
     "output_type": "execute_result"
    }
   ],
   "source": [
    "# var_O5\n",
    "\n",
    "observed_value_O5 = 5.0\n",
    "gppd.add_constrs(model_opt,\n",
    "                 var_O5,  # decision var\n",
    "                 gp.GRB.EQUAL,\n",
    "                 observed_value_O5,  # value observed variable\n",
    "                 name = f'set value to observed variable')"
   ]
  },
  {
   "cell_type": "code",
   "execution_count": 48,
   "id": "791ca702-2786-49e6-b5ac-d011c44fe882",
   "metadata": {},
   "outputs": [
    {
     "data": {
      "text/plain": [
       "t0    <gurobi.Constr *Awaiting Model Update*>\n",
       "t1    <gurobi.Constr *Awaiting Model Update*>\n",
       "t2    <gurobi.Constr *Awaiting Model Update*>\n",
       "t3    <gurobi.Constr *Awaiting Model Update*>\n",
       "t4    <gurobi.Constr *Awaiting Model Update*>\n",
       "t5    <gurobi.Constr *Awaiting Model Update*>\n",
       "t6    <gurobi.Constr *Awaiting Model Update*>\n",
       "Name: set value to observed variable, dtype: object"
      ]
     },
     "execution_count": 48,
     "metadata": {},
     "output_type": "execute_result"
    }
   ],
   "source": [
    "# var_O6\n",
    "\n",
    "observed_value_O6 = 5.0\n",
    "gppd.add_constrs(model_opt,\n",
    "                 var_O6,  # decision var\n",
    "                 gp.GRB.EQUAL,\n",
    "                 observed_value_O6,  # value observed variable\n",
    "                 name = f'set value to observed variable')"
   ]
  },
  {
   "cell_type": "code",
   "execution_count": 49,
   "id": "310d66f2-7b20-4dca-8325-3d1ad4c0e6e7",
   "metadata": {},
   "outputs": [
    {
     "data": {
      "text/plain": [
       "t0    <gurobi.Constr *Awaiting Model Update*>\n",
       "t1    <gurobi.Constr *Awaiting Model Update*>\n",
       "t2    <gurobi.Constr *Awaiting Model Update*>\n",
       "t3    <gurobi.Constr *Awaiting Model Update*>\n",
       "t4    <gurobi.Constr *Awaiting Model Update*>\n",
       "t5    <gurobi.Constr *Awaiting Model Update*>\n",
       "t6    <gurobi.Constr *Awaiting Model Update*>\n",
       "Name: set value to observed variable, dtype: object"
      ]
     },
     "execution_count": 49,
     "metadata": {},
     "output_type": "execute_result"
    }
   ],
   "source": [
    "# var_O7\n",
    "\n",
    "observed_value_O7 = 4.0\n",
    "gppd.add_constrs(model_opt,\n",
    "                 var_O7,  # decision var\n",
    "                 gp.GRB.EQUAL,\n",
    "                 observed_value_O7,  # value observed variable\n",
    "                 name = f'set value to observed variable')"
   ]
  },
  {
   "cell_type": "code",
   "execution_count": null,
   "id": "41348c26-8378-4580-846d-ca9c94076370",
   "metadata": {},
   "outputs": [],
   "source": []
  },
  {
   "cell_type": "code",
   "execution_count": null,
   "id": "fa38f734-a08e-45f4-9980-c71d9b6ece02",
   "metadata": {},
   "outputs": [],
   "source": []
  },
  {
   "cell_type": "markdown",
   "id": "c428d04b-2f17-42f8-9a96-23897d6cc2d0",
   "metadata": {},
   "source": [
    "### 8. Load a Machine Learning Model as constraints that represent the relations in the process\n",
    "Add a constraint defined as a machine learning model that represent the relation between X1, X2 with the output of the process (Y1)"
   ]
  },
  {
   "cell_type": "code",
   "execution_count": null,
   "id": "96cffe12-8389-4f20-901e-dfff17ea6d12",
   "metadata": {},
   "outputs": [],
   "source": []
  },
  {
   "cell_type": "code",
   "execution_count": 50,
   "id": "500f27bb-653e-406d-a77e-afdf561c8600",
   "metadata": {},
   "outputs": [
    {
     "name": "stdout",
     "output_type": "stream",
     "text": [
      "Model for model_predict Y1:\n",
      "28 variables\n",
      "35 constraints\n",
      "Input has shape (7, 4)\n",
      "Output has shape (7, 1)\n",
      "\n",
      "Pipeline has 2 steps:\n",
      "\n",
      "--------------------------------------------------------------------------------\n",
      "Step            Output Shape    Variables              Constraints              \n",
      "                                                Linear    Quadratic      General\n",
      "================================================================================\n",
      "std_scaler            (7, 4)           28           28            0            0\n",
      "\n",
      "lin_reg               (7, 1)            0            7            0            0\n",
      "\n",
      "--------------------------------------------------------------------------------\n"
     ]
    }
   ],
   "source": [
    "############# Connect model process_a_y1\n",
    "\n",
    "# Generate instance of machine learning model\n",
    "instance = pd.DataFrame([var_X1, var_O1, var_O2, var_O3]).T\n",
    "instance.columns = [\"X1\", \"O1\", \"O2\", \"O3\"]\n",
    "\n",
    "# Add machine learning model as constraint\n",
    "\n",
    "pred_constr_ml_process_a_y1 = add_predictor_constr(gp_model = model_opt, \n",
    "                                                   predictor = model_process_a_y1, \n",
    "                                                   input_vars = instance, # instance pandas gurobi\n",
    "                                                   output_vars = var_Y1, # target\n",
    "                                                   name = f'model_predict Y1'\n",
    "                                                  )\n",
    "\n",
    "pred_constr_ml_process_a_y1.print_stats()"
   ]
  },
  {
   "cell_type": "code",
   "execution_count": 51,
   "id": "4bdfe53b-0d59-40c2-8113-ca74d48e2aff",
   "metadata": {},
   "outputs": [
    {
     "name": "stdout",
     "output_type": "stream",
     "text": [
      "Model for model_predict Y2:\n",
      "28 variables\n",
      "35 constraints\n",
      "Input has shape (7, 4)\n",
      "Output has shape (7, 1)\n",
      "\n",
      "Pipeline has 2 steps:\n",
      "\n",
      "--------------------------------------------------------------------------------\n",
      "Step            Output Shape    Variables              Constraints              \n",
      "                                                Linear    Quadratic      General\n",
      "================================================================================\n",
      "std_scaler            (7, 4)           28           28            0            0\n",
      "\n",
      "lin_reg               (7, 1)            0            7            0            0\n",
      "\n",
      "--------------------------------------------------------------------------------\n"
     ]
    }
   ],
   "source": [
    "############# Connect model model_process_b_y2\n",
    "\n",
    "\n",
    "# Generate instance of machine learning model\n",
    "instance = pd.DataFrame([var_Z1, var_X2, var_O5, var_O6]).T\n",
    "instance.columns = [\"Z1\", \"X2\", \"O5\", \"O6\"]\n",
    "\n",
    "# Add machine learning model as constraint\n",
    "\n",
    "pred_constr_ml_model_process_b_y2 = add_predictor_constr(gp_model = model_opt, \n",
    "                                                   predictor = model_process_b_y2, \n",
    "                                                   input_vars = instance, # instance pandas gurobi\n",
    "                                                   output_vars = var_Y2, # target\n",
    "                                                   name = f'model_predict Y2'\n",
    "                                                  )\n",
    "\n",
    "pred_constr_ml_model_process_b_y2.print_stats()"
   ]
  },
  {
   "cell_type": "code",
   "execution_count": 52,
   "id": "8cd5c275-3711-499e-9699-3e0e58c5eb07",
   "metadata": {},
   "outputs": [
    {
     "name": "stdout",
     "output_type": "stream",
     "text": [
      "Model for model_predict Y3:\n",
      "14 variables\n",
      "21 constraints\n",
      "Input has shape (7, 2)\n",
      "Output has shape (7, 1)\n",
      "\n",
      "Pipeline has 2 steps:\n",
      "\n",
      "--------------------------------------------------------------------------------\n",
      "Step            Output Shape    Variables              Constraints              \n",
      "                                                Linear    Quadratic      General\n",
      "================================================================================\n",
      "std_scaler            (7, 2)           14           14            0            0\n",
      "\n",
      "lin_reg               (7, 1)            0            7            0            0\n",
      "\n",
      "--------------------------------------------------------------------------------\n"
     ]
    }
   ],
   "source": [
    "############# Connect model model_process_b_y3\n",
    "\n",
    "\n",
    "# Generate instance of machine learning model\n",
    "instance = pd.DataFrame([var_Z1, var_X2]).T\n",
    "instance.columns = [\"Z1\", \"X2\"]\n",
    "\n",
    "# Add machine learning model as constraint\n",
    "\n",
    "pred_constr_ml_model_process_b_y3 = add_predictor_constr(gp_model = model_opt, \n",
    "                                                   predictor = model_process_b_y3, \n",
    "                                                   input_vars = instance, # instance pandas gurobi\n",
    "                                                   output_vars = var_Y3, # target\n",
    "                                                   name = f'model_predict Y3'\n",
    "                                                  )\n",
    "\n",
    "pred_constr_ml_model_process_b_y3.print_stats()"
   ]
  },
  {
   "cell_type": "code",
   "execution_count": null,
   "id": "788ca818-4a58-4596-8e0e-05e1fc0fbb59",
   "metadata": {},
   "outputs": [],
   "source": []
  },
  {
   "cell_type": "markdown",
   "id": "088e91a2-3c7d-4b16-a1f4-7992e1f5067d",
   "metadata": {},
   "source": [
    "### 8. Define a custom function as constraints that represent the relations in the process C\n",
    "\n",
    "**Important: this constraint and the objective functions are more hardoded that the rest of constraints**"
   ]
  },
  {
   "cell_type": "code",
   "execution_count": 53,
   "id": "4e854f60-6b45-4d04-8a3a-90f922f987b3",
   "metadata": {},
   "outputs": [],
   "source": [
    "# define parameters of the constraint\n",
    "alpha_feature_1 = 1/5\n",
    "alpha_feature_2 = 15"
   ]
  },
  {
   "cell_type": "code",
   "execution_count": 54,
   "id": "3df127c1-78eb-4db5-b36d-c2dc5729921a",
   "metadata": {},
   "outputs": [
    {
     "data": {
      "text/plain": [
       "t0    <gurobi.Constr *Awaiting Model Update*>\n",
       "t1    <gurobi.Constr *Awaiting Model Update*>\n",
       "t2    <gurobi.Constr *Awaiting Model Update*>\n",
       "t3    <gurobi.Constr *Awaiting Model Update*>\n",
       "t4    <gurobi.Constr *Awaiting Model Update*>\n",
       "t5    <gurobi.Constr *Awaiting Model Update*>\n",
       "t6    <gurobi.Constr *Awaiting Model Update*>\n",
       "Name: function as constraint output process C, dtype: object"
      ]
     },
     "execution_count": 54,
     "metadata": {},
     "output_type": "execute_result"
    }
   ],
   "source": [
    "# define function as constraint\n",
    "gppd.add_constrs(model_opt, \n",
    "                 (alpha_feature_1 * var_X3 + alpha_feature_2 * var_O7), \n",
    "                 gp.GRB.EQUAL, \n",
    "                 var_Y2, \n",
    "                 name = 'function as constraint output process C'\n",
    "                )"
   ]
  },
  {
   "cell_type": "code",
   "execution_count": null,
   "id": "18fe747e-081b-46f9-a2e5-85ea727df396",
   "metadata": {},
   "outputs": [],
   "source": []
  },
  {
   "cell_type": "code",
   "execution_count": null,
   "id": "60f1b113-ba0e-4822-9076-43174e353e4c",
   "metadata": {},
   "outputs": [],
   "source": []
  },
  {
   "cell_type": "code",
   "execution_count": null,
   "id": "93af47c5-b639-4ba3-8a96-56291a7fe0e9",
   "metadata": {},
   "outputs": [],
   "source": []
  },
  {
   "cell_type": "code",
   "execution_count": 55,
   "id": "04440ea9-0d0b-4245-afe3-906527170137",
   "metadata": {},
   "outputs": [
    {
     "data": {
      "text/plain": [
       "<gurobi.Model Continuous instance Example Optimization Model: 502 constrs, 259 vars, Parameter changes: LicenseID=2441807>"
      ]
     },
     "execution_count": 55,
     "metadata": {},
     "output_type": "execute_result"
    }
   ],
   "source": [
    "model_opt"
   ]
  },
  {
   "cell_type": "code",
   "execution_count": 56,
   "id": "813aecad-b149-4f6b-b1d8-3e28ba131018",
   "metadata": {},
   "outputs": [],
   "source": [
    "model_opt.update()"
   ]
  },
  {
   "cell_type": "code",
   "execution_count": 57,
   "id": "cf3b5a0f-bc3f-437b-8ab1-43cca4699a6f",
   "metadata": {},
   "outputs": [
    {
     "data": {
      "text/plain": [
       "<gurobi.Model Continuous instance Example Optimization Model: 509 constrs, 259 vars, Parameter changes: LicenseID=2441807>"
      ]
     },
     "execution_count": 57,
     "metadata": {},
     "output_type": "execute_result"
    }
   ],
   "source": [
    "model_opt"
   ]
  },
  {
   "cell_type": "code",
   "execution_count": null,
   "id": "32adcc75-178d-47b4-8bad-f8644239a24a",
   "metadata": {},
   "outputs": [],
   "source": []
  },
  {
   "cell_type": "code",
   "execution_count": null,
   "id": "f5c21bfb-1203-43c4-a351-2f6be6db81f5",
   "metadata": {},
   "outputs": [],
   "source": []
  },
  {
   "cell_type": "code",
   "execution_count": null,
   "id": "5b0ac647-fca1-4d8e-97e5-f90cea8149e2",
   "metadata": {},
   "outputs": [],
   "source": []
  },
  {
   "cell_type": "markdown",
   "id": "a6921d2e-48ac-4456-919b-7f5029321a52",
   "metadata": {},
   "source": [
    "### 9. Define objective optimization\n",
    "Objetive that no generate infeasibility"
   ]
  },
  {
   "cell_type": "code",
   "execution_count": 58,
   "id": "68b69a18-c64b-49e5-997f-12cb3acdf9c0",
   "metadata": {},
   "outputs": [
    {
     "data": {
      "text/plain": [
       "<gurobi.LinExpr: description X1[t0] + description X1[t1] + description X1[t2] + description X1[t3] + description X1[t4] + description X1[t5] + description X1[t6]>"
      ]
     },
     "execution_count": 58,
     "metadata": {},
     "output_type": "execute_result"
    }
   ],
   "source": [
    "var_Y3.sum()"
   ]
  },
  {
   "cell_type": "code",
   "execution_count": 59,
   "id": "c2c4092c-5d05-4b47-a582-137d5dd183d2",
   "metadata": {},
   "outputs": [
    {
     "data": {
      "text/plain": [
       "<gurobi.LinExpr: description X1[t0] + description X1[t1] + description X1[t2] + description X1[t3] + description X1[t4] + description X1[t5] + description X1[t6]>"
      ]
     },
     "execution_count": 59,
     "metadata": {},
     "output_type": "execute_result"
    }
   ],
   "source": [
    "var_Y2.sum()"
   ]
  },
  {
   "cell_type": "code",
   "execution_count": 60,
   "id": "a6142a3b-84d8-4ca1-b801-68573b17d98d",
   "metadata": {},
   "outputs": [],
   "source": [
    "# optization\n",
    "model_opt.setObjective(var_Y3.sum() + var_Y2.sum(),\n",
    "                       gp.GRB.MAXIMIZE)"
   ]
  },
  {
   "cell_type": "code",
   "execution_count": null,
   "id": "f877b067-7b04-4436-bfb3-090e81f48973",
   "metadata": {},
   "outputs": [],
   "source": []
  },
  {
   "cell_type": "markdown",
   "id": "e0c037fe-dd9b-408b-b1ef-0e0ccc0a8711",
   "metadata": {},
   "source": [
    "## ----> return the mdoel_opt that has defined for this instance can get the solution <----"
   ]
  },
  {
   "cell_type": "code",
   "execution_count": 61,
   "id": "117daef7-4e2e-4c5f-95d0-57b7db2580a7",
   "metadata": {},
   "outputs": [
    {
     "data": {
      "text/plain": [
       "<gurobi.Model Continuous instance Example Optimization Model: 509 constrs, 259 vars, Parameter changes: LicenseID=2441807>"
      ]
     },
     "execution_count": 61,
     "metadata": {},
     "output_type": "execute_result"
    }
   ],
   "source": [
    "model_opt"
   ]
  },
  {
   "cell_type": "code",
   "execution_count": null,
   "id": "c8b34685-603a-4d3a-8a27-ea2785cde136",
   "metadata": {},
   "outputs": [],
   "source": []
  },
  {
   "cell_type": "code",
   "execution_count": null,
   "id": "e6146b06-b08b-4c7c-a1a9-89af9e4b0fa9",
   "metadata": {},
   "outputs": [],
   "source": []
  },
  {
   "cell_type": "markdown",
   "id": "239737ce-2c33-4aca-b28e-b2e4450ee0bd",
   "metadata": {},
   "source": [
    "### 10. Optimize and get optimal values"
   ]
  },
  {
   "cell_type": "code",
   "execution_count": 62,
   "id": "688cdcf5-ea18-4716-a523-3ee16b90db48",
   "metadata": {},
   "outputs": [
    {
     "name": "stdout",
     "output_type": "stream",
     "text": [
      "Gurobi Optimizer version 11.0.0 build v11.0.0rc2 (win64 - Windows 10.0 (19043.2))\n",
      "\n",
      "CPU model: Intel(R) Core(TM) i7-10750H CPU @ 2.60GHz, instruction set [SSE2|AVX|AVX2]\n",
      "Thread count: 6 physical cores, 12 logical processors, using up to 12 threads\n",
      "\n",
      "WLS license 2441807 - registered to CMPC Celulosa S.A\n",
      "Optimize a model with 509 rows, 259 columns and 951 nonzeros\n",
      "Model fingerprint: 0x780d5ad9\n",
      "Coefficient statistics:\n",
      "  Matrix range     [2e-01, 4e+01]\n",
      "  Objective range  [1e+00, 1e+00]\n",
      "  Bounds range     [0e+00, 0e+00]\n",
      "  RHS range        [4e+00, 2e+04]\n",
      "Presolve removed 316 rows and 109 columns\n",
      "Presolve time: 0.02s\n",
      "\n",
      "Solved in 0 iterations and 0.02 seconds (0.00 work units)\n",
      "Infeasible or unbounded model\n"
     ]
    }
   ],
   "source": [
    "# solve\n",
    "model_opt.optimize()"
   ]
  },
  {
   "cell_type": "code",
   "execution_count": 63,
   "id": "b835ae8d-ca47-478f-9a11-a21227949557",
   "metadata": {},
   "outputs": [
    {
     "data": {
      "text/plain": [
       "4"
      ]
     },
     "execution_count": 63,
     "metadata": {},
     "output_type": "execute_result"
    }
   ],
   "source": [
    "#### know the status of the model - 2 a optimal solution was founded\n",
    "# docu: https://www.gurobi.com/documentation/current/refman/optimization_status_codes.html#sec:StatusCodes\n",
    "model_opt.Status"
   ]
  },
  {
   "cell_type": "code",
   "execution_count": 64,
   "id": "241da7da-682e-4874-8251-c64700b06e16",
   "metadata": {},
   "outputs": [
    {
     "ename": "AttributeError",
     "evalue": "Unable to retrieve attribute 'X'",
     "output_type": "error",
     "traceback": [
      "\u001b[1;31m---------------------------------------------------------------------------\u001b[0m",
      "\u001b[1;31mAttributeError\u001b[0m                            Traceback (most recent call last)",
      "Cell \u001b[1;32mIn[64], line 6\u001b[0m\n\u001b[0;32m      3\u001b[0m solution \u001b[38;5;241m=\u001b[39m pd\u001b[38;5;241m.\u001b[39mDataFrame(index \u001b[38;5;241m=\u001b[39m index_set_time)\n\u001b[0;32m      5\u001b[0m \u001b[38;5;66;03m######################## save optimal values - features of models (only the features) ########################\u001b[39;00m\n\u001b[1;32m----> 6\u001b[0m solution[\u001b[38;5;124m\"\u001b[39m\u001b[38;5;124mvar_X1\u001b[39m\u001b[38;5;124m\"\u001b[39m] \u001b[38;5;241m=\u001b[39m \u001b[43mvar_X1\u001b[49m\u001b[38;5;241;43m.\u001b[39;49m\u001b[43mgppd\u001b[49m\u001b[38;5;241;43m.\u001b[39;49m\u001b[43mX\u001b[49m\n\u001b[0;32m      7\u001b[0m solution[\u001b[38;5;124m\"\u001b[39m\u001b[38;5;124mvar_O1\u001b[39m\u001b[38;5;124m\"\u001b[39m] \u001b[38;5;241m=\u001b[39m var_O1\u001b[38;5;241m.\u001b[39mgppd\u001b[38;5;241m.\u001b[39mX\n\u001b[0;32m      8\u001b[0m solution[\u001b[38;5;124m\"\u001b[39m\u001b[38;5;124mvar_O2\u001b[39m\u001b[38;5;124m\"\u001b[39m] \u001b[38;5;241m=\u001b[39m var_O2\u001b[38;5;241m.\u001b[39mgppd\u001b[38;5;241m.\u001b[39mX\n",
      "File \u001b[1;32mD:\\Anaconda\\envs\\data-science-python-3-10-gurobi\\lib\\site-packages\\gurobipy_pandas\\accessors.py:278\u001b[0m, in \u001b[0;36mGRBSeriesAccessor.__getattr__\u001b[1;34m(self, attr)\u001b[0m\n\u001b[0;32m    274\u001b[0m \u001b[38;5;28;01mif\u001b[39;00m attr \u001b[38;5;129;01min\u001b[39;00m CASE_MAPPING:\n\u001b[0;32m    275\u001b[0m     \u001b[38;5;28;01mraise\u001b[39;00m \u001b[38;5;167;01mAttributeError\u001b[39;00m(\n\u001b[0;32m    276\u001b[0m         \u001b[38;5;124mf\u001b[39m\u001b[38;5;124m\"\u001b[39m\u001b[38;5;124mSeries accessor no attribute \u001b[39m\u001b[38;5;124m'\u001b[39m\u001b[38;5;132;01m{\u001b[39;00mattr\u001b[38;5;132;01m}\u001b[39;00m\u001b[38;5;124m'\u001b[39m\u001b[38;5;124m. Did you mean: \u001b[39m\u001b[38;5;124m'\u001b[39m\u001b[38;5;132;01m{\u001b[39;00mCASE_MAPPING[attr]\u001b[38;5;132;01m}\u001b[39;00m\u001b[38;5;124m'\u001b[39m\u001b[38;5;124m\"\u001b[39m\n\u001b[0;32m    277\u001b[0m     )\n\u001b[1;32m--> 278\u001b[0m \u001b[38;5;28;01mreturn\u001b[39;00m \u001b[38;5;28;43mself\u001b[39;49m\u001b[38;5;241;43m.\u001b[39;49m\u001b[43mget_attr\u001b[49m\u001b[43m(\u001b[49m\u001b[43mattr\u001b[49m\u001b[43m)\u001b[49m\n",
      "File \u001b[1;32mD:\\Anaconda\\envs\\data-science-python-3-10-gurobi\\lib\\site-packages\\gurobipy_pandas\\accessors.py:243\u001b[0m, in \u001b[0;36mGRBSeriesAccessor.get_attr\u001b[1;34m(self, attr)\u001b[0m\n\u001b[0;32m    211\u001b[0m \u001b[38;5;28;01mdef\u001b[39;00m \u001b[38;5;21mget_attr\u001b[39m(\u001b[38;5;28mself\u001b[39m, attr):\n\u001b[0;32m    212\u001b[0m \u001b[38;5;250m    \u001b[39m\u001b[38;5;124;03m\"\"\"Retrieve the given Gurobi attribute for every object in the Series\u001b[39;00m\n\u001b[0;32m    213\u001b[0m \u001b[38;5;124;03m    held by this accessor. Analogous to Var.getAttr, series-wise.\u001b[39;00m\n\u001b[0;32m    214\u001b[0m \n\u001b[1;32m   (...)\u001b[0m\n\u001b[0;32m    239\u001b[0m \u001b[38;5;124;03m        A new series with the evaluated attributes\u001b[39;00m\n\u001b[0;32m    240\u001b[0m \u001b[38;5;124;03m    \"\"\"\u001b[39;00m\n\u001b[0;32m    241\u001b[0m     \u001b[38;5;28;01mreturn\u001b[39;00m pd\u001b[38;5;241m.\u001b[39mSeries(\n\u001b[0;32m    242\u001b[0m         index\u001b[38;5;241m=\u001b[39m\u001b[38;5;28mself\u001b[39m\u001b[38;5;241m.\u001b[39m_obj\u001b[38;5;241m.\u001b[39mindex,\n\u001b[1;32m--> 243\u001b[0m         data\u001b[38;5;241m=\u001b[39m[v\u001b[38;5;241m.\u001b[39mgetAttr(attr) \u001b[38;5;28;01mfor\u001b[39;00m v \u001b[38;5;129;01min\u001b[39;00m \u001b[38;5;28mself\u001b[39m\u001b[38;5;241m.\u001b[39m_obj],\n\u001b[0;32m    244\u001b[0m         name\u001b[38;5;241m=\u001b[39m\u001b[38;5;28mself\u001b[39m\u001b[38;5;241m.\u001b[39m_obj\u001b[38;5;241m.\u001b[39mname,\n\u001b[0;32m    245\u001b[0m     )\n",
      "File \u001b[1;32mD:\\Anaconda\\envs\\data-science-python-3-10-gurobi\\lib\\site-packages\\gurobipy_pandas\\accessors.py:243\u001b[0m, in \u001b[0;36m<listcomp>\u001b[1;34m(.0)\u001b[0m\n\u001b[0;32m    211\u001b[0m \u001b[38;5;28;01mdef\u001b[39;00m \u001b[38;5;21mget_attr\u001b[39m(\u001b[38;5;28mself\u001b[39m, attr):\n\u001b[0;32m    212\u001b[0m \u001b[38;5;250m    \u001b[39m\u001b[38;5;124;03m\"\"\"Retrieve the given Gurobi attribute for every object in the Series\u001b[39;00m\n\u001b[0;32m    213\u001b[0m \u001b[38;5;124;03m    held by this accessor. Analogous to Var.getAttr, series-wise.\u001b[39;00m\n\u001b[0;32m    214\u001b[0m \n\u001b[1;32m   (...)\u001b[0m\n\u001b[0;32m    239\u001b[0m \u001b[38;5;124;03m        A new series with the evaluated attributes\u001b[39;00m\n\u001b[0;32m    240\u001b[0m \u001b[38;5;124;03m    \"\"\"\u001b[39;00m\n\u001b[0;32m    241\u001b[0m     \u001b[38;5;28;01mreturn\u001b[39;00m pd\u001b[38;5;241m.\u001b[39mSeries(\n\u001b[0;32m    242\u001b[0m         index\u001b[38;5;241m=\u001b[39m\u001b[38;5;28mself\u001b[39m\u001b[38;5;241m.\u001b[39m_obj\u001b[38;5;241m.\u001b[39mindex,\n\u001b[1;32m--> 243\u001b[0m         data\u001b[38;5;241m=\u001b[39m[\u001b[43mv\u001b[49m\u001b[38;5;241;43m.\u001b[39;49m\u001b[43mgetAttr\u001b[49m\u001b[43m(\u001b[49m\u001b[43mattr\u001b[49m\u001b[43m)\u001b[49m \u001b[38;5;28;01mfor\u001b[39;00m v \u001b[38;5;129;01min\u001b[39;00m \u001b[38;5;28mself\u001b[39m\u001b[38;5;241m.\u001b[39m_obj],\n\u001b[0;32m    244\u001b[0m         name\u001b[38;5;241m=\u001b[39m\u001b[38;5;28mself\u001b[39m\u001b[38;5;241m.\u001b[39m_obj\u001b[38;5;241m.\u001b[39mname,\n\u001b[0;32m    245\u001b[0m     )\n",
      "File \u001b[1;32msrc\\\\gurobipy\\\\var.pxi:153\u001b[0m, in \u001b[0;36mgurobipy.Var.getAttr\u001b[1;34m()\u001b[0m\n",
      "File \u001b[1;32msrc\\\\gurobipy\\\\attrutil.pxi:103\u001b[0m, in \u001b[0;36mgurobipy._getattr\u001b[1;34m()\u001b[0m\n",
      "\u001b[1;31mAttributeError\u001b[0m: Unable to retrieve attribute 'X'"
     ]
    }
   ],
   "source": [
    "# get optimal values and save in a dataframe\n",
    "######## create a dataframe with set as index\n",
    "solution = pd.DataFrame(index = index_set_time)\n",
    "\n",
    "######################## save optimal values - features of models (only the features) ########################\n",
    "solution[\"var_X1\"] = var_X1.gppd.X\n",
    "solution[\"var_O1\"] = var_O1.gppd.X\n",
    "solution[\"var_O2\"] = var_O2.gppd.X\n",
    "solution[\"var_O3\"] = var_O3.gppd.X\n",
    "solution[\"var_Y1\"] = var_Y1.gppd.X\n",
    "solution[\"var_O4\"] = var_O4.gppd.X\n",
    "solution[\"var_Z1\"] = var_Z1.gppd.X\n",
    "solution[\"var_X2\"] = var_X2.gppd.X\n",
    "solution[\"var_O5\"] = var_O5.gppd.X\n",
    "solution[\"var_O6\"] = var_O6.gppd.X\n",
    "solution[\"var_Y2\"] = var_Y2.gppd.X\n",
    "solution[\"var_Y3\"] = var_Y3.gppd.X\n",
    "solution[\"var_X3\"] = var_X3.gppd.X\n",
    "solution[\"var_O7\"] = var_O7.gppd.X\n",
    "solution[\"var_TL1\"] = var_TL1.gppd.X\n",
    "solution[\"var_TL2\"] = var_TL2.gppd.X\n",
    "solution[\"var_TL3\"] = var_TL3.gppd.X\n",
    "\n",
    "######################## # get value objetive function ########################\n",
    "opt_objetive_function = model_opt.ObjVal"
   ]
  },
  {
   "cell_type": "code",
   "execution_count": null,
   "id": "5d61b491-c368-4876-8f97-8cd6ba117a27",
   "metadata": {},
   "outputs": [],
   "source": [
    "# show value objetive function\n",
    "opt_objetive_function"
   ]
  },
  {
   "cell_type": "code",
   "execution_count": null,
   "id": "e2a6ca7f-39a9-48a1-aea5-b337cc95ccfb",
   "metadata": {},
   "outputs": [],
   "source": [
    "solution"
   ]
  },
  {
   "cell_type": "code",
   "execution_count": null,
   "id": "7c85f860-12f2-4348-b95f-006b3453008a",
   "metadata": {},
   "outputs": [],
   "source": []
  },
  {
   "cell_type": "code",
   "execution_count": null,
   "id": "d49c1caf-8463-4add-8156-5d47e9bc5d73",
   "metadata": {},
   "outputs": [],
   "source": []
  },
  {
   "cell_type": "code",
   "execution_count": null,
   "id": "e74ad2dc-fd9d-481d-81fe-b113820ebfd3",
   "metadata": {},
   "outputs": [],
   "source": []
  },
  {
   "cell_type": "code",
   "execution_count": null,
   "id": "a50e32cc-0860-4d29-a204-ce7a6a6d276a",
   "metadata": {},
   "outputs": [],
   "source": []
  },
  {
   "cell_type": "markdown",
   "id": "63ef9a5d-85b5-427e-a847-800c7dd4dd33",
   "metadata": {},
   "source": [
    "# COMO HACER QUE EL OPTIMIZADOR SEA FACTIBLE\n",
    "- hacer modelos más simples. polynomial features me lo hizo infactible altuiro (actualmente estoy con 2 lr y 1 gradient boosting)\n",
    "- ir probando agregar los modelos de apoco para ver cual me lo hace infactible\n",
    "\n",
    "- probar si los modelos funcionan"
   ]
  },
  {
   "cell_type": "code",
   "execution_count": null,
   "id": "cabc0cf2-d4c9-4571-9fac-c4cd1661f120",
   "metadata": {},
   "outputs": [],
   "source": []
  }
 ],
 "metadata": {
  "kernelspec": {
   "display_name": "Python 3 (ipykernel)",
   "language": "python",
   "name": "python3"
  },
  "language_info": {
   "codemirror_mode": {
    "name": "ipython",
    "version": 3
   },
   "file_extension": ".py",
   "mimetype": "text/x-python",
   "name": "python",
   "nbconvert_exporter": "python",
   "pygments_lexer": "ipython3",
   "version": "3.10.12"
  }
 },
 "nbformat": 4,
 "nbformat_minor": 5
}
